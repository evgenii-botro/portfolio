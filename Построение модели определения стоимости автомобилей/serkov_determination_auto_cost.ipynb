{
 "cells": [
  {
   "cell_type": "markdown",
   "metadata": {
    "id": "PeZ_En4j9AaE"
   },
   "source": [
    "# Определение стоимости автомобилей"
   ]
  },
  {
   "cell_type": "markdown",
   "metadata": {
    "id": "-UMa7pzq9AaR"
   },
   "source": [
    "Сервис по продаже автомобилей с пробегом «Не бит, не крашен» разрабатывает приложение для привлечения новых клиентов. В нём можно быстро узнать рыночную стоимость своего автомобиля. В вашем распоряжении исторические данные: технические характеристики, комплектации и цены автомобилей. Вам нужно построить модель для определения стоимости. \n",
    "\n",
    "Заказчику важны:\n",
    "\n",
    "- качество предсказания;\n",
    "- скорость предсказания;\n",
    "- время обучения."
   ]
  },
  {
   "cell_type": "markdown",
   "metadata": {
    "id": "wuVQzaGf9AaU"
   },
   "source": [
    "## Подготовка данных"
   ]
  },
  {
   "cell_type": "code",
   "execution_count": 1,
   "metadata": {
    "id": "rrOUMDdk9AaX"
   },
   "outputs": [],
   "source": [
    "import pandas as pd\n",
    "import numpy as np\n",
    "import seaborn as sns\n",
    "\n",
    "from sklearn.model_selection import cross_val_score, GridSearchCV, TimeSeriesSplit, train_test_split, StratifiedKFold\n",
    "\n",
    "from sklearn.metrics import mean_squared_error\n",
    "\n",
    "from sklearn.linear_model import LinearRegression, Lasso, Ridge\n",
    "from sklearn.tree import DecisionTreeRegressor\n",
    "from sklearn.ensemble import RandomForestRegressor\n",
    "\n",
    "from sklearn.preprocessing import StandardScaler, OrdinalEncoder\n",
    "\n",
    "from sklearn.pipeline import Pipeline\n",
    "\n",
    "from catboost import CatBoostRegressor\n",
    "from lightgbm import LGBMRegressor\n",
    "\n",
    "import matplotlib.pyplot as plt\n",
    "\n",
    "import time\n",
    "from functools import partial\n",
    "import warnings\n",
    "warnings.filterwarnings('ignore')"
   ]
  },
  {
   "cell_type": "code",
   "execution_count": 2,
   "metadata": {
    "id": "ahjqeLza9Aae"
   },
   "outputs": [],
   "source": [
    "def open_and_analyse(path):\n",
    "    df = pd.read_csv(path)\n",
    "    print(\"-----INFO-----\\n\")\n",
    "    display(df.info())\n",
    "    print(\"\\n-----ПЕРВЫЕ 3 СТРОКИ-----\")\n",
    "    display(df.head(3))\n",
    "    print(\"\\n-----УНИКАЛЬНЫЕ ЗНАЧЕНИЯ-----\\n\")\n",
    "    display(df.nunique())\n",
    "    print(\"\\n-----describe-----\")\n",
    "    \n",
    "    def describe(df):\n",
    "        #Возвращает транспонированный describe()\n",
    "        #Добавляет строку с долей пропусков для каждого столбца\n",
    "        def na_part(data):\n",
    "            #Агрегирует долю пропусков в объектах pandas\n",
    "            part = data.isna().sum() / len(data) * 100\n",
    "            return part\n",
    "        return df.describe().append(df.agg([na_part])).transpose()\n",
    "\n",
    "    display(describe(df))\n",
    "    print(\"\\n-----КОРРЕЛЯЦИЯ-----\")\n",
    "    display(df.corr())\n",
    "    return df"
   ]
  },
  {
   "cell_type": "code",
   "execution_count": 3,
   "metadata": {},
   "outputs": [
    {
     "name": "stdout",
     "output_type": "stream",
     "text": [
      "-----INFO-----\n",
      "\n",
      "<class 'pandas.core.frame.DataFrame'>\n",
      "RangeIndex: 354369 entries, 0 to 354368\n",
      "Data columns (total 16 columns):\n",
      " #   Column             Non-Null Count   Dtype \n",
      "---  ------             --------------   ----- \n",
      " 0   DateCrawled        354369 non-null  object\n",
      " 1   Price              354369 non-null  int64 \n",
      " 2   VehicleType        316879 non-null  object\n",
      " 3   RegistrationYear   354369 non-null  int64 \n",
      " 4   Gearbox            334536 non-null  object\n",
      " 5   Power              354369 non-null  int64 \n",
      " 6   Model              334664 non-null  object\n",
      " 7   Kilometer          354369 non-null  int64 \n",
      " 8   RegistrationMonth  354369 non-null  int64 \n",
      " 9   FuelType           321474 non-null  object\n",
      " 10  Brand              354369 non-null  object\n",
      " 11  Repaired           283215 non-null  object\n",
      " 12  DateCreated        354369 non-null  object\n",
      " 13  NumberOfPictures   354369 non-null  int64 \n",
      " 14  PostalCode         354369 non-null  int64 \n",
      " 15  LastSeen           354369 non-null  object\n",
      "dtypes: int64(7), object(9)\n",
      "memory usage: 43.3+ MB\n"
     ]
    },
    {
     "data": {
      "text/plain": [
       "None"
      ]
     },
     "metadata": {},
     "output_type": "display_data"
    },
    {
     "name": "stdout",
     "output_type": "stream",
     "text": [
      "\n",
      "-----ПЕРВЫЕ 3 СТРОКИ-----\n"
     ]
    },
    {
     "data": {
      "text/html": [
       "<div>\n",
       "<style scoped>\n",
       "    .dataframe tbody tr th:only-of-type {\n",
       "        vertical-align: middle;\n",
       "    }\n",
       "\n",
       "    .dataframe tbody tr th {\n",
       "        vertical-align: top;\n",
       "    }\n",
       "\n",
       "    .dataframe thead th {\n",
       "        text-align: right;\n",
       "    }\n",
       "</style>\n",
       "<table border=\"1\" class=\"dataframe\">\n",
       "  <thead>\n",
       "    <tr style=\"text-align: right;\">\n",
       "      <th></th>\n",
       "      <th>DateCrawled</th>\n",
       "      <th>Price</th>\n",
       "      <th>VehicleType</th>\n",
       "      <th>RegistrationYear</th>\n",
       "      <th>Gearbox</th>\n",
       "      <th>Power</th>\n",
       "      <th>Model</th>\n",
       "      <th>Kilometer</th>\n",
       "      <th>RegistrationMonth</th>\n",
       "      <th>FuelType</th>\n",
       "      <th>Brand</th>\n",
       "      <th>Repaired</th>\n",
       "      <th>DateCreated</th>\n",
       "      <th>NumberOfPictures</th>\n",
       "      <th>PostalCode</th>\n",
       "      <th>LastSeen</th>\n",
       "    </tr>\n",
       "  </thead>\n",
       "  <tbody>\n",
       "    <tr>\n",
       "      <th>0</th>\n",
       "      <td>2016-03-24 11:52:17</td>\n",
       "      <td>480</td>\n",
       "      <td>NaN</td>\n",
       "      <td>1993</td>\n",
       "      <td>manual</td>\n",
       "      <td>0</td>\n",
       "      <td>golf</td>\n",
       "      <td>150000</td>\n",
       "      <td>0</td>\n",
       "      <td>petrol</td>\n",
       "      <td>volkswagen</td>\n",
       "      <td>NaN</td>\n",
       "      <td>2016-03-24 00:00:00</td>\n",
       "      <td>0</td>\n",
       "      <td>70435</td>\n",
       "      <td>2016-04-07 03:16:57</td>\n",
       "    </tr>\n",
       "    <tr>\n",
       "      <th>1</th>\n",
       "      <td>2016-03-24 10:58:45</td>\n",
       "      <td>18300</td>\n",
       "      <td>coupe</td>\n",
       "      <td>2011</td>\n",
       "      <td>manual</td>\n",
       "      <td>190</td>\n",
       "      <td>NaN</td>\n",
       "      <td>125000</td>\n",
       "      <td>5</td>\n",
       "      <td>gasoline</td>\n",
       "      <td>audi</td>\n",
       "      <td>yes</td>\n",
       "      <td>2016-03-24 00:00:00</td>\n",
       "      <td>0</td>\n",
       "      <td>66954</td>\n",
       "      <td>2016-04-07 01:46:50</td>\n",
       "    </tr>\n",
       "    <tr>\n",
       "      <th>2</th>\n",
       "      <td>2016-03-14 12:52:21</td>\n",
       "      <td>9800</td>\n",
       "      <td>suv</td>\n",
       "      <td>2004</td>\n",
       "      <td>auto</td>\n",
       "      <td>163</td>\n",
       "      <td>grand</td>\n",
       "      <td>125000</td>\n",
       "      <td>8</td>\n",
       "      <td>gasoline</td>\n",
       "      <td>jeep</td>\n",
       "      <td>NaN</td>\n",
       "      <td>2016-03-14 00:00:00</td>\n",
       "      <td>0</td>\n",
       "      <td>90480</td>\n",
       "      <td>2016-04-05 12:47:46</td>\n",
       "    </tr>\n",
       "  </tbody>\n",
       "</table>\n",
       "</div>"
      ],
      "text/plain": [
       "           DateCrawled  Price VehicleType  RegistrationYear Gearbox  Power  \\\n",
       "0  2016-03-24 11:52:17    480         NaN              1993  manual      0   \n",
       "1  2016-03-24 10:58:45  18300       coupe              2011  manual    190   \n",
       "2  2016-03-14 12:52:21   9800         suv              2004    auto    163   \n",
       "\n",
       "   Model  Kilometer  RegistrationMonth  FuelType       Brand Repaired  \\\n",
       "0   golf     150000                  0    petrol  volkswagen      NaN   \n",
       "1    NaN     125000                  5  gasoline        audi      yes   \n",
       "2  grand     125000                  8  gasoline        jeep      NaN   \n",
       "\n",
       "           DateCreated  NumberOfPictures  PostalCode             LastSeen  \n",
       "0  2016-03-24 00:00:00                 0       70435  2016-04-07 03:16:57  \n",
       "1  2016-03-24 00:00:00                 0       66954  2016-04-07 01:46:50  \n",
       "2  2016-03-14 00:00:00                 0       90480  2016-04-05 12:47:46  "
      ]
     },
     "metadata": {},
     "output_type": "display_data"
    },
    {
     "name": "stdout",
     "output_type": "stream",
     "text": [
      "\n",
      "-----УНИКАЛЬНЫЕ ЗНАЧЕНИЯ-----\n",
      "\n"
     ]
    },
    {
     "data": {
      "text/plain": [
       "DateCrawled          271174\n",
       "Price                  3731\n",
       "VehicleType               8\n",
       "RegistrationYear        151\n",
       "Gearbox                   2\n",
       "Power                   712\n",
       "Model                   250\n",
       "Kilometer                13\n",
       "RegistrationMonth        13\n",
       "FuelType                  7\n",
       "Brand                    40\n",
       "Repaired                  2\n",
       "DateCreated             109\n",
       "NumberOfPictures          1\n",
       "PostalCode             8143\n",
       "LastSeen             179150\n",
       "dtype: int64"
      ]
     },
     "metadata": {},
     "output_type": "display_data"
    },
    {
     "name": "stdout",
     "output_type": "stream",
     "text": [
      "\n",
      "-----describe-----\n"
     ]
    },
    {
     "data": {
      "text/html": [
       "<div>\n",
       "<style scoped>\n",
       "    .dataframe tbody tr th:only-of-type {\n",
       "        vertical-align: middle;\n",
       "    }\n",
       "\n",
       "    .dataframe tbody tr th {\n",
       "        vertical-align: top;\n",
       "    }\n",
       "\n",
       "    .dataframe thead th {\n",
       "        text-align: right;\n",
       "    }\n",
       "</style>\n",
       "<table border=\"1\" class=\"dataframe\">\n",
       "  <thead>\n",
       "    <tr style=\"text-align: right;\">\n",
       "      <th></th>\n",
       "      <th>count</th>\n",
       "      <th>mean</th>\n",
       "      <th>std</th>\n",
       "      <th>min</th>\n",
       "      <th>25%</th>\n",
       "      <th>50%</th>\n",
       "      <th>75%</th>\n",
       "      <th>max</th>\n",
       "      <th>na_part</th>\n",
       "    </tr>\n",
       "  </thead>\n",
       "  <tbody>\n",
       "    <tr>\n",
       "      <th>Price</th>\n",
       "      <td>354369.0</td>\n",
       "      <td>4416.656776</td>\n",
       "      <td>4514.158514</td>\n",
       "      <td>0.0</td>\n",
       "      <td>1050.0</td>\n",
       "      <td>2700.0</td>\n",
       "      <td>6400.0</td>\n",
       "      <td>20000.0</td>\n",
       "      <td>0.000000</td>\n",
       "    </tr>\n",
       "    <tr>\n",
       "      <th>RegistrationYear</th>\n",
       "      <td>354369.0</td>\n",
       "      <td>2004.234448</td>\n",
       "      <td>90.227958</td>\n",
       "      <td>1000.0</td>\n",
       "      <td>1999.0</td>\n",
       "      <td>2003.0</td>\n",
       "      <td>2008.0</td>\n",
       "      <td>9999.0</td>\n",
       "      <td>0.000000</td>\n",
       "    </tr>\n",
       "    <tr>\n",
       "      <th>Power</th>\n",
       "      <td>354369.0</td>\n",
       "      <td>110.094337</td>\n",
       "      <td>189.850405</td>\n",
       "      <td>0.0</td>\n",
       "      <td>69.0</td>\n",
       "      <td>105.0</td>\n",
       "      <td>143.0</td>\n",
       "      <td>20000.0</td>\n",
       "      <td>0.000000</td>\n",
       "    </tr>\n",
       "    <tr>\n",
       "      <th>Kilometer</th>\n",
       "      <td>354369.0</td>\n",
       "      <td>128211.172535</td>\n",
       "      <td>37905.341530</td>\n",
       "      <td>5000.0</td>\n",
       "      <td>125000.0</td>\n",
       "      <td>150000.0</td>\n",
       "      <td>150000.0</td>\n",
       "      <td>150000.0</td>\n",
       "      <td>0.000000</td>\n",
       "    </tr>\n",
       "    <tr>\n",
       "      <th>RegistrationMonth</th>\n",
       "      <td>354369.0</td>\n",
       "      <td>5.714645</td>\n",
       "      <td>3.726421</td>\n",
       "      <td>0.0</td>\n",
       "      <td>3.0</td>\n",
       "      <td>6.0</td>\n",
       "      <td>9.0</td>\n",
       "      <td>12.0</td>\n",
       "      <td>0.000000</td>\n",
       "    </tr>\n",
       "    <tr>\n",
       "      <th>NumberOfPictures</th>\n",
       "      <td>354369.0</td>\n",
       "      <td>0.000000</td>\n",
       "      <td>0.000000</td>\n",
       "      <td>0.0</td>\n",
       "      <td>0.0</td>\n",
       "      <td>0.0</td>\n",
       "      <td>0.0</td>\n",
       "      <td>0.0</td>\n",
       "      <td>0.000000</td>\n",
       "    </tr>\n",
       "    <tr>\n",
       "      <th>PostalCode</th>\n",
       "      <td>354369.0</td>\n",
       "      <td>50508.689087</td>\n",
       "      <td>25783.096248</td>\n",
       "      <td>1067.0</td>\n",
       "      <td>30165.0</td>\n",
       "      <td>49413.0</td>\n",
       "      <td>71083.0</td>\n",
       "      <td>99998.0</td>\n",
       "      <td>0.000000</td>\n",
       "    </tr>\n",
       "    <tr>\n",
       "      <th>DateCrawled</th>\n",
       "      <td>NaN</td>\n",
       "      <td>NaN</td>\n",
       "      <td>NaN</td>\n",
       "      <td>NaN</td>\n",
       "      <td>NaN</td>\n",
       "      <td>NaN</td>\n",
       "      <td>NaN</td>\n",
       "      <td>NaN</td>\n",
       "      <td>0.000000</td>\n",
       "    </tr>\n",
       "    <tr>\n",
       "      <th>VehicleType</th>\n",
       "      <td>NaN</td>\n",
       "      <td>NaN</td>\n",
       "      <td>NaN</td>\n",
       "      <td>NaN</td>\n",
       "      <td>NaN</td>\n",
       "      <td>NaN</td>\n",
       "      <td>NaN</td>\n",
       "      <td>NaN</td>\n",
       "      <td>10.579368</td>\n",
       "    </tr>\n",
       "    <tr>\n",
       "      <th>Gearbox</th>\n",
       "      <td>NaN</td>\n",
       "      <td>NaN</td>\n",
       "      <td>NaN</td>\n",
       "      <td>NaN</td>\n",
       "      <td>NaN</td>\n",
       "      <td>NaN</td>\n",
       "      <td>NaN</td>\n",
       "      <td>NaN</td>\n",
       "      <td>5.596709</td>\n",
       "    </tr>\n",
       "    <tr>\n",
       "      <th>Model</th>\n",
       "      <td>NaN</td>\n",
       "      <td>NaN</td>\n",
       "      <td>NaN</td>\n",
       "      <td>NaN</td>\n",
       "      <td>NaN</td>\n",
       "      <td>NaN</td>\n",
       "      <td>NaN</td>\n",
       "      <td>NaN</td>\n",
       "      <td>5.560588</td>\n",
       "    </tr>\n",
       "    <tr>\n",
       "      <th>FuelType</th>\n",
       "      <td>NaN</td>\n",
       "      <td>NaN</td>\n",
       "      <td>NaN</td>\n",
       "      <td>NaN</td>\n",
       "      <td>NaN</td>\n",
       "      <td>NaN</td>\n",
       "      <td>NaN</td>\n",
       "      <td>NaN</td>\n",
       "      <td>9.282697</td>\n",
       "    </tr>\n",
       "    <tr>\n",
       "      <th>Brand</th>\n",
       "      <td>NaN</td>\n",
       "      <td>NaN</td>\n",
       "      <td>NaN</td>\n",
       "      <td>NaN</td>\n",
       "      <td>NaN</td>\n",
       "      <td>NaN</td>\n",
       "      <td>NaN</td>\n",
       "      <td>NaN</td>\n",
       "      <td>0.000000</td>\n",
       "    </tr>\n",
       "    <tr>\n",
       "      <th>Repaired</th>\n",
       "      <td>NaN</td>\n",
       "      <td>NaN</td>\n",
       "      <td>NaN</td>\n",
       "      <td>NaN</td>\n",
       "      <td>NaN</td>\n",
       "      <td>NaN</td>\n",
       "      <td>NaN</td>\n",
       "      <td>NaN</td>\n",
       "      <td>20.079070</td>\n",
       "    </tr>\n",
       "    <tr>\n",
       "      <th>DateCreated</th>\n",
       "      <td>NaN</td>\n",
       "      <td>NaN</td>\n",
       "      <td>NaN</td>\n",
       "      <td>NaN</td>\n",
       "      <td>NaN</td>\n",
       "      <td>NaN</td>\n",
       "      <td>NaN</td>\n",
       "      <td>NaN</td>\n",
       "      <td>0.000000</td>\n",
       "    </tr>\n",
       "    <tr>\n",
       "      <th>LastSeen</th>\n",
       "      <td>NaN</td>\n",
       "      <td>NaN</td>\n",
       "      <td>NaN</td>\n",
       "      <td>NaN</td>\n",
       "      <td>NaN</td>\n",
       "      <td>NaN</td>\n",
       "      <td>NaN</td>\n",
       "      <td>NaN</td>\n",
       "      <td>0.000000</td>\n",
       "    </tr>\n",
       "  </tbody>\n",
       "</table>\n",
       "</div>"
      ],
      "text/plain": [
       "                      count           mean           std     min       25%  \\\n",
       "Price              354369.0    4416.656776   4514.158514     0.0    1050.0   \n",
       "RegistrationYear   354369.0    2004.234448     90.227958  1000.0    1999.0   \n",
       "Power              354369.0     110.094337    189.850405     0.0      69.0   \n",
       "Kilometer          354369.0  128211.172535  37905.341530  5000.0  125000.0   \n",
       "RegistrationMonth  354369.0       5.714645      3.726421     0.0       3.0   \n",
       "NumberOfPictures   354369.0       0.000000      0.000000     0.0       0.0   \n",
       "PostalCode         354369.0   50508.689087  25783.096248  1067.0   30165.0   \n",
       "DateCrawled             NaN            NaN           NaN     NaN       NaN   \n",
       "VehicleType             NaN            NaN           NaN     NaN       NaN   \n",
       "Gearbox                 NaN            NaN           NaN     NaN       NaN   \n",
       "Model                   NaN            NaN           NaN     NaN       NaN   \n",
       "FuelType                NaN            NaN           NaN     NaN       NaN   \n",
       "Brand                   NaN            NaN           NaN     NaN       NaN   \n",
       "Repaired                NaN            NaN           NaN     NaN       NaN   \n",
       "DateCreated             NaN            NaN           NaN     NaN       NaN   \n",
       "LastSeen                NaN            NaN           NaN     NaN       NaN   \n",
       "\n",
       "                        50%       75%       max    na_part  \n",
       "Price                2700.0    6400.0   20000.0   0.000000  \n",
       "RegistrationYear     2003.0    2008.0    9999.0   0.000000  \n",
       "Power                 105.0     143.0   20000.0   0.000000  \n",
       "Kilometer          150000.0  150000.0  150000.0   0.000000  \n",
       "RegistrationMonth       6.0       9.0      12.0   0.000000  \n",
       "NumberOfPictures        0.0       0.0       0.0   0.000000  \n",
       "PostalCode          49413.0   71083.0   99998.0   0.000000  \n",
       "DateCrawled             NaN       NaN       NaN   0.000000  \n",
       "VehicleType             NaN       NaN       NaN  10.579368  \n",
       "Gearbox                 NaN       NaN       NaN   5.596709  \n",
       "Model                   NaN       NaN       NaN   5.560588  \n",
       "FuelType                NaN       NaN       NaN   9.282697  \n",
       "Brand                   NaN       NaN       NaN   0.000000  \n",
       "Repaired                NaN       NaN       NaN  20.079070  \n",
       "DateCreated             NaN       NaN       NaN   0.000000  \n",
       "LastSeen                NaN       NaN       NaN   0.000000  "
      ]
     },
     "metadata": {},
     "output_type": "display_data"
    },
    {
     "name": "stdout",
     "output_type": "stream",
     "text": [
      "\n",
      "-----КОРРЕЛЯЦИЯ-----\n"
     ]
    },
    {
     "data": {
      "text/html": [
       "<div>\n",
       "<style scoped>\n",
       "    .dataframe tbody tr th:only-of-type {\n",
       "        vertical-align: middle;\n",
       "    }\n",
       "\n",
       "    .dataframe tbody tr th {\n",
       "        vertical-align: top;\n",
       "    }\n",
       "\n",
       "    .dataframe thead th {\n",
       "        text-align: right;\n",
       "    }\n",
       "</style>\n",
       "<table border=\"1\" class=\"dataframe\">\n",
       "  <thead>\n",
       "    <tr style=\"text-align: right;\">\n",
       "      <th></th>\n",
       "      <th>Price</th>\n",
       "      <th>RegistrationYear</th>\n",
       "      <th>Power</th>\n",
       "      <th>Kilometer</th>\n",
       "      <th>RegistrationMonth</th>\n",
       "      <th>NumberOfPictures</th>\n",
       "      <th>PostalCode</th>\n",
       "    </tr>\n",
       "  </thead>\n",
       "  <tbody>\n",
       "    <tr>\n",
       "      <th>Price</th>\n",
       "      <td>1.000000</td>\n",
       "      <td>0.026916</td>\n",
       "      <td>0.158872</td>\n",
       "      <td>-0.333199</td>\n",
       "      <td>0.110581</td>\n",
       "      <td>NaN</td>\n",
       "      <td>0.076055</td>\n",
       "    </tr>\n",
       "    <tr>\n",
       "      <th>RegistrationYear</th>\n",
       "      <td>0.026916</td>\n",
       "      <td>1.000000</td>\n",
       "      <td>-0.000828</td>\n",
       "      <td>-0.053447</td>\n",
       "      <td>-0.011619</td>\n",
       "      <td>NaN</td>\n",
       "      <td>-0.003459</td>\n",
       "    </tr>\n",
       "    <tr>\n",
       "      <th>Power</th>\n",
       "      <td>0.158872</td>\n",
       "      <td>-0.000828</td>\n",
       "      <td>1.000000</td>\n",
       "      <td>0.024002</td>\n",
       "      <td>0.043380</td>\n",
       "      <td>NaN</td>\n",
       "      <td>0.021665</td>\n",
       "    </tr>\n",
       "    <tr>\n",
       "      <th>Kilometer</th>\n",
       "      <td>-0.333199</td>\n",
       "      <td>-0.053447</td>\n",
       "      <td>0.024002</td>\n",
       "      <td>1.000000</td>\n",
       "      <td>0.009571</td>\n",
       "      <td>NaN</td>\n",
       "      <td>-0.007698</td>\n",
       "    </tr>\n",
       "    <tr>\n",
       "      <th>RegistrationMonth</th>\n",
       "      <td>0.110581</td>\n",
       "      <td>-0.011619</td>\n",
       "      <td>0.043380</td>\n",
       "      <td>0.009571</td>\n",
       "      <td>1.000000</td>\n",
       "      <td>NaN</td>\n",
       "      <td>0.013995</td>\n",
       "    </tr>\n",
       "    <tr>\n",
       "      <th>NumberOfPictures</th>\n",
       "      <td>NaN</td>\n",
       "      <td>NaN</td>\n",
       "      <td>NaN</td>\n",
       "      <td>NaN</td>\n",
       "      <td>NaN</td>\n",
       "      <td>NaN</td>\n",
       "      <td>NaN</td>\n",
       "    </tr>\n",
       "    <tr>\n",
       "      <th>PostalCode</th>\n",
       "      <td>0.076055</td>\n",
       "      <td>-0.003459</td>\n",
       "      <td>0.021665</td>\n",
       "      <td>-0.007698</td>\n",
       "      <td>0.013995</td>\n",
       "      <td>NaN</td>\n",
       "      <td>1.000000</td>\n",
       "    </tr>\n",
       "  </tbody>\n",
       "</table>\n",
       "</div>"
      ],
      "text/plain": [
       "                      Price  RegistrationYear     Power  Kilometer  \\\n",
       "Price              1.000000          0.026916  0.158872  -0.333199   \n",
       "RegistrationYear   0.026916          1.000000 -0.000828  -0.053447   \n",
       "Power              0.158872         -0.000828  1.000000   0.024002   \n",
       "Kilometer         -0.333199         -0.053447  0.024002   1.000000   \n",
       "RegistrationMonth  0.110581         -0.011619  0.043380   0.009571   \n",
       "NumberOfPictures        NaN               NaN       NaN        NaN   \n",
       "PostalCode         0.076055         -0.003459  0.021665  -0.007698   \n",
       "\n",
       "                   RegistrationMonth  NumberOfPictures  PostalCode  \n",
       "Price                       0.110581               NaN    0.076055  \n",
       "RegistrationYear           -0.011619               NaN   -0.003459  \n",
       "Power                       0.043380               NaN    0.021665  \n",
       "Kilometer                   0.009571               NaN   -0.007698  \n",
       "RegistrationMonth           1.000000               NaN    0.013995  \n",
       "NumberOfPictures                 NaN               NaN         NaN  \n",
       "PostalCode                  0.013995               NaN    1.000000  "
      ]
     },
     "metadata": {},
     "output_type": "display_data"
    }
   ],
   "source": [
    "df = open_and_analyse(\"/datasets/autos.csv\")"
   ]
  },
  {
   "cell_type": "markdown",
   "metadata": {
    "id": "cayMWo__9Aam"
   },
   "source": [
    "- [X]  Названия столбцов стоит изменить, чтобы нам было проще к ним обращаться. <a id='list'></a>\n",
    "- [X]  Фотографий везде 0 - удаляем столбец.\n",
    "- [X]  DateCrawled (дата скачивания анкеты из базы) и LastSeen (дата последней активности пользователя) - не имеют особого смысла для машины, которую мы оцениваем сейчас. Удаляем эти столбец. \n",
    "    - [X]  Оставляем только дату размещения объявления: по ней мы можем выявить зависимость цены от времени размещения.\n",
    "        - [X]  Проверим как сильно влияют на цены месяц и год размещения.\n",
    "            - [X]  13 месяцев - один лишний. Заменим на медианное значение.\n",
    "            - [X]  151 вариант года регистрации. Изучим.  \n",
    "- [X]  petrol и gasoline - названия одного и того же топлива. Заменим gasoline на petrol\n",
    "- [x]  В данных о ремонте должно быть всего 2 значения: 'yes' и 'no'. NaN скорее означает отсутствие записей о ремонте. Заменим пропуски на 'yes'.\n",
    "- [X]  Данные содержат пропуски и нули\n",
    "- [x]  Видим выбросы - нулевые значения мощности и стоимости. Подумаем, что с ними сделать.\n",
    "- [x]  Нет  сильной корреляции между целевым признаком и другими признаками. Единственное явное - это отрицательная корреляция стоимости и пробега. Что вполне можно объяснить. Если избавить данные от выбросов, к корреляции можно будет вернуться, потому что сейчас эти расчёты далеки от реальности.\n",
    "- [x]  Данные имеют тип object - категории имеет смысл закодировать."
   ]
  },
  {
   "cell_type": "code",
   "execution_count": 4,
   "metadata": {
    "id": "Pgf68lVz9Aao"
   },
   "outputs": [],
   "source": [
    "shape = df.shape[0]"
   ]
  },
  {
   "cell_type": "code",
   "execution_count": 5,
   "metadata": {
    "colab": {
     "base_uri": "https://localhost:8080/"
    },
    "id": "t-h9Ln3Y9Aaq",
    "outputId": "948b50ac-91a7-4adf-f47e-672134a3e1ad",
    "scrolled": true
   },
   "outputs": [
    {
     "data": {
      "text/plain": [
       "Index(['datecrawled', 'price', 'vehicletype', 'registrationyear', 'gearbox',\n",
       "       'power', 'model', 'kilometer', 'registrationmonth', 'fueltype', 'brand',\n",
       "       'repaired', 'datecreated', 'numberofpictures', 'postalcode',\n",
       "       'lastseen'],\n",
       "      dtype='object')"
      ]
     },
     "execution_count": 5,
     "metadata": {},
     "output_type": "execute_result"
    }
   ],
   "source": [
    "# приведём все названия столбцов в нижний регистр\n",
    "df.columns = df.columns.str.lower()\n",
    "df.columns"
   ]
  },
  {
   "cell_type": "code",
   "execution_count": 6,
   "metadata": {
    "colab": {
     "base_uri": "https://localhost:8080/"
    },
    "id": "zCOYXW4x9Aas",
    "outputId": "f79588d0-2dee-4e66-aafb-bdb603ffc997"
   },
   "outputs": [
    {
     "data": {
      "text/plain": [
       "Index(['price', 'vehicletype', 'registrationyear', 'gearbox', 'power', 'model',\n",
       "       'kilometer', 'registrationmonth', 'fueltype', 'brand', 'repaired',\n",
       "       'datecreated', 'postalcode'],\n",
       "      dtype='object')"
      ]
     },
     "execution_count": 6,
     "metadata": {},
     "output_type": "execute_result"
    }
   ],
   "source": [
    "# выбросим лишние столбцы\n",
    "df.drop(['datecrawled', 'numberofpictures', 'lastseen'], axis=1, inplace=True)\n",
    "df.columns"
   ]
  },
  {
   "cell_type": "code",
   "execution_count": 7,
   "metadata": {
    "colab": {
     "base_uri": "https://localhost:8080/",
     "height": 259
    },
    "id": "LbahQU_19Aat",
    "outputId": "1aaf0667-22f1-45a5-e3d8-22690793a9d2"
   },
   "outputs": [
    {
     "data": {
      "text/html": [
       "<div>\n",
       "<style scoped>\n",
       "    .dataframe tbody tr th:only-of-type {\n",
       "        vertical-align: middle;\n",
       "    }\n",
       "\n",
       "    .dataframe tbody tr th {\n",
       "        vertical-align: top;\n",
       "    }\n",
       "\n",
       "    .dataframe thead th {\n",
       "        text-align: right;\n",
       "    }\n",
       "</style>\n",
       "<table border=\"1\" class=\"dataframe\">\n",
       "  <thead>\n",
       "    <tr style=\"text-align: right;\">\n",
       "      <th></th>\n",
       "      <th>price</th>\n",
       "      <th>vehicle_type</th>\n",
       "      <th>registration_year</th>\n",
       "      <th>gearbox</th>\n",
       "      <th>power</th>\n",
       "      <th>model</th>\n",
       "      <th>kilometer</th>\n",
       "      <th>registration_month</th>\n",
       "      <th>fuel_type</th>\n",
       "      <th>brand</th>\n",
       "      <th>not_repaired</th>\n",
       "      <th>date_created</th>\n",
       "      <th>postal_code</th>\n",
       "    </tr>\n",
       "  </thead>\n",
       "  <tbody>\n",
       "    <tr>\n",
       "      <th>0</th>\n",
       "      <td>480</td>\n",
       "      <td>NaN</td>\n",
       "      <td>1993</td>\n",
       "      <td>manual</td>\n",
       "      <td>0</td>\n",
       "      <td>golf</td>\n",
       "      <td>150000</td>\n",
       "      <td>0</td>\n",
       "      <td>petrol</td>\n",
       "      <td>volkswagen</td>\n",
       "      <td>NaN</td>\n",
       "      <td>2016-03-24 00:00:00</td>\n",
       "      <td>70435</td>\n",
       "    </tr>\n",
       "    <tr>\n",
       "      <th>1</th>\n",
       "      <td>18300</td>\n",
       "      <td>coupe</td>\n",
       "      <td>2011</td>\n",
       "      <td>manual</td>\n",
       "      <td>190</td>\n",
       "      <td>NaN</td>\n",
       "      <td>125000</td>\n",
       "      <td>5</td>\n",
       "      <td>gasoline</td>\n",
       "      <td>audi</td>\n",
       "      <td>yes</td>\n",
       "      <td>2016-03-24 00:00:00</td>\n",
       "      <td>66954</td>\n",
       "    </tr>\n",
       "    <tr>\n",
       "      <th>2</th>\n",
       "      <td>9800</td>\n",
       "      <td>suv</td>\n",
       "      <td>2004</td>\n",
       "      <td>auto</td>\n",
       "      <td>163</td>\n",
       "      <td>grand</td>\n",
       "      <td>125000</td>\n",
       "      <td>8</td>\n",
       "      <td>gasoline</td>\n",
       "      <td>jeep</td>\n",
       "      <td>NaN</td>\n",
       "      <td>2016-03-14 00:00:00</td>\n",
       "      <td>90480</td>\n",
       "    </tr>\n",
       "  </tbody>\n",
       "</table>\n",
       "</div>"
      ],
      "text/plain": [
       "   price vehicle_type  registration_year gearbox  power  model  kilometer  \\\n",
       "0    480          NaN               1993  manual      0   golf     150000   \n",
       "1  18300        coupe               2011  manual    190    NaN     125000   \n",
       "2   9800          suv               2004    auto    163  grand     125000   \n",
       "\n",
       "   registration_month fuel_type       brand not_repaired         date_created  \\\n",
       "0                   0    petrol  volkswagen          NaN  2016-03-24 00:00:00   \n",
       "1                   5  gasoline        audi          yes  2016-03-24 00:00:00   \n",
       "2                   8  gasoline        jeep          NaN  2016-03-14 00:00:00   \n",
       "\n",
       "   postal_code  \n",
       "0        70435  \n",
       "1        66954  \n",
       "2        90480  "
      ]
     },
     "execution_count": 7,
     "metadata": {},
     "output_type": "execute_result"
    }
   ],
   "source": [
    "# приведём названия в порядок\n",
    "_ = ['price', 'vehicle_type', 'registration_year', 'gearbox',\n",
    "       'power', 'model', 'kilometer', 'registration_month', 'fuel_type', 'brand',\n",
    "       'not_repaired', 'date_created', 'postal_code']\n",
    "df.columns = _\n",
    "df.head(3)"
   ]
  },
  {
   "cell_type": "code",
   "execution_count": 8,
   "metadata": {
    "colab": {
     "base_uri": "https://localhost:8080/"
    },
    "id": "_dvZg9vz9Aau",
    "outputId": "98558347-d7f6-4134-a315-0681f511a6ac"
   },
   "outputs": [
    {
     "data": {
      "text/plain": [
       "0.02876662462009939"
      ]
     },
     "execution_count": 8,
     "metadata": {},
     "output_type": "execute_result"
    }
   ],
   "source": [
    "df.duplicated().sum() / df.shape[0]"
   ]
  },
  {
   "cell_type": "markdown",
   "metadata": {
    "id": "nApx2YV09Aav"
   },
   "source": [
    "Около 3% дубликатов, которые появились день в день с одним и тем же почтовым индексом. Выглядит так, будто объявление ошибочно создали, удалили и затем создали снова. Удалим их."
   ]
  },
  {
   "cell_type": "code",
   "execution_count": 9,
   "metadata": {
    "colab": {
     "base_uri": "https://localhost:8080/"
    },
    "id": "San2bYlq9Aaw",
    "outputId": "20efe7a9-cf80-48de-d6b4-8145165b53b1"
   },
   "outputs": [
    {
     "data": {
      "text/plain": [
       "0"
      ]
     },
     "execution_count": 9,
     "metadata": {},
     "output_type": "execute_result"
    }
   ],
   "source": [
    "df.drop_duplicates(inplace=True)\n",
    "df.duplicated().sum()"
   ]
  },
  {
   "cell_type": "markdown",
   "metadata": {
    "id": "cMmwEx8Z7SHr"
   },
   "source": [
    "Посмотрим распределения года и месяца регистрации <a id='reg_hist'></a>"
   ]
  },
  {
   "cell_type": "code",
   "execution_count": 10,
   "metadata": {
    "colab": {
     "base_uri": "https://localhost:8080/",
     "height": 350
    },
    "id": "StEP14fo9Aax",
    "outputId": "c338eb91-ae71-4f8e-d93f-8bd1b3fa8ba9"
   },
   "outputs": [
    {
     "data": {
      "image/png": "[encoded data removed]",
      "text/plain": [
       "<Figure size 1296x360 with 2 Axes>"
      ]
     },
     "metadata": {
      "needs_background": "light"
     },
     "output_type": "display_data"
    }
   ],
   "source": [
    "fig, (ax1, ax2) = plt.subplots(\n",
    "    nrows=1, ncols=2,\n",
    "    figsize=(18, 5)\n",
    ")\n",
    " \n",
    "ax1.hist(df.registration_year, bins = 9)\n",
    "ax1.set_title('Гистограмма распределения года регистрации')\n",
    "ax1.set_xlabel('Год регистрации')\n",
    "ax1.set_ylabel('$Частота$')\n",
    " \n",
    "ax2.hist(df.registration_month, bins=12)\n",
    "ax2.set_title('Гистограмма распределения месяца регистрации')\n",
    "ax2.set_xlabel('Месяц регистрации')\n",
    "ax2.set_ylabel('$Частота$')\n",
    "\n",
    "plt.show()"
   ]
  },
  {
   "cell_type": "code",
   "execution_count": 11,
   "metadata": {
    "colab": {
     "base_uri": "https://localhost:8080/",
     "height": 36
    },
    "id": "YEybschI7SHt",
    "outputId": "1ee2617f-02b3-4a51-a2ab-6f4d8bdfaed4"
   },
   "outputs": [
    {
     "data": {
      "text/plain": [
       "'2016-04-07 00:00:00'"
      ]
     },
     "execution_count": 11,
     "metadata": {},
     "output_type": "execute_result"
    }
   ],
   "source": [
    "df.date_created.max()"
   ]
  },
  {
   "cell_type": "code",
   "execution_count": 12,
   "metadata": {},
   "outputs": [
    {
     "name": "stdout",
     "output_type": "stream",
     "text": [
      "Количество аномальных значений с месяцем регистрации равному 0 - 36720\n",
      "Что составляет 11% от всех данных.\n"
     ]
    }
   ],
   "source": [
    "print(f'Количество аномальных значений с месяцем регистрации равному 0 - {df.registration_month[df.registration_month == 0].count()}\\nЧто составляет {df.registration_month[df.registration_month == 0].count() / df.shape[0]:.0%} от всех данных.')"
   ]
  },
  {
   "cell_type": "markdown",
   "metadata": {
    "id": "CtVcQbAs7SHu"
   },
   "source": [
    "Месяц регистрации может влиять на цену. Аномальное значения `0` достоверно заменить не можем. Возможно, кто-то не заполнил параметр и туда прописали 0. Удалять 11% выборки из-за незаполненности сомнительного признака не стоит. \n",
    "Учитывая, что данных после 2016г быть не должно и достоверно заменить их не можем - просто отсечём их.  \n",
    "К томуже, вряд ли кто-то выставляет свой автомобиль зарегистрированный ранее 1945г на продажу - эти данные тоже удалим."
   ]
  },
  {
   "cell_type": "code",
   "execution_count": 13,
   "metadata": {
    "id": "lfQHTo-w7SHu"
   },
   "outputs": [],
   "source": [
    "df = df[(df.registration_year <= 2016) & (1945 <= df.registration_year)]"
   ]
  },
  {
   "cell_type": "code",
   "execution_count": 14,
   "metadata": {},
   "outputs": [],
   "source": [
    "sns.set_style(\"darkgrid\") "
   ]
  },
  {
   "cell_type": "code",
   "execution_count": 15,
   "metadata": {
    "colab": {
     "base_uri": "https://localhost:8080/",
     "height": 350
    },
    "id": "1Q4QCS1L7SHv",
    "outputId": "bc522140-086e-405f-814a-04b1c5e703a6",
    "scrolled": true
   },
   "outputs": [
    {
     "data": {
      "image/png": "[encoded data removed]",
      "text/plain": [
       "<Figure size 1296x360 with 2 Axes>"
      ]
     },
     "metadata": {},
     "output_type": "display_data"
    }
   ],
   "source": [
    "fig, (ax1, ax2) = plt.subplots(\n",
    "    nrows=1, ncols=2,\n",
    "    figsize=(18, 5)\n",
    ")\n",
    " \n",
    "ax1.hist(df.registration_year, bins = 50)\n",
    "ax1.set_title('Гистограмма распределения года регистрации')\n",
    "ax1.set_xlabel('Год регистрации')\n",
    "ax1.set_ylabel('$Частота$')\n",
    " \n",
    "ax2.hist(df.registration_month, bins=13)\n",
    "ax2.set_title('Гистограмма распределения месяца регистрации')\n",
    "ax2.set_xlabel('Месяц регистрации')\n",
    "ax2.set_ylabel('$Частота$')\n",
    "\n",
    "plt.show()"
   ]
  },
  {
   "cell_type": "markdown",
   "metadata": {},
   "source": [
    "Посмторим на график распределения года регистрации поближе."
   ]
  },
  {
   "cell_type": "code",
   "execution_count": 16,
   "metadata": {},
   "outputs": [
    {
     "data": {
      "image/png": "[encoded data removed]",
      "text/plain": [
       "<Figure size 1296x360 with 1 Axes>"
      ]
     },
     "metadata": {},
     "output_type": "display_data"
    }
   ],
   "source": [
    "fig, (ax1) = plt.subplots(\n",
    "    nrows=1, ncols=1,\n",
    "    figsize=(18, 5)\n",
    ")\n",
    " \n",
    "ax1.hist(df.registration_year, bins = 30, range=(1945, 1970))\n",
    "ax1.set_title('Гистограмма распределения года регистрации (1945-1970)')\n",
    "ax1.set_xlabel('Год регистрации')\n",
    "ax1.set_ylabel('$Частота$')\n",
    "\n",
    "plt.show()"
   ]
  },
  {
   "cell_type": "markdown",
   "metadata": {
    "id": "YZkmjMBE7SHw"
   },
   "source": [
    "Судя по гистограмме, можно и данные об авто, зарегистрированных до 1950г можно также смело удалить."
   ]
  },
  {
   "cell_type": "code",
   "execution_count": 17,
   "metadata": {
    "id": "EtiL193h7SHw"
   },
   "outputs": [],
   "source": [
    "df = df[(df.registration_year >= 1950)]"
   ]
  },
  {
   "cell_type": "markdown",
   "metadata": {
    "id": "mjwEDzUh7SHy"
   },
   "source": [
    "Посмотрим распределения мощьночти и почтового индекса <a id='hp_ind'></a>"
   ]
  },
  {
   "cell_type": "code",
   "execution_count": 18,
   "metadata": {
    "colab": {
     "base_uri": "https://localhost:8080/",
     "height": 350
    },
    "id": "ORVI9N5L9Aa0",
    "outputId": "1d6d6292-7019-414f-9d09-af57948f6a77"
   },
   "outputs": [
    {
     "data": {
      "image/png": "[encoded data removed]",
      "text/plain": [
       "<Figure size 1296x360 with 2 Axes>"
      ]
     },
     "metadata": {},
     "output_type": "display_data"
    }
   ],
   "source": [
    "fig, (ax1, ax2) = plt.subplots(\n",
    "    nrows=1, ncols=2,\n",
    "    figsize=(18, 5)\n",
    ")\n",
    " \n",
    "ax1.hist(df.power, bins=10)\n",
    "ax1.set_title('Гистограмма распределения мощности автомобиля')\n",
    "ax1.set_xlabel('Мощьность')\n",
    "ax1.set_ylabel('$Частота$')\n",
    " \n",
    "ax2.hist(df.postal_code, bins=60)\n",
    "ax2.set_title('Гистограмма распределения почтового индекса')\n",
    "ax2.set_xlabel('Почтовый индекс')\n",
    "ax2.set_ylabel('$Частота$')\n",
    "\n",
    "plt.show()"
   ]
  },
  {
   "cell_type": "markdown",
   "metadata": {
    "id": "2S3s2xIq9Aa1"
   },
   "source": [
    "В плане мощности:\n",
    "\n",
    "Чемпионом считается американский карьерный самосвал Caterpillar 797F мощностью 4000 лошадиных сил. Следовательно мощьности свыше 4000 - смело удаляем.  \n",
    "Peel P50 оборудован 49-кубовым мотоциклетным двигателем мощностью 4,2 лошадиные силы. Значит мощности менее 4лс - удаляем."
   ]
  },
  {
   "cell_type": "code",
   "execution_count": 19,
   "metadata": {
    "id": "ys5rgHbX7SHz"
   },
   "outputs": [],
   "source": [
    "df = df[(df.power <= 4000) & (4 <= df.power)]"
   ]
  },
  {
   "cell_type": "markdown",
   "metadata": {},
   "source": [
    "Рассмотрим гистограмму распределения мощности поближе."
   ]
  },
  {
   "cell_type": "code",
   "execution_count": 20,
   "metadata": {
    "colab": {
     "base_uri": "https://localhost:8080/",
     "height": 283
    },
    "id": "1ZhTet-r7SH0",
    "outputId": "d74a8d62-245d-4bc4-a97e-e7c318e30d19"
   },
   "outputs": [
    {
     "data": {
      "image/png": "[encoded data removed]",
      "text/plain": [
       "<Figure size 1296x2016 with 4 Axes>"
      ]
     },
     "metadata": {},
     "output_type": "display_data"
    }
   ],
   "source": [
    "fig, (ax1, ax2, ax3, ax4) = plt.subplots(\n",
    "    nrows=4, ncols=1,\n",
    "    figsize=(18, 28)\n",
    ")\n",
    " \n",
    "ax1.hist(df.power, bins=50, range=(4, 500))\n",
    "ax1.set_title('Гистограмма распределения мощности автомобиля (4-500hp)')\n",
    "ax1.set_xlabel('$Мощьность$')\n",
    "ax1.set_ylabel('$Частота$')\n",
    " \n",
    "ax2.hist(df.power, bins=50, range=(500, 4000))\n",
    "ax2.set_title('Гистограмма распределения мощности автомобиля (500-4000hp)')\n",
    "ax2.set_xlabel('$Мощьность$')\n",
    "ax2.set_ylabel('$Частота$')\n",
    " \n",
    "ax3.hist(df.power, bins=50, range=(4, 100))\n",
    "ax3.set_title('Гистограмма распределения мощности автомобиля (4-100hp)')\n",
    "ax3.set_xlabel('$Мощьность$')\n",
    "ax3.set_ylabel('$Частота$')\n",
    " \n",
    "ax4.hist(df.power, bins=50, range=(2000, 4000))\n",
    "ax4.set_title('Гистограмма распределения мощности автомобиля (2000-4000hp)')\n",
    "ax4.set_xlabel('$Мощьность$')\n",
    "ax4.set_ylabel('$Частота$')\n",
    "\n",
    "plt.show()"
   ]
  },
  {
   "cell_type": "code",
   "execution_count": 21,
   "metadata": {},
   "outputs": [
    {
     "data": {
      "image/png": "[encoded data removed]",
      "text/plain": [
       "<Figure size 1296x720 with 2 Axes>"
      ]
     },
     "metadata": {},
     "output_type": "display_data"
    }
   ],
   "source": [
    "fig, (ax1, ax2) = plt.subplots(\n",
    "    nrows=2, ncols=1,\n",
    "    figsize=(18, 10)\n",
    ")\n",
    " \n",
    "ax1.hist(df.power, bins=50, range=(4, 40))\n",
    "ax1.set_title('Гистограмма распределения мощности автомобиля (4-40hp)')\n",
    "ax1.set_xlabel('$Мощьность$')\n",
    "ax1.set_ylabel('$Частота$')\n",
    " \n",
    "ax2.hist(df.power, bins=60, range=(2100, 4000))\n",
    "ax2.set_title('Гистограмма распределения мощности автомобиля (2100-4000hp)')\n",
    "ax2.set_xlabel('$Мощьность$')\n",
    "ax2.set_ylabel('$Частота$')\n",
    "\n",
    "plt.show()"
   ]
  },
  {
   "cell_type": "markdown",
   "metadata": {},
   "source": [
    "- Автомобилей мощьностьб более 2000лс всего по одной две штуки. Они выбиваются из общей закономерности и их стоит удалить для более качественного обучения модели.\n",
    "- Автомобилей мощностью менее 40лс также очень мало относительно общего распределения. Удалим эти данные."
   ]
  },
  {
   "cell_type": "code",
   "execution_count": 22,
   "metadata": {},
   "outputs": [],
   "source": [
    "df = df[(df.power <= 2000) & (40 <= df.power)]"
   ]
  },
  {
   "cell_type": "code",
   "execution_count": 23,
   "metadata": {
    "colab": {
     "base_uri": "https://localhost:8080/"
    },
    "id": "7sJCew_t9Aa6",
    "outputId": "7b2be6d5-4dd3-4211-a4d3-4e85cc7355a9"
   },
   "outputs": [
    {
     "data": {
      "text/plain": [
       "power                 560\n",
       "registration_year      67\n",
       "registration_month     13\n",
       "dtype: int64"
      ]
     },
     "execution_count": 23,
     "metadata": {},
     "output_type": "execute_result"
    }
   ],
   "source": [
    "df[['power', 'registration_year', 'registration_month']].nunique()"
   ]
  },
  {
   "cell_type": "markdown",
   "metadata": {
    "id": "Lgayy-Rj9Aa6"
   },
   "source": [
    "Теперь выглядит гораздо правдоподобней."
   ]
  },
  {
   "cell_type": "code",
   "execution_count": 24,
   "metadata": {
    "colab": {
     "base_uri": "https://localhost:8080/"
    },
    "id": "B-Pl4puL9Aa7",
    "outputId": "a0ace7d1-1a65-40b1-bc00-e5678ad37dca"
   },
   "outputs": [
    {
     "data": {
      "text/plain": [
       "array([1950, 1951, 1952, 1953, 1954, 1955, 1956, 1957, 1958, 1959, 1960,\n",
       "       1961, 1962, 1963, 1964, 1965, 1966, 1967, 1968, 1969, 1970, 1971,\n",
       "       1972, 1973, 1974, 1975, 1976, 1977, 1978, 1979, 1980, 1981, 1982,\n",
       "       1983, 1984, 1985, 1986, 1987, 1988, 1989, 1990, 1991, 1992, 1993,\n",
       "       1994, 1995, 1996, 1997, 1998, 1999, 2000, 2001, 2002, 2003, 2004,\n",
       "       2005, 2006, 2007, 2008, 2009, 2010, 2011, 2012, 2013, 2014, 2015,\n",
       "       2016])"
      ]
     },
     "execution_count": 24,
     "metadata": {},
     "output_type": "execute_result"
    }
   ],
   "source": [
    "df.registration_year.sort_values().unique()"
   ]
  },
  {
   "cell_type": "code",
   "execution_count": 25,
   "metadata": {
    "colab": {
     "base_uri": "https://localhost:8080/"
    },
    "id": "qqmEfjSG9Aa8",
    "outputId": "f14d1e54-4597-46f3-dbd2-994055c478cb"
   },
   "outputs": [
    {
     "data": {
      "text/plain": [
       "array([ 0,  1,  2,  3,  4,  5,  6,  7,  8,  9, 10, 11, 12])"
      ]
     },
     "execution_count": 25,
     "metadata": {},
     "output_type": "execute_result"
    }
   ],
   "source": [
    "df.registration_month.sort_values().unique()"
   ]
  },
  {
   "cell_type": "code",
   "execution_count": 26,
   "metadata": {
    "colab": {
     "base_uri": "https://localhost:8080/"
    },
    "id": "3GMw6RPV9Aa_",
    "outputId": "713fd946-0e3e-41b3-878d-e0750cea9497",
    "scrolled": true
   },
   "outputs": [
    {
     "data": {
      "text/plain": [
       "25258   2016-03-06\n",
       "Name: date_created, dtype: datetime64[ns]"
      ]
     },
     "execution_count": 26,
     "metadata": {},
     "output_type": "execute_result"
    }
   ],
   "source": [
    "df.date_created = pd.to_datetime(df.date_created, yearfirst=True).dt.round('D')\n",
    "df.date_created.sample()"
   ]
  },
  {
   "cell_type": "code",
   "execution_count": 27,
   "metadata": {
    "colab": {
     "base_uri": "https://localhost:8080/",
     "height": 143
    },
    "id": "Q3WBuqQq9AbA",
    "outputId": "0b767e10-31a8-4926-c2e5-47cd15c84fe2"
   },
   "outputs": [
    {
     "data": {
      "text/html": [
       "<div>\n",
       "<style scoped>\n",
       "    .dataframe tbody tr th:only-of-type {\n",
       "        vertical-align: middle;\n",
       "    }\n",
       "\n",
       "    .dataframe tbody tr th {\n",
       "        vertical-align: top;\n",
       "    }\n",
       "\n",
       "    .dataframe thead th {\n",
       "        text-align: right;\n",
       "    }\n",
       "</style>\n",
       "<table border=\"1\" class=\"dataframe\">\n",
       "  <thead>\n",
       "    <tr style=\"text-align: right;\">\n",
       "      <th></th>\n",
       "      <th>year_pub</th>\n",
       "      <th>month_pub</th>\n",
       "      <th>day_pub</th>\n",
       "    </tr>\n",
       "  </thead>\n",
       "  <tbody>\n",
       "    <tr>\n",
       "      <th>203148</th>\n",
       "      <td>2016</td>\n",
       "      <td>3</td>\n",
       "      <td>10</td>\n",
       "    </tr>\n",
       "    <tr>\n",
       "      <th>88340</th>\n",
       "      <td>2016</td>\n",
       "      <td>3</td>\n",
       "      <td>12</td>\n",
       "    </tr>\n",
       "    <tr>\n",
       "      <th>109179</th>\n",
       "      <td>2016</td>\n",
       "      <td>3</td>\n",
       "      <td>11</td>\n",
       "    </tr>\n",
       "  </tbody>\n",
       "</table>\n",
       "</div>"
      ],
      "text/plain": [
       "        year_pub  month_pub  day_pub\n",
       "203148      2016          3       10\n",
       "88340       2016          3       12\n",
       "109179      2016          3       11"
      ]
     },
     "metadata": {},
     "output_type": "display_data"
    }
   ],
   "source": [
    "# создадим столбцы с годом, месяцем и днём публикации\n",
    "df.loc[:, 'year_pub'] = df.date_created.dt.year\n",
    "df.loc[:, 'month_pub'] = df.date_created.dt.month\n",
    "df.loc[:, 'day_pub'] = df.date_created.dt.day\n",
    "display(df[['year_pub', 'month_pub', 'day_pub']].sample(3))"
   ]
  },
  {
   "cell_type": "code",
   "execution_count": 28,
   "metadata": {
    "id": "3EVqZQCH9AbB"
   },
   "outputs": [],
   "source": [
    "# удаляем столбец date_created, он нам больше не нужен\n",
    "df.drop(['date_created'], axis=1, inplace=True)"
   ]
  },
  {
   "cell_type": "code",
   "execution_count": 29,
   "metadata": {
    "colab": {
     "base_uri": "https://localhost:8080/"
    },
    "id": "y5olImjY9AbB",
    "outputId": "0c8c6858-fd44-4e8b-c25c-4aa9ff929031"
   },
   "outputs": [
    {
     "data": {
      "text/plain": [
       "array([ 1,  2,  3,  4,  5,  6,  7,  8,  9, 10, 11, 12, 13, 14, 15, 16, 17,\n",
       "       18, 19, 20, 21, 22, 23, 24, 25, 26, 27, 28, 29, 30, 31])"
      ]
     },
     "execution_count": 29,
     "metadata": {},
     "output_type": "execute_result"
    }
   ],
   "source": [
    "df.day_pub.sort_values().unique()"
   ]
  },
  {
   "cell_type": "code",
   "execution_count": 30,
   "metadata": {
    "colab": {
     "base_uri": "https://localhost:8080/"
    },
    "id": "Aq__ToyE9AbC",
    "outputId": "32a2c70b-ad17-40aa-b5c2-6a9197d5e82a"
   },
   "outputs": [
    {
     "data": {
      "text/plain": [
       "array([ 1,  2,  3,  4,  8,  9, 11, 12])"
      ]
     },
     "execution_count": 30,
     "metadata": {},
     "output_type": "execute_result"
    }
   ],
   "source": [
    "df.month_pub.sort_values().unique()"
   ]
  },
  {
   "cell_type": "markdown",
   "metadata": {
    "id": "qKbQIfAu9AbD"
   },
   "source": [
    "Как видим - в мае, июле и октябре объявления почему-то не публиковались."
   ]
  },
  {
   "cell_type": "code",
   "execution_count": 31,
   "metadata": {
    "colab": {
     "base_uri": "https://localhost:8080/"
    },
    "id": "lSgdjpNV9AbD",
    "outputId": "22221e8b-246d-47c1-8c31-4a1a53350d25"
   },
   "outputs": [
    {
     "data": {
      "text/plain": [
       "array([2015, 2016])"
      ]
     },
     "execution_count": 31,
     "metadata": {},
     "output_type": "execute_result"
    }
   ],
   "source": [
    "df.year_pub.sort_values().unique()"
   ]
  },
  {
   "cell_type": "code",
   "execution_count": 32,
   "metadata": {
    "colab": {
     "base_uri": "https://localhost:8080/"
    },
    "id": "F9WBkezQ7SIA",
    "outputId": "3cf7a9cf-3384-41e9-cda7-3c3070f5c3b7"
   },
   "outputs": [
    {
     "data": {
      "text/plain": [
       "2016    292509\n",
       "2015        20\n",
       "Name: year_pub, dtype: int64"
      ]
     },
     "execution_count": 32,
     "metadata": {},
     "output_type": "execute_result"
    }
   ],
   "source": [
    "df.year_pub.value_counts()"
   ]
  },
  {
   "cell_type": "code",
   "execution_count": 33,
   "metadata": {
    "colab": {
     "base_uri": "https://localhost:8080/",
     "height": 353
    },
    "id": "lZVNdJxy9AbE",
    "outputId": "85940328-1356-4824-e6d6-6d1f339cc622"
   },
   "outputs": [
    {
     "data": {
      "image/png": "[encoded data removed]",
      "text/plain": [
       "<Figure size 1296x360 with 3 Axes>"
      ]
     },
     "metadata": {},
     "output_type": "display_data"
    }
   ],
   "source": [
    "# проверим как сильно влияет на цены время размещения\n",
    "year_stat = df.groupby('year_pub').agg({'price': 'mean'})\n",
    "month_stat = df.groupby('month_pub').agg({'price': 'mean'})\n",
    "day_stat = df.groupby('day_pub').agg({'price': 'mean'})\n",
    "\n",
    " \n",
    "fig, (ax1, ax2, ax3) = plt.subplots(\n",
    "    nrows=1, ncols=3,\n",
    "    figsize=(18, 5)\n",
    ")\n",
    " \n",
    "ax1.hist(df.year_pub, bins=5)\n",
    "ax1.set_title('Гистограмма распределения года размещения')\n",
    "ax1.set_xlabel('$Год$')\n",
    "ax1.set_ylabel('$Частота$')\n",
    " \n",
    "ax2.hist(df.month_pub, bins=12)\n",
    "ax2.set_title('Гистограмма распределения месяца размещения')\n",
    "ax2.set_xlabel('$Месяц$')\n",
    "ax2.set_ylabel('$Частота$')\n",
    " \n",
    "ax3.hist(df.day_pub, bins=31)\n",
    "ax3.set_title('Гистограмма распределения дня размещения')\n",
    "ax3.set_xlabel('$День$')\n",
    "ax3.set_ylabel('$Частота$')\n",
    " \n",
    "plt.show()"
   ]
  },
  {
   "cell_type": "markdown",
   "metadata": {
    "id": "UsOtTsto9AbE"
   },
   "source": [
    "$Видим:$\n",
    "\n",
    "- Практически все обьявления из оставшихся публиковались с конца 2015г по 2016г. Причём, в основном, в марте-апреле. В расчёт эти данные брать нельзя.\n",
    "- С днями ситуация выглядит правдоподобно."
   ]
  },
  {
   "cell_type": "markdown",
   "metadata": {
    "id": "2tnnK6A67SIB"
   },
   "source": [
    "Посмотрим на взаимосвязь проанализированных признаков с ценой <a id='price_1'></a>"
   ]
  },
  {
   "cell_type": "code",
   "execution_count": 34,
   "metadata": {
    "colab": {
     "base_uri": "https://localhost:8080/",
     "height": 1000
    },
    "id": "qSkzOMhd7SIC",
    "outputId": "a64bd866-9d5d-491c-c57c-5c22d5524f5c"
   },
   "outputs": [
    {
     "data": {
      "image/png": "[encoded data removed]",
      "text/plain": [
       "<Figure size 1296x1800 with 4 Axes>"
      ]
     },
     "metadata": {},
     "output_type": "display_data"
    }
   ],
   "source": [
    "# проверим как сильно влияет на цены время размещения\n",
    "year_stat = df.groupby('registration_year').agg({'price': 'mean'})\n",
    "month_stat = df.groupby('registration_month').agg({'price': 'mean'})\n",
    "hp_stat = df.groupby('power').agg({'price': 'mean'})\n",
    "day_stat = df.groupby('day_pub').agg({'price': 'mean'})\n",
    "\n",
    " \n",
    "fig, (ax1, ax2, ax3, ax4) = plt.subplots(\n",
    "    nrows=4, ncols=1,\n",
    "    figsize=(18, 25)\n",
    ")\n",
    " \n",
    "ax1.bar(year_stat.index, year_stat.price)\n",
    "ax1.set_title('Зависимость цены от года регистрации')\n",
    "ax1.set_xlabel('$Год$')\n",
    "ax1.set_ylabel('$Цена$')\n",
    " \n",
    "ax2.bar(month_stat.index, month_stat.price)\n",
    "ax2.set_title('Зависимость цены от месяца регистрации')\n",
    "ax2.set_xlabel('$Месяц$')\n",
    "ax2.set_ylabel('$Цена$')\n",
    " \n",
    "ax3.bar(hp_stat.index, hp_stat.price)\n",
    "ax3.set_title('Зависимость цены от мощьности авто')\n",
    "ax3.set_xlabel('$Мощность$')\n",
    "ax3.set_ylabel('$Цена$')\n",
    " \n",
    "ax4.bar(day_stat.index, day_stat.price)\n",
    "ax4.set_title('Зависимость цены от дня размещения')\n",
    "ax4.set_xlabel('$День$')\n",
    "ax4.set_ylabel('$Цена$')\n",
    " \n",
    "plt.show()"
   ]
  },
  {
   "cell_type": "markdown",
   "metadata": {
    "id": "xa0kALEZ9AbF"
   },
   "source": [
    "Зависимости по всем 4 признакм есть. Хоть зависимость средней цены от месяца регистрации незначительная, но цена отдельного автомобиля варируется от месяца к месяцу."
   ]
  },
  {
   "cell_type": "code",
   "execution_count": 35,
   "metadata": {
    "colab": {
     "base_uri": "https://localhost:8080/",
     "height": 176
    },
    "id": "8q5PxzVs9AbF",
    "outputId": "fa587b37-4e3d-4b28-bf58-952e67dd0963"
   },
   "outputs": [
    {
     "data": {
      "text/html": [
       "<div>\n",
       "<style scoped>\n",
       "    .dataframe tbody tr th:only-of-type {\n",
       "        vertical-align: middle;\n",
       "    }\n",
       "\n",
       "    .dataframe tbody tr th {\n",
       "        vertical-align: top;\n",
       "    }\n",
       "\n",
       "    .dataframe thead th {\n",
       "        text-align: right;\n",
       "    }\n",
       "</style>\n",
       "<table border=\"1\" class=\"dataframe\">\n",
       "  <thead>\n",
       "    <tr style=\"text-align: right;\">\n",
       "      <th></th>\n",
       "      <th>price</th>\n",
       "      <th>vehicle_type</th>\n",
       "      <th>registration_year</th>\n",
       "      <th>gearbox</th>\n",
       "      <th>power</th>\n",
       "      <th>model</th>\n",
       "      <th>kilometer</th>\n",
       "      <th>registration_month</th>\n",
       "      <th>fuel_type</th>\n",
       "      <th>brand</th>\n",
       "      <th>not_repaired</th>\n",
       "      <th>postal_code</th>\n",
       "      <th>day_pub</th>\n",
       "    </tr>\n",
       "  </thead>\n",
       "  <tbody>\n",
       "    <tr>\n",
       "      <th>1</th>\n",
       "      <td>18300</td>\n",
       "      <td>coupe</td>\n",
       "      <td>2011</td>\n",
       "      <td>manual</td>\n",
       "      <td>190</td>\n",
       "      <td>NaN</td>\n",
       "      <td>125000</td>\n",
       "      <td>5</td>\n",
       "      <td>gasoline</td>\n",
       "      <td>audi</td>\n",
       "      <td>yes</td>\n",
       "      <td>66954</td>\n",
       "      <td>24</td>\n",
       "    </tr>\n",
       "    <tr>\n",
       "      <th>2</th>\n",
       "      <td>9800</td>\n",
       "      <td>suv</td>\n",
       "      <td>2004</td>\n",
       "      <td>auto</td>\n",
       "      <td>163</td>\n",
       "      <td>grand</td>\n",
       "      <td>125000</td>\n",
       "      <td>8</td>\n",
       "      <td>gasoline</td>\n",
       "      <td>jeep</td>\n",
       "      <td>NaN</td>\n",
       "      <td>90480</td>\n",
       "      <td>14</td>\n",
       "    </tr>\n",
       "  </tbody>\n",
       "</table>\n",
       "</div>"
      ],
      "text/plain": [
       "   price vehicle_type  registration_year gearbox  power  model  kilometer  \\\n",
       "1  18300        coupe               2011  manual    190    NaN     125000   \n",
       "2   9800          suv               2004    auto    163  grand     125000   \n",
       "\n",
       "   registration_month fuel_type brand not_repaired  postal_code  day_pub  \n",
       "1                   5  gasoline  audi          yes        66954       24  \n",
       "2                   8  gasoline  jeep          NaN        90480       14  "
      ]
     },
     "execution_count": 35,
     "metadata": {},
     "output_type": "execute_result"
    }
   ],
   "source": [
    "# удаляем столбец с месяцем и годом публикации\n",
    "df.drop(['month_pub', 'year_pub'], axis=1, inplace=True)\n",
    "\n",
    "# также удаляем ненужные больше переменные\n",
    "del (year_stat, month_stat, day_stat)\n",
    "\n",
    "df.head(2)"
   ]
  },
  {
   "cell_type": "markdown",
   "metadata": {},
   "source": [
    "<div class=\"alert alert-warning\">\n",
    "<h4> ~2~ ⚠️</h4> \n",
    "\n",
    "day_pub тоже можно было удалять . \n",
    "    \n",
    "</div>"
   ]
  },
  {
   "cell_type": "code",
   "execution_count": 36,
   "metadata": {
    "colab": {
     "base_uri": "https://localhost:8080/"
    },
    "id": "12LFB0U99AbG",
    "outputId": "1554a842-9ea3-455c-f187-03ad696d246e",
    "scrolled": true
   },
   "outputs": [
    {
     "data": {
      "text/plain": [
       "array(['gasoline', 'petrol', nan, 'lpg', 'other', 'hybrid', 'cng',\n",
       "       'electric'], dtype=object)"
      ]
     },
     "execution_count": 36,
     "metadata": {},
     "output_type": "execute_result"
    }
   ],
   "source": [
    "df.fuel_type.unique()"
   ]
  },
  {
   "cell_type": "code",
   "execution_count": 37,
   "metadata": {
    "colab": {
     "base_uri": "https://localhost:8080/"
    },
    "id": "y8HnyHft7SIF",
    "outputId": "75b04f51-89af-4a36-c896-3271c161adf9"
   },
   "outputs": [
    {
     "data": {
      "text/plain": [
       "petrol      184849\n",
       "gasoline     85888\n",
       "lpg           4615\n",
       "cng            479\n",
       "hybrid         197\n",
       "other           56\n",
       "electric        39\n",
       "Name: fuel_type, dtype: int64"
      ]
     },
     "execution_count": 37,
     "metadata": {},
     "output_type": "execute_result"
    }
   ],
   "source": [
    "df.fuel_type.value_counts()"
   ]
  },
  {
   "cell_type": "markdown",
   "metadata": {
    "id": "R4smOkHS7SIF"
   },
   "source": [
    "`petrol` и `gasoline` - это названия бензина на американском и на британском. Они могут говорить о месте производства автомобиля — завод в США или в Европе."
   ]
  },
  {
   "cell_type": "code",
   "execution_count": 38,
   "metadata": {
    "colab": {
     "base_uri": "https://localhost:8080/"
    },
    "id": "RDCLdwX19AbG",
    "outputId": "4b86bf1c-3f30-4384-ca49-56441dbabc8c"
   },
   "outputs": [
    {
     "data": {
      "text/plain": [
       "array(['gasoline', 'petrol', 'unknown', 'lpg', 'other', 'hybrid', 'cng',\n",
       "       'electric'], dtype=object)"
      ]
     },
     "execution_count": 38,
     "metadata": {},
     "output_type": "execute_result"
    }
   ],
   "source": [
    "# заменим  nan на 'unknown'\n",
    "df.fuel_type = df.fuel_type.fillna('unknown')\n",
    "df.fuel_type.unique()"
   ]
  },
  {
   "cell_type": "code",
   "execution_count": 39,
   "metadata": {
    "colab": {
     "base_uri": "https://localhost:8080/"
    },
    "id": "AUVS1SjM7SIH",
    "outputId": "4e97e31f-b82c-4ee8-b924-de4da7307252"
   },
   "outputs": [
    {
     "data": {
      "text/plain": [
       "array(['yes', nan, 'no'], dtype=object)"
      ]
     },
     "execution_count": 39,
     "metadata": {},
     "output_type": "execute_result"
    }
   ],
   "source": [
    "df.not_repaired.unique()"
   ]
  },
  {
   "cell_type": "code",
   "execution_count": 40,
   "metadata": {
    "colab": {
     "base_uri": "https://localhost:8080/"
    },
    "id": "1pVRwsuA7SII",
    "outputId": "47ca3f7f-f718-41ac-a9c0-01b2cf52044c"
   },
   "outputs": [
    {
     "data": {
      "text/plain": [
       "no     218611\n",
       "yes     29601\n",
       "Name: not_repaired, dtype: int64"
      ]
     },
     "execution_count": 40,
     "metadata": {},
     "output_type": "execute_result"
    }
   ],
   "source": [
    "df.not_repaired.value_counts()"
   ]
  },
  {
   "cell_type": "markdown",
   "metadata": {
    "id": "8w_fYrNp7SII"
   },
   "source": [
    "Соотношение неремонтируемых машин к ремонтируемым всего 13%. Доля пропусков в этом столбце около 20%. Мы не можем точно сказать, являются ли пропуски фактом отсутствия ремонта или же наоборот - намеренным умалчиванием о ремонте, поэтому заменим их на `unknown`"
   ]
  },
  {
   "cell_type": "code",
   "execution_count": 41,
   "metadata": {
    "colab": {
     "base_uri": "https://localhost:8080/"
    },
    "id": "rSSk0WnI9AbI",
    "outputId": "2edf7e7f-090a-478f-be93-2ede1ae18d80"
   },
   "outputs": [
    {
     "data": {
      "text/plain": [
       "array(['yes', 'unknown', 'no'], dtype=object)"
      ]
     },
     "execution_count": 41,
     "metadata": {},
     "output_type": "execute_result"
    }
   ],
   "source": [
    "# заменим значения yes на 1, а no на 0 и заменим пропуски на 1\n",
    "df.not_repaired = df.not_repaired.fillna('unknown')\n",
    "df.not_repaired.unique()"
   ]
  },
  {
   "cell_type": "markdown",
   "metadata": {
    "id": "b2YeGC7c9AbI"
   },
   "source": [
    "Посмотрим, где и сколько пропусков осталось."
   ]
  },
  {
   "cell_type": "code",
   "execution_count": 42,
   "metadata": {
    "colab": {
     "base_uri": "https://localhost:8080/"
    },
    "id": "cP912_2N9AbJ",
    "outputId": "b76981d1-16a9-4e9a-c752-34ea1c3cb371"
   },
   "outputs": [
    {
     "name": "stdout",
     "output_type": "stream",
     "text": [
      "Доля пропусков в столбце \"vehicle_type\" равна 4.0% и составляет 11788 пропусков\n",
      "Доля пропусков в столбце \"gearbox\" равна 1.9% и составляет 5578 пропусков\n",
      "Доля пропусков в столбце \"model\" равна 3.9% и составляет 11549 пропусков\n"
     ]
    }
   ],
   "source": [
    "for i in df.columns:\n",
    "    if df[i].isna().sum() > 0:\n",
    "        print(f'''Доля пропусков в столбце \"{df[i].name}\" равна {df[i].isna().sum() / len(df[i]):.1%} и составляет {\n",
    "df[i].isna().sum()} пропусков''')"
   ]
  },
  {
   "cell_type": "markdown",
   "metadata": {
    "id": "6dJL1j_n9AbK"
   },
   "source": [
    "Пройдёмся по каждому признаку. Посмотрим, насколько он важен, и можно ли его заполнить.\n",
    "\n",
    "При очистке данных от пропусков стоит выбор между полным удалением объектов с пропусками(мы не можем на основе других параметров объекта достоверно восстановить упущенную информацию). Удаление объектов с пропусками привело бы к потере около 8% данных, что критично. Замеим пропуски на `unknown`."
   ]
  },
  {
   "cell_type": "code",
   "execution_count": 43,
   "metadata": {
    "colab": {
     "base_uri": "https://localhost:8080/"
    },
    "id": "nPAWRdpX9AbK",
    "outputId": "20a677b2-73ce-45bb-db7f-781ebfcaa92b"
   },
   "outputs": [
    {
     "data": {
      "text/plain": [
       "array(['coupe', 'suv', 'small', 'sedan', 'convertible', 'bus', 'wagon',\n",
       "       nan, 'other'], dtype=object)"
      ]
     },
     "execution_count": 43,
     "metadata": {},
     "output_type": "execute_result"
    }
   ],
   "source": [
    "# посмотрим какие есть типы кузова\n",
    "df.vehicle_type.unique()"
   ]
  },
  {
   "cell_type": "code",
   "execution_count": 44,
   "metadata": {
    "colab": {
     "base_uri": "https://localhost:8080/"
    },
    "id": "Mfantijk9AbL",
    "outputId": "e89992f0-0e16-4244-8df7-7e7514f10814"
   },
   "outputs": [
    {
     "data": {
      "text/plain": [
       "array(['manual', 'auto', nan], dtype=object)"
      ]
     },
     "execution_count": 44,
     "metadata": {},
     "output_type": "execute_result"
    }
   ],
   "source": [
    "# посмотрим какие есть типы коробки передач\n",
    "df.gearbox.unique()"
   ]
  },
  {
   "cell_type": "code",
   "execution_count": 45,
   "metadata": {
    "colab": {
     "base_uri": "https://localhost:8080/"
    },
    "id": "S1IoLJkG9AbL",
    "outputId": "7a1f61e3-ec66-449e-c16c-04a4801b4060"
   },
   "outputs": [
    {
     "data": {
      "text/plain": [
       "price                 0\n",
       "vehicle_type          0\n",
       "registration_year     0\n",
       "gearbox               0\n",
       "power                 0\n",
       "model                 0\n",
       "kilometer             0\n",
       "registration_month    0\n",
       "fuel_type             0\n",
       "brand                 0\n",
       "not_repaired          0\n",
       "postal_code           0\n",
       "day_pub               0\n",
       "dtype: int64"
      ]
     },
     "execution_count": 45,
     "metadata": {},
     "output_type": "execute_result"
    }
   ],
   "source": [
    "# заменяем пропуски на unknown\n",
    "df.vehicle_type = df.vehicle_type.fillna('unknown')\n",
    "df.gearbox = df.gearbox.fillna('unknown')\n",
    "df.model = df.model.fillna('unknown')\n",
    "df.isna().sum()"
   ]
  },
  {
   "cell_type": "code",
   "execution_count": 46,
   "metadata": {
    "colab": {
     "base_uri": "https://localhost:8080/"
    },
    "id": "EDa0_uww9AbM",
    "outputId": "b014732f-9a6f-4092-bc4b-0243d8dd35f7"
   },
   "outputs": [
    {
     "name": "stdout",
     "output_type": "stream",
     "text": [
      "Выбросов (нулевых значений) в столбце цены - 6171, что состаавляет 2.1%\n",
      "Удалим их.\n"
     ]
    }
   ],
   "source": [
    "print(f'Выбросов (нулевых значений) в столбце цены - {df.price[df.price == 0].count()}, что состаавляет {df.price[df.price == 0].count() / len(df):.1%}\\nУдалим их.')"
   ]
  },
  {
   "cell_type": "code",
   "execution_count": 47,
   "metadata": {},
   "outputs": [],
   "source": [
    "df = df[df.price > 0]"
   ]
  },
  {
   "cell_type": "code",
   "execution_count": 48,
   "metadata": {
    "colab": {
     "base_uri": "https://localhost:8080/",
     "height": 283
    },
    "id": "AD-nNfV57SIN",
    "outputId": "40406425-30c2-4c50-908c-46bb88690b71"
   },
   "outputs": [
    {
     "data": {
      "text/plain": [
       "<AxesSubplot:>"
      ]
     },
     "execution_count": 48,
     "metadata": {},
     "output_type": "execute_result"
    },
    {
     "data": {
      "image/png": "[encoded data removed]",
      "text/plain": [
       "<Figure size 432x288 with 1 Axes>"
      ]
     },
     "metadata": {},
     "output_type": "display_data"
    }
   ],
   "source": [
    "df.price.hist(bins=50)"
   ]
  },
  {
   "cell_type": "markdown",
   "metadata": {
    "id": "t12CPm3l7SIO"
   },
   "source": [
    "500 евро - это около 34 тыс. руб. - цена нашего видавшего вида жигули :)  \n",
    "Вряд ли за рубежом есть цены ниже этой.  \n",
    "Требуется провести исследование по факту высокой доли нулей в целевой переменной."
   ]
  },
  {
   "cell_type": "code",
   "execution_count": 49,
   "metadata": {
    "colab": {
     "base_uri": "https://localhost:8080/",
     "height": 283
    },
    "id": "gZDLDK4K7SIO",
    "outputId": "124c8211-ac58-496c-9062-04c59bba5b94"
   },
   "outputs": [
    {
     "data": {
      "image/png": "[encoded data removed]",
      "text/plain": [
       "<Figure size 1296x360 with 2 Axes>"
      ]
     },
     "metadata": {},
     "output_type": "display_data"
    }
   ],
   "source": [
    "fig, (ax1, ax2) = plt.subplots(\n",
    "    nrows=1, ncols=2,\n",
    "    figsize=(18, 5)\n",
    ")\n",
    " \n",
    "ax1.hist(df.price, bins=50, range=(0, 1000))\n",
    "ax1.set_title('Гистограмма распределения стоимости автомобиля (0-1000)')\n",
    "ax1.set_xlabel('$Стоимость$')\n",
    "ax1.set_ylabel('$Частота$')\n",
    " \n",
    "ax2.hist(df.price, bins=50, range=(0, 500))\n",
    "ax2.set_title('Гистограмма распределения стоимости автомобиля (0-500)')\n",
    "ax2.set_xlabel('$Стоимость$')\n",
    "ax2.set_ylabel('$Частота$')\n",
    "\n",
    "plt.show()"
   ]
  },
  {
   "cell_type": "code",
   "execution_count": 50,
   "metadata": {},
   "outputs": [
    {
     "name": "stdout",
     "output_type": "stream",
     "text": [
      "Шаг цены, в основном, 100евро. \n",
      "Авто с шагом в 50 ервро в разы меньше. \n",
      "Количество продаваемых авто по цене менее 500евро - 16700, что составляет 6% от всех данных.\n",
      "Удалим их.\n"
     ]
    }
   ],
   "source": [
    "print(f'''Шаг цены, в основном, 100евро. \n",
    "Авто с шагом в 50 ервро в разы меньше. \n",
    "Количество продаваемых авто по цене менее 500евро - {df.price[df.price < 500].count()}, что составляет {df.price[df.price < 500].count() / df.shape[0]:.0%} от всех данных.\\nУдалим их.''')"
   ]
  },
  {
   "cell_type": "code",
   "execution_count": 51,
   "metadata": {
    "id": "hw63j1vV9AbN"
   },
   "outputs": [],
   "source": [
    "df = df[df.price >= 500].dropna()"
   ]
  },
  {
   "cell_type": "code",
   "execution_count": 52,
   "metadata": {
    "colab": {
     "base_uri": "https://localhost:8080/"
    },
    "id": "n89vb16M9AbN",
    "outputId": "5ab148fe-f102-487e-f3ec-e1a0a3924d97",
    "scrolled": true
   },
   "outputs": [
    {
     "name": "stdout",
     "output_type": "stream",
     "text": [
      "<class 'pandas.core.frame.DataFrame'>\n",
      "Int64Index: 269658 entries, 1 to 354368\n",
      "Data columns (total 13 columns):\n",
      " #   Column              Non-Null Count   Dtype \n",
      "---  ------              --------------   ----- \n",
      " 0   price               269658 non-null  int64 \n",
      " 1   vehicle_type        269658 non-null  object\n",
      " 2   registration_year   269658 non-null  int64 \n",
      " 3   gearbox             269658 non-null  object\n",
      " 4   power               269658 non-null  int64 \n",
      " 5   model               269658 non-null  object\n",
      " 6   kilometer           269658 non-null  int64 \n",
      " 7   registration_month  269658 non-null  int64 \n",
      " 8   fuel_type           269658 non-null  object\n",
      " 9   brand               269658 non-null  object\n",
      " 10  not_repaired        269658 non-null  object\n",
      " 11  postal_code         269658 non-null  int64 \n",
      " 12  day_pub             269658 non-null  int64 \n",
      "dtypes: int64(7), object(6)\n",
      "memory usage: 28.8+ MB\n"
     ]
    }
   ],
   "source": [
    "df.info()"
   ]
  },
  {
   "cell_type": "code",
   "execution_count": 53,
   "metadata": {
    "colab": {
     "base_uri": "https://localhost:8080/"
    },
    "id": "QbmrubiF7SIR",
    "outputId": "227c676a-08f7-4bea-b554-06d75a024da9"
   },
   "outputs": [
    {
     "data": {
      "text/plain": [
       "Index(['price', 'vehicle_type', 'registration_year', 'gearbox', 'power',\n",
       "       'model', 'kilometer', 'registration_month', 'fuel_type', 'brand',\n",
       "       'not_repaired', 'postal_code', 'day_pub'],\n",
       "      dtype='object')"
      ]
     },
     "execution_count": 53,
     "metadata": {},
     "output_type": "execute_result"
    }
   ],
   "source": [
    "df.columns"
   ]
  },
  {
   "cell_type": "code",
   "execution_count": 54,
   "metadata": {
    "id": "JoAQvLuP9AbO"
   },
   "outputs": [],
   "source": [
    "df = df[['price', 'brand', 'model', 'gearbox', 'fuel_type', 'vehicle_type', 'registration_month', 'registration_year','power',\n",
    "         'kilometer', 'not_repaired', 'postal_code', 'day_pub']]"
   ]
  },
  {
   "cell_type": "code",
   "execution_count": 55,
   "metadata": {
    "colab": {
     "base_uri": "https://localhost:8080/"
    },
    "id": "GvyTOslp9AbO",
    "outputId": "82fc2c21-30b6-48f4-db72-136ed463571e",
    "scrolled": true
   },
   "outputs": [
    {
     "name": "stdout",
     "output_type": "stream",
     "text": [
      "<class 'pandas.core.frame.DataFrame'>\n",
      "Int64Index: 269658 entries, 1 to 354368\n",
      "Data columns (total 13 columns):\n",
      " #   Column              Non-Null Count   Dtype \n",
      "---  ------              --------------   ----- \n",
      " 0   price               269658 non-null  int64 \n",
      " 1   brand               269658 non-null  object\n",
      " 2   model               269658 non-null  object\n",
      " 3   gearbox             269658 non-null  object\n",
      " 4   fuel_type           269658 non-null  object\n",
      " 5   vehicle_type        269658 non-null  object\n",
      " 6   registration_month  269658 non-null  int64 \n",
      " 7   registration_year   269658 non-null  int64 \n",
      " 8   power               269658 non-null  int64 \n",
      " 9   kilometer           269658 non-null  int64 \n",
      " 10  not_repaired        269658 non-null  object\n",
      " 11  postal_code         269658 non-null  int64 \n",
      " 12  day_pub             269658 non-null  int64 \n",
      "dtypes: int64(7), object(6)\n",
      "memory usage: 28.8+ MB\n"
     ]
    }
   ],
   "source": [
    "df.info()"
   ]
  },
  {
   "cell_type": "code",
   "execution_count": 56,
   "metadata": {
    "colab": {
     "base_uri": "https://localhost:8080/",
     "height": 405
    },
    "id": "nhPBx8_G9AbP",
    "outputId": "7a217dc4-5624-4269-a0ca-4b277086b6ca",
    "scrolled": false
   },
   "outputs": [],
   "source": [
    "# уменьшим обращение данных к памяти\n",
    "#numeric_columns = ['price', 'registration_month', 'registration_year', 'power', 'kilometer', 'postal_code', 'day_pub']\n",
    "#for col in df[numeric_columns]:\n",
    "#    df[col] = pd.to_numeric(df[col], downcast='unsigned')\n",
    "    \n",
    "#display(df.info())"
   ]
  },
  {
   "cell_type": "code",
   "execution_count": 57,
   "metadata": {
    "colab": {
     "base_uri": "https://localhost:8080/",
     "height": 289
    },
    "id": "H9DdVRjh9AbP",
    "outputId": "ae8930fa-e101-46c3-e93b-8c1be42ac800"
   },
   "outputs": [],
   "source": [
    "#print(f'Уменьшение использования памяти на {1 - 15.3 / 23.9:.2%}')\n",
    "#df.head()"
   ]
  },
  {
   "cell_type": "code",
   "execution_count": 58,
   "metadata": {
    "colab": {
     "base_uri": "https://localhost:8080/"
    },
    "id": "-0J48jbg9AbQ",
    "outputId": "be810ab1-2d02-45cc-be85-483a8db72a02",
    "scrolled": true
   },
   "outputs": [
    {
     "name": "stdout",
     "output_type": "stream",
     "text": [
      "\n",
      "Мы удалили незначимые столбцы.\n",
      "Проверим дубликаты заново, ведь одно и тоже обьявление могло подаваться несколько раз с разных аккаунтов.\n",
      "Количетво дубликатов: 2\n",
      "Что составляет 0.0%\n",
      "\n"
     ]
    }
   ],
   "source": [
    "print(f'''\n",
    "Мы удалили незначимые столбцы.\n",
    "Проверим дубликаты заново, ведь одно и тоже обьявление могло подаваться несколько раз с разных аккаунтов.\n",
    "Количетво дубликатов: {df.duplicated().sum()}\n",
    "Что составляет {df.duplicated().sum() / df.shape[0]:.1%}\n",
    "''')"
   ]
  },
  {
   "cell_type": "code",
   "execution_count": 59,
   "metadata": {
    "id": "bRo9XMfW7SIU"
   },
   "outputs": [],
   "source": [
    "df.drop_duplicates(inplace=True)"
   ]
  },
  {
   "cell_type": "code",
   "execution_count": 60,
   "metadata": {
    "colab": {
     "base_uri": "https://localhost:8080/"
    },
    "id": "ocPROZpk9AbR",
    "outputId": "faad3886-e5e6-4f69-9109-337fba44ceae"
   },
   "outputs": [
    {
     "data": {
      "text/plain": [
       "0"
      ]
     },
     "execution_count": 60,
     "metadata": {},
     "output_type": "execute_result"
    }
   ],
   "source": [
    "df.duplicated().sum()"
   ]
  },
  {
   "cell_type": "code",
   "execution_count": 61,
   "metadata": {
    "colab": {
     "base_uri": "https://localhost:8080/",
     "height": 577
    },
    "id": "c2W00jst9AbR",
    "outputId": "a0b75276-8e5b-4f6e-dc5c-8eb27205714c"
   },
   "outputs": [
    {
     "data": {
      "text/html": [
       "<div>\n",
       "<style scoped>\n",
       "    .dataframe tbody tr th:only-of-type {\n",
       "        vertical-align: middle;\n",
       "    }\n",
       "\n",
       "    .dataframe tbody tr th {\n",
       "        vertical-align: top;\n",
       "    }\n",
       "\n",
       "    .dataframe thead th {\n",
       "        text-align: right;\n",
       "    }\n",
       "</style>\n",
       "<table border=\"1\" class=\"dataframe\">\n",
       "  <thead>\n",
       "    <tr style=\"text-align: right;\">\n",
       "      <th></th>\n",
       "      <th>price</th>\n",
       "      <th>brand</th>\n",
       "      <th>model</th>\n",
       "      <th>gearbox</th>\n",
       "      <th>fuel_type</th>\n",
       "      <th>vehicle_type</th>\n",
       "      <th>registration_month</th>\n",
       "      <th>registration_year</th>\n",
       "      <th>power</th>\n",
       "      <th>kilometer</th>\n",
       "      <th>not_repaired</th>\n",
       "      <th>postal_code</th>\n",
       "      <th>day_pub</th>\n",
       "    </tr>\n",
       "  </thead>\n",
       "  <tbody>\n",
       "    <tr>\n",
       "      <th>233781</th>\n",
       "      <td>1599</td>\n",
       "      <td>chrysler</td>\n",
       "      <td>grand</td>\n",
       "      <td>auto</td>\n",
       "      <td>petrol</td>\n",
       "      <td>bus</td>\n",
       "      <td>7</td>\n",
       "      <td>1998</td>\n",
       "      <td>182</td>\n",
       "      <td>150000</td>\n",
       "      <td>no</td>\n",
       "      <td>84405</td>\n",
       "      <td>21</td>\n",
       "    </tr>\n",
       "    <tr>\n",
       "      <th>37003</th>\n",
       "      <td>4000</td>\n",
       "      <td>toyota</td>\n",
       "      <td>yaris</td>\n",
       "      <td>manual</td>\n",
       "      <td>petrol</td>\n",
       "      <td>small</td>\n",
       "      <td>6</td>\n",
       "      <td>2004</td>\n",
       "      <td>105</td>\n",
       "      <td>100000</td>\n",
       "      <td>no</td>\n",
       "      <td>97772</td>\n",
       "      <td>29</td>\n",
       "    </tr>\n",
       "    <tr>\n",
       "      <th>326550</th>\n",
       "      <td>1100</td>\n",
       "      <td>bmw</td>\n",
       "      <td>3er</td>\n",
       "      <td>manual</td>\n",
       "      <td>petrol</td>\n",
       "      <td>coupe</td>\n",
       "      <td>2</td>\n",
       "      <td>1994</td>\n",
       "      <td>150</td>\n",
       "      <td>150000</td>\n",
       "      <td>no</td>\n",
       "      <td>72764</td>\n",
       "      <td>29</td>\n",
       "    </tr>\n",
       "  </tbody>\n",
       "</table>\n",
       "</div>"
      ],
      "text/plain": [
       "        price     brand  model gearbox fuel_type vehicle_type  \\\n",
       "233781   1599  chrysler  grand    auto    petrol          bus   \n",
       "37003    4000    toyota  yaris  manual    petrol        small   \n",
       "326550   1100       bmw    3er  manual    petrol        coupe   \n",
       "\n",
       "        registration_month  registration_year  power  kilometer not_repaired  \\\n",
       "233781                   7               1998    182     150000           no   \n",
       "37003                    6               2004    105     100000           no   \n",
       "326550                   2               1994    150     150000           no   \n",
       "\n",
       "        postal_code  day_pub  \n",
       "233781        84405       21  \n",
       "37003         97772       29  \n",
       "326550        72764       29  "
      ]
     },
     "metadata": {},
     "output_type": "display_data"
    },
    {
     "name": "stdout",
     "output_type": "stream",
     "text": [
      "<class 'pandas.core.frame.DataFrame'>\n",
      "Int64Index: 269656 entries, 1 to 354368\n",
      "Data columns (total 13 columns):\n",
      " #   Column              Non-Null Count   Dtype \n",
      "---  ------              --------------   ----- \n",
      " 0   price               269656 non-null  int64 \n",
      " 1   brand               269656 non-null  object\n",
      " 2   model               269656 non-null  object\n",
      " 3   gearbox             269656 non-null  object\n",
      " 4   fuel_type           269656 non-null  object\n",
      " 5   vehicle_type        269656 non-null  object\n",
      " 6   registration_month  269656 non-null  int64 \n",
      " 7   registration_year   269656 non-null  int64 \n",
      " 8   power               269656 non-null  int64 \n",
      " 9   kilometer           269656 non-null  int64 \n",
      " 10  not_repaired        269656 non-null  object\n",
      " 11  postal_code         269656 non-null  int64 \n",
      " 12  day_pub             269656 non-null  int64 \n",
      "dtypes: int64(7), object(6)\n",
      "memory usage: 28.8+ MB\n"
     ]
    }
   ],
   "source": [
    "display(df.sample(3))\n",
    "df.info()"
   ]
  },
  {
   "cell_type": "code",
   "execution_count": 62,
   "metadata": {
    "colab": {
     "base_uri": "https://localhost:8080/"
    },
    "id": "FRre6M399AbS",
    "outputId": "530ced43-67ce-414e-b79f-cd386e190914"
   },
   "outputs": [
    {
     "name": "stdout",
     "output_type": "stream",
     "text": [
      "\n",
      "Уменьшили размер таблицы на 84713 строк (23.9%)\n",
      "Уменьшили использования памяти на 64.7%\n"
     ]
    }
   ],
   "source": [
    "print(f'''\n",
    "Уменьшили размер таблицы на {shape - df.shape[0]} строк ({1 - df.shape[0] / shape:.1%})\n",
    "Уменьшили использования памяти на {1 - 15.3 / 43.3:.1%}''')\n",
    "\n",
    "# удалим временные перемнные\n",
    "del (shape)"
   ]
  },
  {
   "cell_type": "markdown",
   "metadata": {
    "id": "NfSkAttD9AbT"
   },
   "source": [
    "**Вывод**\n",
    "\n",
    "1. Изменили названия столбцов в соответствии с правилами оформления.\n",
    "2. Создали столбец\t`day_pub` из столбца `date_created`, а его удалили. Удалили столбцы `datecrawled`, `numberofpictures`, `lastseen` за ненадобностью.\n",
    "3. Удалили около 7% дубликатов.\n",
    "4. Удалили выбросы из столбцов мощьности и года регистрации.\n",
    "5. Пропуски в `brand`, `model`, `gearbox`, `fuel_type`, `vehicle_type` и `not_repaired` заменили на `unknown`, так как не было возможности достоверно восстановить данные.\n",
    "6. Нулевые  и неадекватно низкие значения стоимости удалили."
   ]
  },
  {
   "cell_type": "markdown",
   "metadata": {
    "id": "o5Rr6_Ih9AbT"
   },
   "source": [
    "## Кодирование признаков"
   ]
  },
  {
   "cell_type": "markdown",
   "metadata": {
    "id": "62KxYsCC9AbU"
   },
   "source": [
    "Сейчас почти все категориальные признаки имеют строковый тип. Это читаемо для исследовательского анализа, но не очень подходит для машинного обучения.\n",
    "\n",
    "Учитывая, что в catboost есть встроенное кодирование, и, зачастую, оно позволяет достичь лучших результатов, то сделаем 3 выборки:\n",
    "1. Сохраним категориальные переменные, как есть для catboost и lgbm.\n",
    "```python\n",
    "catboost_data = df.copy\n",
    "```\n",
    "2. Закодируем всё с помощью OHE.\n",
    "```python\n",
    "OHE_data = df.copy\n",
    "```\n",
    "3. Закодируем всё с помощью OrdinalEncoder.\n",
    "```python\n",
    "OE_data = df.copy\n",
    "```\n",
    "В итоге проверим модель на всех выборках и поймём, где лучше."
   ]
  },
  {
   "cell_type": "code",
   "execution_count": 63,
   "metadata": {
    "id": "aqbI95lR9AbV"
   },
   "outputs": [],
   "source": [
    "catboost_data = df.copy()\n",
    "OHE_data = df.copy()\n",
    "OE_data = df.copy()"
   ]
  },
  {
   "cell_type": "code",
   "execution_count": 64,
   "metadata": {
    "colab": {
     "base_uri": "https://localhost:8080/"
    },
    "id": "atN0yBPENHx8",
    "outputId": "5d7bbd44-a028-4c71-fd26-f2737a0822bf"
   },
   "outputs": [
    {
     "name": "stdout",
     "output_type": "stream",
     "text": [
      "<class 'pandas.core.frame.DataFrame'>\n",
      "Int64Index: 269656 entries, 1 to 354368\n",
      "Data columns (total 13 columns):\n",
      " #   Column              Non-Null Count   Dtype   \n",
      "---  ------              --------------   -----   \n",
      " 0   price               269656 non-null  int64   \n",
      " 1   brand               269656 non-null  category\n",
      " 2   model               269656 non-null  category\n",
      " 3   gearbox             269656 non-null  category\n",
      " 4   fuel_type           269656 non-null  category\n",
      " 5   vehicle_type        269656 non-null  category\n",
      " 6   registration_month  269656 non-null  int64   \n",
      " 7   registration_year   269656 non-null  int64   \n",
      " 8   power               269656 non-null  int64   \n",
      " 9   kilometer           269656 non-null  int64   \n",
      " 10  not_repaired        269656 non-null  category\n",
      " 11  postal_code         269656 non-null  category\n",
      " 12  day_pub             269656 non-null  int64   \n",
      "dtypes: category(7), int64(6)\n",
      "memory usage: 17.0 MB\n"
     ]
    }
   ],
   "source": [
    "# столбцы с категориями\n",
    "cat_columns = ['brand', 'model', 'gearbox', 'fuel_type', 'vehicle_type', 'not_repaired', 'postal_code']\n",
    "catboost_data[cat_columns] = catboost_data[cat_columns].astype('category')\n",
    "catboost_data.info()"
   ]
  },
  {
   "cell_type": "markdown",
   "metadata": {
    "id": "3EkLFNfN9AbW"
   },
   "source": [
    "### OHE_data"
   ]
  },
  {
   "cell_type": "code",
   "execution_count": 65,
   "metadata": {
    "id": "oLriqSU99AbX"
   },
   "outputs": [],
   "source": [
    "OHE_data = pd.get_dummies(OHE_data, drop_first=True)"
   ]
  },
  {
   "cell_type": "code",
   "execution_count": 66,
   "metadata": {
    "colab": {
     "base_uri": "https://localhost:8080/",
     "height": 237
    },
    "id": "nHLmVp-F9AbX",
    "outputId": "54395daa-3008-405d-e7fb-1f1a6dd4c1ba",
    "scrolled": true
   },
   "outputs": [
    {
     "data": {
      "text/html": [
       "<div>\n",
       "<style scoped>\n",
       "    .dataframe tbody tr th:only-of-type {\n",
       "        vertical-align: middle;\n",
       "    }\n",
       "\n",
       "    .dataframe tbody tr th {\n",
       "        vertical-align: top;\n",
       "    }\n",
       "\n",
       "    .dataframe thead th {\n",
       "        text-align: right;\n",
       "    }\n",
       "</style>\n",
       "<table border=\"1\" class=\"dataframe\">\n",
       "  <thead>\n",
       "    <tr style=\"text-align: right;\">\n",
       "      <th></th>\n",
       "      <th>price</th>\n",
       "      <th>registration_month</th>\n",
       "      <th>registration_year</th>\n",
       "      <th>power</th>\n",
       "      <th>kilometer</th>\n",
       "      <th>postal_code</th>\n",
       "      <th>day_pub</th>\n",
       "      <th>brand_audi</th>\n",
       "      <th>brand_bmw</th>\n",
       "      <th>brand_chevrolet</th>\n",
       "      <th>...</th>\n",
       "      <th>vehicle_type_convertible</th>\n",
       "      <th>vehicle_type_coupe</th>\n",
       "      <th>vehicle_type_other</th>\n",
       "      <th>vehicle_type_sedan</th>\n",
       "      <th>vehicle_type_small</th>\n",
       "      <th>vehicle_type_suv</th>\n",
       "      <th>vehicle_type_unknown</th>\n",
       "      <th>vehicle_type_wagon</th>\n",
       "      <th>not_repaired_unknown</th>\n",
       "      <th>not_repaired_yes</th>\n",
       "    </tr>\n",
       "  </thead>\n",
       "  <tbody>\n",
       "    <tr>\n",
       "      <th>1</th>\n",
       "      <td>18300</td>\n",
       "      <td>5</td>\n",
       "      <td>2011</td>\n",
       "      <td>190</td>\n",
       "      <td>125000</td>\n",
       "      <td>66954</td>\n",
       "      <td>24</td>\n",
       "      <td>1</td>\n",
       "      <td>0</td>\n",
       "      <td>0</td>\n",
       "      <td>...</td>\n",
       "      <td>0</td>\n",
       "      <td>1</td>\n",
       "      <td>0</td>\n",
       "      <td>0</td>\n",
       "      <td>0</td>\n",
       "      <td>0</td>\n",
       "      <td>0</td>\n",
       "      <td>0</td>\n",
       "      <td>0</td>\n",
       "      <td>1</td>\n",
       "    </tr>\n",
       "    <tr>\n",
       "      <th>2</th>\n",
       "      <td>9800</td>\n",
       "      <td>8</td>\n",
       "      <td>2004</td>\n",
       "      <td>163</td>\n",
       "      <td>125000</td>\n",
       "      <td>90480</td>\n",
       "      <td>14</td>\n",
       "      <td>0</td>\n",
       "      <td>0</td>\n",
       "      <td>0</td>\n",
       "      <td>...</td>\n",
       "      <td>0</td>\n",
       "      <td>0</td>\n",
       "      <td>0</td>\n",
       "      <td>0</td>\n",
       "      <td>0</td>\n",
       "      <td>1</td>\n",
       "      <td>0</td>\n",
       "      <td>0</td>\n",
       "      <td>1</td>\n",
       "      <td>0</td>\n",
       "    </tr>\n",
       "    <tr>\n",
       "      <th>3</th>\n",
       "      <td>1500</td>\n",
       "      <td>6</td>\n",
       "      <td>2001</td>\n",
       "      <td>75</td>\n",
       "      <td>150000</td>\n",
       "      <td>91074</td>\n",
       "      <td>17</td>\n",
       "      <td>0</td>\n",
       "      <td>0</td>\n",
       "      <td>0</td>\n",
       "      <td>...</td>\n",
       "      <td>0</td>\n",
       "      <td>0</td>\n",
       "      <td>0</td>\n",
       "      <td>0</td>\n",
       "      <td>1</td>\n",
       "      <td>0</td>\n",
       "      <td>0</td>\n",
       "      <td>0</td>\n",
       "      <td>0</td>\n",
       "      <td>0</td>\n",
       "    </tr>\n",
       "  </tbody>\n",
       "</table>\n",
       "<p>3 rows × 314 columns</p>\n",
       "</div>"
      ],
      "text/plain": [
       "   price  registration_month  registration_year  power  kilometer  \\\n",
       "1  18300                   5               2011    190     125000   \n",
       "2   9800                   8               2004    163     125000   \n",
       "3   1500                   6               2001     75     150000   \n",
       "\n",
       "   postal_code  day_pub  brand_audi  brand_bmw  brand_chevrolet  ...  \\\n",
       "1        66954       24           1          0                0  ...   \n",
       "2        90480       14           0          0                0  ...   \n",
       "3        91074       17           0          0                0  ...   \n",
       "\n",
       "   vehicle_type_convertible  vehicle_type_coupe  vehicle_type_other  \\\n",
       "1                         0                   1                   0   \n",
       "2                         0                   0                   0   \n",
       "3                         0                   0                   0   \n",
       "\n",
       "   vehicle_type_sedan  vehicle_type_small  vehicle_type_suv  \\\n",
       "1                   0                   0                 0   \n",
       "2                   0                   0                 1   \n",
       "3                   0                   1                 0   \n",
       "\n",
       "   vehicle_type_unknown  vehicle_type_wagon  not_repaired_unknown  \\\n",
       "1                     0                   0                     0   \n",
       "2                     0                   0                     1   \n",
       "3                     0                   0                     0   \n",
       "\n",
       "   not_repaired_yes  \n",
       "1                 1  \n",
       "2                 0  \n",
       "3                 0  \n",
       "\n",
       "[3 rows x 314 columns]"
      ]
     },
     "execution_count": 66,
     "metadata": {},
     "output_type": "execute_result"
    }
   ],
   "source": [
    "OHE_data.head(3)"
   ]
  },
  {
   "cell_type": "code",
   "execution_count": 67,
   "metadata": {
    "colab": {
     "base_uri": "https://localhost:8080/"
    },
    "id": "srQ4szip9AbY",
    "outputId": "fe76090d-950e-4232-b68f-8c90bcf347a4",
    "scrolled": true
   },
   "outputs": [
    {
     "name": "stdout",
     "output_type": "stream",
     "text": [
      "<class 'pandas.core.frame.DataFrame'>\n",
      "Int64Index: 269656 entries, 1 to 354368\n",
      "Columns: 314 entries, price to not_repaired_yes\n",
      "dtypes: int64(7), uint8(307)\n",
      "memory usage: 95.4 MB\n"
     ]
    }
   ],
   "source": [
    "OHE_data.info()"
   ]
  },
  {
   "cell_type": "markdown",
   "metadata": {
    "id": "iWpAFAE87SIb"
   },
   "source": [
    "### OE_data"
   ]
  },
  {
   "cell_type": "code",
   "execution_count": 68,
   "metadata": {
    "id": "V3AFwTGW7SIc"
   },
   "outputs": [],
   "source": [
    "OE_data[cat_columns] = OrdinalEncoder().fit_transform(OE_data[cat_columns])"
   ]
  },
  {
   "cell_type": "code",
   "execution_count": 69,
   "metadata": {
    "colab": {
     "base_uri": "https://localhost:8080/",
     "height": 577
    },
    "id": "yEz8z1C37SIc",
    "outputId": "fb9ec23c-2b48-4d58-eb06-c74fc9054b28",
    "scrolled": true
   },
   "outputs": [
    {
     "data": {
      "text/html": [
       "<div>\n",
       "<style scoped>\n",
       "    .dataframe tbody tr th:only-of-type {\n",
       "        vertical-align: middle;\n",
       "    }\n",
       "\n",
       "    .dataframe tbody tr th {\n",
       "        vertical-align: top;\n",
       "    }\n",
       "\n",
       "    .dataframe thead th {\n",
       "        text-align: right;\n",
       "    }\n",
       "</style>\n",
       "<table border=\"1\" class=\"dataframe\">\n",
       "  <thead>\n",
       "    <tr style=\"text-align: right;\">\n",
       "      <th></th>\n",
       "      <th>price</th>\n",
       "      <th>brand</th>\n",
       "      <th>model</th>\n",
       "      <th>gearbox</th>\n",
       "      <th>fuel_type</th>\n",
       "      <th>vehicle_type</th>\n",
       "      <th>registration_month</th>\n",
       "      <th>registration_year</th>\n",
       "      <th>power</th>\n",
       "      <th>kilometer</th>\n",
       "      <th>not_repaired</th>\n",
       "      <th>postal_code</th>\n",
       "      <th>day_pub</th>\n",
       "    </tr>\n",
       "  </thead>\n",
       "  <tbody>\n",
       "    <tr>\n",
       "      <th>1</th>\n",
       "      <td>18300</td>\n",
       "      <td>1.0</td>\n",
       "      <td>227.0</td>\n",
       "      <td>1.0</td>\n",
       "      <td>2.0</td>\n",
       "      <td>2.0</td>\n",
       "      <td>5</td>\n",
       "      <td>2011</td>\n",
       "      <td>190</td>\n",
       "      <td>125000</td>\n",
       "      <td>2.0</td>\n",
       "      <td>4589.0</td>\n",
       "      <td>24</td>\n",
       "    </tr>\n",
       "    <tr>\n",
       "      <th>2</th>\n",
       "      <td>9800</td>\n",
       "      <td>14.0</td>\n",
       "      <td>117.0</td>\n",
       "      <td>0.0</td>\n",
       "      <td>2.0</td>\n",
       "      <td>6.0</td>\n",
       "      <td>8</td>\n",
       "      <td>2004</td>\n",
       "      <td>163</td>\n",
       "      <td>125000</td>\n",
       "      <td>1.0</td>\n",
       "      <td>6962.0</td>\n",
       "      <td>14</td>\n",
       "    </tr>\n",
       "    <tr>\n",
       "      <th>3</th>\n",
       "      <td>1500</td>\n",
       "      <td>38.0</td>\n",
       "      <td>116.0</td>\n",
       "      <td>1.0</td>\n",
       "      <td>6.0</td>\n",
       "      <td>5.0</td>\n",
       "      <td>6</td>\n",
       "      <td>2001</td>\n",
       "      <td>75</td>\n",
       "      <td>150000</td>\n",
       "      <td>0.0</td>\n",
       "      <td>7002.0</td>\n",
       "      <td>17</td>\n",
       "    </tr>\n",
       "  </tbody>\n",
       "</table>\n",
       "</div>"
      ],
      "text/plain": [
       "   price  brand  model  gearbox  fuel_type  vehicle_type  registration_month  \\\n",
       "1  18300    1.0  227.0      1.0        2.0           2.0                   5   \n",
       "2   9800   14.0  117.0      0.0        2.0           6.0                   8   \n",
       "3   1500   38.0  116.0      1.0        6.0           5.0                   6   \n",
       "\n",
       "   registration_year  power  kilometer  not_repaired  postal_code  day_pub  \n",
       "1               2011    190     125000           2.0       4589.0       24  \n",
       "2               2004    163     125000           1.0       6962.0       14  \n",
       "3               2001     75     150000           0.0       7002.0       17  "
      ]
     },
     "metadata": {},
     "output_type": "display_data"
    },
    {
     "name": "stdout",
     "output_type": "stream",
     "text": [
      "<class 'pandas.core.frame.DataFrame'>\n",
      "Int64Index: 269656 entries, 1 to 354368\n",
      "Data columns (total 13 columns):\n",
      " #   Column              Non-Null Count   Dtype  \n",
      "---  ------              --------------   -----  \n",
      " 0   price               269656 non-null  int64  \n",
      " 1   brand               269656 non-null  float64\n",
      " 2   model               269656 non-null  float64\n",
      " 3   gearbox             269656 non-null  float64\n",
      " 4   fuel_type           269656 non-null  float64\n",
      " 5   vehicle_type        269656 non-null  float64\n",
      " 6   registration_month  269656 non-null  int64  \n",
      " 7   registration_year   269656 non-null  int64  \n",
      " 8   power               269656 non-null  int64  \n",
      " 9   kilometer           269656 non-null  int64  \n",
      " 10  not_repaired        269656 non-null  float64\n",
      " 11  postal_code         269656 non-null  float64\n",
      " 12  day_pub             269656 non-null  int64  \n",
      "dtypes: float64(7), int64(6)\n",
      "memory usage: 28.8 MB\n"
     ]
    }
   ],
   "source": [
    "display(OE_data.head(3))\n",
    "OE_data.info()"
   ]
  },
  {
   "cell_type": "markdown",
   "metadata": {
    "id": "7pfb80s29AbY"
   },
   "source": [
    "## Обучение моделей"
   ]
  },
  {
   "cell_type": "markdown",
   "metadata": {
    "id": "uc1MDL1x9AbZ"
   },
   "source": [
    "Выберем следующие регрессоры для обучения модели:\n",
    "\n",
    "- LinearRegression  \n",
    "- Ridge  \n",
    "- DecisionTreeRegressor  \n",
    "- Lasso\n",
    "- RabdomForestRegressor\n",
    "- CatBoostRegressor\n",
    "- LGBMRegressor\n",
    "\n",
    "В качестве метрики для всех моделей будем использовать MSE и в финальной таблице переведем в RMSE. Качество моделей будем проверять на кроссвалидации.\n",
    "\n",
    "Подготовим 2 типа признаков для кроссвалидации:\n",
    "\n",
    "1. Неизмененные: `catboost_data`\n",
    "2. Закодированные методом OHE: `OHE_data`\n",
    "3. Закодированные методом OrdinalEncoder: `OE_data`"
   ]
  },
  {
   "cell_type": "markdown",
   "metadata": {
    "id": "sdzrQgdF9Aba"
   },
   "source": [
    "### Разделение данных на выборки"
   ]
  },
  {
   "cell_type": "code",
   "execution_count": 70,
   "metadata": {
    "id": "VJMtu8DT9Aba"
   },
   "outputs": [],
   "source": [
    "RANDOM_STATE = 8726"
   ]
  },
  {
   "cell_type": "code",
   "execution_count": 71,
   "metadata": {
    "id": "f0lZL5Hi9Aba"
   },
   "outputs": [],
   "source": [
    "# разделим данные на выборки\n",
    "train_catboost, test_catboost, train_OHE, test_OHE, train_OE, test_OE = train_test_split(\n",
    "    catboost_data, OHE_data, OE_data,\n",
    "    random_state=RANDOM_STATE)"
   ]
  },
  {
   "cell_type": "code",
   "execution_count": 72,
   "metadata": {
    "colab": {
     "base_uri": "https://localhost:8080/"
    },
    "id": "jhufrJkn9Abb",
    "outputId": "e204cb7d-6767-46e0-9f8f-e87384fddf8b"
   },
   "outputs": [
    {
     "name": "stdout",
     "output_type": "stream",
     "text": [
      "Размерность неизмененной train_test выборки\n",
      "(202242, 13)\n",
      "(67414, 13)\n",
      "\n",
      "Размерность train_test выборки закодированной OHE\n",
      "(202242, 314)\n",
      "(67414, 314)\n",
      "\n",
      "Размерность train_test выборки закодированной OrdinalEncoder\n",
      "(202242, 13)\n",
      "(67414, 13)\n"
     ]
    }
   ],
   "source": [
    "print('Размерность неизмененной train_test выборки')\n",
    "for a in (train_catboost, test_catboost):\n",
    "    print(a.shape)\n",
    "print('\\nРазмерность train_test выборки закодированной OHE')\n",
    "for a in (train_OHE, test_OHE):\n",
    "    print(a.shape)\n",
    "print('\\nРазмерность train_test выборки закодированной OrdinalEncoder')\n",
    "for a in (train_OE, test_OE):\n",
    "    print(a.shape)\n",
    "    \n",
    "del a"
   ]
  },
  {
   "cell_type": "markdown",
   "metadata": {
    "id": "SlwMbhcD9Abc"
   },
   "source": [
    "Разделение выполнено верно."
   ]
  },
  {
   "cell_type": "code",
   "execution_count": 73,
   "metadata": {
    "id": "xXq_Cn_h9Abd"
   },
   "outputs": [],
   "source": [
    "# catboost выборка\n",
    "x_train_catboost = train_catboost.drop('price', axis=1)\n",
    "y_train_catboost = train_catboost.price\n",
    "\n",
    "x_test_catboost = test_catboost.drop('price', axis=1)\n",
    "y_test_catboost = test_catboost.price\n",
    "\n",
    "# OHE принаки\n",
    "x_train_OHE = train_OHE.drop('price', axis=1)\n",
    "y_train_OHE = train_OHE.price\n",
    "\n",
    "x_test_OHE = test_OHE.drop('price', axis=1)\n",
    "y_test_OHE = test_OHE.price\n",
    "\n",
    "# OrdinalEncoder принаки\n",
    "x_train_OE = train_OE.drop('price', axis=1)\n",
    "y_train_OE = train_OE.price\n",
    "\n",
    "x_test_OE = test_OE.drop('price', axis=1)\n",
    "y_test_OE = test_OE.price"
   ]
  },
  {
   "cell_type": "code",
   "execution_count": 74,
   "metadata": {
    "id": "ozT0vAJB7SIh"
   },
   "outputs": [],
   "source": [
    "folds = StratifiedKFold(n_splits=5,  shuffle=True, random_state=RANDOM_STATE)"
   ]
  },
  {
   "cell_type": "markdown",
   "metadata": {
    "id": "xNWmGsKB9Abe"
   },
   "source": [
    "### Линейная регрессия"
   ]
  },
  {
   "cell_type": "code",
   "execution_count": 75,
   "metadata": {
    "colab": {
     "base_uri": "https://localhost:8080/"
    },
    "id": "G8ASPjQK9Abe",
    "outputId": "e7c22e1a-e822-4d3d-f14c-73cebba27e13"
   },
   "outputs": [
    {
     "name": "stdout",
     "output_type": "stream",
     "text": [
      "RMSE на train выборке\n",
      "\n",
      "RMSE модели на обучающей выборке = 2663.4289540907125\n",
      "\n",
      "CPU times: user 49.3 s, sys: 21 s, total: 1min 10s\n",
      "Wall time: 1min 10s\n"
     ]
    }
   ],
   "source": [
    "%%time\n",
    "\n",
    "start_time = time.time()\n",
    "\n",
    "regressor = LinearRegression()\n",
    "print('RMSE на train выборке')\n",
    "print()\n",
    "cv_RMSE_LR = (cross_val_score(regressor, \n",
    "                             x_train_OHE, \n",
    "                             y_train_OHE, \n",
    "                             cv=folds, \n",
    "                             scoring='neg_mean_squared_error').mean() * -1) ** 0.5\n",
    "\n",
    "current_time = time.time()\n",
    "cv_RMSE_LR_t = current_time-start_time\n",
    "print(f'RMSE модели на обучающей выборке = {cv_RMSE_LR}\\n')"
   ]
  },
  {
   "cell_type": "code",
   "execution_count": 76,
   "metadata": {
    "colab": {
     "base_uri": "https://localhost:8080/"
    },
    "id": "_orEJ_B09Abe",
    "outputId": "c15374a9-87d4-4f62-e788-7962279bd7ca"
   },
   "outputs": [
    {
     "name": "stdout",
     "output_type": "stream",
     "text": [
      "RMSE на train выборке\n",
      "\n",
      "RMSE с использовнием StandardScaler = 956077041.4476415\n",
      "\n",
      "CPU times: user 55.1 s, sys: 23.9 s, total: 1min 18s\n",
      "Wall time: 1min 19s\n"
     ]
    }
   ],
   "source": [
    "%%time\n",
    "\n",
    "start_time = time.time()\n",
    "\n",
    "regressor = LinearRegression()\n",
    "scaller = StandardScaler()\n",
    "pipeline = Pipeline([(\"standard_scaller\", scaller),(\"linear_regression\", regressor)])\n",
    "print('RMSE на train выборке')\n",
    "print()\n",
    "cv_RMSE_LR_S = (cross_val_score(pipeline,\n",
    "                                x_train_OHE, \n",
    "                                y_train_OHE, \n",
    "                                cv=folds, \n",
    "                                scoring='neg_mean_squared_error').mean() * -1) ** 0.5\n",
    "                                \n",
    "current_time = time.time()\n",
    "cv_RMSE_LR_S_t = current_time-start_time\n",
    "print(f'RMSE с использовнием StandardScaler = {cv_RMSE_LR_S}\\n')"
   ]
  },
  {
   "cell_type": "markdown",
   "metadata": {
    "id": "7gs8kXCn9Abf"
   },
   "source": [
    "Масштабирование признаков не сильно повлияло на модель.  \n",
    "Откажемся от применения масштаба."
   ]
  },
  {
   "cell_type": "markdown",
   "metadata": {
    "id": "BoUQvunW9Abg"
   },
   "source": [
    "---"
   ]
  },
  {
   "cell_type": "markdown",
   "metadata": {
    "id": "j-avGZeR9Abg"
   },
   "source": [
    "Проведем обучение модели."
   ]
  },
  {
   "cell_type": "code",
   "execution_count": 77,
   "metadata": {
    "colab": {
     "base_uri": "https://localhost:8080/"
    },
    "id": "BXUGH9QS9Abg",
    "outputId": "1f8e0a16-4b66-4de6-a20c-76eea5466b9d",
    "scrolled": true
   },
   "outputs": [
    {
     "name": "stdout",
     "output_type": "stream",
     "text": [
      "CPU times: user 12.2 s, sys: 4.14 s, total: 16.4 s\n",
      "Wall time: 16.4 s\n"
     ]
    }
   ],
   "source": [
    "%%time\n",
    "\n",
    "start_time = time.time()\n",
    "\n",
    "model = LinearRegression()\n",
    "model.fit(x_train_OHE, y_train_OHE)\n",
    "\n",
    "current_time = time.time()\n",
    "LR_fit_t = current_time-start_time"
   ]
  },
  {
   "cell_type": "code",
   "execution_count": 78,
   "metadata": {
    "colab": {
     "base_uri": "https://localhost:8080/"
    },
    "id": "Gi9WKdJ09Abh",
    "outputId": "25d9c9e6-b35c-4959-d6c2-438a3893e0eb"
   },
   "outputs": [
    {
     "name": "stdout",
     "output_type": "stream",
     "text": [
      "CPU times: user 153 ms, sys: 87.5 ms, total: 241 ms\n",
      "Wall time: 215 ms\n"
     ]
    }
   ],
   "source": [
    "%%time\n",
    "\n",
    "start_time = time.time()\n",
    "\n",
    "target_predict = model.predict(x_test_OHE)\n",
    "\n",
    "current_time = time.time()\n",
    "LR_predict_t = current_time-start_time"
   ]
  },
  {
   "cell_type": "code",
   "execution_count": 79,
   "metadata": {
    "colab": {
     "base_uri": "https://localhost:8080/"
    },
    "id": "aOa6u6kn9Abh",
    "outputId": "0254c0c8-1fc4-40ca-d9c4-9541691d50d3"
   },
   "outputs": [
    {
     "data": {
      "text/plain": [
       "2626.925788276656"
      ]
     },
     "execution_count": 79,
     "metadata": {},
     "output_type": "execute_result"
    }
   ],
   "source": [
    "final_RMSE_LR = mean_squared_error(y_test_OHE, target_predict) ** 0.5\n",
    "final_RMSE_LR"
   ]
  },
  {
   "cell_type": "markdown",
   "metadata": {
    "id": "1iqOq62t9Abh"
   },
   "source": [
    "### Ridge"
   ]
  },
  {
   "cell_type": "code",
   "execution_count": null,
   "metadata": {
    "colab": {
     "base_uri": "https://localhost:8080/"
    },
    "id": "RoznrIEU9Abi",
    "outputId": "133c33bb-e15f-458f-e4e8-78f3ade469da"
   },
   "outputs": [
    {
     "name": "stdout",
     "output_type": "stream",
     "text": [
      "Подбор параметров для RMSE\n",
      "\n"
     ]
    }
   ],
   "source": [
    "%%time\n",
    "\n",
    "start_time = time.time()\n",
    "\n",
    "regressor = Ridge(random_state=RANDOM_STATE)\n",
    "hyperparams = {'solver': ['auto', 'svd', 'cholesky', 'lsqr','sparse_cg'],\n",
    "              'alpha': [0.001 , 0.01 , 0.1 , 1 , 10]}\n",
    "\n",
    "print('Подбор параметров для RMSE\\n')\n",
    "clf = GridSearchCV(regressor, hyperparams, cv=folds, scoring='neg_mean_squared_error')\n",
    "clf.fit(x_train_OHE, y_train_OHE)\n",
    "print(f'Лучший набор параметров, найденный в наборе:\\n{clf.best_params_}\\n')\n",
    "print('Grid scores:\\n')\n",
    "means = clf.cv_results_['mean_test_score']\n",
    "stds = clf.cv_results_['std_test_score']\n",
    "for mean, std, params in zip(means, stds, clf.cv_results_['params']):\n",
    "    print('%0.6f for %r'% ((mean*-1)** 0.5, params))\n",
    "print()\n",
    "\n",
    "cv_RMSE_R = (max(means)*-1) ** 0.5\n",
    "\n",
    "current_time = time.time()\n",
    "cv_RMSE_R_t = current_time-start_time\n",
    "print(f'RMSE модели на обучающей выборке = {cv_RMSE_R}\\n')"
   ]
  },
  {
   "cell_type": "markdown",
   "metadata": {
    "id": "VuwDbuS69Abi"
   },
   "source": [
    "---"
   ]
  },
  {
   "cell_type": "markdown",
   "metadata": {
    "id": "WKgE62G79Abk"
   },
   "source": [
    "Проведем обучение на модели с лучшими гиперпараметрами."
   ]
  },
  {
   "cell_type": "code",
   "execution_count": null,
   "metadata": {
    "colab": {
     "base_uri": "https://localhost:8080/"
    },
    "id": "jRfQgPTp9Abk",
    "outputId": "ae4cdd66-de69-436a-9bec-60d7145c5fc0"
   },
   "outputs": [],
   "source": [
    "%%time\n",
    "\n",
    "start_time = time.time()\n",
    "\n",
    "model = Ridge(alpha=1, \n",
    "              solver='svd',\n",
    "              random_state=RANDOM_STATE)\n",
    "model.fit(x_train_OHE, y_train_OHE)\n",
    "\n",
    "current_time = time.time()\n",
    "R_fit_t = current_time-start_time"
   ]
  },
  {
   "cell_type": "code",
   "execution_count": null,
   "metadata": {
    "colab": {
     "base_uri": "https://localhost:8080/"
    },
    "id": "JAZTuiNV9Abl",
    "outputId": "8bb825ee-a62e-4df2-b0a0-d5d569c7b186"
   },
   "outputs": [],
   "source": [
    "%%time\n",
    "\n",
    "start_time = time.time()\n",
    "\n",
    "target_predict = model.predict(x_test_OHE)\n",
    "\n",
    "current_time = time.time()\n",
    "R_predict_t = current_time-start_time"
   ]
  },
  {
   "cell_type": "code",
   "execution_count": null,
   "metadata": {
    "colab": {
     "base_uri": "https://localhost:8080/"
    },
    "id": "DGnR6Ww79Abl",
    "outputId": "7d024f80-b103-457c-c117-70ac777be379"
   },
   "outputs": [],
   "source": [
    "final_RMSE_R = mean_squared_error(y_test_OHE, target_predict) ** 0.5\n",
    "final_RMSE_R"
   ]
  },
  {
   "cell_type": "markdown",
   "metadata": {
    "id": "WQvMkWB39Abm"
   },
   "source": [
    "### DecisionTreeRegressor"
   ]
  },
  {
   "cell_type": "code",
   "execution_count": null,
   "metadata": {
    "colab": {
     "base_uri": "https://localhost:8080/"
    },
    "id": "gHbqorfO9Abm",
    "outputId": "3f09f683-ee31-49ef-8cc6-3f792688474b"
   },
   "outputs": [],
   "source": [
    "%%time\n",
    "\n",
    "start_time = time.time()\n",
    "\n",
    "regressor = DecisionTreeRegressor(criterion='mse' , random_state=RANDOM_STATE) \n",
    "hyperparams = {'max_depth': [8 , 10 , 12 , 15 , 20 , 25], \n",
    "               'min_samples_leaf': [10 , 20 , 50 , 100 , 200 , 500]}\n",
    "\n",
    "print('Подбор параметров для RMSE\\n')\n",
    "clf = GridSearchCV(regressor, hyperparams, cv=folds, scoring='neg_mean_squared_error')\n",
    "clf.fit(x_train_OE, y_train_OE)\n",
    "print(f'Лучший набор параметров, найденный в наборе:\\n{clf.best_params_}\\n')\n",
    "print('Grid scores:\\n')\n",
    "means = clf.cv_results_['mean_test_score']\n",
    "stds = clf.cv_results_['std_test_score']\n",
    "for mean, std, params in zip(means, stds, clf.cv_results_['params']):\n",
    "    print(\"%0.6f for %r\"% ((mean*-1)** 0.5, params))\n",
    "print()\n",
    "\n",
    "cv_RMSE_DTR = (max(means)*-1) ** 0.5\n",
    "\n",
    "current_time = time.time()\n",
    "cv_RMSE_DTR_t = current_time-start_time\n",
    "print(f'RMSE модели на для обучающей выборке = {cv_RMSE_DTR}\\n')"
   ]
  },
  {
   "cell_type": "markdown",
   "metadata": {
    "id": "O6R3JyHI-YD1"
   },
   "source": [
    "---"
   ]
  },
  {
   "cell_type": "markdown",
   "metadata": {
    "id": "uKJ0vLIX-YD2"
   },
   "source": [
    "Проведем обучение на модели с лучшими гиперпараметрами."
   ]
  },
  {
   "cell_type": "code",
   "execution_count": null,
   "metadata": {
    "colab": {
     "base_uri": "https://localhost:8080/"
    },
    "id": "Wro26kam-YD3",
    "outputId": "b42a716c-29c7-4f74-a5c7-838823d43506"
   },
   "outputs": [],
   "source": [
    "%%time\n",
    "\n",
    "start_time = time.time()\n",
    "\n",
    "model = DecisionTreeRegressor(criterion='mse', \n",
    "                              max_depth=20, \n",
    "                              min_samples_leaf=20,\n",
    "                              random_state=RANDOM_STATE) \n",
    "model.fit(x_train_OE, y_train_OE)\n",
    "\n",
    "current_time = time.time()\n",
    "DTR_fit_t = current_time-start_time"
   ]
  },
  {
   "cell_type": "code",
   "execution_count": null,
   "metadata": {
    "colab": {
     "base_uri": "https://localhost:8080/"
    },
    "id": "ksOPCr-I-YD4",
    "outputId": "4c341988-9a3c-41c8-8a32-248a8dd75ee8"
   },
   "outputs": [],
   "source": [
    "%%time\n",
    "\n",
    "start_time = time.time()\n",
    "\n",
    "target_predict = model.predict(x_test_OE)\n",
    "\n",
    "current_time = time.time()\n",
    "DTR_predict_t = current_time-start_time"
   ]
  },
  {
   "cell_type": "code",
   "execution_count": null,
   "metadata": {
    "colab": {
     "base_uri": "https://localhost:8080/"
    },
    "id": "fE7L36e3-YD4",
    "outputId": "9843231a-0dc8-41ca-d573-3edec645826f"
   },
   "outputs": [],
   "source": [
    "final_RMSE_DTR = mean_squared_error(y_test_OE, target_predict) ** 0.5\n",
    "final_RMSE_DTR"
   ]
  },
  {
   "cell_type": "markdown",
   "metadata": {
    "id": "FF0j4VUiAziu"
   },
   "source": [
    "### Lasso"
   ]
  },
  {
   "cell_type": "code",
   "execution_count": null,
   "metadata": {
    "colab": {
     "base_uri": "https://localhost:8080/"
    },
    "id": "SnocataBlYye",
    "outputId": "1feb0319-d89b-4223-c6ea-739496d6b923"
   },
   "outputs": [],
   "source": [
    "%%time\n",
    "# подбор гиперпраметрах при переборе 'alpha':[0.0001 , 0.001 , 0.01 , 0.1 , 1 , 10 , 100 , 1000 , 10000]\n",
    "#                                    'max_iter': [500, 600, 700, 900, 1000, 1100]\n",
    "# Wall time: 3h 20min 42s\n",
    "# в связи с этим уменьшаю вариативность параметров для повторного подбора\n",
    "start_time = time.time()\n",
    "\n",
    "regressor = Lasso(normalize=True, random_state=RANDOM_STATE)\n",
    "hyperparams = {'alpha':[0.0001 , 0.001 , 0.01],\n",
    "               'max_iter': [1000, 1100],\n",
    "               'selection': ['cyclic', 'random']}\n",
    "\n",
    "print('Подбор параметров для RMSE\\n')\n",
    "clf = GridSearchCV(regressor, hyperparams,cv=folds, scoring='neg_mean_squared_error')\n",
    "clf.fit(x_train_OHE, y_train_OHE)\n",
    "print(f'Лучший набор параметров, найденный в наборе:\\n{clf.best_params_}\\n')\n",
    "print('Grid scores:\\n')\n",
    "means = clf.cv_results_['mean_test_score']\n",
    "stds = clf.cv_results_['std_test_score']\n",
    "for mean, std, params in zip(means, stds, clf.cv_results_['params']):\n",
    "    print('%0.6f for %r'% ((mean*-1)** 0.5, params))\n",
    "print()\n",
    "\n",
    "cv_RMSE_L = (max(means)*-1) ** 0.5\n",
    "\n",
    "current_time = time.time()\n",
    "cv_RMSE_L_t = current_time-start_time\n",
    "print(f'RMSE модели на обучающей выборке = {cv_RMSE_L}\\n')"
   ]
  },
  {
   "cell_type": "markdown",
   "metadata": {
    "id": "1Jugd0z97b4G"
   },
   "source": [
    "---"
   ]
  },
  {
   "cell_type": "markdown",
   "metadata": {
    "id": "Og6teRBG7b4H"
   },
   "source": [
    "Проведем обучение на модели с лучшими гиперпараметрами."
   ]
  },
  {
   "cell_type": "code",
   "execution_count": null,
   "metadata": {
    "colab": {
     "base_uri": "https://localhost:8080/"
    },
    "id": "rrr-7vswA-vJ",
    "outputId": "7bbb8d7a-1b60-4648-d859-2f7f90b1dbe8"
   },
   "outputs": [],
   "source": [
    "%%time\n",
    "\n",
    "start_time = time.time()\n",
    "\n",
    "model =Lasso(alpha=0.0001, \n",
    "             max_iter=1100,\n",
    "             selection='cyclic',\n",
    "             normalize=True,\n",
    "             random_state=RANDOM_STATE)\n",
    "model.fit(x_train_OHE, y_train_OHE)\n",
    "\n",
    "current_time = time.time()\n",
    "L_fit_t = current_time-start_time"
   ]
  },
  {
   "cell_type": "code",
   "execution_count": null,
   "metadata": {
    "colab": {
     "base_uri": "https://localhost:8080/"
    },
    "id": "rcRVE3J_A-vX",
    "outputId": "662d4dd1-bd3a-4e35-ce12-75bdbbc7500b"
   },
   "outputs": [],
   "source": [
    "%%time\n",
    "\n",
    "start_time = time.time()\n",
    "\n",
    "target_predict = model.predict(x_test_OHE)\n",
    "\n",
    "current_time = time.time()\n",
    "L_predict_t = current_time-start_time"
   ]
  },
  {
   "cell_type": "code",
   "execution_count": null,
   "metadata": {
    "colab": {
     "base_uri": "https://localhost:8080/"
    },
    "id": "5zCAjaasA-vY",
    "outputId": "b739b929-29ea-4df8-f5d1-1bfe0ff3e3bf"
   },
   "outputs": [],
   "source": [
    "final_RMSE_L = mean_squared_error(y_test_OHE, target_predict) ** 0.5\n",
    "final_RMSE_L"
   ]
  },
  {
   "cell_type": "markdown",
   "metadata": {
    "id": "L5wvwERqEorf"
   },
   "source": [
    "### RandomForestRegressor"
   ]
  },
  {
   "cell_type": "code",
   "execution_count": null,
   "metadata": {
    "colab": {
     "base_uri": "https://localhost:8080/"
    },
    "id": "XddktvZxrMYF",
    "outputId": "f014a742-2ca5-4726-c79c-0d6d5acdf5cb"
   },
   "outputs": [],
   "source": [
    "%%time\n",
    "\n",
    "start_time = time.time()\n",
    "\n",
    "regressor = RandomForestRegressor(criterion='mse', random_state=RANDOM_STATE)\n",
    "hyperparams = {'n_estimators':[20, 100, 200, 300, 350],\n",
    "               'max_depth':[8, 10, 12, 20]}\n",
    "\n",
    "print('Подбор параметров для RMSE\\n')\n",
    "clf = GridSearchCV(regressor, hyperparams,cv=folds, scoring='neg_mean_squared_error')\n",
    "clf.fit(x_train_OE.sample(20000), y_train_OE.sample(20000))\n",
    "print(f'Лучший набор параметров, найденный в наборе:\\n{clf.best_params_}\\n')\n",
    "print('Grid scores:\\n')\n",
    "means = clf.cv_results_['mean_test_score']\n",
    "stds = clf.cv_results_['std_test_score']\n",
    "for mean, std, params in zip(means, stds, clf.cv_results_['params']):\n",
    "    print('%0.6f for %r'% ((mean*-1)** 0.5, params))\n",
    "print()\n",
    "\n",
    "cv_RMSE_RFR = (max(means)*-1) ** 0.5\n",
    "\n",
    "current_time = time.time()\n",
    "cv_RMSE_RFR_t = current_time-start_time\n",
    "print(f'RMSE модели на обучающей выборке = {cv_RMSE_RFR}\\n')"
   ]
  },
  {
   "cell_type": "code",
   "execution_count": null,
   "metadata": {
    "colab": {
     "base_uri": "https://localhost:8080/"
    },
    "id": "ZNiTYJU8EpbK",
    "outputId": "3a9d0023-5b04-4e87-8c98-c86c3fd97863"
   },
   "outputs": [],
   "source": [
    "%%time\n",
    "\n",
    "start_time = time.time()\n",
    "\n",
    "model = RandomForestRegressor(criterion = \"mse\",\n",
    "                              random_state=RANDOM_STATE,\n",
    "                              n_estimators = 350,\n",
    "                              max_depth=8,\n",
    "                              n_jobs=-1)\n",
    "model.fit(x_train_OE, y_train_OE)\n",
    "\n",
    "current_time = time.time()\n",
    "RFR_fit_t = current_time-start_time"
   ]
  },
  {
   "cell_type": "code",
   "execution_count": null,
   "metadata": {
    "colab": {
     "base_uri": "https://localhost:8080/"
    },
    "id": "lY0ACH5xFZzZ",
    "outputId": "c250d0ab-0d17-4b1e-9bbb-c94cc9bd52e9"
   },
   "outputs": [],
   "source": [
    "%%time\n",
    "\n",
    "start_time = time.time()\n",
    "\n",
    "target_predict = model.predict(x_test_OE)\n",
    "\n",
    "current_time = time.time()\n",
    "RFR_predict_t = current_time-start_time"
   ]
  },
  {
   "cell_type": "code",
   "execution_count": null,
   "metadata": {
    "colab": {
     "base_uri": "https://localhost:8080/"
    },
    "id": "uBKZ8tDPFZza",
    "outputId": "84d595c2-3d19-4026-9d42-9d12f941b335"
   },
   "outputs": [],
   "source": [
    "final_RMSE_RFR = mean_squared_error(y_test_OHE, target_predict) ** 0.5\n",
    "final_RMSE_RFR"
   ]
  },
  {
   "cell_type": "markdown",
   "metadata": {
    "id": "53IcpLJRFr_9"
   },
   "source": [
    "### CatBoostRegressor"
   ]
  },
  {
   "cell_type": "code",
   "execution_count": null,
   "metadata": {
    "colab": {
     "base_uri": "https://localhost:8080/"
    },
    "id": "biH8chuUI9dW",
    "outputId": "84876eef-ab44-4ae1-a9c0-8555740babab"
   },
   "outputs": [],
   "source": [
    "%%time\n",
    "\n",
    "start_time = time.time()\n",
    "\n",
    "regressor = CatBoostRegressor(iterations=200, random_state=RANDOM_STATE, verbose=False, cat_features=cat_columns) \n",
    "hyperparams = {'learning_rate':[0.1, 0.5, 0.8]}\n",
    "\n",
    "print('Подбор параметров для RMSE\\n')\n",
    "clf = GridSearchCV(regressor, hyperparams,cv=folds, scoring='neg_mean_squared_error')\n",
    "clf.fit(x_train_catboost, y_train_catboost)\n",
    "print(f'Лучший набор параметров, найденный в наборе:\\n{clf.best_params_}\\n')\n",
    "print('Grid scores:\\n')\n",
    "means = clf.cv_results_['mean_test_score']\n",
    "stds = clf.cv_results_['std_test_score']\n",
    "for mean, std, params in zip(means, stds, clf.cv_results_['params']):\n",
    "    print(\"%0.6f for %r\"% ((mean*-1)** 0.5, params))\n",
    "print()\n",
    "\n",
    "cv_RMSE_CBR = (max(means)*-1) ** 0.5\n",
    "\n",
    "current_time = time.time()\n",
    "cv_RMSE_CBR_t = current_time-start_time\n",
    "print(f'RMSE модели для обучающей выборке = {cv_RMSE_CBR}\\n')"
   ]
  },
  {
   "cell_type": "markdown",
   "metadata": {
    "id": "iTXgAEEAKRhY"
   },
   "source": [
    "---"
   ]
  },
  {
   "cell_type": "markdown",
   "metadata": {
    "id": "nRNm1gZNKRhZ"
   },
   "source": [
    "Проведем обучение на модели с лучшими гиперпараметрами."
   ]
  },
  {
   "cell_type": "code",
   "execution_count": null,
   "metadata": {
    "colab": {
     "base_uri": "https://localhost:8080/"
    },
    "id": "FnKTNFQJF0cP",
    "outputId": "e2a4be10-2895-4a65-c8a6-cd73b2c6e829"
   },
   "outputs": [],
   "source": [
    "%%time\n",
    "\n",
    "start_time = time.time()\n",
    "\n",
    "model = CatBoostRegressor(learning_rate=0.5,\n",
    "                          iterations = 200,\n",
    "                          random_state=RANDOM_STATE, \n",
    "                          verbose=False, \n",
    "                          cat_features=cat_columns)  \n",
    "model.fit(x_train_catboost, y_train_catboost)\n",
    "\n",
    "current_time = time.time()\n",
    "CBR_fit_t = current_time-start_time"
   ]
  },
  {
   "cell_type": "code",
   "execution_count": null,
   "metadata": {
    "colab": {
     "base_uri": "https://localhost:8080/"
    },
    "id": "wYLHlVe1F0cQ",
    "outputId": "a12c5a34-efe3-442f-b948-dd0d881abc1d"
   },
   "outputs": [],
   "source": [
    "%%time\n",
    "\n",
    "start_time = time.time()\n",
    "\n",
    "target_predict = model.predict(x_test_catboost)\n",
    "\n",
    "current_time = time.time()\n",
    "CBR_predict_t = current_time-start_time"
   ]
  },
  {
   "cell_type": "code",
   "execution_count": null,
   "metadata": {
    "colab": {
     "base_uri": "https://localhost:8080/"
    },
    "id": "ZiT2rTYLF0cQ",
    "outputId": "e28e83ba-4ace-4eef-9884-15da2390cf22"
   },
   "outputs": [],
   "source": [
    "final_RMSE_CBR = mean_squared_error(y_test_catboost, target_predict) ** 0.5\n",
    "final_RMSE_CBR"
   ]
  },
  {
   "cell_type": "markdown",
   "metadata": {
    "id": "aPGgUS4sbrti"
   },
   "source": [
    "### LGBMRegressor"
   ]
  },
  {
   "cell_type": "code",
   "execution_count": null,
   "metadata": {
    "colab": {
     "base_uri": "https://localhost:8080/"
    },
    "id": "cBlSX4SX8jvX",
    "outputId": "7d484f3c-5243-4bcd-d0cd-b2cd4016aca9"
   },
   "outputs": [],
   "source": [
    "%%time\n",
    "\n",
    "start_time = time.time()\n",
    "\n",
    "regressor = LGBMRegressor(random_state=RANDOM_STATE) \n",
    "hyperparams = {'num_leaves':[31, 100, 200], \n",
    "               'learning_rate':[0.1, 0.3, 0.5]}\n",
    "\n",
    "print('Подбор параметров для RMSE\\n')\n",
    "clf = GridSearchCV(regressor, hyperparams,cv=folds, scoring='neg_mean_squared_error')\n",
    "clf.fit(x_train_catboost, y_train_catboost)\n",
    "print(f'Лучший набор параметров, найденный в наборе:\\n{clf.best_params_}\\n')\n",
    "print('Grid scores:\\n')\n",
    "means = clf.cv_results_['mean_test_score']\n",
    "stds = clf.cv_results_['std_test_score']\n",
    "for mean, std, params in zip(means, stds, clf.cv_results_['params']):\n",
    "    print(\"%0.6f for %r\"% ((mean*-1)** 0.5, params))\n",
    "print()\n",
    "\n",
    "cv_RMSE_LGBMR = (max(means)*-1) ** 0.5\n",
    "\n",
    "current_time = time.time()\n",
    "cv_RMSE_LGBMR_t = current_time-start_time\n",
    "print(f'RMSE модели для обучающей выборке = {cv_RMSE_LGBMR}\\n')"
   ]
  },
  {
   "cell_type": "markdown",
   "metadata": {
    "id": "q5nde1fqh7fn"
   },
   "source": [
    "---"
   ]
  },
  {
   "cell_type": "markdown",
   "metadata": {
    "id": "VWN4TON6h7fo"
   },
   "source": [
    "Проведем обучение на модели с лучшими гиперпараметрами."
   ]
  },
  {
   "cell_type": "code",
   "execution_count": null,
   "metadata": {
    "colab": {
     "base_uri": "https://localhost:8080/"
    },
    "id": "uJX5UEFeh7fo",
    "outputId": "5b6c7cf7-b0bd-4622-c844-ed20b52d5707"
   },
   "outputs": [],
   "source": [
    "%%time\n",
    "\n",
    "start_time = time.time()\n",
    "\n",
    "model = LGBMRegressor(learning_rate=0.1, \n",
    "                      num_leaves=200, \n",
    "                      random_state=RANDOM_STATE)  \n",
    "model.fit(x_train_catboost, y_train_catboost)\n",
    "\n",
    "current_time = time.time()\n",
    "LGBMR_fit_t = current_time-start_time"
   ]
  },
  {
   "cell_type": "code",
   "execution_count": null,
   "metadata": {
    "colab": {
     "base_uri": "https://localhost:8080/"
    },
    "id": "ITFPOAMTh7fp",
    "outputId": "18ad7a00-6bc5-45f3-d7bd-73840784fd10"
   },
   "outputs": [],
   "source": [
    "%%time\n",
    "\n",
    "start_time = time.time()\n",
    "\n",
    "target_predict = model.predict(x_test_catboost)\n",
    "\n",
    "current_time = time.time()\n",
    "LGBMR_predict_t = current_time-start_time"
   ]
  },
  {
   "cell_type": "code",
   "execution_count": null,
   "metadata": {
    "colab": {
     "base_uri": "https://localhost:8080/"
    },
    "id": "njQpm5B1h7fq",
    "outputId": "06bde30e-e866-4d10-f11c-6b6686a3ce89"
   },
   "outputs": [],
   "source": [
    "final_RMSE_LGBMR = mean_squared_error(y_test_catboost, target_predict) ** 0.5\n",
    "final_RMSE_LGBMR"
   ]
  },
  {
   "cell_type": "markdown",
   "metadata": {
    "id": "pGP66N7wQXWS"
   },
   "source": [
    "### Константная модель"
   ]
  },
  {
   "cell_type": "code",
   "execution_count": null,
   "metadata": {
    "colab": {
     "base_uri": "https://localhost:8080/"
    },
    "id": "TxiWFs8IQd3K",
    "outputId": "f54a5ac6-2e5e-4f44-8aba-52d417f7f479"
   },
   "outputs": [],
   "source": [
    "#Создаем константную модель\n",
    "target_predict_constant = pd.Series([y_test_catboost.mean()]*len(y_test_catboost))\n",
    "target_predict_constant.shape"
   ]
  },
  {
   "cell_type": "code",
   "execution_count": null,
   "metadata": {
    "colab": {
     "base_uri": "https://localhost:8080/"
    },
    "id": "-tfY3dSURn67",
    "outputId": "7dcc1946-6464-49d6-bc78-86bd57f1f1cc"
   },
   "outputs": [],
   "source": [
    "final_RMSE_constant = mean_squared_error(y_test_catboost, target_predict_constant) ** 0.5\n",
    "final_RMSE_constant"
   ]
  },
  {
   "cell_type": "markdown",
   "metadata": {
    "id": "rApGYpxw9Abn"
   },
   "source": [
    "## Анализ моделей"
   ]
  },
  {
   "cell_type": "markdown",
   "metadata": {
    "id": "cM3Hpda5uxDA"
   },
   "source": [
    "Создадим таблицу для сравнения параметров."
   ]
  },
  {
   "cell_type": "code",
   "execution_count": null,
   "metadata": {
    "colab": {
     "base_uri": "https://localhost:8080/",
     "height": 379
    },
    "id": "W410xqBDuvgW",
    "outputId": "1c658241-ac8a-4932-d70a-e1ab878bc680"
   },
   "outputs": [],
   "source": [
    "index = ['LinearRegression',\n",
    "         'Ridge',\n",
    "         'DecisionTreeRegressor',\n",
    "         'Lasso',\n",
    "         'RabdomForestRegressor',\n",
    "         'CatBoostRegressor',\n",
    "         'LGBMRegressor',\n",
    "         'Константная модель']\n",
    "data = {'RMSE модели на обучающей выборке':[cv_RMSE_LR,\n",
    "                                            cv_RMSE_R,\n",
    "                                            cv_RMSE_DTR,\n",
    "                                            cv_RMSE_L,\n",
    "                                            cv_RMSE_RFR,\n",
    "                                            cv_RMSE_CBR,\n",
    "                                            cv_RMSE_LGBMR,\n",
    "                                            final_RMSE_constant],\n",
    "        'Время обучения на CV, сек':[cv_RMSE_LR_t,\n",
    "                                     cv_RMSE_R_t,\n",
    "                                     cv_RMSE_DTR_t,\n",
    "                                     cv_RMSE_L_t,\n",
    "                                     cv_RMSE_RFR_t,\n",
    "                                     cv_RMSE_CBR_t,\n",
    "                                     cv_RMSE_LGBMR_t,\n",
    "                                     0.1],\n",
    "        'RMSE модели на тестовой выборке':[final_RMSE_LR,\n",
    "                                           final_RMSE_R,\n",
    "                                           final_RMSE_DTR,\n",
    "                                           final_RMSE_L,\n",
    "                                           final_RMSE_RFR,\n",
    "                                           final_RMSE_CBR,\n",
    "                                           final_RMSE_LGBMR,\n",
    "                                           final_RMSE_constant],\n",
    "        'Время обучения модели, сек':[LR_fit_t,\n",
    "                                      R_fit_t,\n",
    "                                      DTR_fit_t,\n",
    "                                      L_fit_t,\n",
    "                                      RFR_fit_t,\n",
    "                                      CBR_fit_t,\n",
    "                                      LGBMR_fit_t,\n",
    "                                      0.1],\n",
    "        'Время предсказания модели, сек':[LR_predict_t,\n",
    "                                          R_predict_t,\n",
    "                                          DTR_predict_t,\n",
    "                                          L_predict_t,\n",
    "                                          RFR_predict_t,\n",
    "                                          CBR_predict_t,\n",
    "                                          LGBMR_predict_t,\n",
    "                                          0.1]}\n",
    "\n",
    "scores_data = pd.DataFrame(data=data, index=index)\n",
    "scores_data['Рейтинг RMSE'] = (scores_data['RMSE модели на тестовой выборке'].min() /\n",
    "                              scores_data['RMSE модели на тестовой выборке'])\n",
    "scores_data['Рейтинг времени обучения'] = (scores_data['Время обучения модели, сек'].min() / \n",
    "                              scores_data['Время обучения модели, сек'])\n",
    "scores_data['Рейтинг времени предсказания'] = (scores_data['Время предсказания модели, сек'].min() / \n",
    "                              scores_data['Время предсказания модели, сек'])\n",
    "scores_data['Итоговый рейтинг'] = (scores_data['Рейтинг RMSE'] +\n",
    "                                   scores_data['Рейтинг времени обучения'] +\n",
    "                                   scores_data['Рейтинг времени предсказания'])\n",
    "scores_data"
   ]
  },
  {
   "cell_type": "code",
   "execution_count": null,
   "metadata": {
    "colab": {
     "base_uri": "https://localhost:8080/"
    },
    "id": "mXtosJPj2ZJY",
    "outputId": "0d3da509-dafa-495d-d2e6-0b1b6d820d25"
   },
   "outputs": [],
   "source": [
    "scores_data['Итоговый рейтинг'].sort_values(ascending=False)"
   ]
  },
  {
   "cell_type": "code",
   "execution_count": null,
   "metadata": {
    "colab": {
     "base_uri": "https://localhost:8080/"
    },
    "id": "_7zkFzN-3i3U",
    "outputId": "67d46a0f-599e-4c51-e7de-62a457e575d9"
   },
   "outputs": [],
   "source": [
    "scores_data['Рейтинг RMSE'].sort_values(ascending=False)"
   ]
  },
  {
   "cell_type": "markdown",
   "metadata": {
    "id": "zEPurFYXJP8u"
   },
   "source": [
    "Были изучены 7 регрессионных и 1 константная моделей. Зафиксированы лучшие гиперпараметры и время их выполнения."
   ]
  },
  {
   "cell_type": "markdown",
   "metadata": {
    "id": "2g4Qs-fHJWAu"
   },
   "source": [
    "**Вывод**\n",
    "\n",
    "В ходе работы было выполнено:\n",
    "\n",
    "- Загружены данные и проведена предобработка.\n",
    "- Выполнено сравнение моделей с использованием различных наборов гиперпараметров.\n",
    "- Выбрана лучшая модель по результатам метрики RMSE и времени обучения.\n",
    "  - Для общей оценки по трем параметрам был создан относительный рейтинг.  \n",
    "На выбор модели не влияло время обучения на кросвалидации, так как на одном типе данных ее проводят один раз. В то время переобучить модель на новых данных приходится намного чаще.\n",
    "---\n",
    "Лучшей моделью по трем параметрам: качество, скорость обучения и скорость предсказания можно считать `DecisionTreeRegressor`.Второе и третье места - `CatBoostRegressor` и `LGBMRegressor`. \n",
    "\n",
    "Если оценивание только точность, то в лидеры выходит `LGBMRegressor`. Следом за ним идет `CatBoostRegressor`. `DecisionTreeRegressor` занимает третье место.\n",
    "\n",
    "`LinearRegression`, `Ridge` и `Lasso` показали себя на этой задаче хуже константной модели.\n",
    "\n",
    "Исходя из полученного рейтинга можно выделить специфику задач для регрессоров.\n",
    "- Для быстрых решений с хорошей точностью подойдет `DecisionTreeRegressor` с подготовленными признаками.\n",
    "- Если в деле важна точность и есть время - `LGBMRegressor` поможет предсказать лучше всех.\n",
    "- Для задач, не требующих сильной предобработки и заготовки данных `CatBoostRegressor` может показать себя очень хорошо.\n",
    "\n",
    "Учитывая, что обучение модели на однотипных данных происходит только один раз - эти данные можно не учитывать.  \n",
    "Да, `DecisionTreeRegressor` предсказывает просто молниеносно, но и `CatBoostRegressor` не сильно то отстаёт, но качество у неё заметно лучше.  \n",
    "В продакт можно смело рекомендовать `LGBMRegressor`, так как разница во времени предсказания составляет всего 6 секунд (это не та кмного для пользователя). Но если компания готова слегка пожертвовать точностью предсказаний и для неё гораздо важнее молниеносный ответ - то выбор стоит сделать в пользу `CatBoostRegressor`."
   ]
  }
 ],
 "metadata": {
  "ExecuteTimeLog": [
   {
    "duration": 1713,
    "start_time": "2022-04-27T16:03:20.237Z"
   },
   {
    "duration": 1018,
    "start_time": "2022-04-27T16:03:48.962Z"
   },
   {
    "duration": 1693,
    "start_time": "2022-04-28T16:55:15.082Z"
   },
   {
    "duration": 952,
    "start_time": "2022-04-28T16:55:26.918Z"
   },
   {
    "duration": 30,
    "start_time": "2022-04-28T17:12:24.584Z"
   },
   {
    "duration": 83,
    "start_time": "2022-04-28T17:12:26.834Z"
   },
   {
    "duration": 65,
    "start_time": "2022-04-28T17:12:50.652Z"
   },
   {
    "duration": 94,
    "start_time": "2022-04-28T17:13:58.116Z"
   },
   {
    "duration": 59,
    "start_time": "2022-04-28T17:14:27.215Z"
   },
   {
    "duration": 3,
    "start_time": "2022-04-28T17:15:14.321Z"
   },
   {
    "duration": 479,
    "start_time": "2022-04-28T17:16:25.596Z"
   },
   {
    "duration": 4,
    "start_time": "2022-04-28T17:16:35.798Z"
   },
   {
    "duration": 10,
    "start_time": "2022-04-28T17:18:47.390Z"
   },
   {
    "duration": 5,
    "start_time": "2022-04-28T17:20:46.419Z"
   },
   {
    "duration": 66481,
    "start_time": "2022-04-28T17:20:46.426Z"
   },
   {
    "duration": 465,
    "start_time": "2022-04-28T17:22:11.799Z"
   },
   {
    "duration": 87,
    "start_time": "2022-04-28T17:22:28.262Z"
   },
   {
    "duration": 69,
    "start_time": "2022-04-28T17:22:39.393Z"
   },
   {
    "duration": 113019,
    "start_time": "2022-04-28T17:22:51.529Z"
   },
   {
    "duration": 70,
    "start_time": "2022-04-28T17:25:43.662Z"
   },
   {
    "duration": 3,
    "start_time": "2022-04-28T17:25:51.267Z"
   },
   {
    "duration": 1446,
    "start_time": "2022-04-28T17:25:54.337Z"
   },
   {
    "duration": 3,
    "start_time": "2022-04-28T17:26:21.401Z"
   },
   {
    "duration": 1580,
    "start_time": "2022-04-28T17:26:23.229Z"
   },
   {
    "duration": 3,
    "start_time": "2022-04-28T17:26:58.137Z"
   },
   {
    "duration": 1517,
    "start_time": "2022-04-28T17:26:59.976Z"
   },
   {
    "duration": 3,
    "start_time": "2022-04-28T17:28:24.475Z"
   },
   {
    "duration": 3,
    "start_time": "2022-04-28T17:29:04.236Z"
   },
   {
    "duration": 1430,
    "start_time": "2022-04-28T17:29:06.782Z"
   },
   {
    "duration": 3,
    "start_time": "2022-04-28T17:30:16.071Z"
   },
   {
    "duration": 1580,
    "start_time": "2022-04-28T17:30:18.422Z"
   },
   {
    "duration": 4,
    "start_time": "2022-04-28T18:44:47.897Z"
   },
   {
    "duration": 1626,
    "start_time": "2022-04-28T18:44:50.919Z"
   },
   {
    "duration": 75,
    "start_time": "2022-04-28T18:52:52.591Z"
   },
   {
    "duration": 69,
    "start_time": "2022-04-28T18:53:07.895Z"
   },
   {
    "duration": 144,
    "start_time": "2022-04-28T18:54:10.202Z"
   },
   {
    "duration": 86,
    "start_time": "2022-04-28T18:54:19.338Z"
   },
   {
    "duration": 69,
    "start_time": "2022-04-28T18:54:30.693Z"
   },
   {
    "duration": 72,
    "start_time": "2022-04-28T18:55:22.295Z"
   },
   {
    "duration": 5,
    "start_time": "2022-04-28T18:55:28.317Z"
   },
   {
    "duration": 1746,
    "start_time": "2022-04-28T18:55:33.081Z"
   },
   {
    "duration": 6,
    "start_time": "2022-04-28T18:57:00.403Z"
   },
   {
    "duration": 1702,
    "start_time": "2022-04-28T18:57:02.888Z"
   },
   {
    "duration": 69,
    "start_time": "2022-04-28T19:00:09.662Z"
   },
   {
    "duration": 105,
    "start_time": "2022-04-28T19:00:25.735Z"
   },
   {
    "duration": 8,
    "start_time": "2022-04-28T19:00:33.072Z"
   },
   {
    "duration": 1599,
    "start_time": "2022-04-28T19:00:41.536Z"
   },
   {
    "duration": 7,
    "start_time": "2022-04-28T19:01:37.740Z"
   },
   {
    "duration": 1883,
    "start_time": "2022-04-28T19:01:40.963Z"
   },
   {
    "duration": 61,
    "start_time": "2022-04-28T19:03:36.952Z"
   },
   {
    "duration": 11,
    "start_time": "2022-04-28T19:08:28.472Z"
   },
   {
    "duration": 63,
    "start_time": "2022-04-28T19:08:58.338Z"
   },
   {
    "duration": 6,
    "start_time": "2022-04-28T19:09:19.737Z"
   },
   {
    "duration": 2038,
    "start_time": "2022-04-28T19:09:22.811Z"
   },
   {
    "duration": 5,
    "start_time": "2022-04-28T19:10:17.740Z"
   },
   {
    "duration": 2103,
    "start_time": "2022-04-28T19:10:22.773Z"
   },
   {
    "duration": 6,
    "start_time": "2022-04-28T19:13:28.419Z"
   },
   {
    "duration": 2296,
    "start_time": "2022-04-28T19:13:31.060Z"
   },
   {
    "duration": 37,
    "start_time": "2022-04-28T19:24:54.836Z"
   },
   {
    "duration": 5,
    "start_time": "2022-04-28T19:42:59.816Z"
   },
   {
    "duration": 14,
    "start_time": "2022-04-28T19:45:11.510Z"
   },
   {
    "duration": 1011,
    "start_time": "2022-04-28T19:48:46.421Z"
   },
   {
    "duration": 6,
    "start_time": "2022-04-28T19:53:25.966Z"
   },
   {
    "duration": 9,
    "start_time": "2022-04-28T19:53:46.781Z"
   },
   {
    "duration": 32,
    "start_time": "2022-04-28T19:55:21.377Z"
   },
   {
    "duration": 14,
    "start_time": "2022-04-28T19:56:01.282Z"
   },
   {
    "duration": 4,
    "start_time": "2022-04-28T19:56:27.172Z"
   },
   {
    "duration": 6,
    "start_time": "2022-04-28T19:56:27.178Z"
   },
   {
    "duration": 1926,
    "start_time": "2022-04-28T19:56:27.185Z"
   },
   {
    "duration": 10,
    "start_time": "2022-04-28T19:56:29.113Z"
   },
   {
    "duration": 0,
    "start_time": "2022-04-28T19:56:29.125Z"
   },
   {
    "duration": 275,
    "start_time": "2022-04-28T19:56:44.459Z"
   },
   {
    "duration": 0,
    "start_time": "2022-04-28T19:56:44.735Z"
   },
   {
    "duration": 5,
    "start_time": "2022-04-28T19:57:11.191Z"
   },
   {
    "duration": 7,
    "start_time": "2022-04-28T19:57:11.199Z"
   },
   {
    "duration": 2061,
    "start_time": "2022-04-28T19:57:11.208Z"
   },
   {
    "duration": 10,
    "start_time": "2022-04-28T19:57:13.272Z"
   },
   {
    "duration": 0,
    "start_time": "2022-04-28T19:57:13.284Z"
   },
   {
    "duration": 0,
    "start_time": "2022-04-28T19:57:13.285Z"
   },
   {
    "duration": 11,
    "start_time": "2022-04-28T19:58:03.391Z"
   },
   {
    "duration": 15,
    "start_time": "2022-04-28T19:58:18.239Z"
   },
   {
    "duration": 11,
    "start_time": "2022-04-28T19:58:23.464Z"
   },
   {
    "duration": 1057,
    "start_time": "2022-04-28T19:58:38.322Z"
   },
   {
    "duration": 300,
    "start_time": "2022-04-28T19:59:06.329Z"
   },
   {
    "duration": 1486,
    "start_time": "2022-04-28T19:59:29.671Z"
   },
   {
    "duration": 5,
    "start_time": "2022-04-28T19:59:31.159Z"
   },
   {
    "duration": 2100,
    "start_time": "2022-04-28T19:59:31.166Z"
   },
   {
    "duration": 132,
    "start_time": "2022-04-28T19:59:33.268Z"
   },
   {
    "duration": 0,
    "start_time": "2022-04-28T19:59:33.401Z"
   },
   {
    "duration": 7,
    "start_time": "2022-04-28T20:00:25.505Z"
   },
   {
    "duration": 2061,
    "start_time": "2022-04-28T20:00:28.308Z"
   },
   {
    "duration": 11,
    "start_time": "2022-04-28T20:00:55.520Z"
   },
   {
    "duration": 9,
    "start_time": "2022-04-28T20:01:04.386Z"
   },
   {
    "duration": 2101,
    "start_time": "2022-04-28T20:01:13.611Z"
   },
   {
    "duration": 15,
    "start_time": "2022-04-28T20:01:40.620Z"
   },
   {
    "duration": 4,
    "start_time": "2022-04-28T20:02:42.540Z"
   },
   {
    "duration": 9,
    "start_time": "2022-04-28T20:02:45.648Z"
   },
   {
    "duration": 5,
    "start_time": "2022-04-28T20:03:31.886Z"
   },
   {
    "duration": 9,
    "start_time": "2022-04-28T20:03:34.158Z"
   },
   {
    "duration": 5,
    "start_time": "2022-04-28T20:08:24.027Z"
   },
   {
    "duration": 11,
    "start_time": "2022-04-28T20:08:26.271Z"
   },
   {
    "duration": 1490,
    "start_time": "2022-04-28T20:08:36.844Z"
   },
   {
    "duration": 5,
    "start_time": "2022-04-28T20:08:38.336Z"
   },
   {
    "duration": 126,
    "start_time": "2022-04-28T20:08:38.343Z"
   },
   {
    "duration": 0,
    "start_time": "2022-04-28T20:08:38.471Z"
   },
   {
    "duration": 0,
    "start_time": "2022-04-28T20:08:38.472Z"
   },
   {
    "duration": 0,
    "start_time": "2022-04-28T20:08:38.473Z"
   },
   {
    "duration": 2258,
    "start_time": "2022-04-28T20:09:02.433Z"
   },
   {
    "duration": 15,
    "start_time": "2022-04-28T20:09:24.737Z"
   },
   {
    "duration": 13,
    "start_time": "2022-04-28T20:14:27.846Z"
   },
   {
    "duration": 132,
    "start_time": "2022-04-29T18:23:24.157Z"
   },
   {
    "duration": 130,
    "start_time": "2022-04-29T18:24:41.688Z"
   },
   {
    "duration": 4,
    "start_time": "2022-04-29T18:24:48.828Z"
   },
   {
    "duration": 45,
    "start_time": "2022-04-29T18:24:52.426Z"
   },
   {
    "duration": 1664,
    "start_time": "2022-04-29T18:24:57.849Z"
   },
   {
    "duration": 5,
    "start_time": "2022-04-29T18:24:59.516Z"
   },
   {
    "duration": 1942,
    "start_time": "2022-04-29T18:25:00.521Z"
   },
   {
    "duration": 9,
    "start_time": "2022-04-29T18:25:44.042Z"
   },
   {
    "duration": 9,
    "start_time": "2022-04-29T18:25:58.217Z"
   },
   {
    "duration": 5,
    "start_time": "2022-04-29T18:26:23.094Z"
   },
   {
    "duration": 1731,
    "start_time": "2022-04-29T18:26:26.847Z"
   },
   {
    "duration": 8,
    "start_time": "2022-04-29T18:26:34.094Z"
   },
   {
    "duration": 8,
    "start_time": "2022-04-29T18:26:39.252Z"
   },
   {
    "duration": 12,
    "start_time": "2022-04-29T18:26:46.292Z"
   },
   {
    "duration": 9,
    "start_time": "2022-04-29T18:26:48.848Z"
   },
   {
    "duration": 1509,
    "start_time": "2022-04-29T18:26:55.434Z"
   },
   {
    "duration": 5,
    "start_time": "2022-04-29T18:26:56.945Z"
   },
   {
    "duration": 1871,
    "start_time": "2022-04-29T18:26:56.952Z"
   },
   {
    "duration": 117,
    "start_time": "2022-04-29T18:26:58.825Z"
   },
   {
    "duration": 0,
    "start_time": "2022-04-29T18:26:58.944Z"
   },
   {
    "duration": 0,
    "start_time": "2022-04-29T18:26:58.945Z"
   },
   {
    "duration": 0,
    "start_time": "2022-04-29T18:26:58.946Z"
   },
   {
    "duration": 5,
    "start_time": "2022-04-29T18:27:42.198Z"
   },
   {
    "duration": 1724,
    "start_time": "2022-04-29T18:27:44.176Z"
   },
   {
    "duration": 1561,
    "start_time": "2022-04-29T18:28:05.103Z"
   },
   {
    "duration": 5,
    "start_time": "2022-04-29T18:28:06.666Z"
   },
   {
    "duration": 2020,
    "start_time": "2022-04-29T18:28:06.673Z"
   },
   {
    "duration": 0,
    "start_time": "2022-04-29T18:28:08.696Z"
   },
   {
    "duration": 0,
    "start_time": "2022-04-29T18:28:08.697Z"
   },
   {
    "duration": 0,
    "start_time": "2022-04-29T18:28:08.699Z"
   },
   {
    "duration": 0,
    "start_time": "2022-04-29T18:28:08.700Z"
   },
   {
    "duration": 5,
    "start_time": "2022-04-29T18:28:33.552Z"
   },
   {
    "duration": 1715,
    "start_time": "2022-04-29T18:28:36.578Z"
   },
   {
    "duration": 9,
    "start_time": "2022-04-29T18:28:41.847Z"
   },
   {
    "duration": 128,
    "start_time": "2022-04-29T18:35:16.366Z"
   },
   {
    "duration": 5,
    "start_time": "2022-04-29T18:35:24.318Z"
   },
   {
    "duration": 1960,
    "start_time": "2022-04-29T18:35:26.165Z"
   },
   {
    "duration": 10,
    "start_time": "2022-04-29T18:35:36.429Z"
   },
   {
    "duration": 739,
    "start_time": "2022-04-29T18:36:53.425Z"
   },
   {
    "duration": 5,
    "start_time": "2022-04-29T18:36:55.520Z"
   },
   {
    "duration": 997,
    "start_time": "2022-04-29T18:37:01.371Z"
   },
   {
    "duration": 22,
    "start_time": "2022-04-29T18:37:10.672Z"
   },
   {
    "duration": 18,
    "start_time": "2022-04-29T18:40:18.735Z"
   },
   {
    "duration": 43,
    "start_time": "2022-04-29T18:42:48.895Z"
   },
   {
    "duration": 12,
    "start_time": "2022-04-29T18:43:51.349Z"
   },
   {
    "duration": 5,
    "start_time": "2022-04-29T18:47:56.647Z"
   },
   {
    "duration": 4,
    "start_time": "2022-04-29T18:48:41.560Z"
   },
   {
    "duration": 6,
    "start_time": "2022-04-29T18:48:49.424Z"
   },
   {
    "duration": 5,
    "start_time": "2022-04-29T18:49:09.106Z"
   },
   {
    "duration": 5,
    "start_time": "2022-04-29T18:49:20.980Z"
   },
   {
    "duration": 5,
    "start_time": "2022-04-29T18:49:26.522Z"
   },
   {
    "duration": 9,
    "start_time": "2022-04-29T18:50:24.694Z"
   },
   {
    "duration": 10,
    "start_time": "2022-04-29T18:50:33.486Z"
   },
   {
    "duration": 3,
    "start_time": "2022-04-29T19:10:48.656Z"
   },
   {
    "duration": 10,
    "start_time": "2022-04-29T19:10:50.760Z"
   },
   {
    "duration": 403,
    "start_time": "2022-04-29T19:15:58.307Z"
   },
   {
    "duration": 6,
    "start_time": "2022-04-29T19:16:02.089Z"
   },
   {
    "duration": 3,
    "start_time": "2022-04-29T19:20:22.249Z"
   },
   {
    "duration": 114,
    "start_time": "2022-04-29T19:20:33.364Z"
   },
   {
    "duration": 3,
    "start_time": "2022-04-29T19:26:58.532Z"
   },
   {
    "duration": 104,
    "start_time": "2022-04-29T19:27:00.080Z"
   },
   {
    "duration": 9,
    "start_time": "2022-04-29T19:28:04.085Z"
   },
   {
    "duration": 4,
    "start_time": "2022-04-29T19:28:15.220Z"
   },
   {
    "duration": 10,
    "start_time": "2022-04-29T19:28:40.064Z"
   },
   {
    "duration": 10,
    "start_time": "2022-04-29T19:29:04.464Z"
   },
   {
    "duration": 10,
    "start_time": "2022-04-29T19:29:22.376Z"
   },
   {
    "duration": 10,
    "start_time": "2022-04-29T19:29:36.110Z"
   },
   {
    "duration": 96,
    "start_time": "2022-04-29T19:29:46.986Z"
   },
   {
    "duration": 98,
    "start_time": "2022-04-29T19:31:51.409Z"
   },
   {
    "duration": 95,
    "start_time": "2022-04-29T19:32:25.045Z"
   },
   {
    "duration": 17,
    "start_time": "2022-04-29T19:38:48.162Z"
   },
   {
    "duration": 18,
    "start_time": "2022-04-29T19:38:53.923Z"
   },
   {
    "duration": 18,
    "start_time": "2022-04-29T19:39:34.690Z"
   },
   {
    "duration": 17,
    "start_time": "2022-04-29T19:39:46.567Z"
   },
   {
    "duration": 17,
    "start_time": "2022-04-29T19:40:03.188Z"
   },
   {
    "duration": 34,
    "start_time": "2022-04-29T19:40:42.387Z"
   },
   {
    "duration": 21,
    "start_time": "2022-04-29T19:46:36.761Z"
   },
   {
    "duration": 240,
    "start_time": "2022-04-29T19:58:26.714Z"
   },
   {
    "duration": 341,
    "start_time": "2022-04-29T19:58:39.838Z"
   },
   {
    "duration": 273,
    "start_time": "2022-04-29T20:00:22.151Z"
   },
   {
    "duration": 122,
    "start_time": "2022-04-29T20:09:22.830Z"
   },
   {
    "duration": 121,
    "start_time": "2022-04-29T20:09:28.947Z"
   },
   {
    "duration": 36,
    "start_time": "2022-04-29T20:09:31.994Z"
   },
   {
    "duration": 125,
    "start_time": "2022-04-29T20:10:14.844Z"
   },
   {
    "duration": 3,
    "start_time": "2022-04-29T20:10:16.315Z"
   },
   {
    "duration": 26,
    "start_time": "2022-04-29T20:10:23.472Z"
   },
   {
    "duration": 26,
    "start_time": "2022-04-29T20:10:27.416Z"
   },
   {
    "duration": 27,
    "start_time": "2022-04-29T20:10:33.036Z"
   },
   {
    "duration": 30,
    "start_time": "2022-04-29T20:11:43.176Z"
   },
   {
    "duration": 31,
    "start_time": "2022-04-29T20:12:03.978Z"
   },
   {
    "duration": 29,
    "start_time": "2022-04-29T20:12:20.271Z"
   },
   {
    "duration": 151,
    "start_time": "2022-04-29T20:16:09.657Z"
   },
   {
    "duration": 150,
    "start_time": "2022-04-29T20:16:16.795Z"
   },
   {
    "duration": 7,
    "start_time": "2022-04-29T20:45:07.133Z"
   },
   {
    "duration": 5,
    "start_time": "2022-04-29T20:45:17.405Z"
   },
   {
    "duration": 6,
    "start_time": "2022-04-29T20:45:27.647Z"
   },
   {
    "duration": 8,
    "start_time": "2022-04-29T20:45:32.676Z"
   },
   {
    "duration": 6,
    "start_time": "2022-04-29T20:45:37.811Z"
   },
   {
    "duration": 10,
    "start_time": "2022-04-29T20:46:08.743Z"
   },
   {
    "duration": 11,
    "start_time": "2022-04-29T20:46:20.503Z"
   },
   {
    "duration": 12,
    "start_time": "2022-04-29T20:46:35.702Z"
   },
   {
    "duration": 11,
    "start_time": "2022-04-29T20:46:42.758Z"
   },
   {
    "duration": 10,
    "start_time": "2022-04-29T20:46:54.693Z"
   },
   {
    "duration": 26,
    "start_time": "2022-04-29T20:47:09.888Z"
   },
   {
    "duration": 26,
    "start_time": "2022-04-29T20:47:16.887Z"
   },
   {
    "duration": 8,
    "start_time": "2022-04-29T20:48:55.989Z"
   },
   {
    "duration": 8,
    "start_time": "2022-04-29T20:49:12.708Z"
   },
   {
    "duration": 27,
    "start_time": "2022-04-29T20:49:27.278Z"
   },
   {
    "duration": 8,
    "start_time": "2022-04-29T20:49:54.087Z"
   },
   {
    "duration": 28,
    "start_time": "2022-04-29T20:50:25.926Z"
   },
   {
    "duration": 27,
    "start_time": "2022-04-29T20:50:55.864Z"
   },
   {
    "duration": 28,
    "start_time": "2022-04-29T20:51:03.530Z"
   },
   {
    "duration": 30,
    "start_time": "2022-04-29T20:51:23.847Z"
   },
   {
    "duration": 32,
    "start_time": "2022-04-29T20:51:30.977Z"
   },
   {
    "duration": 125,
    "start_time": "2022-04-29T20:51:58.616Z"
   },
   {
    "duration": 7,
    "start_time": "2022-04-29T20:52:04.301Z"
   },
   {
    "duration": 8,
    "start_time": "2022-04-29T20:56:55.868Z"
   },
   {
    "duration": 10,
    "start_time": "2022-04-29T21:08:32.705Z"
   },
   {
    "duration": 10,
    "start_time": "2022-04-29T21:08:48.689Z"
   },
   {
    "duration": 7,
    "start_time": "2022-04-29T21:08:59.316Z"
   },
   {
    "duration": 11,
    "start_time": "2022-04-29T21:09:57.829Z"
   },
   {
    "duration": 9,
    "start_time": "2022-04-29T21:10:06.943Z"
   },
   {
    "duration": 8,
    "start_time": "2022-04-29T21:10:09.506Z"
   },
   {
    "duration": 6,
    "start_time": "2022-04-29T21:10:50.928Z"
   },
   {
    "duration": 29,
    "start_time": "2022-04-29T21:11:04.867Z"
   },
   {
    "duration": 29,
    "start_time": "2022-04-29T21:14:59.504Z"
   },
   {
    "duration": 6,
    "start_time": "2022-04-29T21:15:58.540Z"
   },
   {
    "duration": 9,
    "start_time": "2022-04-29T21:29:50.112Z"
   },
   {
    "duration": 28,
    "start_time": "2022-04-29T21:30:25.762Z"
   },
   {
    "duration": 18,
    "start_time": "2022-04-29T21:35:16.379Z"
   },
   {
    "duration": 46,
    "start_time": "2022-04-29T21:38:25.549Z"
   },
   {
    "duration": 6,
    "start_time": "2022-04-29T21:38:43.769Z"
   },
   {
    "duration": 45,
    "start_time": "2022-04-29T21:38:48.138Z"
   },
   {
    "duration": 24,
    "start_time": "2022-04-29T21:38:55.943Z"
   },
   {
    "duration": 30,
    "start_time": "2022-04-29T21:43:24.307Z"
   },
   {
    "duration": 31,
    "start_time": "2022-04-29T21:45:41.712Z"
   },
   {
    "duration": 53,
    "start_time": "2022-04-29T21:46:10.810Z"
   },
   {
    "duration": 43,
    "start_time": "2022-04-29T21:46:44.465Z"
   },
   {
    "duration": 43,
    "start_time": "2022-04-30T14:10:14.389Z"
   },
   {
    "duration": 1821,
    "start_time": "2022-04-30T14:19:12.103Z"
   },
   {
    "duration": 5,
    "start_time": "2022-04-30T14:20:08.574Z"
   },
   {
    "duration": 1627,
    "start_time": "2022-04-30T14:20:15.864Z"
   },
   {
    "duration": 3,
    "start_time": "2022-04-30T14:20:42.539Z"
   },
   {
    "duration": 73,
    "start_time": "2022-04-30T14:20:59.146Z"
   },
   {
    "duration": 4,
    "start_time": "2022-04-30T14:21:22.053Z"
   },
   {
    "duration": 1600,
    "start_time": "2022-04-30T14:21:30.993Z"
   },
   {
    "duration": 13,
    "start_time": "2022-04-30T14:21:36.211Z"
   },
   {
    "duration": 1452,
    "start_time": "2022-04-30T14:22:43.980Z"
   },
   {
    "duration": 6,
    "start_time": "2022-04-30T14:22:47.194Z"
   },
   {
    "duration": 1835,
    "start_time": "2022-04-30T14:22:49.536Z"
   },
   {
    "duration": 86,
    "start_time": "2022-04-30T14:23:58.311Z"
   },
   {
    "duration": 16,
    "start_time": "2022-04-30T14:24:47.307Z"
   },
   {
    "duration": 312,
    "start_time": "2022-04-30T14:24:59.990Z"
   },
   {
    "duration": 5,
    "start_time": "2022-04-30T14:26:28.027Z"
   },
   {
    "duration": 45,
    "start_time": "2022-04-30T14:26:35.127Z"
   },
   {
    "duration": 12,
    "start_time": "2022-04-30T14:26:53.402Z"
   },
   {
    "duration": 101,
    "start_time": "2022-04-30T14:32:37.745Z"
   },
   {
    "duration": 3,
    "start_time": "2022-04-30T14:32:51.442Z"
   },
   {
    "duration": 7,
    "start_time": "2022-04-30T14:32:56.494Z"
   },
   {
    "duration": 12,
    "start_time": "2022-04-30T14:33:11.297Z"
   },
   {
    "duration": 10,
    "start_time": "2022-04-30T14:33:18.345Z"
   },
   {
    "duration": 129,
    "start_time": "2022-04-30T14:34:37.178Z"
   },
   {
    "duration": 7,
    "start_time": "2022-04-30T14:34:43.059Z"
   },
   {
    "duration": 13,
    "start_time": "2022-04-30T14:34:50.966Z"
   },
   {
    "duration": 5,
    "start_time": "2022-04-30T14:34:56.422Z"
   },
   {
    "duration": 6,
    "start_time": "2022-04-30T14:35:08.674Z"
   },
   {
    "duration": 10,
    "start_time": "2022-04-30T14:35:19.351Z"
   },
   {
    "duration": 5,
    "start_time": "2022-04-30T14:35:26.533Z"
   },
   {
    "duration": 5,
    "start_time": "2022-04-30T14:36:29.360Z"
   },
   {
    "duration": 3357,
    "start_time": "2022-04-30T14:37:29.499Z"
   },
   {
    "duration": 5,
    "start_time": "2022-04-30T14:42:00.740Z"
   },
   {
    "duration": 5,
    "start_time": "2022-04-30T14:42:09.394Z"
   },
   {
    "duration": 8,
    "start_time": "2022-04-30T14:42:19.340Z"
   },
   {
    "duration": 16,
    "start_time": "2022-04-30T14:42:30.956Z"
   },
   {
    "duration": 153,
    "start_time": "2022-04-30T14:42:36.345Z"
   },
   {
    "duration": 8,
    "start_time": "2022-04-30T14:42:40.142Z"
   },
   {
    "duration": 6,
    "start_time": "2022-04-30T14:45:21.257Z"
   },
   {
    "duration": 7,
    "start_time": "2022-04-30T14:46:26.715Z"
   },
   {
    "duration": 1033,
    "start_time": "2022-04-30T14:46:42.259Z"
   },
   {
    "duration": 9,
    "start_time": "2022-04-30T14:58:03.400Z"
   },
   {
    "duration": 1622,
    "start_time": "2022-04-30T14:59:57.896Z"
   },
   {
    "duration": 12,
    "start_time": "2022-04-30T15:01:01.299Z"
   },
   {
    "duration": 4,
    "start_time": "2022-04-30T15:01:22.405Z"
   },
   {
    "duration": 134,
    "start_time": "2022-04-30T15:01:51.266Z"
   },
   {
    "duration": 1489,
    "start_time": "2022-04-30T15:11:44.097Z"
   },
   {
    "duration": 144,
    "start_time": "2022-04-30T15:12:32.460Z"
   },
   {
    "duration": 132,
    "start_time": "2022-04-30T15:12:37.116Z"
   },
   {
    "duration": 122,
    "start_time": "2022-04-30T15:12:41.421Z"
   },
   {
    "duration": 87,
    "start_time": "2022-04-30T15:12:50.093Z"
   },
   {
    "duration": 1172,
    "start_time": "2022-04-30T15:13:13.767Z"
   },
   {
    "duration": 2480,
    "start_time": "2022-04-30T15:14:33.191Z"
   },
   {
    "duration": 47,
    "start_time": "2022-04-30T15:15:01.456Z"
   },
   {
    "duration": 7,
    "start_time": "2022-04-30T15:15:09.202Z"
   },
   {
    "duration": 6,
    "start_time": "2022-04-30T15:15:09.253Z"
   },
   {
    "duration": 0,
    "start_time": "2022-04-30T15:15:09.261Z"
   },
   {
    "duration": 0,
    "start_time": "2022-04-30T15:15:09.262Z"
   },
   {
    "duration": 0,
    "start_time": "2022-04-30T15:15:09.263Z"
   },
   {
    "duration": 0,
    "start_time": "2022-04-30T15:15:09.264Z"
   },
   {
    "duration": 0,
    "start_time": "2022-04-30T15:15:09.265Z"
   },
   {
    "duration": 0,
    "start_time": "2022-04-30T15:15:09.266Z"
   },
   {
    "duration": 0,
    "start_time": "2022-04-30T15:15:09.267Z"
   },
   {
    "duration": 6,
    "start_time": "2022-04-30T15:15:09.268Z"
   },
   {
    "duration": 0,
    "start_time": "2022-04-30T15:15:09.276Z"
   },
   {
    "duration": 6,
    "start_time": "2022-04-30T15:15:09.296Z"
   },
   {
    "duration": 0,
    "start_time": "2022-04-30T15:15:09.304Z"
   },
   {
    "duration": 0,
    "start_time": "2022-04-30T15:15:09.305Z"
   },
   {
    "duration": 0,
    "start_time": "2022-04-30T15:15:09.306Z"
   },
   {
    "duration": 0,
    "start_time": "2022-04-30T15:15:09.312Z"
   },
   {
    "duration": 0,
    "start_time": "2022-04-30T15:15:09.312Z"
   },
   {
    "duration": 0,
    "start_time": "2022-04-30T15:15:09.313Z"
   },
   {
    "duration": 0,
    "start_time": "2022-04-30T15:15:09.313Z"
   },
   {
    "duration": 7,
    "start_time": "2022-04-30T15:15:31.473Z"
   },
   {
    "duration": 1550,
    "start_time": "2022-04-30T15:15:36.437Z"
   },
   {
    "duration": 5,
    "start_time": "2022-04-30T15:15:37.990Z"
   },
   {
    "duration": 1655,
    "start_time": "2022-04-30T15:15:37.997Z"
   },
   {
    "duration": 2010,
    "start_time": "2022-04-30T15:15:39.654Z"
   },
   {
    "duration": 1178,
    "start_time": "2022-04-30T15:15:46.593Z"
   },
   {
    "duration": 124,
    "start_time": "2022-04-30T15:16:53.694Z"
   },
   {
    "duration": 1066,
    "start_time": "2022-04-30T15:17:56.659Z"
   },
   {
    "duration": 1199,
    "start_time": "2022-04-30T15:19:02.028Z"
   },
   {
    "duration": 1224,
    "start_time": "2022-04-30T15:19:11.823Z"
   },
   {
    "duration": 7,
    "start_time": "2022-04-30T15:19:24.456Z"
   },
   {
    "duration": 9,
    "start_time": "2022-04-30T15:19:39.347Z"
   },
   {
    "duration": 23606,
    "start_time": "2022-04-30T15:19:47.354Z"
   },
   {
    "duration": 4,
    "start_time": "2022-04-30T15:31:27.323Z"
   },
   {
    "duration": 3040,
    "start_time": "2022-04-30T15:31:28.713Z"
   },
   {
    "duration": 6,
    "start_time": "2022-04-30T15:31:39.761Z"
   },
   {
    "duration": 29223,
    "start_time": "2022-04-30T15:31:47.571Z"
   },
   {
    "duration": 12,
    "start_time": "2022-04-30T15:44:23.738Z"
   },
   {
    "duration": 116,
    "start_time": "2022-04-30T15:55:46.216Z"
   },
   {
    "duration": 4295,
    "start_time": "2022-04-30T16:04:42.769Z"
   },
   {
    "duration": 127,
    "start_time": "2022-04-30T16:05:07.777Z"
   },
   {
    "duration": 120,
    "start_time": "2022-04-30T16:05:23.578Z"
   },
   {
    "duration": 126,
    "start_time": "2022-04-30T16:05:34.483Z"
   },
   {
    "duration": 44,
    "start_time": "2022-04-30T16:05:56.297Z"
   },
   {
    "duration": 6,
    "start_time": "2022-04-30T16:06:03.638Z"
   },
   {
    "duration": 5,
    "start_time": "2022-04-30T16:06:12.906Z"
   },
   {
    "duration": 6,
    "start_time": "2022-04-30T16:06:30.773Z"
   },
   {
    "duration": 121,
    "start_time": "2022-04-30T16:06:56.710Z"
   },
   {
    "duration": 340,
    "start_time": "2022-04-30T16:07:10.910Z"
   },
   {
    "duration": 2159,
    "start_time": "2022-04-30T16:07:21.852Z"
   },
   {
    "duration": 8,
    "start_time": "2022-04-30T16:07:29.244Z"
   },
   {
    "duration": 2,
    "start_time": "2022-04-30T16:07:51.071Z"
   },
   {
    "duration": 136,
    "start_time": "2022-04-30T16:08:23.038Z"
   },
   {
    "duration": 6,
    "start_time": "2022-04-30T16:08:27.437Z"
   },
   {
    "duration": 7,
    "start_time": "2022-04-30T16:08:35.168Z"
   },
   {
    "duration": 6,
    "start_time": "2022-04-30T16:08:46.289Z"
   },
   {
    "duration": 9,
    "start_time": "2022-04-30T16:08:54.531Z"
   },
   {
    "duration": 6,
    "start_time": "2022-04-30T16:09:01.977Z"
   },
   {
    "duration": 6,
    "start_time": "2022-04-30T16:09:06.635Z"
   },
   {
    "duration": 7,
    "start_time": "2022-04-30T16:09:13.436Z"
   },
   {
    "duration": 7,
    "start_time": "2022-04-30T16:09:18.073Z"
   },
   {
    "duration": 6,
    "start_time": "2022-04-30T16:09:38.200Z"
   },
   {
    "duration": 5,
    "start_time": "2022-04-30T16:09:47.617Z"
   },
   {
    "duration": 117,
    "start_time": "2022-04-30T16:12:17.344Z"
   },
   {
    "duration": 1693,
    "start_time": "2022-05-01T18:54:32.847Z"
   },
   {
    "duration": 2804,
    "start_time": "2022-05-01T18:54:34.543Z"
   },
   {
    "duration": 6,
    "start_time": "2022-05-01T18:54:39.616Z"
   },
   {
    "duration": 110,
    "start_time": "2022-05-01T18:54:44.575Z"
   },
   {
    "duration": 9,
    "start_time": "2022-05-01T18:54:56.471Z"
   },
   {
    "duration": 1711,
    "start_time": "2022-05-01T18:55:01.972Z"
   },
   {
    "duration": 5,
    "start_time": "2022-05-01T18:55:07.426Z"
   },
   {
    "duration": 5,
    "start_time": "2022-05-01T19:16:41.840Z"
   },
   {
    "duration": 1979,
    "start_time": "2022-05-01T19:16:45.383Z"
   },
   {
    "duration": 5,
    "start_time": "2022-05-01T19:16:48.992Z"
   },
   {
    "duration": 1742,
    "start_time": "2022-05-03T17:45:42.722Z"
   },
   {
    "duration": 7,
    "start_time": "2022-05-03T17:46:01.278Z"
   },
   {
    "duration": 1887,
    "start_time": "2022-05-03T17:46:04.033Z"
   },
   {
    "duration": 5,
    "start_time": "2022-05-03T17:48:22.760Z"
   },
   {
    "duration": 52,
    "start_time": "2022-05-03T17:51:44.869Z"
   },
   {
    "duration": 12,
    "start_time": "2022-05-03T17:51:48.549Z"
   },
   {
    "duration": 27,
    "start_time": "2022-05-03T17:52:07.702Z"
   },
   {
    "duration": 7,
    "start_time": "2022-05-03T17:52:31.337Z"
   },
   {
    "duration": 56,
    "start_time": "2022-05-03T17:53:37.564Z"
   },
   {
    "duration": 12,
    "start_time": "2022-05-03T17:54:04.516Z"
   },
   {
    "duration": 41,
    "start_time": "2022-05-03T17:54:04.530Z"
   },
   {
    "duration": 32,
    "start_time": "2022-05-03T17:54:04.573Z"
   },
   {
    "duration": 48,
    "start_time": "2022-05-03T17:54:04.608Z"
   },
   {
    "duration": 157,
    "start_time": "2022-05-03T17:54:04.658Z"
   },
   {
    "duration": 0,
    "start_time": "2022-05-03T17:54:04.816Z"
   },
   {
    "duration": 0,
    "start_time": "2022-05-03T17:54:04.818Z"
   },
   {
    "duration": 0,
    "start_time": "2022-05-03T17:54:04.819Z"
   },
   {
    "duration": 0,
    "start_time": "2022-05-03T17:54:04.819Z"
   },
   {
    "duration": 0,
    "start_time": "2022-05-03T17:54:04.833Z"
   },
   {
    "duration": 0,
    "start_time": "2022-05-03T17:54:04.834Z"
   },
   {
    "duration": 0,
    "start_time": "2022-05-03T17:54:04.835Z"
   },
   {
    "duration": 0,
    "start_time": "2022-05-03T17:54:04.836Z"
   },
   {
    "duration": 2663,
    "start_time": "2022-05-03T17:54:50.174Z"
   },
   {
    "duration": 6,
    "start_time": "2022-05-03T17:54:52.840Z"
   },
   {
    "duration": 9,
    "start_time": "2022-05-03T17:54:52.848Z"
   },
   {
    "duration": 1803,
    "start_time": "2022-05-03T17:54:52.859Z"
   },
   {
    "duration": 5,
    "start_time": "2022-05-03T17:54:54.663Z"
   },
   {
    "duration": 46,
    "start_time": "2022-05-03T17:54:54.670Z"
   },
   {
    "duration": 27,
    "start_time": "2022-05-03T17:54:54.717Z"
   },
   {
    "duration": 33,
    "start_time": "2022-05-03T17:54:54.746Z"
   },
   {
    "duration": 42,
    "start_time": "2022-05-03T17:55:02.871Z"
   },
   {
    "duration": 28,
    "start_time": "2022-05-03T17:56:27.786Z"
   },
   {
    "duration": 14,
    "start_time": "2022-05-03T17:56:42.224Z"
   },
   {
    "duration": 14,
    "start_time": "2022-05-03T17:56:48.809Z"
   },
   {
    "duration": 7,
    "start_time": "2022-05-03T17:58:23.713Z"
   },
   {
    "duration": 5,
    "start_time": "2022-05-03T17:59:02.314Z"
   },
   {
    "duration": 5,
    "start_time": "2022-05-03T17:59:06.948Z"
   },
   {
    "duration": 8,
    "start_time": "2022-05-03T18:04:44.992Z"
   },
   {
    "duration": 7,
    "start_time": "2022-05-03T18:05:13.646Z"
   },
   {
    "duration": 30,
    "start_time": "2022-05-03T18:11:47.955Z"
   },
   {
    "duration": 12,
    "start_time": "2022-05-03T18:13:38.948Z"
   },
   {
    "duration": 11,
    "start_time": "2022-05-03T18:16:36.687Z"
   },
   {
    "duration": 72,
    "start_time": "2022-05-03T18:27:41.072Z"
   },
   {
    "duration": 8,
    "start_time": "2022-05-03T18:27:51.620Z"
   },
   {
    "duration": 2503,
    "start_time": "2022-05-03T18:28:55.562Z"
   },
   {
    "duration": 5,
    "start_time": "2022-05-03T18:28:58.067Z"
   },
   {
    "duration": 7,
    "start_time": "2022-05-03T18:28:58.074Z"
   },
   {
    "duration": 2011,
    "start_time": "2022-05-03T18:28:58.083Z"
   },
   {
    "duration": 6,
    "start_time": "2022-05-03T18:29:00.096Z"
   },
   {
    "duration": 71,
    "start_time": "2022-05-03T18:29:00.104Z"
   },
   {
    "duration": 15,
    "start_time": "2022-05-03T18:29:00.177Z"
   },
   {
    "duration": 45,
    "start_time": "2022-05-03T18:29:00.194Z"
   },
   {
    "duration": 10,
    "start_time": "2022-05-03T18:29:00.241Z"
   },
   {
    "duration": 48,
    "start_time": "2022-05-03T18:29:00.253Z"
   },
   {
    "duration": 17,
    "start_time": "2022-05-03T18:29:50.161Z"
   },
   {
    "duration": 72,
    "start_time": "2022-05-03T18:30:23.676Z"
   },
   {
    "duration": 8,
    "start_time": "2022-05-03T18:30:33.555Z"
   },
   {
    "duration": 29,
    "start_time": "2022-05-03T18:31:58.550Z"
   },
   {
    "duration": 9,
    "start_time": "2022-05-03T18:32:01.454Z"
   },
   {
    "duration": 31,
    "start_time": "2022-05-03T18:32:10.416Z"
   },
   {
    "duration": 7,
    "start_time": "2022-05-03T18:32:14.959Z"
   },
   {
    "duration": 12,
    "start_time": "2022-05-03T18:33:00.513Z"
   },
   {
    "duration": 15,
    "start_time": "2022-05-03T18:33:40.986Z"
   },
   {
    "duration": 10,
    "start_time": "2022-05-03T18:33:44.131Z"
   },
   {
    "duration": 99,
    "start_time": "2022-05-03T18:34:54.302Z"
   },
   {
    "duration": 8,
    "start_time": "2022-05-03T18:34:57.303Z"
   },
   {
    "duration": 4202,
    "start_time": "2022-05-03T18:35:08.256Z"
   },
   {
    "duration": 5,
    "start_time": "2022-05-03T18:35:12.461Z"
   },
   {
    "duration": 8,
    "start_time": "2022-05-03T18:35:12.468Z"
   },
   {
    "duration": 1920,
    "start_time": "2022-05-03T18:35:12.479Z"
   },
   {
    "duration": 5,
    "start_time": "2022-05-03T18:35:14.401Z"
   },
   {
    "duration": 64,
    "start_time": "2022-05-03T18:35:14.408Z"
   },
   {
    "duration": 13,
    "start_time": "2022-05-03T18:35:14.473Z"
   },
   {
    "duration": 29,
    "start_time": "2022-05-03T18:35:14.488Z"
   },
   {
    "duration": 20,
    "start_time": "2022-05-03T18:35:14.519Z"
   },
   {
    "duration": 52,
    "start_time": "2022-05-03T18:35:14.543Z"
   },
   {
    "duration": 44,
    "start_time": "2022-05-03T18:35:14.596Z"
   },
   {
    "duration": 33,
    "start_time": "2022-05-03T18:35:24.332Z"
   },
   {
    "duration": 5378,
    "start_time": "2022-05-03T18:35:35.798Z"
   },
   {
    "duration": 34,
    "start_time": "2022-05-03T18:36:31.156Z"
   },
   {
    "duration": 49,
    "start_time": "2022-05-03T18:36:42.415Z"
   },
   {
    "duration": 72,
    "start_time": "2022-05-03T18:37:25.048Z"
   },
   {
    "duration": 67,
    "start_time": "2022-05-03T18:37:42.848Z"
   },
   {
    "duration": 66,
    "start_time": "2022-05-03T18:37:55.346Z"
   },
   {
    "duration": 75,
    "start_time": "2022-05-03T18:44:46.709Z"
   },
   {
    "duration": 5,
    "start_time": "2022-05-03T18:45:00.661Z"
   },
   {
    "duration": 5,
    "start_time": "2022-05-03T18:45:25.107Z"
   },
   {
    "duration": 11,
    "start_time": "2022-05-03T18:46:23.668Z"
   },
   {
    "duration": 5,
    "start_time": "2022-05-03T18:46:28.010Z"
   },
   {
    "duration": 5,
    "start_time": "2022-05-03T18:48:13.560Z"
   },
   {
    "duration": 5,
    "start_time": "2022-05-03T18:48:42.272Z"
   },
   {
    "duration": 5,
    "start_time": "2022-05-03T18:48:56.078Z"
   },
   {
    "duration": 4,
    "start_time": "2022-05-03T18:49:12.782Z"
   },
   {
    "duration": 43,
    "start_time": "2022-05-03T18:49:54.809Z"
   },
   {
    "duration": 36,
    "start_time": "2022-05-03T18:50:06.745Z"
   },
   {
    "duration": 30,
    "start_time": "2022-05-03T18:50:11.372Z"
   },
   {
    "duration": 39,
    "start_time": "2022-05-03T18:50:59.995Z"
   },
   {
    "duration": 21,
    "start_time": "2022-05-03T18:53:45.889Z"
   },
   {
    "duration": 12,
    "start_time": "2022-05-03T18:54:15.789Z"
   },
   {
    "duration": 11,
    "start_time": "2022-05-03T18:54:51.324Z"
   },
   {
    "duration": 21,
    "start_time": "2022-05-03T18:55:00.196Z"
   },
   {
    "duration": 11,
    "start_time": "2022-05-03T19:00:07.224Z"
   },
   {
    "duration": 11,
    "start_time": "2022-05-03T19:00:21.011Z"
   },
   {
    "duration": 84,
    "start_time": "2022-05-03T19:01:04.541Z"
   },
   {
    "duration": 25,
    "start_time": "2022-05-03T19:01:26.284Z"
   },
   {
    "duration": 23,
    "start_time": "2022-05-03T19:01:37.900Z"
   },
   {
    "duration": 5,
    "start_time": "2022-05-03T19:07:43.524Z"
   },
   {
    "duration": 5,
    "start_time": "2022-05-03T19:08:07.403Z"
   },
   {
    "duration": 1226,
    "start_time": "2022-05-03T19:09:43.186Z"
   },
   {
    "duration": 31,
    "start_time": "2022-05-03T19:10:11.382Z"
   },
   {
    "duration": 492,
    "start_time": "2022-05-03T19:16:45.558Z"
   },
   {
    "duration": 10,
    "start_time": "2022-05-03T19:16:54.878Z"
   },
   {
    "duration": 10,
    "start_time": "2022-05-03T19:18:05.012Z"
   },
   {
    "duration": 10,
    "start_time": "2022-05-03T19:18:16.300Z"
   },
   {
    "duration": 10,
    "start_time": "2022-05-03T19:19:05.893Z"
   },
   {
    "duration": 9,
    "start_time": "2022-05-03T19:19:14.509Z"
   },
   {
    "duration": 1544,
    "start_time": "2022-05-03T19:19:53.261Z"
   },
   {
    "duration": 4618,
    "start_time": "2022-05-03T19:20:33.870Z"
   },
   {
    "duration": 29,
    "start_time": "2022-05-03T19:21:11.055Z"
   },
   {
    "duration": 158,
    "start_time": "2022-05-03T19:22:36.876Z"
   },
   {
    "duration": 9,
    "start_time": "2022-05-03T19:22:40.658Z"
   },
   {
    "duration": 125,
    "start_time": "2022-05-03T19:22:48.517Z"
   },
   {
    "duration": 27,
    "start_time": "2022-05-03T19:23:06.886Z"
   },
   {
    "duration": 2431,
    "start_time": "2022-05-03T19:24:07.804Z"
   },
   {
    "duration": 6,
    "start_time": "2022-05-03T19:24:10.238Z"
   },
   {
    "duration": 10,
    "start_time": "2022-05-03T19:24:10.246Z"
   },
   {
    "duration": 3359,
    "start_time": "2022-05-03T19:24:10.258Z"
   },
   {
    "duration": 23,
    "start_time": "2022-05-03T19:24:13.619Z"
   },
   {
    "duration": 50,
    "start_time": "2022-05-03T19:24:13.643Z"
   },
   {
    "duration": 13,
    "start_time": "2022-05-03T19:24:13.694Z"
   },
   {
    "duration": 39,
    "start_time": "2022-05-03T19:24:13.709Z"
   },
   {
    "duration": 8,
    "start_time": "2022-05-03T19:24:13.749Z"
   },
   {
    "duration": 41,
    "start_time": "2022-05-03T19:24:13.760Z"
   },
   {
    "duration": 59,
    "start_time": "2022-05-03T19:24:13.802Z"
   },
   {
    "duration": 98,
    "start_time": "2022-05-03T19:24:13.863Z"
   },
   {
    "duration": 6,
    "start_time": "2022-05-03T19:24:13.963Z"
   },
   {
    "duration": 13,
    "start_time": "2022-05-03T19:24:13.970Z"
   },
   {
    "duration": 57,
    "start_time": "2022-05-03T19:24:13.985Z"
   },
   {
    "duration": 472,
    "start_time": "2022-05-03T19:24:14.044Z"
   },
   {
    "duration": 38,
    "start_time": "2022-05-03T19:24:14.518Z"
   },
   {
    "duration": 4335,
    "start_time": "2022-05-03T19:24:30.570Z"
   },
   {
    "duration": 25,
    "start_time": "2022-05-03T19:24:53.659Z"
   },
   {
    "duration": 30,
    "start_time": "2022-05-03T19:25:10.574Z"
   },
   {
    "duration": 14,
    "start_time": "2022-05-03T19:25:28.046Z"
   },
   {
    "duration": 33,
    "start_time": "2022-05-03T19:25:29.929Z"
   },
   {
    "duration": 8,
    "start_time": "2022-05-03T19:25:44.829Z"
   },
   {
    "duration": 15,
    "start_time": "2022-05-03T19:27:25.242Z"
   },
   {
    "duration": 7,
    "start_time": "2022-05-03T19:27:42.069Z"
   },
   {
    "duration": 30,
    "start_time": "2022-05-03T19:27:48.694Z"
   },
   {
    "duration": 6,
    "start_time": "2022-05-03T19:29:44.554Z"
   },
   {
    "duration": 27,
    "start_time": "2022-05-03T19:31:03.321Z"
   },
   {
    "duration": 5,
    "start_time": "2022-05-03T19:31:09.527Z"
   },
   {
    "duration": 10,
    "start_time": "2022-05-03T19:31:12.701Z"
   },
   {
    "duration": 10,
    "start_time": "2022-05-03T19:31:24.006Z"
   },
   {
    "duration": 5,
    "start_time": "2022-05-03T19:31:29.111Z"
   },
   {
    "duration": 2274,
    "start_time": "2022-05-03T19:32:41.086Z"
   },
   {
    "duration": 5,
    "start_time": "2022-05-03T19:32:43.362Z"
   },
   {
    "duration": 11,
    "start_time": "2022-05-03T19:32:43.369Z"
   },
   {
    "duration": 1793,
    "start_time": "2022-05-03T19:32:43.382Z"
   },
   {
    "duration": 4,
    "start_time": "2022-05-03T19:32:45.177Z"
   },
   {
    "duration": 68,
    "start_time": "2022-05-03T19:32:45.183Z"
   },
   {
    "duration": 12,
    "start_time": "2022-05-03T19:32:45.252Z"
   },
   {
    "duration": 34,
    "start_time": "2022-05-03T19:32:45.266Z"
   },
   {
    "duration": 7,
    "start_time": "2022-05-03T19:32:45.302Z"
   },
   {
    "duration": 55,
    "start_time": "2022-05-03T19:32:45.311Z"
   },
   {
    "duration": 29,
    "start_time": "2022-05-03T19:32:45.367Z"
   },
   {
    "duration": 110,
    "start_time": "2022-05-03T19:32:45.397Z"
   },
   {
    "duration": 5,
    "start_time": "2022-05-03T19:32:45.509Z"
   },
   {
    "duration": 40,
    "start_time": "2022-05-03T19:32:45.515Z"
   },
   {
    "duration": 33,
    "start_time": "2022-05-03T19:32:53.074Z"
   },
   {
    "duration": 30,
    "start_time": "2022-05-03T19:45:11.700Z"
   },
   {
    "duration": 191,
    "start_time": "2022-05-03T19:45:16.070Z"
   },
   {
    "duration": 8,
    "start_time": "2022-05-03T19:46:40.857Z"
   },
   {
    "duration": 31,
    "start_time": "2022-05-03T19:46:43.785Z"
   },
   {
    "duration": 9,
    "start_time": "2022-05-03T19:47:06.233Z"
   },
   {
    "duration": 28,
    "start_time": "2022-05-03T19:47:08.547Z"
   },
   {
    "duration": 6,
    "start_time": "2022-05-03T19:47:26.171Z"
   },
   {
    "duration": 2325,
    "start_time": "2022-05-03T19:47:35.767Z"
   },
   {
    "duration": 6,
    "start_time": "2022-05-03T19:47:38.095Z"
   },
   {
    "duration": 10,
    "start_time": "2022-05-03T19:47:38.102Z"
   },
   {
    "duration": 1856,
    "start_time": "2022-05-03T19:47:38.114Z"
   },
   {
    "duration": 5,
    "start_time": "2022-05-03T19:47:39.972Z"
   },
   {
    "duration": 69,
    "start_time": "2022-05-03T19:47:39.979Z"
   },
   {
    "duration": 14,
    "start_time": "2022-05-03T19:47:40.050Z"
   },
   {
    "duration": 33,
    "start_time": "2022-05-03T19:47:40.066Z"
   },
   {
    "duration": 34,
    "start_time": "2022-05-03T19:47:40.102Z"
   },
   {
    "duration": 44,
    "start_time": "2022-05-03T19:47:40.139Z"
   },
   {
    "duration": 52,
    "start_time": "2022-05-03T19:47:40.186Z"
   },
   {
    "duration": 96,
    "start_time": "2022-05-03T19:47:40.239Z"
   },
   {
    "duration": 6,
    "start_time": "2022-05-03T19:47:40.337Z"
   },
   {
    "duration": 12,
    "start_time": "2022-05-03T19:47:40.345Z"
   },
   {
    "duration": 36,
    "start_time": "2022-05-03T19:47:40.359Z"
   },
   {
    "duration": 433,
    "start_time": "2022-05-03T19:47:48.116Z"
   },
   {
    "duration": 28,
    "start_time": "2022-05-03T19:47:52.644Z"
   },
   {
    "duration": 65,
    "start_time": "2022-05-03T19:48:03.541Z"
   },
   {
    "duration": 5,
    "start_time": "2022-05-03T19:48:14.077Z"
   },
   {
    "duration": 14,
    "start_time": "2022-05-03T19:48:30.238Z"
   },
   {
    "duration": 2352,
    "start_time": "2022-05-03T19:49:04.619Z"
   },
   {
    "duration": 5,
    "start_time": "2022-05-03T19:49:06.974Z"
   },
   {
    "duration": 15,
    "start_time": "2022-05-03T19:49:06.981Z"
   },
   {
    "duration": 1854,
    "start_time": "2022-05-03T19:49:06.998Z"
   },
   {
    "duration": 5,
    "start_time": "2022-05-03T19:49:08.855Z"
   },
   {
    "duration": 55,
    "start_time": "2022-05-03T19:49:08.862Z"
   },
   {
    "duration": 26,
    "start_time": "2022-05-03T19:49:08.919Z"
   },
   {
    "duration": 37,
    "start_time": "2022-05-03T19:49:08.947Z"
   },
   {
    "duration": 7,
    "start_time": "2022-05-03T19:49:08.986Z"
   },
   {
    "duration": 64,
    "start_time": "2022-05-03T19:49:08.995Z"
   },
   {
    "duration": 31,
    "start_time": "2022-05-03T19:49:09.061Z"
   },
   {
    "duration": 109,
    "start_time": "2022-05-03T19:49:09.093Z"
   },
   {
    "duration": 5,
    "start_time": "2022-05-03T19:49:09.204Z"
   },
   {
    "duration": 23,
    "start_time": "2022-05-03T19:49:09.211Z"
   },
   {
    "duration": 35,
    "start_time": "2022-05-03T19:49:09.236Z"
   },
   {
    "duration": 447,
    "start_time": "2022-05-03T19:49:09.272Z"
   },
   {
    "duration": 17,
    "start_time": "2022-05-03T19:49:09.721Z"
   },
   {
    "duration": 79,
    "start_time": "2022-05-03T19:49:09.740Z"
   },
   {
    "duration": 22,
    "start_time": "2022-05-03T19:55:02.875Z"
   },
   {
    "duration": 25,
    "start_time": "2022-05-03T19:58:31.246Z"
   },
   {
    "duration": 49,
    "start_time": "2022-05-03T19:59:57.783Z"
   },
   {
    "duration": 44,
    "start_time": "2022-05-03T20:01:40.891Z"
   },
   {
    "duration": 21,
    "start_time": "2022-05-03T20:01:52.071Z"
   },
   {
    "duration": 33,
    "start_time": "2022-05-03T20:02:02.061Z"
   },
   {
    "duration": 158,
    "start_time": "2022-05-03T20:02:13.550Z"
   },
   {
    "duration": 52,
    "start_time": "2022-05-03T20:02:27.512Z"
   },
   {
    "duration": 22,
    "start_time": "2022-05-03T20:06:22.506Z"
   },
   {
    "duration": 36,
    "start_time": "2022-05-03T20:07:00.055Z"
   },
   {
    "duration": 16,
    "start_time": "2022-05-03T20:07:18.646Z"
   },
   {
    "duration": 22,
    "start_time": "2022-05-03T20:07:26.553Z"
   },
   {
    "duration": 23,
    "start_time": "2022-05-03T20:07:37.193Z"
   },
   {
    "duration": 25,
    "start_time": "2022-05-03T20:07:39.841Z"
   },
   {
    "duration": 35,
    "start_time": "2022-05-03T20:08:18.830Z"
   },
   {
    "duration": 39,
    "start_time": "2022-05-03T20:11:40.277Z"
   },
   {
    "duration": 7,
    "start_time": "2022-05-03T20:11:44.611Z"
   },
   {
    "duration": 2506,
    "start_time": "2022-05-03T20:14:42.757Z"
   },
   {
    "duration": 5,
    "start_time": "2022-05-03T20:14:45.266Z"
   },
   {
    "duration": 9,
    "start_time": "2022-05-03T20:14:45.273Z"
   },
   {
    "duration": 2021,
    "start_time": "2022-05-03T20:14:45.284Z"
   },
   {
    "duration": 6,
    "start_time": "2022-05-03T20:14:47.307Z"
   },
   {
    "duration": 65,
    "start_time": "2022-05-03T20:14:47.315Z"
   },
   {
    "duration": 14,
    "start_time": "2022-05-03T20:14:47.382Z"
   },
   {
    "duration": 49,
    "start_time": "2022-05-03T20:14:47.398Z"
   },
   {
    "duration": 9,
    "start_time": "2022-05-03T20:14:47.449Z"
   },
   {
    "duration": 41,
    "start_time": "2022-05-03T20:14:47.461Z"
   },
   {
    "duration": 58,
    "start_time": "2022-05-03T20:14:47.504Z"
   },
   {
    "duration": 109,
    "start_time": "2022-05-03T20:14:47.564Z"
   },
   {
    "duration": 6,
    "start_time": "2022-05-03T20:14:47.675Z"
   },
   {
    "duration": 9,
    "start_time": "2022-05-03T20:14:47.682Z"
   },
   {
    "duration": 55,
    "start_time": "2022-05-03T20:14:47.693Z"
   },
   {
    "duration": 493,
    "start_time": "2022-05-03T20:14:47.750Z"
   },
   {
    "duration": 90,
    "start_time": "2022-05-03T20:14:48.245Z"
   },
   {
    "duration": 30,
    "start_time": "2022-05-03T20:14:48.337Z"
   },
   {
    "duration": 54,
    "start_time": "2022-05-03T20:14:48.369Z"
   },
   {
    "duration": 12,
    "start_time": "2022-05-03T20:14:48.437Z"
   },
   {
    "duration": 31,
    "start_time": "2022-05-03T20:15:05.128Z"
   },
   {
    "duration": 21,
    "start_time": "2022-05-03T20:15:07.958Z"
   },
   {
    "duration": 28,
    "start_time": "2022-05-03T20:15:29.341Z"
   },
   {
    "duration": 2439,
    "start_time": "2022-05-03T20:15:37.215Z"
   },
   {
    "duration": 5,
    "start_time": "2022-05-03T20:15:39.656Z"
   },
   {
    "duration": 10,
    "start_time": "2022-05-03T20:15:39.662Z"
   },
   {
    "duration": 1926,
    "start_time": "2022-05-03T20:15:39.674Z"
   },
   {
    "duration": 5,
    "start_time": "2022-05-03T20:15:41.602Z"
   },
   {
    "duration": 62,
    "start_time": "2022-05-03T20:15:41.609Z"
   },
   {
    "duration": 12,
    "start_time": "2022-05-03T20:15:41.673Z"
   },
   {
    "duration": 59,
    "start_time": "2022-05-03T20:15:41.687Z"
   },
   {
    "duration": 9,
    "start_time": "2022-05-03T20:15:41.748Z"
   },
   {
    "duration": 43,
    "start_time": "2022-05-03T20:15:41.759Z"
   },
   {
    "duration": 57,
    "start_time": "2022-05-03T20:15:41.803Z"
   },
   {
    "duration": 118,
    "start_time": "2022-05-03T20:15:41.862Z"
   },
   {
    "duration": 5,
    "start_time": "2022-05-03T20:15:41.982Z"
   },
   {
    "duration": 10,
    "start_time": "2022-05-03T20:15:41.988Z"
   },
   {
    "duration": 58,
    "start_time": "2022-05-03T20:15:42.000Z"
   },
   {
    "duration": 492,
    "start_time": "2022-05-03T20:15:42.060Z"
   },
   {
    "duration": 110,
    "start_time": "2022-05-03T20:15:42.555Z"
   },
   {
    "duration": 23,
    "start_time": "2022-05-03T20:15:42.667Z"
   },
   {
    "duration": 75,
    "start_time": "2022-05-03T20:15:42.691Z"
   },
   {
    "duration": 27,
    "start_time": "2022-05-03T20:15:42.768Z"
   },
   {
    "duration": 122,
    "start_time": "2022-05-03T20:17:32.371Z"
   },
   {
    "duration": 28,
    "start_time": "2022-05-03T20:17:34.760Z"
   },
   {
    "duration": 2444,
    "start_time": "2022-05-03T20:18:10.773Z"
   },
   {
    "duration": 4,
    "start_time": "2022-05-03T20:18:13.221Z"
   },
   {
    "duration": 18,
    "start_time": "2022-05-03T20:18:13.227Z"
   },
   {
    "duration": 1965,
    "start_time": "2022-05-03T20:18:13.248Z"
   },
   {
    "duration": 4,
    "start_time": "2022-05-03T20:18:15.215Z"
   },
   {
    "duration": 64,
    "start_time": "2022-05-03T20:18:15.221Z"
   },
   {
    "duration": 11,
    "start_time": "2022-05-03T20:18:15.287Z"
   },
   {
    "duration": 50,
    "start_time": "2022-05-03T20:18:15.300Z"
   },
   {
    "duration": 7,
    "start_time": "2022-05-03T20:18:15.354Z"
   },
   {
    "duration": 41,
    "start_time": "2022-05-03T20:18:15.364Z"
   },
   {
    "duration": 54,
    "start_time": "2022-05-03T20:18:15.406Z"
   },
   {
    "duration": 100,
    "start_time": "2022-05-03T20:18:15.462Z"
   },
   {
    "duration": 5,
    "start_time": "2022-05-03T20:18:15.563Z"
   },
   {
    "duration": 9,
    "start_time": "2022-05-03T20:18:15.570Z"
   },
   {
    "duration": 59,
    "start_time": "2022-05-03T20:18:15.581Z"
   },
   {
    "duration": 451,
    "start_time": "2022-05-03T20:18:15.642Z"
   },
   {
    "duration": 92,
    "start_time": "2022-05-03T20:18:16.095Z"
   },
   {
    "duration": 21,
    "start_time": "2022-05-03T20:18:16.188Z"
   },
   {
    "duration": 71,
    "start_time": "2022-05-03T20:18:16.210Z"
   },
   {
    "duration": 127,
    "start_time": "2022-05-03T20:18:20.717Z"
   },
   {
    "duration": 5,
    "start_time": "2022-05-03T20:18:23.312Z"
   },
   {
    "duration": 23,
    "start_time": "2022-05-03T20:18:25.809Z"
   },
   {
    "duration": 6,
    "start_time": "2022-05-03T20:18:43.290Z"
   },
   {
    "duration": 6,
    "start_time": "2022-05-03T20:18:45.689Z"
   },
   {
    "duration": 5,
    "start_time": "2022-05-03T20:18:58.651Z"
   },
   {
    "duration": 20,
    "start_time": "2022-05-03T20:20:03.270Z"
   },
   {
    "duration": 20,
    "start_time": "2022-05-03T20:20:15.245Z"
   },
   {
    "duration": 16,
    "start_time": "2022-05-03T20:20:19.111Z"
   },
   {
    "duration": 9,
    "start_time": "2022-05-03T20:20:23.148Z"
   },
   {
    "duration": 4,
    "start_time": "2022-05-03T20:21:45.760Z"
   },
   {
    "duration": 79,
    "start_time": "2022-05-03T20:22:31.285Z"
   },
   {
    "duration": 4,
    "start_time": "2022-05-03T20:23:32.991Z"
   },
   {
    "duration": 80,
    "start_time": "2022-05-03T20:23:34.956Z"
   },
   {
    "duration": 164,
    "start_time": "2022-05-03T20:23:54.868Z"
   },
   {
    "duration": 34,
    "start_time": "2022-05-03T20:34:18.170Z"
   },
   {
    "duration": 37,
    "start_time": "2022-05-03T20:34:25.906Z"
   },
   {
    "duration": 40,
    "start_time": "2022-05-03T20:35:44.660Z"
   },
   {
    "duration": 22,
    "start_time": "2022-05-03T20:42:05.546Z"
   },
   {
    "duration": 14,
    "start_time": "2022-05-03T20:43:37.162Z"
   },
   {
    "duration": 11,
    "start_time": "2022-05-03T20:43:52.681Z"
   },
   {
    "duration": 23,
    "start_time": "2022-05-03T20:43:56.968Z"
   },
   {
    "duration": 4,
    "start_time": "2022-05-03T20:48:00.410Z"
   },
   {
    "duration": 19,
    "start_time": "2022-05-03T20:48:03.541Z"
   },
   {
    "duration": 443,
    "start_time": "2022-05-03T20:48:32.974Z"
   },
   {
    "duration": 21,
    "start_time": "2022-05-03T20:48:38.999Z"
   },
   {
    "duration": 431,
    "start_time": "2022-05-03T20:49:06.475Z"
   },
   {
    "duration": 80,
    "start_time": "2022-05-03T20:49:09.394Z"
   },
   {
    "duration": 102,
    "start_time": "2022-05-03T20:51:14.320Z"
   },
   {
    "duration": 45,
    "start_time": "2022-05-03T20:51:31.304Z"
   },
   {
    "duration": 38,
    "start_time": "2022-05-03T20:51:47.528Z"
   },
   {
    "duration": 100,
    "start_time": "2022-05-03T20:52:14.553Z"
   },
   {
    "duration": 6,
    "start_time": "2022-05-03T20:52:50.980Z"
   },
   {
    "duration": 6,
    "start_time": "2022-05-03T20:53:03.337Z"
   },
   {
    "duration": 22,
    "start_time": "2022-05-03T20:53:09.045Z"
   },
   {
    "duration": 31,
    "start_time": "2022-05-03T21:02:22.966Z"
   },
   {
    "duration": 2,
    "start_time": "2022-05-03T21:02:36.385Z"
   },
   {
    "duration": 2,
    "start_time": "2022-05-03T21:02:48.977Z"
   },
   {
    "duration": 2,
    "start_time": "2022-05-03T21:02:56.165Z"
   },
   {
    "duration": 9,
    "start_time": "2022-05-03T21:03:03.904Z"
   },
   {
    "duration": 9,
    "start_time": "2022-05-03T21:03:09.857Z"
   },
   {
    "duration": 4,
    "start_time": "2022-05-03T21:03:16.572Z"
   },
   {
    "duration": 3,
    "start_time": "2022-05-03T21:03:48.890Z"
   },
   {
    "duration": 9,
    "start_time": "2022-05-03T21:03:55.300Z"
   },
   {
    "duration": 2425,
    "start_time": "2022-05-03T21:04:21.838Z"
   },
   {
    "duration": 5,
    "start_time": "2022-05-03T21:04:24.266Z"
   },
   {
    "duration": 13,
    "start_time": "2022-05-03T21:04:24.273Z"
   },
   {
    "duration": 1838,
    "start_time": "2022-05-03T21:04:24.289Z"
   },
   {
    "duration": 7,
    "start_time": "2022-05-03T21:04:26.128Z"
   },
   {
    "duration": 37,
    "start_time": "2022-05-03T21:04:26.137Z"
   },
   {
    "duration": 13,
    "start_time": "2022-05-03T21:04:26.176Z"
   },
   {
    "duration": 59,
    "start_time": "2022-05-03T21:04:26.191Z"
   },
   {
    "duration": 9,
    "start_time": "2022-05-03T21:04:26.252Z"
   },
   {
    "duration": 41,
    "start_time": "2022-05-03T21:04:26.265Z"
   },
   {
    "duration": 55,
    "start_time": "2022-05-03T21:04:26.308Z"
   },
   {
    "duration": 93,
    "start_time": "2022-05-03T21:04:26.365Z"
   },
   {
    "duration": 5,
    "start_time": "2022-05-03T21:04:26.459Z"
   },
   {
    "duration": 8,
    "start_time": "2022-05-03T21:04:26.466Z"
   },
   {
    "duration": 28,
    "start_time": "2022-05-03T21:04:26.476Z"
   },
   {
    "duration": 165,
    "start_time": "2022-05-03T21:04:26.506Z"
   },
   {
    "duration": 0,
    "start_time": "2022-05-03T21:04:26.673Z"
   },
   {
    "duration": 0,
    "start_time": "2022-05-03T21:04:26.674Z"
   },
   {
    "duration": 0,
    "start_time": "2022-05-03T21:04:26.675Z"
   },
   {
    "duration": 0,
    "start_time": "2022-05-03T21:04:26.676Z"
   },
   {
    "duration": 0,
    "start_time": "2022-05-03T21:04:26.677Z"
   },
   {
    "duration": 0,
    "start_time": "2022-05-03T21:04:26.679Z"
   },
   {
    "duration": 0,
    "start_time": "2022-05-03T21:04:26.680Z"
   },
   {
    "duration": 0,
    "start_time": "2022-05-03T21:04:26.681Z"
   },
   {
    "duration": 0,
    "start_time": "2022-05-03T21:04:26.682Z"
   },
   {
    "duration": 0,
    "start_time": "2022-05-03T21:04:26.683Z"
   },
   {
    "duration": 0,
    "start_time": "2022-05-03T21:04:26.684Z"
   },
   {
    "duration": 0,
    "start_time": "2022-05-03T21:04:26.685Z"
   },
   {
    "duration": 0,
    "start_time": "2022-05-03T21:04:26.686Z"
   },
   {
    "duration": 0,
    "start_time": "2022-05-03T21:04:26.687Z"
   },
   {
    "duration": 0,
    "start_time": "2022-05-03T21:04:26.688Z"
   },
   {
    "duration": 179,
    "start_time": "2022-05-03T21:04:54.412Z"
   },
   {
    "duration": 168,
    "start_time": "2022-05-03T21:05:00.508Z"
   },
   {
    "duration": 440,
    "start_time": "2022-05-03T21:05:15.765Z"
   },
   {
    "duration": 3,
    "start_time": "2022-05-03T21:05:32.360Z"
   },
   {
    "duration": 2,
    "start_time": "2022-05-03T21:05:46.998Z"
   },
   {
    "duration": 9,
    "start_time": "2022-05-03T21:05:51.315Z"
   },
   {
    "duration": 2374,
    "start_time": "2022-05-03T21:05:58.816Z"
   },
   {
    "duration": 5,
    "start_time": "2022-05-03T21:06:01.193Z"
   },
   {
    "duration": 15,
    "start_time": "2022-05-03T21:06:01.199Z"
   },
   {
    "duration": 1951,
    "start_time": "2022-05-03T21:06:01.216Z"
   },
   {
    "duration": 5,
    "start_time": "2022-05-03T21:06:03.169Z"
   },
   {
    "duration": 44,
    "start_time": "2022-05-03T21:06:03.176Z"
   },
   {
    "duration": 22,
    "start_time": "2022-05-03T21:06:03.222Z"
   },
   {
    "duration": 33,
    "start_time": "2022-05-03T21:06:03.246Z"
   },
   {
    "duration": 8,
    "start_time": "2022-05-03T21:06:03.281Z"
   },
   {
    "duration": 70,
    "start_time": "2022-05-03T21:06:03.290Z"
   },
   {
    "duration": 32,
    "start_time": "2022-05-03T21:06:03.361Z"
   },
   {
    "duration": 95,
    "start_time": "2022-05-03T21:06:03.394Z"
   },
   {
    "duration": 5,
    "start_time": "2022-05-03T21:06:03.490Z"
   },
   {
    "duration": 11,
    "start_time": "2022-05-03T21:06:03.498Z"
   },
   {
    "duration": 47,
    "start_time": "2022-05-03T21:06:03.510Z"
   },
   {
    "duration": 442,
    "start_time": "2022-05-03T21:06:03.559Z"
   },
   {
    "duration": 87,
    "start_time": "2022-05-03T21:06:04.002Z"
   },
   {
    "duration": 23,
    "start_time": "2022-05-03T21:06:04.091Z"
   },
   {
    "duration": 49,
    "start_time": "2022-05-03T21:06:04.116Z"
   },
   {
    "duration": 21,
    "start_time": "2022-05-03T21:06:04.167Z"
   },
   {
    "duration": 71,
    "start_time": "2022-05-03T21:06:04.190Z"
   },
   {
    "duration": 120,
    "start_time": "2022-05-03T21:06:04.262Z"
   },
   {
    "duration": 157,
    "start_time": "2022-05-03T21:06:04.384Z"
   },
   {
    "duration": 34,
    "start_time": "2022-05-03T21:06:04.543Z"
   },
   {
    "duration": 58,
    "start_time": "2022-05-03T21:06:04.579Z"
   },
   {
    "duration": 2,
    "start_time": "2022-05-03T21:06:04.639Z"
   },
   {
    "duration": 30,
    "start_time": "2022-05-03T21:06:04.643Z"
   },
   {
    "duration": 17,
    "start_time": "2022-05-03T21:06:04.675Z"
   },
   {
    "duration": 0,
    "start_time": "2022-05-03T21:06:04.693Z"
   },
   {
    "duration": 0,
    "start_time": "2022-05-03T21:06:04.694Z"
   },
   {
    "duration": 0,
    "start_time": "2022-05-03T21:06:04.695Z"
   },
   {
    "duration": 21,
    "start_time": "2022-05-03T21:07:07.123Z"
   },
   {
    "duration": 105,
    "start_time": "2022-05-03T21:09:10.894Z"
   },
   {
    "duration": 1054,
    "start_time": "2022-05-03T21:09:55.168Z"
   },
   {
    "duration": 727,
    "start_time": "2022-05-03T21:11:57.893Z"
   },
   {
    "duration": 960,
    "start_time": "2022-05-03T21:12:13.278Z"
   },
   {
    "duration": 734,
    "start_time": "2022-05-03T21:12:26.612Z"
   },
   {
    "duration": 704,
    "start_time": "2022-05-03T21:12:33.730Z"
   },
   {
    "duration": 706,
    "start_time": "2022-05-03T21:12:39.939Z"
   },
   {
    "duration": 1416,
    "start_time": "2022-05-03T21:13:39.352Z"
   },
   {
    "duration": 1415,
    "start_time": "2022-05-03T21:13:53.087Z"
   },
   {
    "duration": 83,
    "start_time": "2022-05-03T21:18:23.233Z"
   },
   {
    "duration": 22,
    "start_time": "2022-05-03T21:25:32.844Z"
   },
   {
    "duration": 462,
    "start_time": "2022-05-03T21:32:43.642Z"
   },
   {
    "duration": 10,
    "start_time": "2022-05-03T21:33:56.814Z"
   },
   {
    "duration": 132,
    "start_time": "2022-05-03T21:47:36.852Z"
   },
   {
    "duration": 22,
    "start_time": "2022-05-03T21:48:16.135Z"
   },
   {
    "duration": 23,
    "start_time": "2022-05-03T21:49:32.631Z"
   },
   {
    "duration": 21,
    "start_time": "2022-05-03T21:50:04.107Z"
   },
   {
    "duration": 81,
    "start_time": "2022-05-03T21:52:11.938Z"
   },
   {
    "duration": 8,
    "start_time": "2022-05-03T21:54:16.917Z"
   },
   {
    "duration": 12,
    "start_time": "2022-05-03T21:54:32.310Z"
   },
   {
    "duration": 33,
    "start_time": "2022-05-03T21:54:39.997Z"
   },
   {
    "duration": 10,
    "start_time": "2022-05-03T21:57:11.767Z"
   },
   {
    "duration": 32,
    "start_time": "2022-05-03T21:57:28.043Z"
   },
   {
    "duration": 22,
    "start_time": "2022-05-03T21:57:35.562Z"
   },
   {
    "duration": 17,
    "start_time": "2022-05-03T21:57:49.572Z"
   },
   {
    "duration": 24,
    "start_time": "2022-05-03T21:58:01.476Z"
   },
   {
    "duration": 246,
    "start_time": "2022-05-03T22:02:16.071Z"
   },
   {
    "duration": 31,
    "start_time": "2022-05-03T22:02:23.717Z"
   },
   {
    "duration": 34,
    "start_time": "2022-05-03T22:03:07.195Z"
   },
   {
    "duration": 14,
    "start_time": "2022-05-03T22:03:26.270Z"
   },
   {
    "duration": 12,
    "start_time": "2022-05-03T22:05:23.541Z"
   },
   {
    "duration": 131,
    "start_time": "2022-05-03T22:08:55.116Z"
   },
   {
    "duration": 43,
    "start_time": "2022-05-03T22:21:03.240Z"
   },
   {
    "duration": 158,
    "start_time": "2022-05-03T22:28:10.442Z"
   },
   {
    "duration": 181,
    "start_time": "2022-05-03T22:29:50.358Z"
   },
   {
    "duration": 75,
    "start_time": "2022-05-03T22:29:58.426Z"
   },
   {
    "duration": 105,
    "start_time": "2022-05-03T22:33:56.818Z"
   },
   {
    "duration": 61,
    "start_time": "2022-05-03T22:43:05.518Z"
   },
   {
    "duration": 59,
    "start_time": "2022-05-03T22:43:52.790Z"
   },
   {
    "duration": 61,
    "start_time": "2022-05-03T22:44:02.995Z"
   },
   {
    "duration": 60,
    "start_time": "2022-05-03T22:44:11.282Z"
   },
   {
    "duration": 54,
    "start_time": "2022-05-03T22:44:21.176Z"
   },
   {
    "duration": 50,
    "start_time": "2022-05-03T22:44:29.506Z"
   },
   {
    "duration": 41,
    "start_time": "2022-05-03T22:44:59.370Z"
   },
   {
    "duration": 43,
    "start_time": "2022-05-03T22:45:27.997Z"
   },
   {
    "duration": 57,
    "start_time": "2022-05-03T22:45:35.246Z"
   },
   {
    "duration": 45,
    "start_time": "2022-05-04T17:42:02.016Z"
   },
   {
    "duration": 2324,
    "start_time": "2022-05-04T17:42:10.636Z"
   },
   {
    "duration": 1890,
    "start_time": "2022-05-04T17:42:12.962Z"
   },
   {
    "duration": 5,
    "start_time": "2022-05-04T17:42:14.855Z"
   },
   {
    "duration": 1839,
    "start_time": "2022-05-04T17:42:14.862Z"
   },
   {
    "duration": 5,
    "start_time": "2022-05-04T17:42:16.702Z"
   },
   {
    "duration": 57,
    "start_time": "2022-05-04T17:42:16.724Z"
   },
   {
    "duration": 17,
    "start_time": "2022-05-04T17:42:16.783Z"
   },
   {
    "duration": 60,
    "start_time": "2022-05-04T17:42:16.802Z"
   },
   {
    "duration": 10,
    "start_time": "2022-05-04T17:42:16.864Z"
   },
   {
    "duration": 78,
    "start_time": "2022-05-04T17:42:16.877Z"
   },
   {
    "duration": 38,
    "start_time": "2022-05-04T17:42:16.957Z"
   },
   {
    "duration": 255,
    "start_time": "2022-05-04T17:42:16.996Z"
   },
   {
    "duration": 71,
    "start_time": "2022-05-04T18:04:24.749Z"
   },
   {
    "duration": 13,
    "start_time": "2022-05-04T18:04:31.983Z"
   },
   {
    "duration": 236,
    "start_time": "2022-05-04T18:05:11.633Z"
   },
   {
    "duration": 13,
    "start_time": "2022-05-04T18:05:14.033Z"
   },
   {
    "duration": 148,
    "start_time": "2022-05-04T18:05:25.237Z"
   },
   {
    "duration": 160,
    "start_time": "2022-05-04T18:05:30.609Z"
   },
   {
    "duration": 89,
    "start_time": "2022-05-04T18:06:00.659Z"
   },
   {
    "duration": 38,
    "start_time": "2022-05-04T18:06:11.759Z"
   },
   {
    "duration": 2183,
    "start_time": "2022-05-04T18:06:19.572Z"
   },
   {
    "duration": 5,
    "start_time": "2022-05-04T18:06:21.758Z"
   },
   {
    "duration": 11,
    "start_time": "2022-05-04T18:06:21.765Z"
   },
   {
    "duration": 2044,
    "start_time": "2022-05-04T18:06:21.779Z"
   },
   {
    "duration": 6,
    "start_time": "2022-05-04T18:06:23.826Z"
   },
   {
    "duration": 54,
    "start_time": "2022-05-04T18:06:23.834Z"
   },
   {
    "duration": 36,
    "start_time": "2022-05-04T18:06:23.890Z"
   },
   {
    "duration": 34,
    "start_time": "2022-05-04T18:06:23.928Z"
   },
   {
    "duration": 7,
    "start_time": "2022-05-04T18:06:23.964Z"
   },
   {
    "duration": 60,
    "start_time": "2022-05-04T18:06:23.973Z"
   },
   {
    "duration": 29,
    "start_time": "2022-05-04T18:06:24.035Z"
   },
   {
    "duration": 8,
    "start_time": "2022-05-04T18:06:24.066Z"
   },
   {
    "duration": 54,
    "start_time": "2022-05-04T18:06:24.076Z"
   },
   {
    "duration": 77,
    "start_time": "2022-05-04T18:06:24.131Z"
   },
   {
    "duration": 114,
    "start_time": "2022-05-04T18:06:24.210Z"
   },
   {
    "duration": 115,
    "start_time": "2022-05-04T18:07:17.117Z"
   },
   {
    "duration": 112,
    "start_time": "2022-05-04T18:08:35.024Z"
   },
   {
    "duration": 105,
    "start_time": "2022-05-04T18:08:48.578Z"
   },
   {
    "duration": 103,
    "start_time": "2022-05-04T18:09:02.113Z"
   },
   {
    "duration": 101,
    "start_time": "2022-05-04T18:09:11.392Z"
   },
   {
    "duration": 29,
    "start_time": "2022-05-04T18:10:44.881Z"
   },
   {
    "duration": 11120,
    "start_time": "2022-05-04T18:14:36.246Z"
   },
   {
    "duration": 8759,
    "start_time": "2022-05-04T18:15:38.848Z"
   },
   {
    "duration": 7,
    "start_time": "2022-05-04T18:16:25.148Z"
   },
   {
    "duration": 15,
    "start_time": "2022-05-04T18:16:35.188Z"
   },
   {
    "duration": 38,
    "start_time": "2022-05-04T18:16:45.497Z"
   },
   {
    "duration": 25,
    "start_time": "2022-05-04T18:17:28.560Z"
   },
   {
    "duration": 23,
    "start_time": "2022-05-04T18:17:32.691Z"
   },
   {
    "duration": 171,
    "start_time": "2022-05-04T18:17:53.176Z"
   },
   {
    "duration": 10,
    "start_time": "2022-05-04T18:18:09.005Z"
   },
   {
    "duration": 52,
    "start_time": "2022-05-04T18:24:49.401Z"
   },
   {
    "duration": 3562,
    "start_time": "2022-05-04T18:25:50.302Z"
   },
   {
    "duration": 1855,
    "start_time": "2022-05-04T18:25:53.867Z"
   },
   {
    "duration": 5,
    "start_time": "2022-05-04T18:25:55.724Z"
   },
   {
    "duration": 2546,
    "start_time": "2022-05-04T18:25:55.731Z"
   },
   {
    "duration": 6,
    "start_time": "2022-05-04T18:25:58.278Z"
   },
   {
    "duration": 64,
    "start_time": "2022-05-04T18:25:58.286Z"
   },
   {
    "duration": 17,
    "start_time": "2022-05-04T18:25:58.352Z"
   },
   {
    "duration": 38,
    "start_time": "2022-05-04T18:25:58.371Z"
   },
   {
    "duration": 17,
    "start_time": "2022-05-04T18:25:58.411Z"
   },
   {
    "duration": 76,
    "start_time": "2022-05-04T18:25:58.431Z"
   },
   {
    "duration": 44,
    "start_time": "2022-05-04T18:25:58.509Z"
   },
   {
    "duration": 11,
    "start_time": "2022-05-04T18:25:58.554Z"
   },
   {
    "duration": 74,
    "start_time": "2022-05-04T18:25:58.567Z"
   },
   {
    "duration": 138,
    "start_time": "2022-05-04T18:25:58.644Z"
   },
   {
    "duration": 186,
    "start_time": "2022-05-04T18:25:58.785Z"
   },
   {
    "duration": 29,
    "start_time": "2022-05-04T18:25:58.974Z"
   },
   {
    "duration": 44,
    "start_time": "2022-05-04T18:25:59.005Z"
   },
   {
    "duration": 20,
    "start_time": "2022-05-04T18:25:59.051Z"
   },
   {
    "duration": 17,
    "start_time": "2022-05-04T18:25:59.073Z"
   },
   {
    "duration": 57,
    "start_time": "2022-05-04T18:30:08.693Z"
   },
   {
    "duration": 2921,
    "start_time": "2022-05-04T18:30:16.841Z"
   },
   {
    "duration": 3787,
    "start_time": "2022-05-04T18:30:19.765Z"
   },
   {
    "duration": 6,
    "start_time": "2022-05-04T18:30:23.555Z"
   },
   {
    "duration": 2110,
    "start_time": "2022-05-04T18:30:23.563Z"
   },
   {
    "duration": 5,
    "start_time": "2022-05-04T18:30:25.675Z"
   },
   {
    "duration": 70,
    "start_time": "2022-05-04T18:30:25.682Z"
   },
   {
    "duration": 21,
    "start_time": "2022-05-04T18:30:25.755Z"
   },
   {
    "duration": 47,
    "start_time": "2022-05-04T18:30:25.779Z"
   },
   {
    "duration": 8,
    "start_time": "2022-05-04T18:30:25.827Z"
   },
   {
    "duration": 47,
    "start_time": "2022-05-04T18:30:25.837Z"
   },
   {
    "duration": 55,
    "start_time": "2022-05-04T18:30:25.886Z"
   },
   {
    "duration": 8,
    "start_time": "2022-05-04T18:30:25.942Z"
   },
   {
    "duration": 35,
    "start_time": "2022-05-04T18:30:25.952Z"
   },
   {
    "duration": 101,
    "start_time": "2022-05-04T18:30:25.989Z"
   },
   {
    "duration": 150,
    "start_time": "2022-05-04T18:30:26.091Z"
   },
   {
    "duration": 27,
    "start_time": "2022-05-04T18:30:26.243Z"
   },
   {
    "duration": 69,
    "start_time": "2022-05-04T18:30:26.272Z"
   },
   {
    "duration": 35,
    "start_time": "2022-05-04T18:30:26.343Z"
   },
   {
    "duration": 46,
    "start_time": "2022-05-04T18:30:26.380Z"
   },
   {
    "duration": 76831,
    "start_time": "2022-05-04T18:30:26.428Z"
   },
   {
    "duration": 173,
    "start_time": "2022-05-04T18:36:41.100Z"
   },
   {
    "duration": 3313,
    "start_time": "2022-05-04T18:54:09.290Z"
   },
   {
    "duration": 7,
    "start_time": "2022-05-04T18:54:12.606Z"
   },
   {
    "duration": 11,
    "start_time": "2022-05-04T18:54:12.615Z"
   },
   {
    "duration": 2372,
    "start_time": "2022-05-04T18:54:12.629Z"
   },
   {
    "duration": 7,
    "start_time": "2022-05-04T18:54:15.003Z"
   },
   {
    "duration": 93,
    "start_time": "2022-05-04T18:54:15.012Z"
   },
   {
    "duration": 19,
    "start_time": "2022-05-04T18:54:15.107Z"
   },
   {
    "duration": 40,
    "start_time": "2022-05-04T18:54:15.128Z"
   },
   {
    "duration": 12,
    "start_time": "2022-05-04T18:54:15.193Z"
   },
   {
    "duration": 49,
    "start_time": "2022-05-04T18:54:15.208Z"
   },
   {
    "duration": 60,
    "start_time": "2022-05-04T18:54:15.259Z"
   },
   {
    "duration": 9,
    "start_time": "2022-05-04T18:54:15.321Z"
   },
   {
    "duration": 62,
    "start_time": "2022-05-04T18:54:15.333Z"
   },
   {
    "duration": 119,
    "start_time": "2022-05-04T18:54:15.398Z"
   },
   {
    "duration": 187,
    "start_time": "2022-05-04T18:54:15.519Z"
   },
   {
    "duration": 44,
    "start_time": "2022-05-04T18:54:15.708Z"
   },
   {
    "duration": 58,
    "start_time": "2022-05-04T18:54:15.754Z"
   },
   {
    "duration": 23,
    "start_time": "2022-05-04T18:54:15.814Z"
   },
   {
    "duration": 19,
    "start_time": "2022-05-04T18:54:15.839Z"
   },
   {
    "duration": 429,
    "start_time": "2022-05-04T18:54:18.526Z"
   },
   {
    "duration": 247,
    "start_time": "2022-05-04T18:58:46.875Z"
   },
   {
    "duration": 521,
    "start_time": "2022-05-04T18:58:59.837Z"
   },
   {
    "duration": 428,
    "start_time": "2022-05-04T18:59:23.990Z"
   },
   {
    "duration": 734,
    "start_time": "2022-05-04T18:59:44.716Z"
   },
   {
    "duration": 649,
    "start_time": "2022-05-04T19:00:18.452Z"
   },
   {
    "duration": 16,
    "start_time": "2022-05-04T19:02:36.121Z"
   },
   {
    "duration": 9,
    "start_time": "2022-05-04T19:06:40.971Z"
   },
   {
    "duration": 205,
    "start_time": "2022-05-04T19:06:59.320Z"
   },
   {
    "duration": 723,
    "start_time": "2022-05-04T19:07:04.783Z"
   },
   {
    "duration": 11,
    "start_time": "2022-05-04T19:07:23.547Z"
   },
   {
    "duration": 59,
    "start_time": "2022-05-04T19:39:21.639Z"
   },
   {
    "duration": 64,
    "start_time": "2022-05-04T19:39:29.880Z"
   },
   {
    "duration": 26,
    "start_time": "2022-05-04T19:40:01.898Z"
   },
   {
    "duration": 13,
    "start_time": "2022-05-04T19:40:21.444Z"
   },
   {
    "duration": 17,
    "start_time": "2022-05-04T19:40:26.916Z"
   },
   {
    "duration": 30,
    "start_time": "2022-05-04T19:42:20.527Z"
   },
   {
    "duration": 72,
    "start_time": "2022-05-04T19:42:26.686Z"
   },
   {
    "duration": 62,
    "start_time": "2022-05-04T19:43:22.306Z"
   },
   {
    "duration": 54,
    "start_time": "2022-05-04T19:43:34.553Z"
   },
   {
    "duration": 201,
    "start_time": "2022-05-04T19:45:06.349Z"
   },
   {
    "duration": 32,
    "start_time": "2022-05-04T19:46:42.119Z"
   },
   {
    "duration": 27,
    "start_time": "2022-05-04T19:46:45.424Z"
   },
   {
    "duration": 168,
    "start_time": "2022-05-04T19:46:51.103Z"
   },
   {
    "duration": 17,
    "start_time": "2022-05-04T19:46:59.683Z"
   },
   {
    "duration": 313,
    "start_time": "2022-05-04T19:47:04.536Z"
   },
   {
    "duration": 233,
    "start_time": "2022-05-04T19:48:26.535Z"
   },
   {
    "duration": 3902,
    "start_time": "2022-05-04T19:48:35.317Z"
   },
   {
    "duration": 335,
    "start_time": "2022-05-04T19:48:49.777Z"
   },
   {
    "duration": 5332,
    "start_time": "2022-05-04T19:50:06.378Z"
   },
   {
    "duration": 7,
    "start_time": "2022-05-04T19:50:11.714Z"
   },
   {
    "duration": 12,
    "start_time": "2022-05-04T19:50:11.723Z"
   },
   {
    "duration": 2602,
    "start_time": "2022-05-04T19:50:11.738Z"
   },
   {
    "duration": 9,
    "start_time": "2022-05-04T19:50:14.343Z"
   },
   {
    "duration": 88,
    "start_time": "2022-05-04T19:50:14.354Z"
   },
   {
    "duration": 19,
    "start_time": "2022-05-04T19:50:14.444Z"
   },
   {
    "duration": 76,
    "start_time": "2022-05-04T19:50:14.465Z"
   },
   {
    "duration": 12,
    "start_time": "2022-05-04T19:50:14.544Z"
   },
   {
    "duration": 61,
    "start_time": "2022-05-04T19:50:14.560Z"
   },
   {
    "duration": 51,
    "start_time": "2022-05-04T19:50:14.624Z"
   },
   {
    "duration": 9,
    "start_time": "2022-05-04T19:50:14.693Z"
   },
   {
    "duration": 52,
    "start_time": "2022-05-04T19:50:14.704Z"
   },
   {
    "duration": 205,
    "start_time": "2022-05-04T19:50:14.759Z"
   },
   {
    "duration": 183,
    "start_time": "2022-05-04T19:50:14.967Z"
   },
   {
    "duration": 346,
    "start_time": "2022-05-04T19:50:15.152Z"
   },
   {
    "duration": 350,
    "start_time": "2022-05-04T19:50:15.500Z"
   },
   {
    "duration": 49,
    "start_time": "2022-05-04T19:50:15.853Z"
   },
   {
    "duration": 43,
    "start_time": "2022-05-04T19:50:15.905Z"
   },
   {
    "duration": 57,
    "start_time": "2022-05-04T19:50:15.950Z"
   },
   {
    "duration": 22,
    "start_time": "2022-05-04T19:50:16.009Z"
   },
   {
    "duration": 791,
    "start_time": "2022-05-04T19:50:16.033Z"
   },
   {
    "duration": 67,
    "start_time": "2022-05-04T19:50:16.826Z"
   },
   {
    "duration": 31,
    "start_time": "2022-05-04T19:50:16.895Z"
   },
   {
    "duration": 124,
    "start_time": "2022-05-04T19:50:16.928Z"
   },
   {
    "duration": 103,
    "start_time": "2022-05-04T19:50:17.055Z"
   },
   {
    "duration": 396,
    "start_time": "2022-05-04T19:50:17.161Z"
   },
   {
    "duration": 54,
    "start_time": "2022-05-04T19:50:17.564Z"
   },
   {
    "duration": 30,
    "start_time": "2022-05-04T19:50:17.621Z"
   },
   {
    "duration": 260,
    "start_time": "2022-05-04T19:50:17.654Z"
   },
   {
    "duration": 19,
    "start_time": "2022-05-04T19:50:17.917Z"
   },
   {
    "duration": 412,
    "start_time": "2022-05-04T19:50:17.939Z"
   },
   {
    "duration": 173,
    "start_time": "2022-05-04T19:50:18.353Z"
   },
   {
    "duration": 209,
    "start_time": "2022-05-04T19:50:18.529Z"
   },
   {
    "duration": 19,
    "start_time": "2022-05-04T19:50:18.741Z"
   },
   {
    "duration": 0,
    "start_time": "2022-05-04T19:50:18.763Z"
   },
   {
    "duration": 0,
    "start_time": "2022-05-04T19:50:18.765Z"
   },
   {
    "duration": 3637,
    "start_time": "2022-05-04T19:52:30.596Z"
   },
   {
    "duration": 7,
    "start_time": "2022-05-04T19:52:34.236Z"
   },
   {
    "duration": 14,
    "start_time": "2022-05-04T19:52:34.245Z"
   },
   {
    "duration": 2563,
    "start_time": "2022-05-04T19:52:34.262Z"
   },
   {
    "duration": 6,
    "start_time": "2022-05-04T19:52:36.828Z"
   },
   {
    "duration": 82,
    "start_time": "2022-05-04T19:52:36.837Z"
   },
   {
    "duration": 18,
    "start_time": "2022-05-04T19:52:36.921Z"
   },
   {
    "duration": 369,
    "start_time": "2022-05-04T19:52:36.941Z"
   },
   {
    "duration": 382,
    "start_time": "2022-05-04T19:52:37.312Z"
   },
   {
    "duration": 32,
    "start_time": "2022-05-04T19:52:37.696Z"
   },
   {
    "duration": 11,
    "start_time": "2022-05-04T19:52:37.730Z"
   },
   {
    "duration": 86,
    "start_time": "2022-05-04T19:52:37.743Z"
   },
   {
    "duration": 37,
    "start_time": "2022-05-04T19:52:37.831Z"
   },
   {
    "duration": 10,
    "start_time": "2022-05-04T19:52:37.893Z"
   },
   {
    "duration": 37,
    "start_time": "2022-05-04T19:52:37.905Z"
   },
   {
    "duration": 141,
    "start_time": "2022-05-04T19:52:37.944Z"
   },
   {
    "duration": 188,
    "start_time": "2022-05-04T19:52:38.093Z"
   },
   {
    "duration": 49,
    "start_time": "2022-05-04T19:52:38.283Z"
   },
   {
    "duration": 43,
    "start_time": "2022-05-04T19:52:38.334Z"
   },
   {
    "duration": 38,
    "start_time": "2022-05-04T19:52:38.379Z"
   },
   {
    "duration": 21,
    "start_time": "2022-05-04T19:52:38.419Z"
   },
   {
    "duration": 666,
    "start_time": "2022-05-04T19:52:38.443Z"
   },
   {
    "duration": 50,
    "start_time": "2022-05-04T19:52:39.111Z"
   },
   {
    "duration": 47,
    "start_time": "2022-05-04T19:52:39.163Z"
   },
   {
    "duration": 87,
    "start_time": "2022-05-04T19:52:39.213Z"
   },
   {
    "duration": 57,
    "start_time": "2022-05-04T19:52:39.302Z"
   },
   {
    "duration": 224,
    "start_time": "2022-05-04T19:52:39.361Z"
   },
   {
    "duration": 29,
    "start_time": "2022-05-04T19:52:39.592Z"
   },
   {
    "duration": 30,
    "start_time": "2022-05-04T19:52:39.623Z"
   },
   {
    "duration": 197,
    "start_time": "2022-05-04T19:52:39.655Z"
   },
   {
    "duration": 16,
    "start_time": "2022-05-04T19:52:39.854Z"
   },
   {
    "duration": 366,
    "start_time": "2022-05-04T19:52:39.872Z"
   },
   {
    "duration": 116,
    "start_time": "2022-05-04T19:52:40.240Z"
   },
   {
    "duration": 202,
    "start_time": "2022-05-04T19:52:40.358Z"
   },
   {
    "duration": 32,
    "start_time": "2022-05-04T19:52:40.562Z"
   },
   {
    "duration": 0,
    "start_time": "2022-05-04T19:52:40.596Z"
   },
   {
    "duration": 0,
    "start_time": "2022-05-04T19:52:40.598Z"
   },
   {
    "duration": 3466,
    "start_time": "2022-05-04T19:53:53.931Z"
   },
   {
    "duration": 7,
    "start_time": "2022-05-04T19:53:57.400Z"
   },
   {
    "duration": 10,
    "start_time": "2022-05-04T19:53:57.409Z"
   },
   {
    "duration": 2437,
    "start_time": "2022-05-04T19:53:57.423Z"
   },
   {
    "duration": 7,
    "start_time": "2022-05-04T19:53:59.863Z"
   },
   {
    "duration": 80,
    "start_time": "2022-05-04T19:53:59.873Z"
   },
   {
    "duration": 39,
    "start_time": "2022-05-04T19:53:59.956Z"
   },
   {
    "duration": 625,
    "start_time": "2022-05-04T19:53:59.998Z"
   },
   {
    "duration": 732,
    "start_time": "2022-05-04T19:54:00.625Z"
   },
   {
    "duration": 409,
    "start_time": "2022-05-04T19:54:01.363Z"
   },
   {
    "duration": 40,
    "start_time": "2022-05-04T19:54:01.774Z"
   },
   {
    "duration": 11,
    "start_time": "2022-05-04T19:54:01.816Z"
   },
   {
    "duration": 68,
    "start_time": "2022-05-04T19:54:01.830Z"
   },
   {
    "duration": 37,
    "start_time": "2022-05-04T19:54:01.900Z"
   },
   {
    "duration": 12,
    "start_time": "2022-05-04T19:54:01.939Z"
   },
   {
    "duration": 70,
    "start_time": "2022-05-04T19:54:01.953Z"
   },
   {
    "duration": 143,
    "start_time": "2022-05-04T19:54:02.025Z"
   },
   {
    "duration": 174,
    "start_time": "2022-05-04T19:54:02.171Z"
   },
   {
    "duration": 48,
    "start_time": "2022-05-04T19:54:02.348Z"
   },
   {
    "duration": 36,
    "start_time": "2022-05-04T19:54:02.398Z"
   },
   {
    "duration": 23,
    "start_time": "2022-05-04T19:54:02.436Z"
   },
   {
    "duration": 47,
    "start_time": "2022-05-04T19:54:02.462Z"
   },
   {
    "duration": 782,
    "start_time": "2022-05-04T19:54:02.511Z"
   },
   {
    "duration": 48,
    "start_time": "2022-05-04T19:54:03.295Z"
   },
   {
    "duration": 48,
    "start_time": "2022-05-04T19:54:03.345Z"
   },
   {
    "duration": 74,
    "start_time": "2022-05-04T19:54:03.395Z"
   },
   {
    "duration": 89,
    "start_time": "2022-05-04T19:54:03.471Z"
   },
   {
    "duration": 426,
    "start_time": "2022-05-04T19:54:03.567Z"
   },
   {
    "duration": 39,
    "start_time": "2022-05-04T19:54:03.996Z"
   },
   {
    "duration": 31,
    "start_time": "2022-05-04T19:54:04.038Z"
   },
   {
    "duration": 186,
    "start_time": "2022-05-04T19:54:04.094Z"
   },
   {
    "duration": 24,
    "start_time": "2022-05-04T19:54:04.284Z"
   },
   {
    "duration": 128,
    "start_time": "2022-05-04T19:54:04.311Z"
   },
   {
    "duration": 213,
    "start_time": "2022-05-04T19:54:04.441Z"
   },
   {
    "duration": 15,
    "start_time": "2022-05-04T19:54:04.657Z"
   },
   {
    "duration": 0,
    "start_time": "2022-05-04T19:54:04.674Z"
   },
   {
    "duration": 0,
    "start_time": "2022-05-04T19:54:04.693Z"
   },
   {
    "duration": 6,
    "start_time": "2022-05-04T20:00:36.456Z"
   },
   {
    "duration": 116,
    "start_time": "2022-05-04T20:06:40.534Z"
   },
   {
    "duration": 7,
    "start_time": "2022-05-04T20:06:57.641Z"
   },
   {
    "duration": 122,
    "start_time": "2022-05-04T20:07:12.804Z"
   },
   {
    "duration": 9,
    "start_time": "2022-05-04T20:09:06.254Z"
   },
   {
    "duration": 3617,
    "start_time": "2022-05-04T20:11:24.742Z"
   },
   {
    "duration": 7,
    "start_time": "2022-05-04T20:11:28.362Z"
   },
   {
    "duration": 10,
    "start_time": "2022-05-04T20:11:28.371Z"
   },
   {
    "duration": 2597,
    "start_time": "2022-05-04T20:11:28.383Z"
   },
   {
    "duration": 13,
    "start_time": "2022-05-04T20:11:30.984Z"
   },
   {
    "duration": 86,
    "start_time": "2022-05-04T20:11:30.999Z"
   },
   {
    "duration": 19,
    "start_time": "2022-05-04T20:11:31.093Z"
   },
   {
    "duration": 414,
    "start_time": "2022-05-04T20:11:31.115Z"
   },
   {
    "duration": 428,
    "start_time": "2022-05-04T20:11:31.531Z"
   },
   {
    "duration": 442,
    "start_time": "2022-05-04T20:11:31.961Z"
   },
   {
    "duration": 34,
    "start_time": "2022-05-04T20:11:32.405Z"
   },
   {
    "duration": 12,
    "start_time": "2022-05-04T20:11:32.442Z"
   },
   {
    "duration": 101,
    "start_time": "2022-05-04T20:11:32.457Z"
   },
   {
    "duration": 57,
    "start_time": "2022-05-04T20:11:32.563Z"
   },
   {
    "duration": 10,
    "start_time": "2022-05-04T20:11:32.622Z"
   },
   {
    "duration": 60,
    "start_time": "2022-05-04T20:11:32.634Z"
   },
   {
    "duration": 198,
    "start_time": "2022-05-04T20:11:32.697Z"
   },
   {
    "duration": 327,
    "start_time": "2022-05-04T20:11:32.897Z"
   },
   {
    "duration": 91,
    "start_time": "2022-05-04T20:11:33.226Z"
   },
   {
    "duration": 90,
    "start_time": "2022-05-04T20:11:33.319Z"
   },
   {
    "duration": 81,
    "start_time": "2022-05-04T20:11:33.412Z"
   },
   {
    "duration": 22,
    "start_time": "2022-05-04T20:11:33.495Z"
   },
   {
    "duration": 1391,
    "start_time": "2022-05-04T20:11:33.520Z"
   },
   {
    "duration": 102,
    "start_time": "2022-05-04T20:11:34.913Z"
   },
   {
    "duration": 90,
    "start_time": "2022-05-04T20:11:35.017Z"
   },
   {
    "duration": 212,
    "start_time": "2022-05-04T20:11:35.109Z"
   },
   {
    "duration": 169,
    "start_time": "2022-05-04T20:11:35.324Z"
   },
   {
    "duration": 411,
    "start_time": "2022-05-04T20:11:35.495Z"
   },
   {
    "duration": 30,
    "start_time": "2022-05-04T20:11:35.908Z"
   },
   {
    "duration": 28,
    "start_time": "2022-05-04T20:11:35.994Z"
   },
   {
    "duration": 372,
    "start_time": "2022-05-04T20:11:36.025Z"
   },
   {
    "duration": 17,
    "start_time": "2022-05-04T20:11:36.399Z"
   },
   {
    "duration": 274,
    "start_time": "2022-05-04T20:11:36.419Z"
   },
   {
    "duration": 38,
    "start_time": "2022-05-04T20:11:36.695Z"
   },
   {
    "duration": 79,
    "start_time": "2022-05-04T20:11:36.735Z"
   },
   {
    "duration": 117,
    "start_time": "2022-05-04T20:11:50.217Z"
   },
   {
    "duration": 37,
    "start_time": "2022-05-04T20:12:14.330Z"
   },
   {
    "duration": 240,
    "start_time": "2022-05-04T20:14:01.538Z"
   },
   {
    "duration": 1018,
    "start_time": "2022-05-04T20:21:53.676Z"
   },
   {
    "duration": 4,
    "start_time": "2022-05-04T20:24:28.392Z"
   },
   {
    "duration": 603,
    "start_time": "2022-05-04T20:24:51.308Z"
   },
   {
    "duration": 615,
    "start_time": "2022-05-04T20:25:01.362Z"
   },
   {
    "duration": 623,
    "start_time": "2022-05-04T20:25:15.778Z"
   },
   {
    "duration": 599,
    "start_time": "2022-05-04T20:25:21.867Z"
   },
   {
    "duration": 616,
    "start_time": "2022-05-04T20:25:32.691Z"
   },
   {
    "duration": 4,
    "start_time": "2022-05-04T20:27:08.762Z"
   },
   {
    "duration": 15,
    "start_time": "2022-05-04T20:28:12.953Z"
   },
   {
    "duration": 200,
    "start_time": "2022-05-04T20:31:58.568Z"
   },
   {
    "duration": 207,
    "start_time": "2022-05-04T20:32:45.946Z"
   },
   {
    "duration": 240,
    "start_time": "2022-05-04T20:33:29.842Z"
   },
   {
    "duration": 27,
    "start_time": "2022-05-04T20:33:47.528Z"
   },
   {
    "duration": 27,
    "start_time": "2022-05-04T20:39:55.714Z"
   },
   {
    "duration": 4804,
    "start_time": "2022-05-04T20:40:07.449Z"
   },
   {
    "duration": 7,
    "start_time": "2022-05-04T20:40:12.257Z"
   },
   {
    "duration": 9,
    "start_time": "2022-05-04T20:40:12.267Z"
   },
   {
    "duration": 2502,
    "start_time": "2022-05-04T20:40:12.278Z"
   },
   {
    "duration": 7,
    "start_time": "2022-05-04T20:40:14.795Z"
   },
   {
    "duration": 66,
    "start_time": "2022-05-04T20:40:14.805Z"
   },
   {
    "duration": 18,
    "start_time": "2022-05-04T20:40:14.893Z"
   },
   {
    "duration": 351,
    "start_time": "2022-05-04T20:40:14.914Z"
   },
   {
    "duration": 377,
    "start_time": "2022-05-04T20:40:15.268Z"
   },
   {
    "duration": 386,
    "start_time": "2022-05-04T20:40:15.647Z"
   },
   {
    "duration": 33,
    "start_time": "2022-05-04T20:40:16.036Z"
   },
   {
    "duration": 28,
    "start_time": "2022-05-04T20:40:16.073Z"
   },
   {
    "duration": 52,
    "start_time": "2022-05-04T20:40:16.104Z"
   },
   {
    "duration": 65,
    "start_time": "2022-05-04T20:40:16.162Z"
   },
   {
    "duration": 9,
    "start_time": "2022-05-04T20:40:16.229Z"
   },
   {
    "duration": 59,
    "start_time": "2022-05-04T20:40:16.240Z"
   },
   {
    "duration": 148,
    "start_time": "2022-05-04T20:40:16.301Z"
   },
   {
    "duration": 170,
    "start_time": "2022-05-04T20:40:16.451Z"
   },
   {
    "duration": 37,
    "start_time": "2022-05-04T20:40:16.624Z"
   },
   {
    "duration": 61,
    "start_time": "2022-05-04T20:40:16.663Z"
   },
   {
    "duration": 24,
    "start_time": "2022-05-04T20:40:16.726Z"
   },
   {
    "duration": 42,
    "start_time": "2022-05-04T20:40:16.753Z"
   },
   {
    "duration": 677,
    "start_time": "2022-05-04T20:40:16.797Z"
   },
   {
    "duration": 58,
    "start_time": "2022-05-04T20:40:17.476Z"
   },
   {
    "duration": 31,
    "start_time": "2022-05-04T20:40:17.537Z"
   },
   {
    "duration": 90,
    "start_time": "2022-05-04T20:40:17.570Z"
   },
   {
    "duration": 69,
    "start_time": "2022-05-04T20:40:17.662Z"
   },
   {
    "duration": 213,
    "start_time": "2022-05-04T20:40:17.733Z"
   },
   {
    "duration": 44,
    "start_time": "2022-05-04T20:40:17.949Z"
   },
   {
    "duration": 28,
    "start_time": "2022-05-04T20:40:17.996Z"
   },
   {
    "duration": 184,
    "start_time": "2022-05-04T20:40:18.026Z"
   },
   {
    "duration": 15,
    "start_time": "2022-05-04T20:40:18.213Z"
   },
   {
    "duration": 136,
    "start_time": "2022-05-04T20:40:18.231Z"
   },
   {
    "duration": 43,
    "start_time": "2022-05-04T20:40:18.369Z"
   },
   {
    "duration": 241,
    "start_time": "2022-05-04T20:40:18.415Z"
   },
   {
    "duration": 4,
    "start_time": "2022-05-04T20:40:18.658Z"
   },
   {
    "duration": 979,
    "start_time": "2022-05-04T20:40:18.665Z"
   },
   {
    "duration": 18,
    "start_time": "2022-05-04T20:40:19.646Z"
   },
   {
    "duration": 418,
    "start_time": "2022-05-04T20:40:19.667Z"
   },
   {
    "duration": 39,
    "start_time": "2022-05-04T20:40:20.087Z"
   },
   {
    "duration": 26,
    "start_time": "2022-05-04T20:40:20.133Z"
   },
   {
    "duration": 47,
    "start_time": "2022-05-05T20:24:55.575Z"
   },
   {
    "duration": 2560,
    "start_time": "2022-05-05T20:25:03.873Z"
   },
   {
    "duration": 1644,
    "start_time": "2022-05-05T20:25:06.435Z"
   },
   {
    "duration": 5,
    "start_time": "2022-05-05T20:25:08.081Z"
   },
   {
    "duration": 2179,
    "start_time": "2022-05-05T20:25:08.089Z"
   },
   {
    "duration": 6,
    "start_time": "2022-05-05T20:25:10.270Z"
   },
   {
    "duration": 73,
    "start_time": "2022-05-05T20:25:10.277Z"
   },
   {
    "duration": 17,
    "start_time": "2022-05-05T20:25:10.352Z"
   },
   {
    "duration": 366,
    "start_time": "2022-05-05T20:25:10.371Z"
   },
   {
    "duration": 384,
    "start_time": "2022-05-05T20:25:10.739Z"
   },
   {
    "duration": 412,
    "start_time": "2022-05-05T20:25:11.126Z"
   },
   {
    "duration": 40,
    "start_time": "2022-05-05T20:25:11.540Z"
   },
   {
    "duration": 10,
    "start_time": "2022-05-05T20:25:11.582Z"
   },
   {
    "duration": 70,
    "start_time": "2022-05-05T20:25:11.594Z"
   },
   {
    "duration": 38,
    "start_time": "2022-05-05T20:25:11.666Z"
   },
   {
    "duration": 23,
    "start_time": "2022-05-05T20:25:11.706Z"
   },
   {
    "duration": 38,
    "start_time": "2022-05-05T20:25:11.731Z"
   },
   {
    "duration": 136,
    "start_time": "2022-05-05T20:25:11.771Z"
   },
   {
    "duration": 130,
    "start_time": "2022-05-05T20:25:11.909Z"
   },
   {
    "duration": 20,
    "start_time": "2022-05-05T20:25:12.041Z"
   },
   {
    "duration": 28,
    "start_time": "2022-05-05T20:25:12.063Z"
   },
   {
    "duration": 39,
    "start_time": "2022-05-05T20:25:12.093Z"
   },
   {
    "duration": 15,
    "start_time": "2022-05-05T20:25:12.133Z"
   },
   {
    "duration": 532,
    "start_time": "2022-05-05T20:25:12.150Z"
   },
   {
    "duration": 43,
    "start_time": "2022-05-05T20:25:12.683Z"
   },
   {
    "duration": 19,
    "start_time": "2022-05-05T20:25:12.728Z"
   },
   {
    "duration": 44,
    "start_time": "2022-05-05T20:25:12.749Z"
   },
   {
    "duration": 55,
    "start_time": "2022-05-05T20:25:12.795Z"
   },
   {
    "duration": 140,
    "start_time": "2022-05-05T20:25:12.855Z"
   },
   {
    "duration": 28,
    "start_time": "2022-05-05T20:25:12.997Z"
   },
   {
    "duration": 18,
    "start_time": "2022-05-05T20:25:13.027Z"
   },
   {
    "duration": 123,
    "start_time": "2022-05-05T20:25:13.047Z"
   },
   {
    "duration": 12,
    "start_time": "2022-05-05T20:25:13.172Z"
   },
   {
    "duration": 84,
    "start_time": "2022-05-05T20:25:13.186Z"
   },
   {
    "duration": 18,
    "start_time": "2022-05-05T20:25:13.273Z"
   },
   {
    "duration": 167,
    "start_time": "2022-05-05T20:25:13.293Z"
   },
   {
    "duration": 4,
    "start_time": "2022-05-05T20:25:13.462Z"
   },
   {
    "duration": 371,
    "start_time": "2022-05-05T20:25:13.467Z"
   },
   {
    "duration": 10,
    "start_time": "2022-05-05T20:25:13.840Z"
   },
   {
    "duration": 177,
    "start_time": "2022-05-05T20:25:13.852Z"
   },
   {
    "duration": 16,
    "start_time": "2022-05-05T20:25:14.030Z"
   },
   {
    "duration": 141,
    "start_time": "2022-05-05T20:25:14.048Z"
   },
   {
    "duration": 16,
    "start_time": "2022-05-05T20:26:20.238Z"
   },
   {
    "duration": 15,
    "start_time": "2022-05-05T20:26:23.406Z"
   },
   {
    "duration": 39,
    "start_time": "2022-05-05T20:26:38.286Z"
   },
   {
    "duration": 2104,
    "start_time": "2022-05-05T20:28:42.729Z"
   },
   {
    "duration": 4,
    "start_time": "2022-05-05T20:28:44.835Z"
   },
   {
    "duration": 25,
    "start_time": "2022-05-05T20:28:44.841Z"
   },
   {
    "duration": 1625,
    "start_time": "2022-05-05T20:28:44.868Z"
   },
   {
    "duration": 5,
    "start_time": "2022-05-05T20:28:46.495Z"
   },
   {
    "duration": 57,
    "start_time": "2022-05-05T20:28:46.502Z"
   },
   {
    "duration": 13,
    "start_time": "2022-05-05T20:28:46.561Z"
   },
   {
    "duration": 211,
    "start_time": "2022-05-05T20:28:46.576Z"
   },
   {
    "duration": 219,
    "start_time": "2022-05-05T20:28:46.788Z"
   },
   {
    "duration": 225,
    "start_time": "2022-05-05T20:28:47.010Z"
   },
   {
    "duration": 26,
    "start_time": "2022-05-05T20:28:47.236Z"
   },
   {
    "duration": 8,
    "start_time": "2022-05-05T20:28:47.264Z"
   },
   {
    "duration": 59,
    "start_time": "2022-05-05T20:28:47.274Z"
   },
   {
    "duration": 27,
    "start_time": "2022-05-05T20:28:47.334Z"
   },
   {
    "duration": 7,
    "start_time": "2022-05-05T20:28:47.363Z"
   },
   {
    "duration": 28,
    "start_time": "2022-05-05T20:28:47.372Z"
   },
   {
    "duration": 91,
    "start_time": "2022-05-05T20:28:47.401Z"
   },
   {
    "duration": 132,
    "start_time": "2022-05-05T20:28:47.493Z"
   },
   {
    "duration": 21,
    "start_time": "2022-05-05T20:28:47.626Z"
   },
   {
    "duration": 28,
    "start_time": "2022-05-05T20:28:47.648Z"
   },
   {
    "duration": 18,
    "start_time": "2022-05-05T20:28:47.677Z"
   },
   {
    "duration": 36,
    "start_time": "2022-05-05T20:28:47.696Z"
   },
   {
    "duration": 376,
    "start_time": "2022-05-05T20:28:47.733Z"
   },
   {
    "duration": 38,
    "start_time": "2022-05-05T20:28:48.112Z"
   },
   {
    "duration": 20,
    "start_time": "2022-05-05T20:28:48.153Z"
   },
   {
    "duration": 65,
    "start_time": "2022-05-05T20:28:48.175Z"
   },
   {
    "duration": 32,
    "start_time": "2022-05-05T20:28:48.242Z"
   },
   {
    "duration": 141,
    "start_time": "2022-05-05T20:28:48.277Z"
   },
   {
    "duration": 20,
    "start_time": "2022-05-05T20:28:48.420Z"
   },
   {
    "duration": 18,
    "start_time": "2022-05-05T20:28:48.442Z"
   },
   {
    "duration": 123,
    "start_time": "2022-05-05T20:28:48.462Z"
   },
   {
    "duration": 12,
    "start_time": "2022-05-05T20:28:48.586Z"
   },
   {
    "duration": 82,
    "start_time": "2022-05-05T20:28:48.600Z"
   },
   {
    "duration": 17,
    "start_time": "2022-05-05T20:28:48.684Z"
   },
   {
    "duration": 160,
    "start_time": "2022-05-05T20:28:48.702Z"
   },
   {
    "duration": 3,
    "start_time": "2022-05-05T20:28:48.863Z"
   },
   {
    "duration": 369,
    "start_time": "2022-05-05T20:28:48.868Z"
   },
   {
    "duration": 10,
    "start_time": "2022-05-05T20:28:49.238Z"
   },
   {
    "duration": 172,
    "start_time": "2022-05-05T20:28:49.250Z"
   },
   {
    "duration": 20,
    "start_time": "2022-05-05T20:28:49.423Z"
   },
   {
    "duration": 143,
    "start_time": "2022-05-05T20:28:49.444Z"
   },
   {
    "duration": 44,
    "start_time": "2022-05-05T20:29:22.559Z"
   },
   {
    "duration": 31,
    "start_time": "2022-05-05T20:34:45.198Z"
   },
   {
    "duration": 20,
    "start_time": "2022-05-05T20:35:23.489Z"
   },
   {
    "duration": 30,
    "start_time": "2022-05-05T20:35:39.042Z"
   },
   {
    "duration": 3,
    "start_time": "2022-05-05T20:35:52.717Z"
   },
   {
    "duration": 3,
    "start_time": "2022-05-05T21:10:11.304Z"
   },
   {
    "duration": 2796,
    "start_time": "2022-05-05T21:16:56.082Z"
   },
   {
    "duration": 5,
    "start_time": "2022-05-05T21:16:58.880Z"
   },
   {
    "duration": 7,
    "start_time": "2022-05-05T21:16:58.887Z"
   },
   {
    "duration": 1869,
    "start_time": "2022-05-05T21:16:58.897Z"
   },
   {
    "duration": 7,
    "start_time": "2022-05-05T21:17:00.768Z"
   },
   {
    "duration": 65,
    "start_time": "2022-05-05T21:17:00.777Z"
   },
   {
    "duration": 12,
    "start_time": "2022-05-05T21:17:00.844Z"
   },
   {
    "duration": 50,
    "start_time": "2022-05-05T21:17:00.857Z"
   },
   {
    "duration": 56,
    "start_time": "2022-05-05T21:17:00.909Z"
   },
   {
    "duration": 231,
    "start_time": "2022-05-05T21:17:00.968Z"
   },
   {
    "duration": 256,
    "start_time": "2022-05-05T21:17:01.201Z"
   },
   {
    "duration": 36,
    "start_time": "2022-05-05T21:31:23.116Z"
   },
   {
    "duration": 27,
    "start_time": "2022-05-05T21:31:52.113Z"
   },
   {
    "duration": 137,
    "start_time": "2022-05-05T21:35:54.583Z"
   },
   {
    "duration": 85,
    "start_time": "2022-05-05T21:36:01.441Z"
   },
   {
    "duration": 13,
    "start_time": "2022-05-05T21:38:19.551Z"
   },
   {
    "duration": 13,
    "start_time": "2022-05-05T21:40:28.125Z"
   },
   {
    "duration": 4,
    "start_time": "2022-05-05T21:40:42.296Z"
   },
   {
    "duration": 12,
    "start_time": "2022-05-05T21:40:48.682Z"
   },
   {
    "duration": 13,
    "start_time": "2022-05-05T21:40:54.844Z"
   },
   {
    "duration": 12,
    "start_time": "2022-05-05T21:41:05.689Z"
   },
   {
    "duration": 16,
    "start_time": "2022-05-05T21:41:16.003Z"
   },
   {
    "duration": 15,
    "start_time": "2022-05-05T21:41:24.951Z"
   },
   {
    "duration": 10,
    "start_time": "2022-05-05T21:41:46.551Z"
   },
   {
    "duration": 13,
    "start_time": "2022-05-05T21:42:00.007Z"
   },
   {
    "duration": 10,
    "start_time": "2022-05-05T21:42:19.268Z"
   },
   {
    "duration": 11,
    "start_time": "2022-05-05T21:42:26.915Z"
   },
   {
    "duration": 13,
    "start_time": "2022-05-05T21:42:31.084Z"
   },
   {
    "duration": 2290,
    "start_time": "2022-05-05T21:42:37.061Z"
   },
   {
    "duration": 7,
    "start_time": "2022-05-05T21:42:39.353Z"
   },
   {
    "duration": 7,
    "start_time": "2022-05-05T21:42:39.362Z"
   },
   {
    "duration": 1823,
    "start_time": "2022-05-05T21:42:39.371Z"
   },
   {
    "duration": 5,
    "start_time": "2022-05-05T21:42:41.197Z"
   },
   {
    "duration": 61,
    "start_time": "2022-05-05T21:42:41.204Z"
   },
   {
    "duration": 24,
    "start_time": "2022-05-05T21:42:41.267Z"
   },
   {
    "duration": 235,
    "start_time": "2022-05-05T21:42:41.292Z"
   },
   {
    "duration": 247,
    "start_time": "2022-05-05T21:42:41.531Z"
   },
   {
    "duration": 255,
    "start_time": "2022-05-05T21:42:41.780Z"
   },
   {
    "duration": 30,
    "start_time": "2022-05-05T21:42:42.037Z"
   },
   {
    "duration": 9,
    "start_time": "2022-05-05T21:42:42.069Z"
   },
   {
    "duration": 68,
    "start_time": "2022-05-05T21:42:42.079Z"
   },
   {
    "duration": 30,
    "start_time": "2022-05-05T21:42:42.151Z"
   },
   {
    "duration": 8,
    "start_time": "2022-05-05T21:42:42.183Z"
   },
   {
    "duration": 43,
    "start_time": "2022-05-05T21:42:42.193Z"
   },
   {
    "duration": 91,
    "start_time": "2022-05-05T21:42:42.238Z"
   },
   {
    "duration": 144,
    "start_time": "2022-05-05T21:42:42.331Z"
   },
   {
    "duration": 21,
    "start_time": "2022-05-05T21:42:42.477Z"
   },
   {
    "duration": 55,
    "start_time": "2022-05-05T21:42:42.500Z"
   },
   {
    "duration": 31,
    "start_time": "2022-05-05T21:42:42.560Z"
   },
   {
    "duration": 40,
    "start_time": "2022-05-05T21:42:42.593Z"
   },
   {
    "duration": 683,
    "start_time": "2022-05-05T21:42:42.637Z"
   },
   {
    "duration": 33,
    "start_time": "2022-05-05T21:42:43.330Z"
   },
   {
    "duration": 35,
    "start_time": "2022-05-05T21:42:43.365Z"
   },
   {
    "duration": 72,
    "start_time": "2022-05-05T21:42:43.403Z"
   },
   {
    "duration": 52,
    "start_time": "2022-05-05T21:42:43.476Z"
   },
   {
    "duration": 247,
    "start_time": "2022-05-05T21:42:43.530Z"
   },
   {
    "duration": 47,
    "start_time": "2022-05-05T21:42:43.779Z"
   },
   {
    "duration": 33,
    "start_time": "2022-05-05T21:42:43.833Z"
   },
   {
    "duration": 197,
    "start_time": "2022-05-05T21:42:43.869Z"
   },
   {
    "duration": 15,
    "start_time": "2022-05-05T21:42:44.068Z"
   },
   {
    "duration": 142,
    "start_time": "2022-05-05T21:42:44.085Z"
   },
   {
    "duration": 24,
    "start_time": "2022-05-05T21:42:44.238Z"
   },
   {
    "duration": 174,
    "start_time": "2022-05-05T21:42:44.265Z"
   },
   {
    "duration": 5,
    "start_time": "2022-05-05T21:42:44.441Z"
   },
   {
    "duration": 17,
    "start_time": "2022-05-05T21:42:44.450Z"
   },
   {
    "duration": 418,
    "start_time": "2022-05-05T21:42:44.469Z"
   },
   {
    "duration": 3,
    "start_time": "2022-05-05T21:42:44.889Z"
   },
   {
    "duration": 42,
    "start_time": "2022-05-05T21:42:44.893Z"
   },
   {
    "duration": 0,
    "start_time": "2022-05-05T21:42:44.937Z"
   },
   {
    "duration": 0,
    "start_time": "2022-05-05T21:42:44.939Z"
   },
   {
    "duration": 0,
    "start_time": "2022-05-05T21:42:44.940Z"
   },
   {
    "duration": 0,
    "start_time": "2022-05-05T21:42:44.942Z"
   },
   {
    "duration": 0,
    "start_time": "2022-05-05T21:42:44.943Z"
   },
   {
    "duration": 0,
    "start_time": "2022-05-05T21:42:44.944Z"
   },
   {
    "duration": 11,
    "start_time": "2022-05-05T21:43:02.442Z"
   },
   {
    "duration": 12,
    "start_time": "2022-05-05T21:43:12.854Z"
   },
   {
    "duration": 2434,
    "start_time": "2022-05-05T21:44:02.722Z"
   },
   {
    "duration": 1762,
    "start_time": "2022-05-05T21:44:05.159Z"
   },
   {
    "duration": 8,
    "start_time": "2022-05-05T21:44:06.924Z"
   },
   {
    "duration": 2020,
    "start_time": "2022-05-05T21:44:06.934Z"
   },
   {
    "duration": 6,
    "start_time": "2022-05-05T21:44:08.960Z"
   },
   {
    "duration": 65,
    "start_time": "2022-05-05T21:44:08.968Z"
   },
   {
    "duration": 23,
    "start_time": "2022-05-05T21:44:09.035Z"
   },
   {
    "duration": 418,
    "start_time": "2022-05-05T21:44:09.062Z"
   },
   {
    "duration": 760,
    "start_time": "2022-05-05T21:44:09.482Z"
   },
   {
    "duration": 882,
    "start_time": "2022-05-05T21:44:10.244Z"
   },
   {
    "duration": 43,
    "start_time": "2022-05-05T21:44:11.128Z"
   },
   {
    "duration": 60,
    "start_time": "2022-05-05T21:44:11.176Z"
   },
   {
    "duration": 124,
    "start_time": "2022-05-05T21:44:11.238Z"
   },
   {
    "duration": 96,
    "start_time": "2022-05-05T21:44:11.367Z"
   },
   {
    "duration": 65,
    "start_time": "2022-05-05T21:44:11.467Z"
   },
   {
    "duration": 116,
    "start_time": "2022-05-05T21:44:11.535Z"
   },
   {
    "duration": 163,
    "start_time": "2022-05-05T21:44:11.655Z"
   },
   {
    "duration": 144,
    "start_time": "2022-05-05T21:44:11.828Z"
   },
   {
    "duration": 21,
    "start_time": "2022-05-05T21:44:11.974Z"
   },
   {
    "duration": 53,
    "start_time": "2022-05-05T21:44:11.997Z"
   },
   {
    "duration": 25,
    "start_time": "2022-05-05T21:44:12.051Z"
   },
   {
    "duration": 27,
    "start_time": "2022-05-05T21:44:12.078Z"
   },
   {
    "duration": 804,
    "start_time": "2022-05-05T21:44:12.107Z"
   },
   {
    "duration": 50,
    "start_time": "2022-05-05T21:44:12.913Z"
   },
   {
    "duration": 48,
    "start_time": "2022-05-05T21:44:12.966Z"
   },
   {
    "duration": 59,
    "start_time": "2022-05-05T21:44:13.017Z"
   },
   {
    "duration": 51,
    "start_time": "2022-05-05T21:44:13.078Z"
   },
   {
    "duration": 252,
    "start_time": "2022-05-05T21:44:13.131Z"
   },
   {
    "duration": 45,
    "start_time": "2022-05-05T21:44:13.385Z"
   },
   {
    "duration": 46,
    "start_time": "2022-05-05T21:44:13.432Z"
   },
   {
    "duration": 133,
    "start_time": "2022-05-05T21:44:13.480Z"
   },
   {
    "duration": 19,
    "start_time": "2022-05-05T21:44:13.615Z"
   },
   {
    "duration": 91,
    "start_time": "2022-05-05T21:44:13.639Z"
   },
   {
    "duration": 20,
    "start_time": "2022-05-05T21:44:13.734Z"
   },
   {
    "duration": 355,
    "start_time": "2022-05-05T21:44:13.756Z"
   },
   {
    "duration": 4,
    "start_time": "2022-05-05T21:44:14.123Z"
   },
   {
    "duration": 37,
    "start_time": "2022-05-05T21:44:14.129Z"
   },
   {
    "duration": 423,
    "start_time": "2022-05-05T21:44:14.168Z"
   },
   {
    "duration": 3,
    "start_time": "2022-05-05T21:44:14.593Z"
   },
   {
    "duration": 182,
    "start_time": "2022-05-05T21:44:14.598Z"
   },
   {
    "duration": 0,
    "start_time": "2022-05-05T21:44:14.783Z"
   },
   {
    "duration": 0,
    "start_time": "2022-05-05T21:44:14.784Z"
   },
   {
    "duration": 0,
    "start_time": "2022-05-05T21:44:14.786Z"
   },
   {
    "duration": 0,
    "start_time": "2022-05-05T21:44:14.787Z"
   },
   {
    "duration": 0,
    "start_time": "2022-05-05T21:44:14.789Z"
   },
   {
    "duration": 0,
    "start_time": "2022-05-05T21:44:14.790Z"
   },
   {
    "duration": 0,
    "start_time": "2022-05-05T21:44:14.793Z"
   },
   {
    "duration": 0,
    "start_time": "2022-05-05T21:44:14.794Z"
   },
   {
    "duration": 0,
    "start_time": "2022-05-05T21:44:14.796Z"
   },
   {
    "duration": 0,
    "start_time": "2022-05-05T21:44:14.797Z"
   },
   {
    "duration": 0,
    "start_time": "2022-05-05T21:44:14.798Z"
   },
   {
    "duration": 11,
    "start_time": "2022-05-05T21:44:58.985Z"
   },
   {
    "duration": 16,
    "start_time": "2022-05-05T21:45:06.540Z"
   },
   {
    "duration": 2186,
    "start_time": "2022-05-05T21:45:48.130Z"
   },
   {
    "duration": 2125,
    "start_time": "2022-05-05T21:45:50.318Z"
   },
   {
    "duration": 7,
    "start_time": "2022-05-05T21:45:52.446Z"
   },
   {
    "duration": 2880,
    "start_time": "2022-05-05T21:45:52.455Z"
   },
   {
    "duration": 5,
    "start_time": "2022-05-05T21:45:55.338Z"
   },
   {
    "duration": 57,
    "start_time": "2022-05-05T21:45:55.345Z"
   },
   {
    "duration": 24,
    "start_time": "2022-05-05T21:45:55.403Z"
   },
   {
    "duration": 253,
    "start_time": "2022-05-05T21:45:55.432Z"
   },
   {
    "duration": 281,
    "start_time": "2022-05-05T21:45:55.687Z"
   },
   {
    "duration": 277,
    "start_time": "2022-05-05T21:45:55.969Z"
   },
   {
    "duration": 31,
    "start_time": "2022-05-05T21:45:56.248Z"
   },
   {
    "duration": 7,
    "start_time": "2022-05-05T21:45:56.281Z"
   },
   {
    "duration": 69,
    "start_time": "2022-05-05T21:45:56.290Z"
   },
   {
    "duration": 29,
    "start_time": "2022-05-05T21:45:56.363Z"
   },
   {
    "duration": 8,
    "start_time": "2022-05-05T21:45:56.394Z"
   },
   {
    "duration": 50,
    "start_time": "2022-05-05T21:45:56.404Z"
   },
   {
    "duration": 97,
    "start_time": "2022-05-05T21:45:56.456Z"
   },
   {
    "duration": 138,
    "start_time": "2022-05-05T21:45:56.554Z"
   },
   {
    "duration": 30,
    "start_time": "2022-05-05T21:45:56.694Z"
   },
   {
    "duration": 31,
    "start_time": "2022-05-05T21:45:56.726Z"
   },
   {
    "duration": 19,
    "start_time": "2022-05-05T21:45:56.759Z"
   },
   {
    "duration": 16,
    "start_time": "2022-05-05T21:45:56.780Z"
   },
   {
    "duration": 518,
    "start_time": "2022-05-05T21:45:56.798Z"
   },
   {
    "duration": 35,
    "start_time": "2022-05-05T21:45:57.318Z"
   },
   {
    "duration": 18,
    "start_time": "2022-05-05T21:45:57.355Z"
   },
   {
    "duration": 65,
    "start_time": "2022-05-05T21:45:57.374Z"
   },
   {
    "duration": 40,
    "start_time": "2022-05-05T21:45:57.441Z"
   },
   {
    "duration": 157,
    "start_time": "2022-05-05T21:45:57.483Z"
   },
   {
    "duration": 22,
    "start_time": "2022-05-05T21:45:57.643Z"
   },
   {
    "duration": 21,
    "start_time": "2022-05-05T21:45:57.666Z"
   },
   {
    "duration": 128,
    "start_time": "2022-05-05T21:45:57.689Z"
   },
   {
    "duration": 18,
    "start_time": "2022-05-05T21:45:57.819Z"
   },
   {
    "duration": 85,
    "start_time": "2022-05-05T21:45:57.839Z"
   },
   {
    "duration": 18,
    "start_time": "2022-05-05T21:45:57.930Z"
   },
   {
    "duration": 248,
    "start_time": "2022-05-05T21:45:57.949Z"
   },
   {
    "duration": 2,
    "start_time": "2022-05-05T21:45:58.199Z"
   },
   {
    "duration": 5,
    "start_time": "2022-05-05T21:45:58.203Z"
   },
   {
    "duration": 403,
    "start_time": "2022-05-05T21:45:58.210Z"
   },
   {
    "duration": 3,
    "start_time": "2022-05-05T21:45:58.615Z"
   },
   {
    "duration": 125,
    "start_time": "2022-05-05T21:45:58.623Z"
   },
   {
    "duration": 0,
    "start_time": "2022-05-05T21:45:58.751Z"
   },
   {
    "duration": 0,
    "start_time": "2022-05-05T21:45:58.752Z"
   },
   {
    "duration": 0,
    "start_time": "2022-05-05T21:45:58.753Z"
   },
   {
    "duration": 0,
    "start_time": "2022-05-05T21:45:58.754Z"
   },
   {
    "duration": 0,
    "start_time": "2022-05-05T21:45:58.755Z"
   },
   {
    "duration": 0,
    "start_time": "2022-05-05T21:45:58.756Z"
   },
   {
    "duration": 0,
    "start_time": "2022-05-05T21:45:58.758Z"
   },
   {
    "duration": 0,
    "start_time": "2022-05-05T21:45:58.759Z"
   },
   {
    "duration": 0,
    "start_time": "2022-05-05T21:45:58.760Z"
   },
   {
    "duration": 0,
    "start_time": "2022-05-05T21:45:58.761Z"
   },
   {
    "duration": 0,
    "start_time": "2022-05-05T21:45:58.762Z"
   },
   {
    "duration": 20,
    "start_time": "2022-05-05T21:49:07.139Z"
   },
   {
    "duration": 13,
    "start_time": "2022-05-05T21:49:19.966Z"
   },
   {
    "duration": 21,
    "start_time": "2022-05-05T21:49:23.709Z"
   },
   {
    "duration": 44,
    "start_time": "2022-05-05T21:49:35.369Z"
   },
   {
    "duration": 196,
    "start_time": "2022-05-05T21:49:44.975Z"
   },
   {
    "duration": 18,
    "start_time": "2022-05-05T21:49:48.218Z"
   },
   {
    "duration": 228,
    "start_time": "2022-05-05T21:49:51.951Z"
   },
   {
    "duration": 71,
    "start_time": "2022-05-05T21:49:53.536Z"
   },
   {
    "duration": 40,
    "start_time": "2022-05-05T21:49:56.419Z"
   },
   {
    "duration": 4,
    "start_time": "2022-05-05T21:50:00.256Z"
   },
   {
    "duration": 45,
    "start_time": "2022-05-05T21:50:52.290Z"
   },
   {
    "duration": 17,
    "start_time": "2022-05-05T21:51:17.086Z"
   },
   {
    "duration": 3,
    "start_time": "2022-05-05T21:52:24.566Z"
   },
   {
    "duration": 4,
    "start_time": "2022-05-05T21:52:29.814Z"
   },
   {
    "duration": 28,
    "start_time": "2022-05-05T21:53:11.930Z"
   },
   {
    "duration": 19,
    "start_time": "2022-05-05T21:53:36.097Z"
   },
   {
    "duration": 31,
    "start_time": "2022-05-05T21:54:06.394Z"
   },
   {
    "duration": 36,
    "start_time": "2022-05-05T21:54:28.611Z"
   },
   {
    "duration": 15,
    "start_time": "2022-05-05T21:54:45.106Z"
   },
   {
    "duration": 3,
    "start_time": "2022-05-05T21:54:54.362Z"
   },
   {
    "duration": 17,
    "start_time": "2022-05-05T21:54:59.219Z"
   },
   {
    "duration": 3,
    "start_time": "2022-05-05T21:55:01.307Z"
   },
   {
    "duration": 3,
    "start_time": "2022-05-05T21:55:05.091Z"
   },
   {
    "duration": 49,
    "start_time": "2022-05-05T21:55:14.322Z"
   },
   {
    "duration": 4,
    "start_time": "2022-05-05T21:55:16.842Z"
   },
   {
    "duration": 223,
    "start_time": "2022-05-05T21:55:18.776Z"
   },
   {
    "duration": 29,
    "start_time": "2022-05-05T21:55:29.564Z"
   },
   {
    "duration": 22,
    "start_time": "2022-05-05T21:55:49.942Z"
   },
   {
    "duration": 3,
    "start_time": "2022-05-05T21:59:04.860Z"
   },
   {
    "duration": 4,
    "start_time": "2022-05-05T21:59:17.132Z"
   },
   {
    "duration": 16,
    "start_time": "2022-05-05T21:59:40.839Z"
   },
   {
    "duration": 5,
    "start_time": "2022-05-05T21:59:44.929Z"
   },
   {
    "duration": 12,
    "start_time": "2022-05-05T22:00:13.216Z"
   },
   {
    "duration": 12,
    "start_time": "2022-05-05T22:00:20.744Z"
   },
   {
    "duration": 30,
    "start_time": "2022-05-05T22:00:42.999Z"
   },
   {
    "duration": 11,
    "start_time": "2022-05-05T22:00:58.978Z"
   },
   {
    "duration": 15,
    "start_time": "2022-05-05T22:01:05.352Z"
   },
   {
    "duration": 14,
    "start_time": "2022-05-05T22:01:13.498Z"
   },
   {
    "duration": 5,
    "start_time": "2022-05-05T22:01:23.643Z"
   },
   {
    "duration": 4,
    "start_time": "2022-05-05T22:01:53.090Z"
   },
   {
    "duration": 11,
    "start_time": "2022-05-05T22:02:13.979Z"
   },
   {
    "duration": 23,
    "start_time": "2022-05-05T22:02:19.979Z"
   },
   {
    "duration": 4,
    "start_time": "2022-05-05T22:02:24.866Z"
   },
   {
    "duration": 62,
    "start_time": "2022-05-05T22:02:32.796Z"
   },
   {
    "duration": 14,
    "start_time": "2022-05-05T22:02:38.351Z"
   },
   {
    "duration": 2443,
    "start_time": "2022-05-06T20:05:51.654Z"
   },
   {
    "duration": 1612,
    "start_time": "2022-05-06T20:05:54.101Z"
   },
   {
    "duration": 6,
    "start_time": "2022-05-06T20:05:55.715Z"
   },
   {
    "duration": 1838,
    "start_time": "2022-05-06T20:05:55.723Z"
   },
   {
    "duration": 14,
    "start_time": "2022-05-06T20:05:57.563Z"
   },
   {
    "duration": 55,
    "start_time": "2022-05-06T20:05:57.579Z"
   },
   {
    "duration": 12,
    "start_time": "2022-05-06T20:05:57.635Z"
   },
   {
    "duration": 273,
    "start_time": "2022-05-06T20:05:57.648Z"
   },
   {
    "duration": 262,
    "start_time": "2022-05-06T20:05:57.922Z"
   },
   {
    "duration": 265,
    "start_time": "2022-05-06T20:05:58.187Z"
   },
   {
    "duration": 35,
    "start_time": "2022-05-06T20:05:58.454Z"
   },
   {
    "duration": 6,
    "start_time": "2022-05-06T20:05:58.491Z"
   },
   {
    "duration": 42,
    "start_time": "2022-05-06T20:05:58.499Z"
   },
   {
    "duration": 53,
    "start_time": "2022-05-06T20:05:58.542Z"
   },
   {
    "duration": 7,
    "start_time": "2022-05-06T20:05:58.597Z"
   },
   {
    "duration": 30,
    "start_time": "2022-05-06T20:05:58.606Z"
   },
   {
    "duration": 105,
    "start_time": "2022-05-06T20:05:58.638Z"
   },
   {
    "duration": 138,
    "start_time": "2022-05-06T20:05:58.744Z"
   },
   {
    "duration": 23,
    "start_time": "2022-05-06T20:05:58.883Z"
   },
   {
    "duration": 36,
    "start_time": "2022-05-06T20:05:58.908Z"
   },
   {
    "duration": 43,
    "start_time": "2022-05-06T20:05:58.946Z"
   },
   {
    "duration": 16,
    "start_time": "2022-05-06T20:05:58.991Z"
   },
   {
    "duration": 11693,
    "start_time": "2022-05-06T20:05:59.009Z"
   },
   {
    "duration": 105,
    "start_time": "2022-05-06T20:07:10.194Z"
   },
   {
    "duration": 10,
    "start_time": "2022-05-06T20:07:33.453Z"
   },
   {
    "duration": 10,
    "start_time": "2022-05-06T20:07:47.508Z"
   },
   {
    "duration": 267,
    "start_time": "2022-05-06T20:10:16.465Z"
   },
   {
    "duration": 2093,
    "start_time": "2022-05-06T20:16:22.701Z"
   },
   {
    "duration": 5,
    "start_time": "2022-05-06T20:16:24.797Z"
   },
   {
    "duration": 7,
    "start_time": "2022-05-06T20:16:24.803Z"
   },
   {
    "duration": 1809,
    "start_time": "2022-05-06T20:16:24.812Z"
   },
   {
    "duration": 6,
    "start_time": "2022-05-06T20:16:26.623Z"
   },
   {
    "duration": 64,
    "start_time": "2022-05-06T20:16:26.630Z"
   },
   {
    "duration": 13,
    "start_time": "2022-05-06T20:16:26.696Z"
   },
   {
    "duration": 277,
    "start_time": "2022-05-06T20:16:26.710Z"
   },
   {
    "duration": 262,
    "start_time": "2022-05-06T20:16:26.989Z"
   },
   {
    "duration": 288,
    "start_time": "2022-05-06T20:16:27.254Z"
   },
   {
    "duration": 32,
    "start_time": "2022-05-06T20:16:27.544Z"
   },
   {
    "duration": 7,
    "start_time": "2022-05-06T20:16:27.578Z"
   },
   {
    "duration": 40,
    "start_time": "2022-05-06T20:16:27.587Z"
   },
   {
    "duration": 45,
    "start_time": "2022-05-06T20:16:27.629Z"
   },
   {
    "duration": 9,
    "start_time": "2022-05-06T20:16:27.676Z"
   },
   {
    "duration": 29,
    "start_time": "2022-05-06T20:16:27.686Z"
   },
   {
    "duration": 113,
    "start_time": "2022-05-06T20:16:27.717Z"
   },
   {
    "duration": 133,
    "start_time": "2022-05-06T20:16:27.832Z"
   },
   {
    "duration": 29,
    "start_time": "2022-05-06T20:16:27.967Z"
   },
   {
    "duration": 29,
    "start_time": "2022-05-06T20:16:27.998Z"
   },
   {
    "duration": 19,
    "start_time": "2022-05-06T20:16:28.029Z"
   },
   {
    "duration": 38,
    "start_time": "2022-05-06T20:16:28.050Z"
   },
   {
    "duration": 413,
    "start_time": "2022-05-06T20:16:28.090Z"
   },
   {
    "duration": 32,
    "start_time": "2022-05-06T20:16:28.505Z"
   },
   {
    "duration": 35,
    "start_time": "2022-05-06T20:16:28.538Z"
   },
   {
    "duration": 47,
    "start_time": "2022-05-06T20:16:28.575Z"
   },
   {
    "duration": 58,
    "start_time": "2022-05-06T20:16:28.624Z"
   },
   {
    "duration": 159,
    "start_time": "2022-05-06T20:16:28.685Z"
   },
   {
    "duration": 28,
    "start_time": "2022-05-06T20:16:28.846Z"
   },
   {
    "duration": 20,
    "start_time": "2022-05-06T20:16:28.876Z"
   },
   {
    "duration": 141,
    "start_time": "2022-05-06T20:16:28.898Z"
   },
   {
    "duration": 12,
    "start_time": "2022-05-06T20:16:29.041Z"
   },
   {
    "duration": 95,
    "start_time": "2022-05-06T20:16:29.054Z"
   },
   {
    "duration": 30,
    "start_time": "2022-05-06T20:16:29.150Z"
   },
   {
    "duration": 192,
    "start_time": "2022-05-06T20:16:29.182Z"
   },
   {
    "duration": 2,
    "start_time": "2022-05-06T20:16:29.376Z"
   },
   {
    "duration": 35,
    "start_time": "2022-05-06T20:16:29.380Z"
   },
   {
    "duration": 33,
    "start_time": "2022-05-06T20:17:47.010Z"
   },
   {
    "duration": 20,
    "start_time": "2022-05-06T20:18:04.721Z"
   },
   {
    "duration": 25,
    "start_time": "2022-05-06T20:18:14.275Z"
   },
   {
    "duration": 863,
    "start_time": "2022-05-06T20:19:57.618Z"
   },
   {
    "duration": 12,
    "start_time": "2022-05-06T20:20:04.814Z"
   },
   {
    "duration": 12,
    "start_time": "2022-05-06T20:20:15.560Z"
   },
   {
    "duration": 25,
    "start_time": "2022-05-06T20:20:23.320Z"
   },
   {
    "duration": 114,
    "start_time": "2022-05-06T20:20:35.652Z"
   },
   {
    "duration": 18,
    "start_time": "2022-05-06T20:26:11.267Z"
   },
   {
    "duration": 230,
    "start_time": "2022-05-06T20:27:31.470Z"
   },
   {
    "duration": 11,
    "start_time": "2022-05-06T20:27:50.214Z"
   },
   {
    "duration": 155,
    "start_time": "2022-05-06T20:50:01.674Z"
   },
   {
    "duration": 408,
    "start_time": "2022-05-06T21:11:04.321Z"
   },
   {
    "duration": 6,
    "start_time": "2022-05-06T21:16:09.527Z"
   },
   {
    "duration": 418,
    "start_time": "2022-05-06T21:17:19.872Z"
   },
   {
    "duration": 5,
    "start_time": "2022-05-06T21:17:21.488Z"
   },
   {
    "duration": 396,
    "start_time": "2022-05-06T21:17:32.497Z"
   },
   {
    "duration": 6,
    "start_time": "2022-05-06T21:17:37.711Z"
   },
   {
    "duration": 5,
    "start_time": "2022-05-06T21:17:42.373Z"
   },
   {
    "duration": 406,
    "start_time": "2022-05-06T21:17:50.507Z"
   },
   {
    "duration": 5,
    "start_time": "2022-05-06T21:17:52.394Z"
   },
   {
    "duration": 404,
    "start_time": "2022-05-06T21:18:01.530Z"
   },
   {
    "duration": 6,
    "start_time": "2022-05-06T21:18:02.713Z"
   },
   {
    "duration": 148,
    "start_time": "2022-05-06T21:19:22.837Z"
   },
   {
    "duration": 426,
    "start_time": "2022-05-06T21:20:30.007Z"
   },
   {
    "duration": 6,
    "start_time": "2022-05-06T21:20:31.751Z"
   },
   {
    "duration": 5,
    "start_time": "2022-05-06T21:36:38.032Z"
   },
   {
    "duration": 14,
    "start_time": "2022-05-06T21:38:04.563Z"
   },
   {
    "duration": 3,
    "start_time": "2022-05-06T21:39:26.199Z"
   },
   {
    "duration": 3,
    "start_time": "2022-05-06T21:39:55.831Z"
   },
   {
    "duration": 4,
    "start_time": "2022-05-06T21:46:13.790Z"
   },
   {
    "duration": 10,
    "start_time": "2022-05-06T21:47:09.934Z"
   },
   {
    "duration": 3,
    "start_time": "2022-05-06T21:48:20.442Z"
   },
   {
    "duration": 3,
    "start_time": "2022-05-06T21:56:56.354Z"
   },
   {
    "duration": 2,
    "start_time": "2022-05-06T22:08:21.555Z"
   },
   {
    "duration": 2278,
    "start_time": "2022-05-07T13:20:44.874Z"
   },
   {
    "duration": 1622,
    "start_time": "2022-05-07T13:20:47.155Z"
   },
   {
    "duration": 0,
    "start_time": "2022-05-07T13:20:48.779Z"
   },
   {
    "duration": 0,
    "start_time": "2022-05-07T13:20:48.781Z"
   },
   {
    "duration": 0,
    "start_time": "2022-05-07T13:20:48.782Z"
   },
   {
    "duration": 0,
    "start_time": "2022-05-07T13:20:48.783Z"
   },
   {
    "duration": 0,
    "start_time": "2022-05-07T13:20:48.784Z"
   },
   {
    "duration": 0,
    "start_time": "2022-05-07T13:20:48.785Z"
   },
   {
    "duration": 0,
    "start_time": "2022-05-07T13:20:48.786Z"
   },
   {
    "duration": 0,
    "start_time": "2022-05-07T13:20:48.787Z"
   },
   {
    "duration": 0,
    "start_time": "2022-05-07T13:20:48.788Z"
   },
   {
    "duration": 0,
    "start_time": "2022-05-07T13:20:48.789Z"
   },
   {
    "duration": 0,
    "start_time": "2022-05-07T13:20:48.790Z"
   },
   {
    "duration": 0,
    "start_time": "2022-05-07T13:20:48.791Z"
   },
   {
    "duration": 0,
    "start_time": "2022-05-07T13:20:48.792Z"
   },
   {
    "duration": 0,
    "start_time": "2022-05-07T13:20:48.793Z"
   },
   {
    "duration": 0,
    "start_time": "2022-05-07T13:20:48.794Z"
   },
   {
    "duration": 0,
    "start_time": "2022-05-07T13:20:48.795Z"
   },
   {
    "duration": 0,
    "start_time": "2022-05-07T13:20:48.796Z"
   },
   {
    "duration": 0,
    "start_time": "2022-05-07T13:20:48.797Z"
   },
   {
    "duration": 0,
    "start_time": "2022-05-07T13:20:48.798Z"
   },
   {
    "duration": 0,
    "start_time": "2022-05-07T13:20:48.799Z"
   },
   {
    "duration": 0,
    "start_time": "2022-05-07T13:20:48.800Z"
   },
   {
    "duration": 0,
    "start_time": "2022-05-07T13:20:48.801Z"
   },
   {
    "duration": 0,
    "start_time": "2022-05-07T13:20:48.802Z"
   },
   {
    "duration": 0,
    "start_time": "2022-05-07T13:20:48.803Z"
   },
   {
    "duration": 0,
    "start_time": "2022-05-07T13:20:48.848Z"
   },
   {
    "duration": 0,
    "start_time": "2022-05-07T13:20:48.849Z"
   },
   {
    "duration": 0,
    "start_time": "2022-05-07T13:20:48.850Z"
   },
   {
    "duration": 0,
    "start_time": "2022-05-07T13:20:48.850Z"
   },
   {
    "duration": 0,
    "start_time": "2022-05-07T13:20:48.852Z"
   },
   {
    "duration": 0,
    "start_time": "2022-05-07T13:20:48.852Z"
   },
   {
    "duration": 0,
    "start_time": "2022-05-07T13:20:48.853Z"
   },
   {
    "duration": 0,
    "start_time": "2022-05-07T13:20:48.854Z"
   },
   {
    "duration": 0,
    "start_time": "2022-05-07T13:20:48.855Z"
   },
   {
    "duration": 0,
    "start_time": "2022-05-07T13:20:48.856Z"
   },
   {
    "duration": 0,
    "start_time": "2022-05-07T13:20:48.857Z"
   },
   {
    "duration": 0,
    "start_time": "2022-05-07T13:20:48.858Z"
   },
   {
    "duration": 0,
    "start_time": "2022-05-07T13:20:48.859Z"
   },
   {
    "duration": 0,
    "start_time": "2022-05-07T13:20:48.860Z"
   },
   {
    "duration": 0,
    "start_time": "2022-05-07T13:20:48.861Z"
   },
   {
    "duration": 0,
    "start_time": "2022-05-07T13:20:48.862Z"
   },
   {
    "duration": 0,
    "start_time": "2022-05-07T13:20:48.864Z"
   },
   {
    "duration": 0,
    "start_time": "2022-05-07T13:20:48.865Z"
   },
   {
    "duration": 101,
    "start_time": "2022-05-07T13:50:00.779Z"
   },
   {
    "duration": 6,
    "start_time": "2022-05-07T13:50:21.337Z"
   },
   {
    "duration": 2053,
    "start_time": "2022-05-07T13:54:54.758Z"
   },
   {
    "duration": 3,
    "start_time": "2022-05-07T13:54:56.813Z"
   },
   {
    "duration": 5,
    "start_time": "2022-05-07T13:54:56.818Z"
   },
   {
    "duration": 1682,
    "start_time": "2022-05-07T13:54:56.825Z"
   },
   {
    "duration": 5,
    "start_time": "2022-05-07T13:54:58.509Z"
   },
   {
    "duration": 60,
    "start_time": "2022-05-07T13:54:58.515Z"
   },
   {
    "duration": 12,
    "start_time": "2022-05-07T13:54:58.576Z"
   },
   {
    "duration": 244,
    "start_time": "2022-05-07T13:54:58.589Z"
   },
   {
    "duration": 245,
    "start_time": "2022-05-07T13:54:58.834Z"
   },
   {
    "duration": 245,
    "start_time": "2022-05-07T13:54:59.082Z"
   },
   {
    "duration": 36,
    "start_time": "2022-05-07T13:54:59.329Z"
   },
   {
    "duration": 7,
    "start_time": "2022-05-07T13:54:59.367Z"
   },
   {
    "duration": 37,
    "start_time": "2022-05-07T13:54:59.376Z"
   },
   {
    "duration": 50,
    "start_time": "2022-05-07T13:54:59.414Z"
   },
   {
    "duration": 7,
    "start_time": "2022-05-07T13:54:59.466Z"
   },
   {
    "duration": 27,
    "start_time": "2022-05-07T13:54:59.474Z"
   },
   {
    "duration": 97,
    "start_time": "2022-05-07T13:54:59.502Z"
   },
   {
    "duration": 133,
    "start_time": "2022-05-07T13:54:59.600Z"
   },
   {
    "duration": 19,
    "start_time": "2022-05-07T13:54:59.735Z"
   },
   {
    "duration": 26,
    "start_time": "2022-05-07T13:54:59.755Z"
   },
   {
    "duration": 16,
    "start_time": "2022-05-07T13:54:59.782Z"
   },
   {
    "duration": 14,
    "start_time": "2022-05-07T13:54:59.800Z"
   },
   {
    "duration": 517,
    "start_time": "2022-05-07T13:54:59.847Z"
   },
   {
    "duration": 27,
    "start_time": "2022-05-07T13:55:00.365Z"
   },
   {
    "duration": 19,
    "start_time": "2022-05-07T13:55:00.393Z"
   },
   {
    "duration": 70,
    "start_time": "2022-05-07T13:55:00.413Z"
   },
   {
    "duration": 36,
    "start_time": "2022-05-07T13:55:00.485Z"
   },
   {
    "duration": 159,
    "start_time": "2022-05-07T13:55:00.524Z"
   },
   {
    "duration": 19,
    "start_time": "2022-05-07T13:55:00.685Z"
   },
   {
    "duration": 22,
    "start_time": "2022-05-07T13:55:00.705Z"
   },
   {
    "duration": 139,
    "start_time": "2022-05-07T13:55:00.728Z"
   },
   {
    "duration": 11,
    "start_time": "2022-05-07T13:55:00.868Z"
   },
   {
    "duration": 89,
    "start_time": "2022-05-07T13:55:00.881Z"
   },
   {
    "duration": 16,
    "start_time": "2022-05-07T13:55:00.971Z"
   },
   {
    "duration": 176,
    "start_time": "2022-05-07T13:55:00.989Z"
   },
   {
    "duration": 3,
    "start_time": "2022-05-07T13:55:01.166Z"
   },
   {
    "duration": 24,
    "start_time": "2022-05-07T13:55:01.170Z"
   },
   {
    "duration": 29,
    "start_time": "2022-05-07T13:55:01.196Z"
   },
   {
    "duration": 917,
    "start_time": "2022-05-07T13:55:01.247Z"
   },
   {
    "duration": 133,
    "start_time": "2022-05-07T13:55:02.166Z"
   },
   {
    "duration": 23,
    "start_time": "2022-05-07T13:55:02.301Z"
   },
   {
    "duration": 159,
    "start_time": "2022-05-07T13:55:02.326Z"
   },
   {
    "duration": 539,
    "start_time": "2022-05-07T13:55:02.487Z"
   },
   {
    "duration": 6,
    "start_time": "2022-05-07T13:55:03.028Z"
   },
   {
    "duration": 2,
    "start_time": "2022-05-07T13:55:03.047Z"
   },
   {
    "duration": 11,
    "start_time": "2022-05-07T13:55:03.051Z"
   },
   {
    "duration": 6,
    "start_time": "2022-05-07T13:55:03.064Z"
   },
   {
    "duration": 79,
    "start_time": "2022-05-07T13:56:43.059Z"
   },
   {
    "duration": 3,
    "start_time": "2022-05-07T13:59:14.947Z"
   },
   {
    "duration": 13,
    "start_time": "2022-05-07T14:41:43.560Z"
   },
   {
    "duration": 11,
    "start_time": "2022-05-07T14:41:59.239Z"
   },
   {
    "duration": 3154574,
    "start_time": "2022-05-07T14:42:46.300Z"
   },
   {
    "duration": 0,
    "start_time": "2022-05-07T15:35:20.875Z"
   },
   {
    "duration": 6,
    "start_time": "2022-05-07T15:35:24.195Z"
   },
   {
    "duration": 1181844,
    "start_time": "2022-05-07T15:35:33.929Z"
   },
   {
    "duration": 1,
    "start_time": "2022-05-07T15:55:15.775Z"
   },
   {
    "duration": 3,
    "start_time": "2022-05-07T15:55:20.456Z"
   },
   {
    "duration": 3606,
    "start_time": "2022-05-07T17:03:44.815Z"
   },
   {
    "duration": 1452,
    "start_time": "2022-05-07T17:03:48.424Z"
   },
   {
    "duration": 6,
    "start_time": "2022-05-07T17:03:49.877Z"
   },
   {
    "duration": 1722,
    "start_time": "2022-05-07T17:03:49.885Z"
   },
   {
    "duration": 4,
    "start_time": "2022-05-07T17:03:51.609Z"
   },
   {
    "duration": 70,
    "start_time": "2022-05-07T17:03:51.615Z"
   },
   {
    "duration": 11,
    "start_time": "2022-05-07T17:03:51.687Z"
   },
   {
    "duration": 364,
    "start_time": "2022-05-07T17:03:51.700Z"
   },
   {
    "duration": 389,
    "start_time": "2022-05-07T17:03:52.065Z"
   },
   {
    "duration": 393,
    "start_time": "2022-05-07T17:03:52.458Z"
   },
   {
    "duration": 38,
    "start_time": "2022-05-07T17:03:52.853Z"
   },
   {
    "duration": 10,
    "start_time": "2022-05-07T17:03:52.893Z"
   },
   {
    "duration": 79,
    "start_time": "2022-05-07T17:03:52.904Z"
   },
   {
    "duration": 39,
    "start_time": "2022-05-07T17:03:52.985Z"
   },
   {
    "duration": 20,
    "start_time": "2022-05-07T17:03:53.027Z"
   },
   {
    "duration": 40,
    "start_time": "2022-05-07T17:03:53.049Z"
   },
   {
    "duration": 78,
    "start_time": "2022-05-07T17:03:53.091Z"
   },
   {
    "duration": 127,
    "start_time": "2022-05-07T17:03:53.170Z"
   },
   {
    "duration": 19,
    "start_time": "2022-05-07T17:03:53.299Z"
   },
   {
    "duration": 43,
    "start_time": "2022-05-07T17:03:53.320Z"
   },
   {
    "duration": 17,
    "start_time": "2022-05-07T17:03:53.364Z"
   },
   {
    "duration": 14,
    "start_time": "2022-05-07T17:03:53.382Z"
   },
   {
    "duration": 451,
    "start_time": "2022-05-07T17:03:53.398Z"
   },
   {
    "duration": 26,
    "start_time": "2022-05-07T17:03:53.851Z"
   },
   {
    "duration": 21,
    "start_time": "2022-05-07T17:03:53.879Z"
   },
   {
    "duration": 77,
    "start_time": "2022-05-07T17:03:53.902Z"
   },
   {
    "duration": 36,
    "start_time": "2022-05-07T17:03:53.981Z"
   },
   {
    "duration": 166,
    "start_time": "2022-05-07T17:03:54.021Z"
   },
   {
    "duration": 19,
    "start_time": "2022-05-07T17:03:54.189Z"
   },
   {
    "duration": 38,
    "start_time": "2022-05-07T17:03:54.210Z"
   },
   {
    "duration": 128,
    "start_time": "2022-05-07T17:03:54.250Z"
   },
   {
    "duration": 11,
    "start_time": "2022-05-07T17:03:54.380Z"
   },
   {
    "duration": 96,
    "start_time": "2022-05-07T17:03:54.393Z"
   },
   {
    "duration": 17,
    "start_time": "2022-05-07T17:03:54.491Z"
   },
   {
    "duration": 258,
    "start_time": "2022-05-07T17:03:54.510Z"
   },
   {
    "duration": 4,
    "start_time": "2022-05-07T17:03:54.770Z"
   },
   {
    "duration": 22,
    "start_time": "2022-05-07T17:03:54.776Z"
   },
   {
    "duration": 28,
    "start_time": "2022-05-07T17:03:54.799Z"
   },
   {
    "duration": 965,
    "start_time": "2022-05-07T17:03:54.829Z"
   },
   {
    "duration": 129,
    "start_time": "2022-05-07T17:03:55.795Z"
   },
   {
    "duration": 23,
    "start_time": "2022-05-07T17:03:55.925Z"
   },
   {
    "duration": 145,
    "start_time": "2022-05-07T17:03:55.951Z"
   },
   {
    "duration": 372,
    "start_time": "2022-05-07T17:03:56.098Z"
   },
   {
    "duration": 5,
    "start_time": "2022-05-07T17:03:56.472Z"
   },
   {
    "duration": 3,
    "start_time": "2022-05-07T17:03:56.481Z"
   },
   {
    "duration": 9,
    "start_time": "2022-05-07T17:03:56.486Z"
   },
   {
    "duration": 8,
    "start_time": "2022-05-07T17:03:56.496Z"
   },
   {
    "duration": 5209546,
    "start_time": "2022-05-07T17:03:56.506Z"
   },
   {
    "duration": 3,
    "start_time": "2022-05-07T18:30:46.055Z"
   },
   {
    "duration": 129,
    "start_time": "2022-05-07T19:32:34.546Z"
   },
   {
    "duration": 8,
    "start_time": "2022-05-07T19:33:13.087Z"
   },
   {
    "duration": 9,
    "start_time": "2022-05-07T19:33:16.641Z"
   },
   {
    "duration": 10,
    "start_time": "2022-05-07T19:33:25.887Z"
   },
   {
    "duration": 8,
    "start_time": "2022-05-07T19:33:41.496Z"
   },
   {
    "duration": 12,
    "start_time": "2022-05-07T19:33:44.581Z"
   },
   {
    "duration": 179,
    "start_time": "2022-05-07T19:35:03.650Z"
   },
   {
    "duration": 4,
    "start_time": "2022-05-07T19:35:10.136Z"
   },
   {
    "duration": 7,
    "start_time": "2022-05-07T19:35:13.099Z"
   },
   {
    "duration": 442466,
    "start_time": "2022-05-07T19:35:15.802Z"
   },
   {
    "duration": 11758,
    "start_time": "2022-05-07T19:44:43.808Z"
   },
   {
    "duration": 8,
    "start_time": "2022-05-07T19:52:29.794Z"
   },
   {
    "duration": 8,
    "start_time": "2022-05-07T20:16:54.563Z"
   },
   {
    "duration": 94,
    "start_time": "2022-05-07T20:59:18.761Z"
   },
   {
    "duration": 108,
    "start_time": "2022-05-07T20:59:18.860Z"
   },
   {
    "duration": 11811,
    "start_time": "2022-05-07T20:59:19.047Z"
   },
   {
    "duration": 97,
    "start_time": "2022-05-07T20:59:30.862Z"
   },
   {
    "duration": 290,
    "start_time": "2022-05-07T20:59:30.962Z"
   },
   {
    "duration": 102,
    "start_time": "2022-05-07T20:59:31.260Z"
   },
   {
    "duration": 1904,
    "start_time": "2022-05-07T20:59:31.449Z"
   },
   {
    "duration": 1691,
    "start_time": "2022-05-07T20:59:33.358Z"
   },
   {
    "duration": 1702,
    "start_time": "2022-05-07T20:59:35.051Z"
   },
   {
    "duration": 203,
    "start_time": "2022-05-07T20:59:36.759Z"
   },
   {
    "duration": 97,
    "start_time": "2022-05-07T20:59:37.050Z"
   },
   {
    "duration": 209,
    "start_time": "2022-05-07T20:59:37.149Z"
   },
   {
    "duration": 204,
    "start_time": "2022-05-07T20:59:37.451Z"
   },
   {
    "duration": 95,
    "start_time": "2022-05-07T20:59:37.661Z"
   },
   {
    "duration": 187,
    "start_time": "2022-05-07T20:59:37.762Z"
   },
   {
    "duration": 509,
    "start_time": "2022-05-07T20:59:37.951Z"
   },
   {
    "duration": 786,
    "start_time": "2022-05-07T20:59:38.463Z"
   },
   {
    "duration": 112,
    "start_time": "2022-05-07T20:59:39.256Z"
   },
   {
    "duration": 193,
    "start_time": "2022-05-07T20:59:39.370Z"
   },
   {
    "duration": 99,
    "start_time": "2022-05-07T20:59:39.565Z"
   },
   {
    "duration": 102,
    "start_time": "2022-05-07T20:59:39.747Z"
   },
   {
    "duration": 2500,
    "start_time": "2022-05-07T20:59:39.853Z"
   },
   {
    "duration": 202,
    "start_time": "2022-05-07T20:59:42.357Z"
   },
   {
    "duration": 194,
    "start_time": "2022-05-07T20:59:42.561Z"
   },
   {
    "duration": 293,
    "start_time": "2022-05-07T20:59:42.756Z"
   },
   {
    "duration": 298,
    "start_time": "2022-05-07T20:59:43.053Z"
   },
   {
    "duration": 1400,
    "start_time": "2022-05-07T20:59:43.353Z"
   },
   {
    "duration": 190,
    "start_time": "2022-05-07T20:59:44.759Z"
   },
   {
    "duration": 201,
    "start_time": "2022-05-07T20:59:44.954Z"
   },
   {
    "duration": 1004,
    "start_time": "2022-05-07T20:59:45.158Z"
   },
   {
    "duration": 95,
    "start_time": "2022-05-07T20:59:46.164Z"
   },
   {
    "duration": 799,
    "start_time": "2022-05-07T20:59:46.262Z"
   },
   {
    "duration": 105,
    "start_time": "2022-05-07T20:59:47.063Z"
   },
   {
    "duration": 1189,
    "start_time": "2022-05-07T20:59:47.170Z"
   },
   {
    "duration": 3,
    "start_time": "2022-05-07T20:59:48.361Z"
   },
   {
    "duration": 193,
    "start_time": "2022-05-07T20:59:48.365Z"
   },
   {
    "duration": 188,
    "start_time": "2022-05-07T20:59:48.562Z"
   },
   {
    "duration": 5717,
    "start_time": "2022-05-07T20:59:48.753Z"
   },
   {
    "duration": 309,
    "start_time": "2022-05-07T20:59:54.472Z"
   },
   {
    "duration": 82,
    "start_time": "2022-05-07T20:59:54.783Z"
   },
   {
    "duration": 297,
    "start_time": "2022-05-07T20:59:54.867Z"
   },
   {
    "duration": 723,
    "start_time": "2022-05-07T20:59:55.166Z"
   },
   {
    "duration": 61,
    "start_time": "2022-05-07T20:59:55.891Z"
   },
   {
    "duration": 5,
    "start_time": "2022-05-07T20:59:55.954Z"
   },
   {
    "duration": 10,
    "start_time": "2022-05-07T20:59:55.961Z"
   },
   {
    "duration": 75,
    "start_time": "2022-05-07T20:59:55.973Z"
   },
   {
    "duration": 12,
    "start_time": "2022-05-07T20:59:56.050Z"
   },
   {
    "duration": 2250,
    "start_time": "2022-05-07T23:41:49.714Z"
   },
   {
    "duration": 8,
    "start_time": "2022-05-07T23:41:51.967Z"
   },
   {
    "duration": 2449,
    "start_time": "2022-05-07T23:41:51.977Z"
   },
   {
    "duration": 7,
    "start_time": "2022-05-07T23:41:54.429Z"
   },
   {
    "duration": 121,
    "start_time": "2022-05-07T23:41:54.438Z"
   },
   {
    "duration": 18,
    "start_time": "2022-05-07T23:41:54.561Z"
   },
   {
    "duration": 379,
    "start_time": "2022-05-07T23:41:54.581Z"
   },
   {
    "duration": 388,
    "start_time": "2022-05-07T23:41:54.963Z"
   },
   {
    "duration": 404,
    "start_time": "2022-05-07T23:41:55.356Z"
   },
   {
    "duration": 31,
    "start_time": "2022-05-07T23:41:55.764Z"
   },
   {
    "duration": 10,
    "start_time": "2022-05-07T23:41:55.797Z"
   },
   {
    "duration": 74,
    "start_time": "2022-05-07T23:41:55.809Z"
   },
   {
    "duration": 82,
    "start_time": "2022-05-07T23:41:55.885Z"
   },
   {
    "duration": 9,
    "start_time": "2022-05-07T23:41:55.969Z"
   },
   {
    "duration": 87,
    "start_time": "2022-05-07T23:41:55.980Z"
   },
   {
    "duration": 299,
    "start_time": "2022-05-07T23:41:56.069Z"
   },
   {
    "duration": 320,
    "start_time": "2022-05-07T23:41:56.370Z"
   },
   {
    "duration": 87,
    "start_time": "2022-05-07T23:41:56.692Z"
   },
   {
    "duration": 88,
    "start_time": "2022-05-07T23:41:56.781Z"
   },
   {
    "duration": 22,
    "start_time": "2022-05-07T23:41:56.871Z"
   },
   {
    "duration": 77,
    "start_time": "2022-05-07T23:41:56.895Z"
   },
   {
    "duration": 1900,
    "start_time": "2022-05-07T23:41:56.974Z"
   },
   {
    "duration": 100,
    "start_time": "2022-05-07T23:41:58.876Z"
   },
   {
    "duration": 28,
    "start_time": "2022-05-07T23:41:58.978Z"
   },
   {
    "duration": 103,
    "start_time": "2022-05-07T23:41:59.008Z"
   },
   {
    "duration": 73,
    "start_time": "2022-05-07T23:41:59.113Z"
   },
   {
    "duration": 216,
    "start_time": "2022-05-07T23:41:59.188Z"
   },
   {
    "duration": 27,
    "start_time": "2022-05-07T23:41:59.409Z"
   },
   {
    "duration": 52,
    "start_time": "2022-05-07T23:41:59.437Z"
   },
   {
    "duration": 182,
    "start_time": "2022-05-07T23:41:59.491Z"
   },
   {
    "duration": 16,
    "start_time": "2022-05-07T23:41:59.675Z"
   },
   {
    "duration": 129,
    "start_time": "2022-05-07T23:41:59.693Z"
   },
   {
    "duration": 44,
    "start_time": "2022-05-07T23:41:59.824Z"
   },
   {
    "duration": 246,
    "start_time": "2022-05-07T23:41:59.870Z"
   },
   {
    "duration": 4,
    "start_time": "2022-05-07T23:42:00.118Z"
   },
   {
    "duration": 53,
    "start_time": "2022-05-07T23:42:00.124Z"
   },
   {
    "duration": 38,
    "start_time": "2022-05-07T23:42:00.180Z"
   },
   {
    "duration": 1607,
    "start_time": "2022-05-07T23:42:00.221Z"
   },
   {
    "duration": 136,
    "start_time": "2022-05-07T23:42:01.830Z"
   },
   {
    "duration": 199,
    "start_time": "2022-05-07T23:42:01.969Z"
   },
   {
    "duration": 151,
    "start_time": "2022-05-07T23:42:02.171Z"
   },
   {
    "duration": 598,
    "start_time": "2022-05-07T23:42:02.324Z"
   },
   {
    "duration": 7,
    "start_time": "2022-05-07T23:42:02.924Z"
   },
   {
    "duration": 25,
    "start_time": "2022-05-07T23:42:02.933Z"
   },
   {
    "duration": 7,
    "start_time": "2022-05-07T23:42:02.960Z"
   },
   {
    "duration": 7,
    "start_time": "2022-05-07T23:42:02.970Z"
   },
   {
    "duration": 9,
    "start_time": "2022-05-07T23:42:02.980Z"
   },
   {
    "duration": 6,
    "start_time": "2022-05-08T00:09:30.573Z"
   },
   {
    "duration": 14,
    "start_time": "2022-05-08T00:09:30.584Z"
   },
   {
    "duration": 2314,
    "start_time": "2022-05-08T00:09:30.601Z"
   },
   {
    "duration": 9,
    "start_time": "2022-05-08T00:09:32.917Z"
   },
   {
    "duration": 81,
    "start_time": "2022-05-08T00:09:32.929Z"
   },
   {
    "duration": 37,
    "start_time": "2022-05-08T00:09:33.015Z"
   },
   {
    "duration": 338,
    "start_time": "2022-05-08T00:09:33.054Z"
   },
   {
    "duration": 337,
    "start_time": "2022-05-08T00:09:33.395Z"
   },
   {
    "duration": 356,
    "start_time": "2022-05-08T00:09:33.735Z"
   },
   {
    "duration": 32,
    "start_time": "2022-05-08T00:09:34.093Z"
   },
   {
    "duration": 29,
    "start_time": "2022-05-08T00:09:34.128Z"
   },
   {
    "duration": 49,
    "start_time": "2022-05-08T00:09:34.160Z"
   },
   {
    "duration": 69,
    "start_time": "2022-05-08T00:09:34.211Z"
   },
   {
    "duration": 11,
    "start_time": "2022-05-08T00:09:34.283Z"
   },
   {
    "duration": 64,
    "start_time": "2022-05-08T00:09:34.299Z"
   },
   {
    "duration": 128,
    "start_time": "2022-05-08T00:09:34.365Z"
   },
   {
    "duration": 175,
    "start_time": "2022-05-08T00:09:34.495Z"
   },
   {
    "duration": 36,
    "start_time": "2022-05-08T00:09:34.672Z"
   },
   {
    "duration": 55,
    "start_time": "2022-05-08T00:09:34.710Z"
   },
   {
    "duration": 22,
    "start_time": "2022-05-08T00:09:34.767Z"
   },
   {
    "duration": 19,
    "start_time": "2022-05-08T00:09:34.791Z"
   },
   {
    "duration": 653,
    "start_time": "2022-05-08T00:09:34.812Z"
   },
   {
    "duration": 46,
    "start_time": "2022-05-08T00:09:35.467Z"
   },
   {
    "duration": 52,
    "start_time": "2022-05-08T00:09:35.515Z"
   },
   {
    "duration": 68,
    "start_time": "2022-05-08T00:09:35.569Z"
   },
   {
    "duration": 63,
    "start_time": "2022-05-08T00:09:35.639Z"
   },
   {
    "duration": 211,
    "start_time": "2022-05-08T00:09:35.704Z"
   },
   {
    "duration": 37,
    "start_time": "2022-05-08T00:09:35.917Z"
   },
   {
    "duration": 26,
    "start_time": "2022-05-08T00:09:35.956Z"
   },
   {
    "duration": 180,
    "start_time": "2022-05-08T00:09:35.984Z"
   },
   {
    "duration": 16,
    "start_time": "2022-05-08T00:09:36.166Z"
   },
   {
    "duration": 127,
    "start_time": "2022-05-08T00:09:36.184Z"
   },
   {
    "duration": 40,
    "start_time": "2022-05-08T00:09:36.313Z"
   },
   {
    "duration": 224,
    "start_time": "2022-05-08T00:09:36.355Z"
   },
   {
    "duration": 3,
    "start_time": "2022-05-08T00:09:36.581Z"
   },
   {
    "duration": 36,
    "start_time": "2022-05-08T00:09:36.586Z"
   },
   {
    "duration": 56,
    "start_time": "2022-05-08T00:09:36.625Z"
   },
   {
    "duration": 2580,
    "start_time": "2022-05-08T00:09:36.683Z"
   },
   {
    "duration": 228,
    "start_time": "2022-05-08T00:09:39.265Z"
   },
   {
    "duration": 82,
    "start_time": "2022-05-08T00:09:39.495Z"
   },
   {
    "duration": 299,
    "start_time": "2022-05-08T00:09:39.580Z"
   },
   {
    "duration": 583,
    "start_time": "2022-05-08T00:09:39.885Z"
   },
   {
    "duration": 8,
    "start_time": "2022-05-08T00:09:40.471Z"
   },
   {
    "duration": 5,
    "start_time": "2022-05-08T00:09:40.481Z"
   },
   {
    "duration": 6,
    "start_time": "2022-05-08T00:09:40.488Z"
   },
   {
    "duration": 8,
    "start_time": "2022-05-08T00:09:40.496Z"
   },
   {
    "duration": 7,
    "start_time": "2022-05-08T00:09:40.506Z"
   },
   {
    "duration": 577107,
    "start_time": "2022-05-08T00:09:40.552Z"
   },
   {
    "duration": 90897,
    "start_time": "2022-05-08T00:19:17.661Z"
   },
   {
    "duration": 11,
    "start_time": "2022-05-08T00:20:48.561Z"
   },
   {
    "duration": 9,
    "start_time": "2022-05-08T00:20:48.574Z"
   },
   {
    "duration": 7,
    "start_time": "2022-05-08T00:20:48.585Z"
   },
   {
    "duration": 5,
    "start_time": "2022-05-08T00:20:48.594Z"
   },
   {
    "duration": 1850,
    "start_time": "2022-05-09T07:08:55.288Z"
   },
   {
    "duration": 5,
    "start_time": "2022-05-09T07:08:57.141Z"
   },
   {
    "duration": 1842,
    "start_time": "2022-05-09T07:08:57.147Z"
   },
   {
    "duration": 9,
    "start_time": "2022-05-09T07:08:58.991Z"
   },
   {
    "duration": 54,
    "start_time": "2022-05-09T07:08:59.003Z"
   },
   {
    "duration": 11,
    "start_time": "2022-05-09T07:08:59.059Z"
   },
   {
    "duration": 263,
    "start_time": "2022-05-09T07:08:59.071Z"
   },
   {
    "duration": 284,
    "start_time": "2022-05-09T07:08:59.335Z"
   },
   {
    "duration": 279,
    "start_time": "2022-05-09T07:08:59.621Z"
   },
   {
    "duration": 30,
    "start_time": "2022-05-09T07:08:59.903Z"
   },
   {
    "duration": 8,
    "start_time": "2022-05-09T07:08:59.935Z"
   },
   {
    "duration": 63,
    "start_time": "2022-05-09T07:08:59.944Z"
   },
   {
    "duration": 34,
    "start_time": "2022-05-09T07:09:00.009Z"
   },
   {
    "duration": 7,
    "start_time": "2022-05-09T07:09:00.044Z"
   },
   {
    "duration": 28,
    "start_time": "2022-05-09T07:09:00.053Z"
   },
   {
    "duration": 136,
    "start_time": "2022-05-09T07:09:00.100Z"
   },
   {
    "duration": 150,
    "start_time": "2022-05-09T07:09:00.239Z"
   },
   {
    "duration": 32,
    "start_time": "2022-05-09T07:09:00.391Z"
   },
   {
    "duration": 28,
    "start_time": "2022-05-09T07:09:00.425Z"
   },
   {
    "duration": 18,
    "start_time": "2022-05-09T07:09:00.455Z"
   },
   {
    "duration": 42,
    "start_time": "2022-05-09T07:09:00.475Z"
   },
   {
    "duration": 564,
    "start_time": "2022-05-09T07:09:00.519Z"
   },
   {
    "duration": 35,
    "start_time": "2022-05-09T07:09:01.085Z"
   },
   {
    "duration": 398,
    "start_time": "2022-05-09T07:19:21.674Z"
   },
   {
    "duration": 5,
    "start_time": "2022-05-09T07:20:01.114Z"
   },
   {
    "duration": 19,
    "start_time": "2022-05-09T07:20:01.121Z"
   },
   {
    "duration": 2621,
    "start_time": "2022-05-09T07:20:01.142Z"
   },
   {
    "duration": 5,
    "start_time": "2022-05-09T07:20:03.765Z"
   },
   {
    "duration": 50,
    "start_time": "2022-05-09T07:20:03.772Z"
   },
   {
    "duration": 18,
    "start_time": "2022-05-09T07:20:03.823Z"
   },
   {
    "duration": 253,
    "start_time": "2022-05-09T07:20:03.842Z"
   },
   {
    "duration": 263,
    "start_time": "2022-05-09T07:20:04.096Z"
   },
   {
    "duration": 257,
    "start_time": "2022-05-09T07:20:04.360Z"
   },
   {
    "duration": 10178,
    "start_time": "2022-05-09T07:20:04.618Z"
   },
   {
    "duration": 191,
    "start_time": "2022-05-09T07:31:10.285Z"
   },
   {
    "duration": 210,
    "start_time": "2022-05-09T07:31:29.644Z"
   },
   {
    "duration": 3,
    "start_time": "2022-05-09T07:32:07.277Z"
   },
   {
    "duration": 804,
    "start_time": "2022-05-09T07:34:47.396Z"
   },
   {
    "duration": 10882,
    "start_time": "2022-05-09T07:36:42.636Z"
   },
   {
    "duration": 474,
    "start_time": "2022-05-09T07:37:21.655Z"
   },
   {
    "duration": 1558,
    "start_time": "2022-05-09T07:37:42.858Z"
   },
   {
    "duration": 11067,
    "start_time": "2022-05-09T07:38:08.195Z"
   },
   {
    "duration": 12223,
    "start_time": "2022-05-09T07:38:46.800Z"
   },
   {
    "duration": 12429,
    "start_time": "2022-05-09T07:42:10.435Z"
   },
   {
    "duration": 3,
    "start_time": "2022-05-09T07:43:40.003Z"
   },
   {
    "duration": 12,
    "start_time": "2022-05-09T07:46:20.832Z"
   },
   {
    "duration": 3,
    "start_time": "2022-05-09T07:46:43.506Z"
   },
   {
    "duration": 8,
    "start_time": "2022-05-09T07:47:02.597Z"
   },
   {
    "duration": 34,
    "start_time": "2022-05-09T07:47:34.553Z"
   },
   {
    "duration": 9,
    "start_time": "2022-05-09T07:47:36.724Z"
   },
   {
    "duration": 8,
    "start_time": "2022-05-09T07:47:39.663Z"
   },
   {
    "duration": 3,
    "start_time": "2022-05-09T07:47:53.421Z"
   },
   {
    "duration": 9,
    "start_time": "2022-05-09T07:48:00.196Z"
   },
   {
    "duration": 16,
    "start_time": "2022-05-09T07:48:07.492Z"
   },
   {
    "duration": 16,
    "start_time": "2022-05-09T07:48:26.566Z"
   },
   {
    "duration": 9,
    "start_time": "2022-05-09T07:48:28.189Z"
   },
   {
    "duration": 19,
    "start_time": "2022-05-09T07:48:35.617Z"
   },
   {
    "duration": 14,
    "start_time": "2022-05-09T07:48:46.656Z"
   },
   {
    "duration": 18,
    "start_time": "2022-05-09T07:48:52.801Z"
   },
   {
    "duration": 36,
    "start_time": "2022-05-09T07:49:24.157Z"
   },
   {
    "duration": 3,
    "start_time": "2022-05-09T07:49:25.739Z"
   },
   {
    "duration": 3,
    "start_time": "2022-05-09T07:49:58.690Z"
   },
   {
    "duration": 180,
    "start_time": "2022-05-09T07:50:52.341Z"
   },
   {
    "duration": 3,
    "start_time": "2022-05-09T07:50:59.117Z"
   },
   {
    "duration": 17,
    "start_time": "2022-05-09T07:51:16.750Z"
   },
   {
    "duration": 2,
    "start_time": "2022-05-09T07:51:19.404Z"
   },
   {
    "duration": 9,
    "start_time": "2022-05-09T07:51:29.742Z"
   },
   {
    "duration": 16,
    "start_time": "2022-05-09T07:51:43.804Z"
   },
   {
    "duration": 8,
    "start_time": "2022-05-09T07:51:47.212Z"
   },
   {
    "duration": 3,
    "start_time": "2022-05-09T07:52:01.830Z"
   },
   {
    "duration": 17,
    "start_time": "2022-05-09T07:52:12.542Z"
   },
   {
    "duration": 8,
    "start_time": "2022-05-09T07:52:14.086Z"
   },
   {
    "duration": 9,
    "start_time": "2022-05-09T07:52:17.145Z"
   },
   {
    "duration": 3,
    "start_time": "2022-05-09T07:52:20.535Z"
   },
   {
    "duration": 17,
    "start_time": "2022-05-09T07:52:23.101Z"
   },
   {
    "duration": 8,
    "start_time": "2022-05-09T07:52:24.778Z"
   },
   {
    "duration": 206,
    "start_time": "2022-05-09T08:07:39.397Z"
   },
   {
    "duration": 5,
    "start_time": "2022-05-09T08:12:32.875Z"
   },
   {
    "duration": 57,
    "start_time": "2022-05-09T08:12:55.699Z"
   },
   {
    "duration": 85,
    "start_time": "2022-05-09T08:12:59.562Z"
   },
   {
    "duration": 91,
    "start_time": "2022-05-09T08:13:24.821Z"
   },
   {
    "duration": 54,
    "start_time": "2022-05-09T08:14:25.252Z"
   },
   {
    "duration": 55,
    "start_time": "2022-05-09T08:15:07.654Z"
   },
   {
    "duration": 97,
    "start_time": "2022-05-09T08:15:33.223Z"
   },
   {
    "duration": 38,
    "start_time": "2022-05-09T08:16:08.521Z"
   },
   {
    "duration": 87,
    "start_time": "2022-05-09T08:16:12.218Z"
   },
   {
    "duration": 542,
    "start_time": "2022-05-09T08:16:52.852Z"
   },
   {
    "duration": 38,
    "start_time": "2022-05-09T08:29:23.134Z"
   },
   {
    "duration": 31,
    "start_time": "2022-05-09T08:30:36.393Z"
   },
   {
    "duration": 243,
    "start_time": "2022-05-09T08:37:17.178Z"
   },
   {
    "duration": 31,
    "start_time": "2022-05-09T08:37:52.874Z"
   },
   {
    "duration": 69,
    "start_time": "2022-05-09T08:38:02.579Z"
   },
   {
    "duration": 40,
    "start_time": "2022-05-09T08:42:37.543Z"
   },
   {
    "duration": 16,
    "start_time": "2022-05-09T08:45:37.255Z"
   },
   {
    "duration": 22,
    "start_time": "2022-05-09T08:45:41.084Z"
   },
   {
    "duration": 27,
    "start_time": "2022-05-09T08:45:45.110Z"
   },
   {
    "duration": 17,
    "start_time": "2022-05-09T08:46:50.529Z"
   },
   {
    "duration": 5,
    "start_time": "2022-05-09T08:47:37.136Z"
   },
   {
    "duration": 6,
    "start_time": "2022-05-09T08:47:37.143Z"
   },
   {
    "duration": 1681,
    "start_time": "2022-05-09T08:47:37.153Z"
   },
   {
    "duration": 5,
    "start_time": "2022-05-09T08:47:38.836Z"
   },
   {
    "duration": 46,
    "start_time": "2022-05-09T08:47:38.842Z"
   },
   {
    "duration": 13,
    "start_time": "2022-05-09T08:47:38.901Z"
   },
   {
    "duration": 256,
    "start_time": "2022-05-09T08:47:38.917Z"
   },
   {
    "duration": 257,
    "start_time": "2022-05-09T08:47:39.175Z"
   },
   {
    "duration": 262,
    "start_time": "2022-05-09T08:47:39.434Z"
   },
   {
    "duration": 400,
    "start_time": "2022-05-09T08:47:39.700Z"
   },
   {
    "duration": 12057,
    "start_time": "2022-05-09T08:47:40.102Z"
   },
   {
    "duration": 4,
    "start_time": "2022-05-09T08:47:52.161Z"
   },
   {
    "duration": 64,
    "start_time": "2022-05-09T08:47:52.167Z"
   },
   {
    "duration": 520,
    "start_time": "2022-05-09T08:47:52.233Z"
   },
   {
    "duration": 26,
    "start_time": "2022-05-09T08:47:52.755Z"
   },
   {
    "duration": 41,
    "start_time": "2022-05-09T08:47:52.784Z"
   },
   {
    "duration": 16,
    "start_time": "2022-05-09T08:48:01.625Z"
   },
   {
    "duration": 20,
    "start_time": "2022-05-09T08:48:21.018Z"
   },
   {
    "duration": 32,
    "start_time": "2022-05-09T08:49:59.038Z"
   },
   {
    "duration": 19,
    "start_time": "2022-05-09T08:50:07.359Z"
   },
   {
    "duration": 4,
    "start_time": "2022-05-09T08:50:23.086Z"
   },
   {
    "duration": 5,
    "start_time": "2022-05-09T08:50:23.095Z"
   },
   {
    "duration": 1648,
    "start_time": "2022-05-09T08:50:23.102Z"
   },
   {
    "duration": 5,
    "start_time": "2022-05-09T08:50:24.751Z"
   },
   {
    "duration": 54,
    "start_time": "2022-05-09T08:50:24.758Z"
   },
   {
    "duration": 12,
    "start_time": "2022-05-09T08:50:24.814Z"
   },
   {
    "duration": 217,
    "start_time": "2022-05-09T08:50:24.828Z"
   },
   {
    "duration": 376,
    "start_time": "2022-05-09T08:50:25.046Z"
   },
   {
    "duration": 394,
    "start_time": "2022-05-09T08:50:25.424Z"
   },
   {
    "duration": 402,
    "start_time": "2022-05-09T08:50:25.821Z"
   },
   {
    "duration": 19246,
    "start_time": "2022-05-09T08:50:26.226Z"
   },
   {
    "duration": 6,
    "start_time": "2022-05-09T08:50:45.474Z"
   },
   {
    "duration": 65,
    "start_time": "2022-05-09T08:50:45.482Z"
   },
   {
    "duration": 857,
    "start_time": "2022-05-09T08:50:45.550Z"
   },
   {
    "duration": 38,
    "start_time": "2022-05-09T08:50:46.409Z"
   },
   {
    "duration": 60,
    "start_time": "2022-05-09T08:50:46.449Z"
   },
   {
    "duration": 5,
    "start_time": "2022-05-09T08:52:13.691Z"
   },
   {
    "duration": 7,
    "start_time": "2022-05-09T08:52:13.701Z"
   },
   {
    "duration": 2137,
    "start_time": "2022-05-09T08:52:13.710Z"
   },
   {
    "duration": 5,
    "start_time": "2022-05-09T08:52:15.849Z"
   },
   {
    "duration": 60,
    "start_time": "2022-05-09T08:52:15.855Z"
   },
   {
    "duration": 12,
    "start_time": "2022-05-09T08:52:15.917Z"
   },
   {
    "duration": 247,
    "start_time": "2022-05-09T08:52:15.930Z"
   },
   {
    "duration": 300,
    "start_time": "2022-05-09T08:52:16.179Z"
   },
   {
    "duration": 222,
    "start_time": "2022-05-09T08:52:16.481Z"
   },
   {
    "duration": 658,
    "start_time": "2022-05-09T08:52:16.705Z"
   },
   {
    "duration": 19205,
    "start_time": "2022-05-09T08:52:17.365Z"
   },
   {
    "duration": 5,
    "start_time": "2022-05-09T08:52:36.573Z"
   },
   {
    "duration": 63,
    "start_time": "2022-05-09T08:52:36.580Z"
   },
   {
    "duration": 794,
    "start_time": "2022-05-09T08:52:36.646Z"
   },
   {
    "duration": 36,
    "start_time": "2022-05-09T08:52:37.442Z"
   },
   {
    "duration": 56,
    "start_time": "2022-05-09T08:52:37.480Z"
   },
   {
    "duration": 6,
    "start_time": "2022-05-09T08:52:47.786Z"
   },
   {
    "duration": 26,
    "start_time": "2022-05-09T09:00:40.660Z"
   },
   {
    "duration": 10,
    "start_time": "2022-05-09T09:03:10.025Z"
   },
   {
    "duration": 12,
    "start_time": "2022-05-09T09:03:21.788Z"
   },
   {
    "duration": 186,
    "start_time": "2022-05-09T09:04:13.824Z"
   },
   {
    "duration": 10,
    "start_time": "2022-05-09T09:04:19.309Z"
   },
   {
    "duration": 13,
    "start_time": "2022-05-09T09:04:51.311Z"
   },
   {
    "duration": 26,
    "start_time": "2022-05-09T09:05:21.878Z"
   },
   {
    "duration": 5,
    "start_time": "2022-05-09T09:06:18.746Z"
   },
   {
    "duration": 24,
    "start_time": "2022-05-09T09:06:32.576Z"
   },
   {
    "duration": 22,
    "start_time": "2022-05-09T09:10:47.564Z"
   },
   {
    "duration": 23,
    "start_time": "2022-05-09T09:11:31.807Z"
   },
   {
    "duration": 38,
    "start_time": "2022-05-09T09:11:45.964Z"
   },
   {
    "duration": 22,
    "start_time": "2022-05-09T09:11:58.814Z"
   },
   {
    "duration": 23,
    "start_time": "2022-05-09T09:17:28.074Z"
   },
   {
    "duration": 24,
    "start_time": "2022-05-09T09:20:20.359Z"
   },
   {
    "duration": 46,
    "start_time": "2022-05-09T09:20:29.810Z"
   },
   {
    "duration": 43,
    "start_time": "2022-05-09T09:20:43.153Z"
   },
   {
    "duration": 29,
    "start_time": "2022-05-09T09:20:54.612Z"
   },
   {
    "duration": 17,
    "start_time": "2022-05-09T09:21:17.978Z"
   },
   {
    "duration": 30,
    "start_time": "2022-05-09T09:21:26.105Z"
   },
   {
    "duration": 3,
    "start_time": "2022-05-09T09:22:10.230Z"
   },
   {
    "duration": 34,
    "start_time": "2022-05-09T09:22:37.252Z"
   },
   {
    "duration": 13,
    "start_time": "2022-05-09T09:22:46.100Z"
   },
   {
    "duration": 48,
    "start_time": "2022-05-09T09:25:14.135Z"
   },
   {
    "duration": 24,
    "start_time": "2022-05-09T09:25:21.361Z"
   },
   {
    "duration": 24,
    "start_time": "2022-05-09T09:25:28.106Z"
   },
   {
    "duration": 18,
    "start_time": "2022-05-09T09:35:04.366Z"
   },
   {
    "duration": 253,
    "start_time": "2022-05-09T09:36:26.376Z"
   },
   {
    "duration": 4,
    "start_time": "2022-05-09T09:36:41.805Z"
   },
   {
    "duration": 8,
    "start_time": "2022-05-09T09:36:41.811Z"
   },
   {
    "duration": 1700,
    "start_time": "2022-05-09T09:36:41.821Z"
   },
   {
    "duration": 5,
    "start_time": "2022-05-09T09:36:43.524Z"
   },
   {
    "duration": 40,
    "start_time": "2022-05-09T09:36:43.531Z"
   },
   {
    "duration": 29,
    "start_time": "2022-05-09T09:36:43.573Z"
   },
   {
    "duration": 231,
    "start_time": "2022-05-09T09:36:43.603Z"
   },
   {
    "duration": 224,
    "start_time": "2022-05-09T09:36:43.836Z"
   },
   {
    "duration": 404,
    "start_time": "2022-05-09T09:36:44.063Z"
   },
   {
    "duration": 32,
    "start_time": "2022-05-09T09:36:44.468Z"
   },
   {
    "duration": 12383,
    "start_time": "2022-05-09T09:36:44.502Z"
   },
   {
    "duration": 4,
    "start_time": "2022-05-09T09:36:56.887Z"
   },
   {
    "duration": 41,
    "start_time": "2022-05-09T09:36:56.893Z"
   },
   {
    "duration": 531,
    "start_time": "2022-05-09T09:36:56.936Z"
   },
   {
    "duration": 40,
    "start_time": "2022-05-09T09:36:57.469Z"
   },
   {
    "duration": 26,
    "start_time": "2022-05-09T09:36:57.510Z"
   },
   {
    "duration": 23,
    "start_time": "2022-05-09T09:36:57.537Z"
   },
   {
    "duration": 41,
    "start_time": "2022-05-09T09:36:57.561Z"
   },
   {
    "duration": 31,
    "start_time": "2022-05-09T09:36:57.604Z"
   },
   {
    "duration": 3,
    "start_time": "2022-05-09T09:36:57.636Z"
   },
   {
    "duration": 95,
    "start_time": "2022-05-09T09:36:57.641Z"
   },
   {
    "duration": 121,
    "start_time": "2022-05-09T09:36:57.738Z"
   },
   {
    "duration": 20,
    "start_time": "2022-05-09T09:36:57.860Z"
   },
   {
    "duration": 52,
    "start_time": "2022-05-09T09:36:57.884Z"
   },
   {
    "duration": 26,
    "start_time": "2022-05-09T09:36:57.938Z"
   },
   {
    "duration": 36,
    "start_time": "2022-05-09T09:36:57.966Z"
   },
   {
    "duration": 415,
    "start_time": "2022-05-09T09:36:58.004Z"
   },
   {
    "duration": 29,
    "start_time": "2022-05-09T09:36:58.420Z"
   },
   {
    "duration": 21,
    "start_time": "2022-05-09T09:36:58.450Z"
   },
   {
    "duration": 69,
    "start_time": "2022-05-09T09:36:58.473Z"
   },
   {
    "duration": 37,
    "start_time": "2022-05-09T09:36:58.544Z"
   },
   {
    "duration": 166,
    "start_time": "2022-05-09T09:36:58.582Z"
   },
   {
    "duration": 4,
    "start_time": "2022-05-09T09:39:38.144Z"
   },
   {
    "duration": 10,
    "start_time": "2022-05-09T09:39:54.120Z"
   },
   {
    "duration": 7,
    "start_time": "2022-05-09T09:41:00.085Z"
   },
   {
    "duration": 19,
    "start_time": "2022-05-09T09:45:09.075Z"
   },
   {
    "duration": 19,
    "start_time": "2022-05-09T09:45:10.376Z"
   },
   {
    "duration": 122,
    "start_time": "2022-05-09T09:45:10.953Z"
   },
   {
    "duration": 7,
    "start_time": "2022-05-09T09:45:12.466Z"
   },
   {
    "duration": 81,
    "start_time": "2022-05-09T09:45:19.684Z"
   },
   {
    "duration": 16,
    "start_time": "2022-05-09T09:48:44.562Z"
   },
   {
    "duration": 85,
    "start_time": "2022-05-09T09:49:14.731Z"
   },
   {
    "duration": 106,
    "start_time": "2022-05-09T10:01:07.590Z"
   },
   {
    "duration": 8,
    "start_time": "2022-05-09T10:01:40.958Z"
   },
   {
    "duration": 71,
    "start_time": "2022-05-09T10:01:56.926Z"
   },
   {
    "duration": 71,
    "start_time": "2022-05-09T10:02:02.623Z"
   },
   {
    "duration": 140,
    "start_time": "2022-05-09T10:04:18.405Z"
   },
   {
    "duration": 11,
    "start_time": "2022-05-09T10:05:01.478Z"
   },
   {
    "duration": 70,
    "start_time": "2022-05-09T10:08:53.141Z"
   },
   {
    "duration": 150,
    "start_time": "2022-05-09T10:09:45.199Z"
   },
   {
    "duration": 3193,
    "start_time": "2022-05-09T10:10:05.856Z"
   },
   {
    "duration": 166,
    "start_time": "2022-05-09T10:10:18.985Z"
   },
   {
    "duration": 26,
    "start_time": "2022-05-09T10:15:05.700Z"
   },
   {
    "duration": 22,
    "start_time": "2022-05-09T10:15:41.977Z"
   },
   {
    "duration": 25,
    "start_time": "2022-05-09T10:18:16.152Z"
   },
   {
    "duration": 9,
    "start_time": "2022-05-09T10:22:14.626Z"
   },
   {
    "duration": 2172,
    "start_time": "2022-05-09T10:22:50.966Z"
   },
   {
    "duration": 4,
    "start_time": "2022-05-09T11:01:54.504Z"
   },
   {
    "duration": 7,
    "start_time": "2022-05-09T11:01:54.540Z"
   },
   {
    "duration": 1889,
    "start_time": "2022-05-09T11:01:54.550Z"
   },
   {
    "duration": 6,
    "start_time": "2022-05-09T11:01:56.442Z"
   },
   {
    "duration": 54,
    "start_time": "2022-05-09T11:01:56.450Z"
   },
   {
    "duration": 15,
    "start_time": "2022-05-09T11:01:56.506Z"
   },
   {
    "duration": 251,
    "start_time": "2022-05-09T11:01:56.522Z"
   },
   {
    "duration": 225,
    "start_time": "2022-05-09T11:01:56.775Z"
   },
   {
    "duration": 447,
    "start_time": "2022-05-09T11:01:57.002Z"
   },
   {
    "duration": 28,
    "start_time": "2022-05-09T11:01:57.451Z"
   },
   {
    "duration": 11206,
    "start_time": "2022-05-09T11:01:57.481Z"
   },
   {
    "duration": 4,
    "start_time": "2022-05-09T11:02:08.689Z"
   },
   {
    "duration": 44,
    "start_time": "2022-05-09T11:02:08.701Z"
   },
   {
    "duration": 527,
    "start_time": "2022-05-09T11:02:08.748Z"
   },
   {
    "duration": 37,
    "start_time": "2022-05-09T11:02:09.277Z"
   },
   {
    "duration": 25,
    "start_time": "2022-05-09T11:02:09.315Z"
   },
   {
    "duration": 21,
    "start_time": "2022-05-09T11:02:09.342Z"
   },
   {
    "duration": 32,
    "start_time": "2022-05-09T11:02:30.753Z"
   },
   {
    "duration": 43,
    "start_time": "2022-05-09T11:02:41.872Z"
   },
   {
    "duration": 22,
    "start_time": "2022-05-09T11:03:03.687Z"
   },
   {
    "duration": 33,
    "start_time": "2022-05-09T11:03:06.049Z"
   },
   {
    "duration": 3,
    "start_time": "2022-05-09T11:04:46.126Z"
   },
   {
    "duration": 27,
    "start_time": "2022-05-09T11:05:16.399Z"
   },
   {
    "duration": 37,
    "start_time": "2022-05-09T11:07:37.642Z"
   },
   {
    "duration": 20,
    "start_time": "2022-05-09T11:07:47.914Z"
   },
   {
    "duration": 68,
    "start_time": "2022-05-09T11:08:03.610Z"
   },
   {
    "duration": 17,
    "start_time": "2022-05-09T11:08:06.170Z"
   },
   {
    "duration": 83,
    "start_time": "2022-05-09T11:10:59.083Z"
   },
   {
    "duration": 4,
    "start_time": "2022-05-09T11:11:18.824Z"
   },
   {
    "duration": 11,
    "start_time": "2022-05-09T11:11:18.830Z"
   },
   {
    "duration": 1728,
    "start_time": "2022-05-09T11:11:18.843Z"
   },
   {
    "duration": 6,
    "start_time": "2022-05-09T11:11:20.573Z"
   },
   {
    "duration": 39,
    "start_time": "2022-05-09T11:11:20.599Z"
   },
   {
    "duration": 11,
    "start_time": "2022-05-09T11:11:20.640Z"
   },
   {
    "duration": 229,
    "start_time": "2022-05-09T11:11:20.653Z"
   },
   {
    "duration": 371,
    "start_time": "2022-05-09T11:11:20.884Z"
   },
   {
    "duration": 657,
    "start_time": "2022-05-09T11:11:21.257Z"
   },
   {
    "duration": 27,
    "start_time": "2022-05-09T11:11:21.916Z"
   },
   {
    "duration": 18556,
    "start_time": "2022-05-09T11:11:21.947Z"
   },
   {
    "duration": 5,
    "start_time": "2022-05-09T11:11:40.505Z"
   },
   {
    "duration": 50,
    "start_time": "2022-05-09T11:11:40.512Z"
   },
   {
    "duration": 1401,
    "start_time": "2022-05-09T11:11:40.564Z"
   },
   {
    "duration": 46,
    "start_time": "2022-05-09T11:11:41.967Z"
   },
   {
    "duration": 34,
    "start_time": "2022-05-09T11:11:42.015Z"
   },
   {
    "duration": 32,
    "start_time": "2022-05-09T11:11:42.051Z"
   },
   {
    "duration": 38,
    "start_time": "2022-05-09T11:11:42.101Z"
   },
   {
    "duration": 59,
    "start_time": "2022-05-09T11:11:42.141Z"
   },
   {
    "duration": 44,
    "start_time": "2022-05-09T11:11:42.202Z"
   },
   {
    "duration": 4,
    "start_time": "2022-05-09T11:11:42.247Z"
   },
   {
    "duration": 93,
    "start_time": "2022-05-09T11:11:42.252Z"
   },
   {
    "duration": 125,
    "start_time": "2022-05-09T11:11:42.347Z"
   },
   {
    "duration": 29,
    "start_time": "2022-05-09T11:11:42.474Z"
   },
   {
    "duration": 28,
    "start_time": "2022-05-09T11:11:42.505Z"
   },
   {
    "duration": 24,
    "start_time": "2022-05-09T11:11:42.535Z"
   },
   {
    "duration": 47,
    "start_time": "2022-05-09T11:11:42.561Z"
   },
   {
    "duration": 414,
    "start_time": "2022-05-09T11:11:42.610Z"
   },
   {
    "duration": 27,
    "start_time": "2022-05-09T11:11:43.027Z"
   },
   {
    "duration": 20,
    "start_time": "2022-05-09T11:11:43.056Z"
   },
   {
    "duration": 45,
    "start_time": "2022-05-09T11:11:43.101Z"
   },
   {
    "duration": 176,
    "start_time": "2022-05-09T11:11:43.147Z"
   },
   {
    "duration": 282,
    "start_time": "2022-05-09T11:11:43.325Z"
   },
   {
    "duration": 30,
    "start_time": "2022-05-09T11:11:43.610Z"
   },
   {
    "duration": 33,
    "start_time": "2022-05-09T11:11:43.642Z"
   },
   {
    "duration": 135,
    "start_time": "2022-05-09T11:11:43.677Z"
   },
   {
    "duration": 8,
    "start_time": "2022-05-09T11:11:43.813Z"
   },
   {
    "duration": 85,
    "start_time": "2022-05-09T11:11:43.823Z"
   },
   {
    "duration": 18,
    "start_time": "2022-05-09T11:11:43.910Z"
   },
   {
    "duration": 87,
    "start_time": "2022-05-09T11:11:43.930Z"
   },
   {
    "duration": 141,
    "start_time": "2022-05-09T11:11:44.019Z"
   },
   {
    "duration": 11,
    "start_time": "2022-05-09T11:11:44.162Z"
   },
   {
    "duration": 87,
    "start_time": "2022-05-09T11:11:44.174Z"
   },
   {
    "duration": 12,
    "start_time": "2022-05-09T11:12:57.591Z"
   },
   {
    "duration": 52,
    "start_time": "2022-05-09T11:14:55.645Z"
   },
   {
    "duration": 69,
    "start_time": "2022-05-09T11:15:02.477Z"
   },
   {
    "duration": 123,
    "start_time": "2022-05-09T11:15:21.146Z"
   },
   {
    "duration": 281,
    "start_time": "2022-05-09T11:15:41.372Z"
   },
   {
    "duration": 6,
    "start_time": "2022-05-09T11:15:56.539Z"
   },
   {
    "duration": 10,
    "start_time": "2022-05-09T11:15:56.547Z"
   },
   {
    "duration": 1808,
    "start_time": "2022-05-09T11:15:56.559Z"
   },
   {
    "duration": 5,
    "start_time": "2022-05-09T11:15:58.369Z"
   },
   {
    "duration": 58,
    "start_time": "2022-05-09T11:15:58.376Z"
   },
   {
    "duration": 15,
    "start_time": "2022-05-09T11:15:58.436Z"
   },
   {
    "duration": 265,
    "start_time": "2022-05-09T11:15:58.453Z"
   },
   {
    "duration": 275,
    "start_time": "2022-05-09T11:15:58.720Z"
   },
   {
    "duration": 412,
    "start_time": "2022-05-09T11:15:58.997Z"
   },
   {
    "duration": 40,
    "start_time": "2022-05-09T11:15:59.411Z"
   },
   {
    "duration": 17350,
    "start_time": "2022-05-09T11:15:59.455Z"
   },
   {
    "duration": 6,
    "start_time": "2022-05-09T11:16:16.807Z"
   },
   {
    "duration": 45,
    "start_time": "2022-05-09T11:16:16.815Z"
   },
   {
    "duration": 518,
    "start_time": "2022-05-09T11:16:16.862Z"
   },
   {
    "duration": 42,
    "start_time": "2022-05-09T11:16:17.382Z"
   },
   {
    "duration": 27,
    "start_time": "2022-05-09T11:16:17.426Z"
   },
   {
    "duration": 22,
    "start_time": "2022-05-09T11:16:17.455Z"
   },
   {
    "duration": 23,
    "start_time": "2022-05-09T11:16:17.501Z"
   },
   {
    "duration": 38,
    "start_time": "2022-05-09T11:16:17.526Z"
   },
   {
    "duration": 44,
    "start_time": "2022-05-09T11:16:17.566Z"
   },
   {
    "duration": 3,
    "start_time": "2022-05-09T11:16:17.612Z"
   },
   {
    "duration": 93,
    "start_time": "2022-05-09T11:16:17.616Z"
   },
   {
    "duration": 130,
    "start_time": "2022-05-09T11:16:17.710Z"
   },
   {
    "duration": 21,
    "start_time": "2022-05-09T11:16:17.842Z"
   },
   {
    "duration": 57,
    "start_time": "2022-05-09T11:16:17.864Z"
   },
   {
    "duration": 18,
    "start_time": "2022-05-09T11:16:17.923Z"
   },
   {
    "duration": 16,
    "start_time": "2022-05-09T11:16:17.943Z"
   },
   {
    "duration": 1299,
    "start_time": "2022-05-09T11:16:17.960Z"
   },
   {
    "duration": 39,
    "start_time": "2022-05-09T11:16:19.262Z"
   },
   {
    "duration": 20,
    "start_time": "2022-05-09T11:16:19.302Z"
   },
   {
    "duration": 48,
    "start_time": "2022-05-09T11:16:19.324Z"
   },
   {
    "duration": 109,
    "start_time": "2022-05-09T11:16:19.373Z"
   },
   {
    "duration": 142,
    "start_time": "2022-05-09T11:16:19.484Z"
   },
   {
    "duration": 35,
    "start_time": "2022-05-09T11:16:19.628Z"
   },
   {
    "duration": 45,
    "start_time": "2022-05-09T11:16:19.665Z"
   },
   {
    "duration": 220,
    "start_time": "2022-05-09T11:16:19.712Z"
   },
   {
    "duration": 9,
    "start_time": "2022-05-09T11:16:19.934Z"
   },
   {
    "duration": 146,
    "start_time": "2022-05-09T11:16:19.945Z"
   },
   {
    "duration": 23,
    "start_time": "2022-05-09T11:16:20.100Z"
   },
   {
    "duration": 137,
    "start_time": "2022-05-09T11:16:20.125Z"
   },
   {
    "duration": 213,
    "start_time": "2022-05-09T11:16:20.264Z"
   },
   {
    "duration": 22,
    "start_time": "2022-05-09T11:16:20.479Z"
   },
   {
    "duration": 270,
    "start_time": "2022-05-09T11:16:25.306Z"
   },
   {
    "duration": 175,
    "start_time": "2022-05-09T11:16:30.157Z"
   },
   {
    "duration": 271,
    "start_time": "2022-05-09T11:16:34.725Z"
   },
   {
    "duration": 12,
    "start_time": "2022-05-09T11:19:12.275Z"
   },
   {
    "duration": 11,
    "start_time": "2022-05-09T11:19:20.494Z"
   },
   {
    "duration": 43,
    "start_time": "2022-05-09T11:19:26.769Z"
   },
   {
    "duration": 43,
    "start_time": "2022-05-09T11:19:52.569Z"
   },
   {
    "duration": 11,
    "start_time": "2022-05-09T11:21:20.729Z"
   },
   {
    "duration": 6,
    "start_time": "2022-05-09T11:22:15.513Z"
   },
   {
    "duration": 18,
    "start_time": "2022-05-09T11:22:15.521Z"
   },
   {
    "duration": 2888,
    "start_time": "2022-05-09T11:22:15.542Z"
   },
   {
    "duration": 8,
    "start_time": "2022-05-09T11:22:18.433Z"
   },
   {
    "duration": 68,
    "start_time": "2022-05-09T11:22:18.443Z"
   },
   {
    "duration": 31,
    "start_time": "2022-05-09T11:22:18.516Z"
   },
   {
    "duration": 366,
    "start_time": "2022-05-09T11:22:18.549Z"
   },
   {
    "duration": 378,
    "start_time": "2022-05-09T11:22:18.917Z"
   },
   {
    "duration": 17,
    "start_time": "2022-05-09T11:22:19.300Z"
   },
   {
    "duration": 181,
    "start_time": "2022-05-09T11:28:49.666Z"
   },
   {
    "duration": 405,
    "start_time": "2022-05-09T11:29:12.785Z"
   },
   {
    "duration": 625,
    "start_time": "2022-05-09T11:29:19.511Z"
   },
   {
    "duration": 202,
    "start_time": "2022-05-09T11:29:33.073Z"
   },
   {
    "duration": 4,
    "start_time": "2022-05-09T11:30:00.907Z"
   },
   {
    "duration": 11,
    "start_time": "2022-05-09T11:30:00.913Z"
   },
   {
    "duration": 1808,
    "start_time": "2022-05-09T11:30:00.926Z"
   },
   {
    "duration": 4,
    "start_time": "2022-05-09T11:30:02.736Z"
   },
   {
    "duration": 43,
    "start_time": "2022-05-09T11:30:02.742Z"
   },
   {
    "duration": 24,
    "start_time": "2022-05-09T11:30:02.787Z"
   },
   {
    "duration": 225,
    "start_time": "2022-05-09T11:30:02.813Z"
   },
   {
    "duration": 326,
    "start_time": "2022-05-09T11:30:03.040Z"
   },
   {
    "duration": 434,
    "start_time": "2022-05-09T11:30:03.368Z"
   },
   {
    "duration": 19,
    "start_time": "2022-05-09T11:30:03.804Z"
   },
   {
    "duration": 11863,
    "start_time": "2022-05-09T11:30:03.826Z"
   },
   {
    "duration": 10,
    "start_time": "2022-05-09T11:30:15.691Z"
   },
   {
    "duration": 58,
    "start_time": "2022-05-09T11:30:15.703Z"
   },
   {
    "duration": 855,
    "start_time": "2022-05-09T11:30:15.762Z"
   },
   {
    "duration": 29,
    "start_time": "2022-05-09T11:30:16.619Z"
   },
   {
    "duration": 51,
    "start_time": "2022-05-09T11:30:16.650Z"
   },
   {
    "duration": 22,
    "start_time": "2022-05-09T11:30:16.703Z"
   },
   {
    "duration": 23,
    "start_time": "2022-05-09T11:30:16.727Z"
   },
   {
    "duration": 48,
    "start_time": "2022-05-09T11:30:16.752Z"
   },
   {
    "duration": 30,
    "start_time": "2022-05-09T11:30:16.802Z"
   },
   {
    "duration": 3,
    "start_time": "2022-05-09T11:30:16.834Z"
   },
   {
    "duration": 93,
    "start_time": "2022-05-09T11:30:16.838Z"
   },
   {
    "duration": 119,
    "start_time": "2022-05-09T11:30:16.933Z"
   },
   {
    "duration": 26,
    "start_time": "2022-05-09T11:30:17.055Z"
   },
   {
    "duration": 54,
    "start_time": "2022-05-09T11:30:17.083Z"
   },
   {
    "duration": 27,
    "start_time": "2022-05-09T11:30:17.139Z"
   },
   {
    "duration": 39,
    "start_time": "2022-05-09T11:30:17.168Z"
   },
   {
    "duration": 636,
    "start_time": "2022-05-09T11:30:17.209Z"
   },
   {
    "duration": 34,
    "start_time": "2022-05-09T11:30:17.850Z"
   },
   {
    "duration": 49,
    "start_time": "2022-05-09T11:30:17.886Z"
   },
   {
    "duration": 66,
    "start_time": "2022-05-09T11:30:17.937Z"
   },
   {
    "duration": 106,
    "start_time": "2022-05-09T11:30:18.005Z"
   },
   {
    "duration": 162,
    "start_time": "2022-05-09T11:30:18.112Z"
   },
   {
    "duration": 27,
    "start_time": "2022-05-09T11:30:18.276Z"
   },
   {
    "duration": 22,
    "start_time": "2022-05-09T11:30:18.304Z"
   },
   {
    "duration": 125,
    "start_time": "2022-05-09T11:30:18.328Z"
   },
   {
    "duration": 7,
    "start_time": "2022-05-09T11:30:18.455Z"
   },
   {
    "duration": 84,
    "start_time": "2022-05-09T11:30:18.464Z"
   },
   {
    "duration": 17,
    "start_time": "2022-05-09T11:30:18.550Z"
   },
   {
    "duration": 86,
    "start_time": "2022-05-09T11:30:18.568Z"
   },
   {
    "duration": 217,
    "start_time": "2022-05-09T11:30:18.656Z"
   },
   {
    "duration": 27,
    "start_time": "2022-05-09T11:30:18.875Z"
   },
   {
    "duration": 1301,
    "start_time": "2022-05-09T11:30:18.904Z"
   },
   {
    "duration": 186,
    "start_time": "2022-05-09T11:30:20.207Z"
   },
   {
    "duration": 311,
    "start_time": "2022-05-09T11:32:16.600Z"
   },
   {
    "duration": 312,
    "start_time": "2022-05-09T11:37:52.557Z"
   },
   {
    "duration": 283,
    "start_time": "2022-05-09T11:40:27.040Z"
   },
   {
    "duration": 245,
    "start_time": "2022-05-09T11:40:32.776Z"
   },
   {
    "duration": 233,
    "start_time": "2022-05-09T11:40:40.369Z"
   },
   {
    "duration": 179,
    "start_time": "2022-05-09T11:40:53.373Z"
   },
   {
    "duration": 308,
    "start_time": "2022-05-09T11:41:23.401Z"
   },
   {
    "duration": 175,
    "start_time": "2022-05-09T11:41:28.754Z"
   },
   {
    "duration": 162,
    "start_time": "2022-05-09T11:41:33.239Z"
   },
   {
    "duration": 170,
    "start_time": "2022-05-09T11:41:40.345Z"
   },
   {
    "duration": 9,
    "start_time": "2022-05-09T11:41:43.609Z"
   },
   {
    "duration": 3,
    "start_time": "2022-05-09T11:42:02.602Z"
   },
   {
    "duration": 6,
    "start_time": "2022-05-09T11:42:15.282Z"
   },
   {
    "duration": 10,
    "start_time": "2022-05-09T11:42:15.290Z"
   },
   {
    "duration": 2498,
    "start_time": "2022-05-09T11:42:15.302Z"
   },
   {
    "duration": 6,
    "start_time": "2022-05-09T11:42:17.802Z"
   },
   {
    "duration": 42,
    "start_time": "2022-05-09T11:42:17.810Z"
   },
   {
    "duration": 12,
    "start_time": "2022-05-09T11:42:17.854Z"
   },
   {
    "duration": 433,
    "start_time": "2022-05-09T11:42:17.868Z"
   },
   {
    "duration": 425,
    "start_time": "2022-05-09T11:42:18.302Z"
   },
   {
    "duration": 622,
    "start_time": "2022-05-09T11:42:18.729Z"
   },
   {
    "duration": 29,
    "start_time": "2022-05-09T11:42:19.354Z"
   },
   {
    "duration": 10817,
    "start_time": "2022-05-09T11:42:19.385Z"
   },
   {
    "duration": 4,
    "start_time": "2022-05-09T11:42:30.204Z"
   },
   {
    "duration": 40,
    "start_time": "2022-05-09T11:42:30.210Z"
   },
   {
    "duration": 879,
    "start_time": "2022-05-09T11:42:30.251Z"
   },
   {
    "duration": 35,
    "start_time": "2022-05-09T11:42:31.133Z"
   },
   {
    "duration": 53,
    "start_time": "2022-05-09T11:42:31.170Z"
   },
   {
    "duration": 33,
    "start_time": "2022-05-09T11:42:31.225Z"
   },
   {
    "duration": 52,
    "start_time": "2022-05-09T11:42:31.260Z"
   },
   {
    "duration": 34,
    "start_time": "2022-05-09T11:42:31.314Z"
   },
   {
    "duration": 60,
    "start_time": "2022-05-09T11:42:31.351Z"
   },
   {
    "duration": 3,
    "start_time": "2022-05-09T11:42:31.413Z"
   },
   {
    "duration": 128,
    "start_time": "2022-05-09T11:42:31.418Z"
   },
   {
    "duration": 156,
    "start_time": "2022-05-09T11:42:31.548Z"
   },
   {
    "duration": 31,
    "start_time": "2022-05-09T11:42:31.706Z"
   },
   {
    "duration": 37,
    "start_time": "2022-05-09T11:42:31.741Z"
   },
   {
    "duration": 44,
    "start_time": "2022-05-09T11:42:31.780Z"
   },
   {
    "duration": 24,
    "start_time": "2022-05-09T11:42:31.826Z"
   },
   {
    "duration": 604,
    "start_time": "2022-05-09T11:42:31.852Z"
   },
   {
    "duration": 43,
    "start_time": "2022-05-09T11:42:32.458Z"
   },
   {
    "duration": 32,
    "start_time": "2022-05-09T11:42:32.503Z"
   },
   {
    "duration": 90,
    "start_time": "2022-05-09T11:42:32.536Z"
   },
   {
    "duration": 101,
    "start_time": "2022-05-09T11:42:32.627Z"
   },
   {
    "duration": 157,
    "start_time": "2022-05-09T11:42:32.729Z"
   },
   {
    "duration": 28,
    "start_time": "2022-05-09T11:42:32.888Z"
   },
   {
    "duration": 21,
    "start_time": "2022-05-09T11:42:32.918Z"
   },
   {
    "duration": 128,
    "start_time": "2022-05-09T11:42:32.940Z"
   },
   {
    "duration": 7,
    "start_time": "2022-05-09T11:42:33.069Z"
   },
   {
    "duration": 86,
    "start_time": "2022-05-09T11:42:33.078Z"
   },
   {
    "duration": 18,
    "start_time": "2022-05-09T11:42:33.166Z"
   },
   {
    "duration": 85,
    "start_time": "2022-05-09T11:42:33.186Z"
   },
   {
    "duration": 143,
    "start_time": "2022-05-09T11:42:33.273Z"
   },
   {
    "duration": 10,
    "start_time": "2022-05-09T11:42:33.418Z"
   },
   {
    "duration": 185,
    "start_time": "2022-05-09T11:42:45.981Z"
   },
   {
    "duration": 25,
    "start_time": "2022-05-09T11:43:01.142Z"
   },
   {
    "duration": 157,
    "start_time": "2022-05-09T11:43:18.614Z"
   },
   {
    "duration": 172,
    "start_time": "2022-05-09T11:43:24.791Z"
   },
   {
    "duration": 179,
    "start_time": "2022-05-09T11:44:13.419Z"
   },
   {
    "duration": 6,
    "start_time": "2022-05-09T11:44:29.609Z"
   },
   {
    "duration": 7,
    "start_time": "2022-05-09T11:44:29.617Z"
   },
   {
    "duration": 3080,
    "start_time": "2022-05-09T11:44:29.647Z"
   },
   {
    "duration": 5,
    "start_time": "2022-05-09T11:44:32.728Z"
   },
   {
    "duration": 41,
    "start_time": "2022-05-09T11:44:32.734Z"
   },
   {
    "duration": 32,
    "start_time": "2022-05-09T11:44:32.777Z"
   },
   {
    "duration": 246,
    "start_time": "2022-05-09T11:44:32.812Z"
   },
   {
    "duration": 257,
    "start_time": "2022-05-09T11:44:33.060Z"
   },
   {
    "duration": 231,
    "start_time": "2022-05-09T11:44:33.319Z"
   },
   {
    "duration": 6,
    "start_time": "2022-05-09T11:46:22.933Z"
   },
   {
    "duration": 9,
    "start_time": "2022-05-09T11:46:22.941Z"
   },
   {
    "duration": 2214,
    "start_time": "2022-05-09T11:46:22.952Z"
   },
   {
    "duration": 7,
    "start_time": "2022-05-09T11:46:25.168Z"
   },
   {
    "duration": 53,
    "start_time": "2022-05-09T11:46:25.178Z"
   },
   {
    "duration": 12,
    "start_time": "2022-05-09T11:46:25.233Z"
   },
   {
    "duration": 367,
    "start_time": "2022-05-09T11:46:25.248Z"
   },
   {
    "duration": 435,
    "start_time": "2022-05-09T11:46:25.617Z"
   },
   {
    "duration": 625,
    "start_time": "2022-05-09T11:46:26.054Z"
   },
   {
    "duration": 50,
    "start_time": "2022-05-09T11:46:26.681Z"
   },
   {
    "duration": 16467,
    "start_time": "2022-05-09T11:46:26.734Z"
   },
   {
    "duration": 6,
    "start_time": "2022-05-09T11:46:43.203Z"
   },
   {
    "duration": 45,
    "start_time": "2022-05-09T11:46:43.211Z"
   },
   {
    "duration": 905,
    "start_time": "2022-05-09T11:46:43.258Z"
   },
   {
    "duration": 45,
    "start_time": "2022-05-09T11:46:44.165Z"
   },
   {
    "duration": 25,
    "start_time": "2022-05-09T11:46:44.212Z"
   },
   {
    "duration": 24,
    "start_time": "2022-05-09T11:46:44.239Z"
   },
   {
    "duration": 51,
    "start_time": "2022-05-09T11:46:44.264Z"
   },
   {
    "duration": 28,
    "start_time": "2022-05-09T11:46:44.317Z"
   },
   {
    "duration": 56,
    "start_time": "2022-05-09T11:46:44.347Z"
   },
   {
    "duration": 4,
    "start_time": "2022-05-09T11:46:44.405Z"
   },
   {
    "duration": 122,
    "start_time": "2022-05-09T11:46:44.411Z"
   },
   {
    "duration": 122,
    "start_time": "2022-05-09T11:46:44.535Z"
   },
   {
    "duration": 19,
    "start_time": "2022-05-09T11:46:44.659Z"
   },
   {
    "duration": 45,
    "start_time": "2022-05-09T11:46:44.680Z"
   },
   {
    "duration": 19,
    "start_time": "2022-05-09T11:46:44.727Z"
   },
   {
    "duration": 18,
    "start_time": "2022-05-09T11:46:44.748Z"
   },
   {
    "duration": 433,
    "start_time": "2022-05-09T11:46:44.767Z"
   },
   {
    "duration": 26,
    "start_time": "2022-05-09T11:46:45.204Z"
   },
   {
    "duration": 20,
    "start_time": "2022-05-09T11:46:45.232Z"
   },
   {
    "duration": 97,
    "start_time": "2022-05-09T11:46:45.254Z"
   },
   {
    "duration": 104,
    "start_time": "2022-05-09T11:46:45.353Z"
   },
   {
    "duration": 266,
    "start_time": "2022-05-09T11:46:45.458Z"
   },
   {
    "duration": 18,
    "start_time": "2022-05-09T11:46:45.726Z"
   },
   {
    "duration": 20,
    "start_time": "2022-05-09T11:46:45.746Z"
   },
   {
    "duration": 214,
    "start_time": "2022-05-09T11:46:45.768Z"
   },
   {
    "duration": 16,
    "start_time": "2022-05-09T11:46:45.984Z"
   },
   {
    "duration": 71,
    "start_time": "2022-05-09T11:46:46.004Z"
   },
   {
    "duration": 32,
    "start_time": "2022-05-09T11:46:46.077Z"
   },
   {
    "duration": 89,
    "start_time": "2022-05-09T11:46:46.111Z"
   },
   {
    "duration": 138,
    "start_time": "2022-05-09T11:46:46.202Z"
   },
   {
    "duration": 1145,
    "start_time": "2022-05-09T11:46:46.342Z"
   },
   {
    "duration": 344,
    "start_time": "2022-05-09T11:46:47.499Z"
   },
   {
    "duration": 273,
    "start_time": "2022-05-09T11:46:47.845Z"
   },
   {
    "duration": 291,
    "start_time": "2022-05-09T11:46:58.004Z"
   },
   {
    "duration": 168,
    "start_time": "2022-05-09T11:47:01.061Z"
   },
   {
    "duration": 285,
    "start_time": "2022-05-09T11:54:41.130Z"
   },
   {
    "duration": 186,
    "start_time": "2022-05-09T11:54:43.418Z"
   },
   {
    "duration": 281,
    "start_time": "2022-05-09T11:57:02.008Z"
   },
   {
    "duration": 263,
    "start_time": "2022-05-09T11:58:21.493Z"
   },
   {
    "duration": 219,
    "start_time": "2022-05-09T13:28:16.396Z"
   },
   {
    "duration": 806,
    "start_time": "2022-05-09T13:28:43.964Z"
   },
   {
    "duration": 524,
    "start_time": "2022-05-09T13:30:10.550Z"
   },
   {
    "duration": 76,
    "start_time": "2022-05-09T13:30:54.441Z"
   },
   {
    "duration": 90,
    "start_time": "2022-05-09T13:32:12.273Z"
   },
   {
    "duration": 118,
    "start_time": "2022-05-09T13:32:22.464Z"
   },
   {
    "duration": 2,
    "start_time": "2022-05-09T13:34:12.542Z"
   },
   {
    "duration": 4,
    "start_time": "2022-05-09T13:34:21.495Z"
   },
   {
    "duration": 11,
    "start_time": "2022-05-09T13:34:37.323Z"
   },
   {
    "duration": 8,
    "start_time": "2022-05-09T13:34:49.656Z"
   },
   {
    "duration": 9,
    "start_time": "2022-05-09T13:35:06.717Z"
   },
   {
    "duration": 8,
    "start_time": "2022-05-09T13:35:15.473Z"
   },
   {
    "duration": 5,
    "start_time": "2022-05-09T13:35:32.009Z"
   },
   {
    "duration": 3,
    "start_time": "2022-05-09T13:35:40.185Z"
   },
   {
    "duration": 5,
    "start_time": "2022-05-09T13:36:00.114Z"
   },
   {
    "duration": 9,
    "start_time": "2022-05-09T13:36:00.121Z"
   },
   {
    "duration": 1916,
    "start_time": "2022-05-09T13:36:00.131Z"
   },
   {
    "duration": 5,
    "start_time": "2022-05-09T13:36:02.049Z"
   },
   {
    "duration": 57,
    "start_time": "2022-05-09T13:36:02.056Z"
   },
   {
    "duration": 16,
    "start_time": "2022-05-09T13:36:02.115Z"
   },
   {
    "duration": 267,
    "start_time": "2022-05-09T13:36:02.134Z"
   },
   {
    "duration": 561,
    "start_time": "2022-05-09T13:36:02.403Z"
   },
   {
    "duration": 473,
    "start_time": "2022-05-09T13:36:02.965Z"
   },
   {
    "duration": 26,
    "start_time": "2022-05-09T13:36:03.441Z"
   },
   {
    "duration": 11813,
    "start_time": "2022-05-09T13:36:03.469Z"
   },
   {
    "duration": 4,
    "start_time": "2022-05-09T13:36:15.284Z"
   },
   {
    "duration": 51,
    "start_time": "2022-05-09T13:36:15.289Z"
   },
   {
    "duration": 551,
    "start_time": "2022-05-09T13:36:15.342Z"
   },
   {
    "duration": 36,
    "start_time": "2022-05-09T13:36:15.894Z"
   },
   {
    "duration": 24,
    "start_time": "2022-05-09T13:36:15.932Z"
   },
   {
    "duration": 54,
    "start_time": "2022-05-09T13:36:15.957Z"
   },
   {
    "duration": 24,
    "start_time": "2022-05-09T13:36:16.014Z"
   },
   {
    "duration": 29,
    "start_time": "2022-05-09T13:36:16.039Z"
   },
   {
    "duration": 58,
    "start_time": "2022-05-09T13:36:16.070Z"
   },
   {
    "duration": 3,
    "start_time": "2022-05-09T13:36:16.130Z"
   },
   {
    "duration": 136,
    "start_time": "2022-05-09T13:36:16.135Z"
   },
   {
    "duration": 164,
    "start_time": "2022-05-09T13:36:16.273Z"
   },
   {
    "duration": 33,
    "start_time": "2022-05-09T13:36:16.438Z"
   },
   {
    "duration": 54,
    "start_time": "2022-05-09T13:36:16.473Z"
   },
   {
    "duration": 18,
    "start_time": "2022-05-09T13:36:16.529Z"
   },
   {
    "duration": 15,
    "start_time": "2022-05-09T13:36:16.549Z"
   },
   {
    "duration": 453,
    "start_time": "2022-05-09T13:36:16.568Z"
   },
   {
    "duration": 27,
    "start_time": "2022-05-09T13:36:17.023Z"
   },
   {
    "duration": 21,
    "start_time": "2022-05-09T13:36:17.051Z"
   },
   {
    "duration": 82,
    "start_time": "2022-05-09T13:36:17.074Z"
   },
   {
    "duration": 114,
    "start_time": "2022-05-09T13:36:17.158Z"
   },
   {
    "duration": 214,
    "start_time": "2022-05-09T13:36:17.274Z"
   },
   {
    "duration": 38,
    "start_time": "2022-05-09T13:36:17.490Z"
   },
   {
    "duration": 27,
    "start_time": "2022-05-09T13:36:17.530Z"
   },
   {
    "duration": 152,
    "start_time": "2022-05-09T13:36:17.559Z"
   },
   {
    "duration": 10,
    "start_time": "2022-05-09T13:36:17.713Z"
   },
   {
    "duration": 101,
    "start_time": "2022-05-09T13:36:17.724Z"
   },
   {
    "duration": 20,
    "start_time": "2022-05-09T13:36:17.828Z"
   },
   {
    "duration": 88,
    "start_time": "2022-05-09T13:36:17.850Z"
   },
   {
    "duration": 226,
    "start_time": "2022-05-09T13:36:17.940Z"
   },
   {
    "duration": 14,
    "start_time": "2022-05-09T13:36:18.168Z"
   },
   {
    "duration": 1475,
    "start_time": "2022-05-09T13:36:18.184Z"
   },
   {
    "duration": 3,
    "start_time": "2022-05-09T13:36:19.661Z"
   },
   {
    "duration": 623,
    "start_time": "2022-05-09T13:36:19.666Z"
   },
   {
    "duration": 97,
    "start_time": "2022-05-09T13:36:20.291Z"
   },
   {
    "duration": 4,
    "start_time": "2022-05-09T13:40:08.576Z"
   },
   {
    "duration": 575,
    "start_time": "2022-05-09T13:41:37.326Z"
   },
   {
    "duration": 5,
    "start_time": "2022-05-09T13:41:45.047Z"
   },
   {
    "duration": 5,
    "start_time": "2022-05-09T13:41:55.762Z"
   },
   {
    "duration": 284,
    "start_time": "2022-05-09T13:43:41.863Z"
   },
   {
    "duration": 4,
    "start_time": "2022-05-09T13:43:51.152Z"
   },
   {
    "duration": 4,
    "start_time": "2022-05-09T13:44:59.514Z"
   },
   {
    "duration": 8,
    "start_time": "2022-05-09T13:44:59.522Z"
   },
   {
    "duration": 1818,
    "start_time": "2022-05-09T13:44:59.532Z"
   },
   {
    "duration": 4,
    "start_time": "2022-05-09T13:45:01.352Z"
   },
   {
    "duration": 57,
    "start_time": "2022-05-09T13:45:01.357Z"
   },
   {
    "duration": 11,
    "start_time": "2022-05-09T13:45:01.417Z"
   },
   {
    "duration": 282,
    "start_time": "2022-05-09T13:45:01.430Z"
   },
   {
    "duration": 561,
    "start_time": "2022-05-09T13:45:01.715Z"
   },
   {
    "duration": 457,
    "start_time": "2022-05-09T13:45:02.278Z"
   },
   {
    "duration": 29,
    "start_time": "2022-05-09T13:45:02.737Z"
   },
   {
    "duration": 15794,
    "start_time": "2022-05-09T13:45:02.768Z"
   },
   {
    "duration": 5,
    "start_time": "2022-05-09T13:45:18.564Z"
   },
   {
    "duration": 54,
    "start_time": "2022-05-09T13:45:18.571Z"
   },
   {
    "duration": 559,
    "start_time": "2022-05-09T13:45:18.628Z"
   },
   {
    "duration": 40,
    "start_time": "2022-05-09T13:45:19.189Z"
   },
   {
    "duration": 24,
    "start_time": "2022-05-09T13:45:19.231Z"
   },
   {
    "duration": 21,
    "start_time": "2022-05-09T13:45:19.256Z"
   },
   {
    "duration": 40,
    "start_time": "2022-05-09T13:45:19.299Z"
   },
   {
    "duration": 31,
    "start_time": "2022-05-09T13:45:19.341Z"
   },
   {
    "duration": 62,
    "start_time": "2022-05-09T13:45:19.375Z"
   },
   {
    "duration": 4,
    "start_time": "2022-05-09T13:45:19.439Z"
   },
   {
    "duration": 100,
    "start_time": "2022-05-09T13:45:19.445Z"
   },
   {
    "duration": 117,
    "start_time": "2022-05-09T13:45:19.546Z"
   },
   {
    "duration": 26,
    "start_time": "2022-05-09T13:45:19.665Z"
   },
   {
    "duration": 38,
    "start_time": "2022-05-09T13:45:19.701Z"
   },
   {
    "duration": 17,
    "start_time": "2022-05-09T13:45:19.740Z"
   },
   {
    "duration": 16,
    "start_time": "2022-05-09T13:45:19.758Z"
   },
   {
    "duration": 437,
    "start_time": "2022-05-09T13:45:19.776Z"
   },
   {
    "duration": 33,
    "start_time": "2022-05-09T13:45:20.215Z"
   },
   {
    "duration": 20,
    "start_time": "2022-05-09T13:45:20.250Z"
   },
   {
    "duration": 80,
    "start_time": "2022-05-09T13:45:20.272Z"
   },
   {
    "duration": 168,
    "start_time": "2022-05-09T13:45:20.354Z"
   },
   {
    "duration": 250,
    "start_time": "2022-05-09T13:45:20.525Z"
   },
   {
    "duration": 40,
    "start_time": "2022-05-09T13:45:20.777Z"
   },
   {
    "duration": 25,
    "start_time": "2022-05-09T13:45:20.819Z"
   },
   {
    "duration": 138,
    "start_time": "2022-05-09T13:45:20.846Z"
   },
   {
    "duration": 7,
    "start_time": "2022-05-09T13:45:20.986Z"
   },
   {
    "duration": 73,
    "start_time": "2022-05-09T13:45:21.003Z"
   },
   {
    "duration": 46,
    "start_time": "2022-05-09T13:45:21.077Z"
   },
   {
    "duration": 83,
    "start_time": "2022-05-09T13:45:21.125Z"
   },
   {
    "duration": 150,
    "start_time": "2022-05-09T13:45:21.210Z"
   },
   {
    "duration": 12,
    "start_time": "2022-05-09T13:45:21.362Z"
   },
   {
    "duration": 386,
    "start_time": "2022-05-09T13:45:21.376Z"
   },
   {
    "duration": 3,
    "start_time": "2022-05-09T13:45:21.763Z"
   },
   {
    "duration": 614,
    "start_time": "2022-05-09T13:45:21.767Z"
   },
   {
    "duration": 100,
    "start_time": "2022-05-09T13:45:22.383Z"
   },
   {
    "duration": 19,
    "start_time": "2022-05-09T13:45:22.484Z"
   },
   {
    "duration": 4,
    "start_time": "2022-05-09T13:47:31.414Z"
   },
   {
    "duration": 3,
    "start_time": "2022-05-09T13:48:38.368Z"
   },
   {
    "duration": 116,
    "start_time": "2022-05-09T13:48:46.599Z"
   },
   {
    "duration": 5,
    "start_time": "2022-05-09T14:02:17.429Z"
   },
   {
    "duration": 10,
    "start_time": "2022-05-09T14:02:17.437Z"
   },
   {
    "duration": 2756,
    "start_time": "2022-05-09T14:02:17.448Z"
   },
   {
    "duration": 3,
    "start_time": "2022-05-09T14:02:20.207Z"
   },
   {
    "duration": 14,
    "start_time": "2022-05-09T14:02:20.212Z"
   },
   {
    "duration": 45,
    "start_time": "2022-05-09T14:02:20.228Z"
   },
   {
    "duration": 11,
    "start_time": "2022-05-09T14:02:20.275Z"
   },
   {
    "duration": 262,
    "start_time": "2022-05-09T14:02:20.287Z"
   },
   {
    "duration": 456,
    "start_time": "2022-05-09T14:02:20.552Z"
   },
   {
    "duration": 421,
    "start_time": "2022-05-09T14:02:21.011Z"
   },
   {
    "duration": 34,
    "start_time": "2022-05-09T14:02:21.433Z"
   },
   {
    "duration": 11873,
    "start_time": "2022-05-09T14:02:21.469Z"
   },
   {
    "duration": 4,
    "start_time": "2022-05-09T14:02:33.344Z"
   },
   {
    "duration": 38,
    "start_time": "2022-05-09T14:02:33.349Z"
   },
   {
    "duration": 545,
    "start_time": "2022-05-09T14:02:33.388Z"
   },
   {
    "duration": 24,
    "start_time": "2022-05-09T14:02:33.935Z"
   },
   {
    "duration": 53,
    "start_time": "2022-05-09T14:02:33.962Z"
   },
   {
    "duration": 22,
    "start_time": "2022-05-09T14:02:34.016Z"
   },
   {
    "duration": 20,
    "start_time": "2022-05-09T14:02:34.040Z"
   },
   {
    "duration": 46,
    "start_time": "2022-05-09T14:02:34.062Z"
   },
   {
    "duration": 30,
    "start_time": "2022-05-09T14:02:34.110Z"
   },
   {
    "duration": 3,
    "start_time": "2022-05-09T14:02:34.142Z"
   },
   {
    "duration": 88,
    "start_time": "2022-05-09T14:02:34.146Z"
   },
   {
    "duration": 125,
    "start_time": "2022-05-09T14:02:34.237Z"
   },
   {
    "duration": 18,
    "start_time": "2022-05-09T14:02:34.363Z"
   },
   {
    "duration": 44,
    "start_time": "2022-05-09T14:02:34.383Z"
   },
   {
    "duration": 16,
    "start_time": "2022-05-09T14:02:34.428Z"
   },
   {
    "duration": 14,
    "start_time": "2022-05-09T14:02:34.445Z"
   },
   {
    "duration": 421,
    "start_time": "2022-05-09T14:02:34.460Z"
   },
   {
    "duration": 39,
    "start_time": "2022-05-09T14:02:34.882Z"
   },
   {
    "duration": 19,
    "start_time": "2022-05-09T14:02:34.922Z"
   },
   {
    "duration": 63,
    "start_time": "2022-05-09T14:02:34.943Z"
   },
   {
    "duration": 102,
    "start_time": "2022-05-09T14:02:35.008Z"
   },
   {
    "duration": 150,
    "start_time": "2022-05-09T14:02:35.112Z"
   },
   {
    "duration": 17,
    "start_time": "2022-05-09T14:02:35.264Z"
   },
   {
    "duration": 35,
    "start_time": "2022-05-09T14:02:35.283Z"
   },
   {
    "duration": 129,
    "start_time": "2022-05-09T14:02:35.320Z"
   },
   {
    "duration": 7,
    "start_time": "2022-05-09T14:02:35.451Z"
   },
   {
    "duration": 89,
    "start_time": "2022-05-09T14:02:35.459Z"
   },
   {
    "duration": 16,
    "start_time": "2022-05-09T14:02:35.550Z"
   },
   {
    "duration": 90,
    "start_time": "2022-05-09T14:02:35.568Z"
   },
   {
    "duration": 141,
    "start_time": "2022-05-09T14:02:35.659Z"
   },
   {
    "duration": 960,
    "start_time": "2022-05-09T14:02:35.802Z"
   },
   {
    "duration": 367,
    "start_time": "2022-05-09T14:02:36.764Z"
   },
   {
    "duration": 2,
    "start_time": "2022-05-09T14:02:37.133Z"
   },
   {
    "duration": 622,
    "start_time": "2022-05-09T14:02:37.137Z"
   },
   {
    "duration": 149,
    "start_time": "2022-05-09T14:02:37.761Z"
   },
   {
    "duration": 12,
    "start_time": "2022-05-09T14:02:37.912Z"
   },
   {
    "duration": 0,
    "start_time": "2022-05-09T14:02:37.926Z"
   },
   {
    "duration": 10,
    "start_time": "2022-05-09T14:03:55.636Z"
   },
   {
    "duration": 4,
    "start_time": "2022-05-09T14:04:21.849Z"
   },
   {
    "duration": 5,
    "start_time": "2022-05-09T14:05:20.537Z"
   },
   {
    "duration": 8,
    "start_time": "2022-05-09T14:05:42.881Z"
   },
   {
    "duration": 8,
    "start_time": "2022-05-09T14:05:51.254Z"
   },
   {
    "duration": 5,
    "start_time": "2022-05-09T14:06:33.202Z"
   },
   {
    "duration": 5,
    "start_time": "2022-05-09T14:07:06.132Z"
   },
   {
    "duration": 14,
    "start_time": "2022-05-09T14:08:16.493Z"
   },
   {
    "duration": 5,
    "start_time": "2022-05-09T14:09:03.243Z"
   },
   {
    "duration": 4,
    "start_time": "2022-05-09T14:09:08.936Z"
   },
   {
    "duration": 4,
    "start_time": "2022-05-09T14:10:05.338Z"
   },
   {
    "duration": 5,
    "start_time": "2022-05-09T14:10:19.882Z"
   },
   {
    "duration": 7,
    "start_time": "2022-05-09T14:12:44.705Z"
   },
   {
    "duration": 4,
    "start_time": "2022-05-09T14:13:02.663Z"
   },
   {
    "duration": 123,
    "start_time": "2022-05-09T14:13:15.654Z"
   },
   {
    "duration": 5,
    "start_time": "2022-05-09T14:15:39.503Z"
   },
   {
    "duration": 5,
    "start_time": "2022-05-09T14:15:55.800Z"
   },
   {
    "duration": 10,
    "start_time": "2022-05-09T14:16:23.064Z"
   },
   {
    "duration": 3,
    "start_time": "2022-05-09T14:20:05.066Z"
   },
   {
    "duration": 4,
    "start_time": "2022-05-09T14:20:16.022Z"
   },
   {
    "duration": 3,
    "start_time": "2022-05-09T14:20:31.346Z"
   },
   {
    "duration": 9,
    "start_time": "2022-05-09T14:20:37.000Z"
   },
   {
    "duration": 5,
    "start_time": "2022-05-09T14:20:56.157Z"
   },
   {
    "duration": 3,
    "start_time": "2022-05-09T14:21:18.492Z"
   },
   {
    "duration": 9,
    "start_time": "2022-05-09T14:22:11.806Z"
   },
   {
    "duration": 14,
    "start_time": "2022-05-09T14:22:29.846Z"
   },
   {
    "duration": 6,
    "start_time": "2022-05-09T14:23:44.411Z"
   },
   {
    "duration": 3,
    "start_time": "2022-05-09T14:23:49.294Z"
   },
   {
    "duration": 3,
    "start_time": "2022-05-09T14:24:05.576Z"
   },
   {
    "duration": 4,
    "start_time": "2022-05-09T14:24:16.768Z"
   },
   {
    "duration": 2,
    "start_time": "2022-05-09T14:24:30.762Z"
   },
   {
    "duration": 3,
    "start_time": "2022-05-09T14:24:42.826Z"
   },
   {
    "duration": 5,
    "start_time": "2022-05-09T14:24:50.558Z"
   },
   {
    "duration": 211,
    "start_time": "2022-05-09T14:29:15.530Z"
   },
   {
    "duration": 210,
    "start_time": "2022-05-09T14:30:08.696Z"
   },
   {
    "duration": 195,
    "start_time": "2022-05-09T14:30:55.830Z"
   },
   {
    "duration": 199,
    "start_time": "2022-05-09T14:30:58.787Z"
   },
   {
    "duration": 165,
    "start_time": "2022-05-09T14:31:12.154Z"
   },
   {
    "duration": 20,
    "start_time": "2022-05-09T14:34:37.334Z"
   },
   {
    "duration": 877,
    "start_time": "2022-05-09T14:34:46.784Z"
   },
   {
    "duration": 3,
    "start_time": "2022-05-09T14:35:47.428Z"
   },
   {
    "duration": 2,
    "start_time": "2022-05-09T14:36:08.749Z"
   },
   {
    "duration": 15,
    "start_time": "2022-05-09T14:36:14.344Z"
   },
   {
    "duration": 232,
    "start_time": "2022-05-09T14:36:15.833Z"
   },
   {
    "duration": 19,
    "start_time": "2022-05-09T14:36:52.773Z"
   },
   {
    "duration": 723,
    "start_time": "2022-05-09T14:36:54.420Z"
   },
   {
    "duration": 102,
    "start_time": "2022-05-09T14:36:56.490Z"
   },
   {
    "duration": 17,
    "start_time": "2022-05-09T14:37:36.532Z"
   },
   {
    "duration": 107,
    "start_time": "2022-05-09T14:40:38.920Z"
   },
   {
    "duration": 15,
    "start_time": "2022-05-09T14:41:34.153Z"
   },
   {
    "duration": 155,
    "start_time": "2022-05-09T14:41:36.149Z"
   },
   {
    "duration": 9,
    "start_time": "2022-05-09T14:41:39.867Z"
   },
   {
    "duration": 18,
    "start_time": "2022-05-09T14:41:44.388Z"
   },
   {
    "duration": 9,
    "start_time": "2022-05-09T14:41:45.544Z"
   },
   {
    "duration": 18,
    "start_time": "2022-05-09T14:41:48.336Z"
   },
   {
    "duration": 8,
    "start_time": "2022-05-09T14:41:49.742Z"
   },
   {
    "duration": 2,
    "start_time": "2022-05-09T14:41:53.572Z"
   },
   {
    "duration": 161,
    "start_time": "2022-05-09T14:41:55.267Z"
   },
   {
    "duration": 18,
    "start_time": "2022-05-09T14:42:34.334Z"
   },
   {
    "duration": 155,
    "start_time": "2022-05-09T14:42:35.729Z"
   },
   {
    "duration": 17,
    "start_time": "2022-05-09T14:43:50.480Z"
   },
   {
    "duration": 3,
    "start_time": "2022-05-09T14:43:54.560Z"
   },
   {
    "duration": 160,
    "start_time": "2022-05-09T14:43:56.937Z"
   },
   {
    "duration": 3,
    "start_time": "2022-05-09T14:44:22.633Z"
   },
   {
    "duration": 20,
    "start_time": "2022-05-09T14:44:24.794Z"
   },
   {
    "duration": 149,
    "start_time": "2022-05-09T14:44:33.729Z"
   },
   {
    "duration": 325,
    "start_time": "2022-05-09T14:47:57.954Z"
   },
   {
    "duration": 5,
    "start_time": "2022-05-09T14:48:02.333Z"
   },
   {
    "duration": 12,
    "start_time": "2022-05-09T14:53:00.539Z"
   },
   {
    "duration": 24,
    "start_time": "2022-05-09T14:53:16.957Z"
   },
   {
    "duration": 33,
    "start_time": "2022-05-09T14:53:34.486Z"
   },
   {
    "duration": 28,
    "start_time": "2022-05-09T14:53:51.352Z"
   },
   {
    "duration": 28,
    "start_time": "2022-05-09T14:53:58.131Z"
   },
   {
    "duration": 344,
    "start_time": "2022-05-09T14:54:17.247Z"
   },
   {
    "duration": 27,
    "start_time": "2022-05-09T15:08:19.917Z"
   },
   {
    "duration": 5,
    "start_time": "2022-05-09T15:11:34.800Z"
   },
   {
    "duration": 102,
    "start_time": "2022-05-09T15:41:01.930Z"
   },
   {
    "duration": 5,
    "start_time": "2022-05-09T15:41:50.636Z"
   },
   {
    "duration": 5,
    "start_time": "2022-05-09T15:42:35.285Z"
   },
   {
    "duration": 118,
    "start_time": "2022-05-09T15:52:24.059Z"
   },
   {
    "duration": 5,
    "start_time": "2022-05-09T15:52:34.875Z"
   },
   {
    "duration": 7,
    "start_time": "2022-05-09T15:53:18.924Z"
   },
   {
    "duration": 59,
    "start_time": "2022-05-09T15:53:48.936Z"
   },
   {
    "duration": 5,
    "start_time": "2022-05-09T15:54:21.927Z"
   },
   {
    "duration": 30,
    "start_time": "2022-05-09T15:55:07.522Z"
   },
   {
    "duration": 38,
    "start_time": "2022-05-09T15:55:15.846Z"
   },
   {
    "duration": 35,
    "start_time": "2022-05-09T15:55:35.089Z"
   },
   {
    "duration": 30,
    "start_time": "2022-05-09T15:56:04.603Z"
   },
   {
    "duration": 26,
    "start_time": "2022-05-09T15:56:09.682Z"
   },
   {
    "duration": 27,
    "start_time": "2022-05-09T15:57:17.016Z"
   },
   {
    "duration": 50,
    "start_time": "2022-05-09T15:58:14.880Z"
   },
   {
    "duration": 47,
    "start_time": "2022-05-09T15:58:22.895Z"
   },
   {
    "duration": 20,
    "start_time": "2022-05-09T16:01:09.440Z"
   },
   {
    "duration": 18,
    "start_time": "2022-05-09T16:01:12.422Z"
   },
   {
    "duration": 29,
    "start_time": "2022-05-09T16:01:22.669Z"
   },
   {
    "duration": 3,
    "start_time": "2022-05-09T16:08:08.522Z"
   },
   {
    "duration": 16,
    "start_time": "2022-05-09T16:08:22.779Z"
   },
   {
    "duration": 22,
    "start_time": "2022-05-09T16:09:06.557Z"
   },
   {
    "duration": 25,
    "start_time": "2022-05-09T16:09:18.853Z"
   },
   {
    "duration": 12,
    "start_time": "2022-05-09T16:09:40.314Z"
   },
   {
    "duration": 20,
    "start_time": "2022-05-09T16:10:05.090Z"
   },
   {
    "duration": 47,
    "start_time": "2022-05-09T16:10:22.597Z"
   },
   {
    "duration": 27,
    "start_time": "2022-05-09T16:10:29.041Z"
   },
   {
    "duration": 11,
    "start_time": "2022-05-09T16:10:37.968Z"
   },
   {
    "duration": 43,
    "start_time": "2022-05-09T16:10:45.664Z"
   },
   {
    "duration": 46,
    "start_time": "2022-05-09T16:10:47.776Z"
   },
   {
    "duration": 31,
    "start_time": "2022-05-09T16:10:49.985Z"
   },
   {
    "duration": 217,
    "start_time": "2022-05-09T16:10:55.953Z"
   },
   {
    "duration": 3,
    "start_time": "2022-05-09T16:11:28.234Z"
   },
   {
    "duration": 17,
    "start_time": "2022-05-09T16:11:56.099Z"
   },
   {
    "duration": 10,
    "start_time": "2022-05-09T16:12:07.914Z"
   },
   {
    "duration": 9,
    "start_time": "2022-05-09T16:12:43.367Z"
   },
   {
    "duration": 9,
    "start_time": "2022-05-09T16:13:01.060Z"
   },
   {
    "duration": 13,
    "start_time": "2022-05-09T16:13:06.109Z"
   },
   {
    "duration": 19,
    "start_time": "2022-05-09T16:13:29.344Z"
   },
   {
    "duration": 27,
    "start_time": "2022-05-09T16:13:31.819Z"
   },
   {
    "duration": 26,
    "start_time": "2022-05-09T16:13:33.550Z"
   },
   {
    "duration": 22,
    "start_time": "2022-05-09T16:14:04.872Z"
   },
   {
    "duration": 46,
    "start_time": "2022-05-09T16:14:08.910Z"
   },
   {
    "duration": 35,
    "start_time": "2022-05-09T16:14:57.793Z"
   },
   {
    "duration": 34,
    "start_time": "2022-05-09T16:14:59.483Z"
   },
   {
    "duration": 3,
    "start_time": "2022-05-09T16:16:49.684Z"
   },
   {
    "duration": 2,
    "start_time": "2022-05-09T16:16:54.981Z"
   },
   {
    "duration": 1867,
    "start_time": "2022-05-09T16:18:03.405Z"
   },
   {
    "duration": 28,
    "start_time": "2022-05-09T16:18:18.376Z"
   },
   {
    "duration": 3,
    "start_time": "2022-05-09T16:18:27.422Z"
   },
   {
    "duration": 3,
    "start_time": "2022-05-09T16:18:29.263Z"
   },
   {
    "duration": 46,
    "start_time": "2022-05-09T16:18:30.793Z"
   },
   {
    "duration": 27,
    "start_time": "2022-05-09T16:18:32.369Z"
   },
   {
    "duration": 24,
    "start_time": "2022-05-09T16:19:04.555Z"
   },
   {
    "duration": 48,
    "start_time": "2022-05-09T16:19:07.077Z"
   },
   {
    "duration": 2802,
    "start_time": "2022-05-10T10:41:32.462Z"
   },
   {
    "duration": 7,
    "start_time": "2022-05-10T10:41:35.267Z"
   },
   {
    "duration": 2785,
    "start_time": "2022-05-10T10:41:35.276Z"
   },
   {
    "duration": 4,
    "start_time": "2022-05-10T10:41:38.064Z"
   },
   {
    "duration": 12,
    "start_time": "2022-05-10T10:41:38.083Z"
   },
   {
    "duration": 111,
    "start_time": "2022-05-10T10:41:38.099Z"
   },
   {
    "duration": 18,
    "start_time": "2022-05-10T10:41:38.213Z"
   },
   {
    "duration": 463,
    "start_time": "2022-05-10T10:41:38.233Z"
   },
   {
    "duration": 845,
    "start_time": "2022-05-10T10:41:38.699Z"
   },
   {
    "duration": 1128,
    "start_time": "2022-05-10T10:41:39.548Z"
   },
   {
    "duration": 55,
    "start_time": "2022-05-10T10:41:40.683Z"
   },
   {
    "duration": 21773,
    "start_time": "2022-05-10T10:41:40.741Z"
   },
   {
    "duration": 7,
    "start_time": "2022-05-10T10:42:02.517Z"
   },
   {
    "duration": 97,
    "start_time": "2022-05-10T10:42:02.526Z"
   },
   {
    "duration": 1005,
    "start_time": "2022-05-10T10:42:02.625Z"
   },
   {
    "duration": 57,
    "start_time": "2022-05-10T10:42:03.632Z"
   },
   {
    "duration": 35,
    "start_time": "2022-05-10T10:42:03.692Z"
   },
   {
    "duration": 69,
    "start_time": "2022-05-10T10:42:03.729Z"
   },
   {
    "duration": 30,
    "start_time": "2022-05-10T10:42:03.800Z"
   },
   {
    "duration": 81,
    "start_time": "2022-05-10T10:42:03.832Z"
   },
   {
    "duration": 54,
    "start_time": "2022-05-10T10:42:03.915Z"
   },
   {
    "duration": 6,
    "start_time": "2022-05-10T10:42:03.984Z"
   },
   {
    "duration": 171,
    "start_time": "2022-05-10T10:42:03.994Z"
   },
   {
    "duration": 192,
    "start_time": "2022-05-10T10:42:04.167Z"
   },
   {
    "duration": 44,
    "start_time": "2022-05-10T10:42:04.362Z"
   },
   {
    "duration": 51,
    "start_time": "2022-05-10T10:42:04.409Z"
   },
   {
    "duration": 43,
    "start_time": "2022-05-10T10:42:04.463Z"
   },
   {
    "duration": 31,
    "start_time": "2022-05-10T10:42:04.516Z"
   },
   {
    "duration": 1328,
    "start_time": "2022-05-10T10:42:04.550Z"
   },
   {
    "duration": 62,
    "start_time": "2022-05-10T10:42:05.881Z"
   },
   {
    "duration": 67,
    "start_time": "2022-05-10T10:42:05.946Z"
   },
   {
    "duration": 124,
    "start_time": "2022-05-10T10:42:06.016Z"
   },
   {
    "duration": 289,
    "start_time": "2022-05-10T10:42:06.143Z"
   },
   {
    "duration": 356,
    "start_time": "2022-05-10T10:42:06.434Z"
   },
   {
    "duration": 54,
    "start_time": "2022-05-10T10:42:06.793Z"
   },
   {
    "duration": 56,
    "start_time": "2022-05-10T10:42:06.850Z"
   },
   {
    "duration": 212,
    "start_time": "2022-05-10T10:42:06.909Z"
   },
   {
    "duration": 11,
    "start_time": "2022-05-10T10:42:07.124Z"
   },
   {
    "duration": 132,
    "start_time": "2022-05-10T10:42:07.138Z"
   },
   {
    "duration": 37,
    "start_time": "2022-05-10T10:42:07.272Z"
   },
   {
    "duration": 121,
    "start_time": "2022-05-10T10:42:07.312Z"
   },
   {
    "duration": 218,
    "start_time": "2022-05-10T10:42:07.435Z"
   },
   {
    "duration": 33,
    "start_time": "2022-05-10T10:42:07.656Z"
   },
   {
    "duration": 789,
    "start_time": "2022-05-10T10:42:07.693Z"
   },
   {
    "duration": 5,
    "start_time": "2022-05-10T10:42:08.486Z"
   },
   {
    "duration": 1089,
    "start_time": "2022-05-10T10:42:08.494Z"
   },
   {
    "duration": 147,
    "start_time": "2022-05-10T10:42:09.586Z"
   },
   {
    "duration": 6,
    "start_time": "2022-05-10T10:42:09.735Z"
   },
   {
    "duration": 223,
    "start_time": "2022-05-10T10:42:09.744Z"
   },
   {
    "duration": 13,
    "start_time": "2022-05-10T10:42:09.969Z"
   },
   {
    "duration": 39,
    "start_time": "2022-05-10T10:42:09.985Z"
   },
   {
    "duration": 393,
    "start_time": "2022-05-10T10:42:10.027Z"
   },
   {
    "duration": 34,
    "start_time": "2022-05-10T10:42:10.423Z"
   },
   {
    "duration": 1587,
    "start_time": "2022-05-10T10:42:10.460Z"
   },
   {
    "duration": 144,
    "start_time": "2022-05-10T10:42:12.049Z"
   },
   {
    "duration": 40,
    "start_time": "2022-05-10T10:42:12.196Z"
   },
   {
    "duration": 157,
    "start_time": "2022-05-10T10:42:12.240Z"
   },
   {
    "duration": 532,
    "start_time": "2022-05-10T10:42:12.400Z"
   },
   {
    "duration": 8,
    "start_time": "2022-05-10T10:42:12.935Z"
   },
   {
    "duration": 95,
    "start_time": "2022-05-10T10:42:54.808Z"
   },
   {
    "duration": 1228,
    "start_time": "2022-05-10T10:43:03.388Z"
   },
   {
    "duration": 273,
    "start_time": "2022-05-10T10:43:55.991Z"
   },
   {
    "duration": 379,
    "start_time": "2022-05-10T10:55:16.902Z"
   },
   {
    "duration": 46,
    "start_time": "2022-05-10T10:55:33.425Z"
   },
   {
    "duration": 46,
    "start_time": "2022-05-10T10:57:05.806Z"
   },
   {
    "duration": 245,
    "start_time": "2022-05-10T10:58:20.462Z"
   },
   {
    "duration": 47,
    "start_time": "2022-05-10T10:58:28.774Z"
   },
   {
    "duration": 251,
    "start_time": "2022-05-10T10:58:53.265Z"
   },
   {
    "duration": 50,
    "start_time": "2022-05-10T10:59:04.631Z"
   },
   {
    "duration": 204,
    "start_time": "2022-05-10T11:12:18.132Z"
   },
   {
    "duration": 6,
    "start_time": "2022-05-10T11:12:58.765Z"
   },
   {
    "duration": 7,
    "start_time": "2022-05-10T11:13:07.414Z"
   },
   {
    "duration": 32,
    "start_time": "2022-05-10T11:15:01.835Z"
   },
   {
    "duration": 121,
    "start_time": "2022-05-10T11:25:30.195Z"
   },
   {
    "duration": 126,
    "start_time": "2022-05-10T11:41:18.626Z"
   },
   {
    "duration": 157808,
    "start_time": "2022-05-10T11:44:57.374Z"
   },
   {
    "duration": 9,
    "start_time": "2022-05-10T11:47:35.185Z"
   },
   {
    "duration": 14,
    "start_time": "2022-05-10T11:47:58.907Z"
   },
   {
    "duration": 145914,
    "start_time": "2022-05-10T11:51:42.768Z"
   },
   {
    "duration": 5,
    "start_time": "2022-05-10T11:56:58.034Z"
   },
   {
    "duration": 127,
    "start_time": "2022-05-10T12:11:09.124Z"
   },
   {
    "duration": 5,
    "start_time": "2022-05-10T12:11:21.335Z"
   },
   {
    "duration": 13,
    "start_time": "2022-05-10T12:11:25.391Z"
   },
   {
    "duration": 9,
    "start_time": "2022-05-10T12:12:23.578Z"
   },
   {
    "duration": 2862,
    "start_time": "2022-05-10T12:13:06.735Z"
   },
   {
    "duration": 8,
    "start_time": "2022-05-10T12:13:09.600Z"
   },
   {
    "duration": 11758,
    "start_time": "2022-05-10T12:13:09.611Z"
   },
   {
    "duration": 10,
    "start_time": "2022-05-10T12:13:21.372Z"
   },
   {
    "duration": 12,
    "start_time": "2022-05-10T12:13:21.387Z"
   },
   {
    "duration": 71,
    "start_time": "2022-05-10T12:13:21.402Z"
   },
   {
    "duration": 20,
    "start_time": "2022-05-10T12:13:21.475Z"
   },
   {
    "duration": 406,
    "start_time": "2022-05-10T12:13:21.498Z"
   },
   {
    "duration": 800,
    "start_time": "2022-05-10T12:13:21.906Z"
   },
   {
    "duration": 908,
    "start_time": "2022-05-10T12:13:22.708Z"
   },
   {
    "duration": 50,
    "start_time": "2022-05-10T12:13:23.619Z"
   },
   {
    "duration": 20423,
    "start_time": "2022-05-10T12:13:23.671Z"
   },
   {
    "duration": 7,
    "start_time": "2022-05-10T12:13:44.096Z"
   },
   {
    "duration": 91,
    "start_time": "2022-05-10T12:13:44.108Z"
   },
   {
    "duration": 1947,
    "start_time": "2022-05-10T12:13:44.202Z"
   },
   {
    "duration": 56,
    "start_time": "2022-05-10T12:13:46.151Z"
   },
   {
    "duration": 72,
    "start_time": "2022-05-10T12:13:46.209Z"
   },
   {
    "duration": 40,
    "start_time": "2022-05-10T12:13:46.284Z"
   },
   {
    "duration": 76,
    "start_time": "2022-05-10T12:13:46.327Z"
   },
   {
    "duration": 82,
    "start_time": "2022-05-10T12:13:46.406Z"
   },
   {
    "duration": 92,
    "start_time": "2022-05-10T12:13:46.492Z"
   },
   {
    "duration": 5,
    "start_time": "2022-05-10T12:13:46.587Z"
   },
   {
    "duration": 144,
    "start_time": "2022-05-10T12:13:46.594Z"
   },
   {
    "duration": 186,
    "start_time": "2022-05-10T12:13:46.740Z"
   },
   {
    "duration": 36,
    "start_time": "2022-05-10T12:13:46.928Z"
   },
   {
    "duration": 52,
    "start_time": "2022-05-10T12:13:46.966Z"
   },
   {
    "duration": 23,
    "start_time": "2022-05-10T12:13:47.021Z"
   },
   {
    "duration": 49,
    "start_time": "2022-05-10T12:13:47.046Z"
   },
   {
    "duration": 727,
    "start_time": "2022-05-10T12:13:47.098Z"
   },
   {
    "duration": 55,
    "start_time": "2022-05-10T12:13:47.828Z"
   },
   {
    "duration": 29,
    "start_time": "2022-05-10T12:13:47.885Z"
   },
   {
    "duration": 96,
    "start_time": "2022-05-10T12:13:47.917Z"
   },
   {
    "duration": 155,
    "start_time": "2022-05-10T12:13:48.015Z"
   },
   {
    "duration": 215,
    "start_time": "2022-05-10T12:13:48.172Z"
   },
   {
    "duration": 31,
    "start_time": "2022-05-10T12:13:48.390Z"
   },
   {
    "duration": 35,
    "start_time": "2022-05-10T12:13:48.424Z"
   },
   {
    "duration": 171,
    "start_time": "2022-05-10T12:13:48.483Z"
   },
   {
    "duration": 10,
    "start_time": "2022-05-10T12:13:48.657Z"
   },
   {
    "duration": 102,
    "start_time": "2022-05-10T12:13:48.683Z"
   },
   {
    "duration": 32,
    "start_time": "2022-05-10T12:13:48.788Z"
   },
   {
    "duration": 114,
    "start_time": "2022-05-10T12:13:48.826Z"
   },
   {
    "duration": 187,
    "start_time": "2022-05-10T12:13:48.943Z"
   },
   {
    "duration": 20,
    "start_time": "2022-05-10T12:13:49.133Z"
   },
   {
    "duration": 655,
    "start_time": "2022-05-10T12:13:49.156Z"
   },
   {
    "duration": 4,
    "start_time": "2022-05-10T12:13:49.814Z"
   },
   {
    "duration": 1417,
    "start_time": "2022-05-10T12:13:49.821Z"
   },
   {
    "duration": 200,
    "start_time": "2022-05-10T12:13:51.242Z"
   },
   {
    "duration": 7,
    "start_time": "2022-05-10T12:13:51.446Z"
   },
   {
    "duration": 201,
    "start_time": "2022-05-10T12:13:51.455Z"
   },
   {
    "duration": 5,
    "start_time": "2022-05-10T12:13:51.658Z"
   },
   {
    "duration": 39,
    "start_time": "2022-05-10T12:13:51.665Z"
   },
   {
    "duration": 292,
    "start_time": "2022-05-10T12:13:51.707Z"
   },
   {
    "duration": 34,
    "start_time": "2022-05-10T12:13:52.002Z"
   },
   {
    "duration": 1763,
    "start_time": "2022-05-10T12:13:52.039Z"
   },
   {
    "duration": 134,
    "start_time": "2022-05-10T12:13:53.805Z"
   },
   {
    "duration": 29,
    "start_time": "2022-05-10T12:13:53.941Z"
   },
   {
    "duration": 121,
    "start_time": "2022-05-10T12:13:53.981Z"
   },
   {
    "duration": 0,
    "start_time": "2022-05-10T12:13:54.104Z"
   },
   {
    "duration": 0,
    "start_time": "2022-05-10T12:13:54.106Z"
   },
   {
    "duration": 0,
    "start_time": "2022-05-10T12:13:54.107Z"
   },
   {
    "duration": 0,
    "start_time": "2022-05-10T12:13:54.109Z"
   },
   {
    "duration": 130,
    "start_time": "2022-05-10T12:15:07.770Z"
   },
   {
    "duration": 12,
    "start_time": "2022-05-10T12:15:41.238Z"
   },
   {
    "duration": 4,
    "start_time": "2022-05-10T12:16:32.738Z"
   },
   {
    "duration": 454,
    "start_time": "2022-05-10T12:16:33.886Z"
   },
   {
    "duration": 6,
    "start_time": "2022-05-10T12:16:46.654Z"
   },
   {
    "duration": 24,
    "start_time": "2022-05-10T12:16:46.663Z"
   },
   {
    "duration": 2729,
    "start_time": "2022-05-10T12:16:46.689Z"
   },
   {
    "duration": 4,
    "start_time": "2022-05-10T12:16:49.420Z"
   },
   {
    "duration": 9,
    "start_time": "2022-05-10T12:16:49.427Z"
   },
   {
    "duration": 92,
    "start_time": "2022-05-10T12:16:49.438Z"
   },
   {
    "duration": 19,
    "start_time": "2022-05-10T12:16:49.532Z"
   },
   {
    "duration": 376,
    "start_time": "2022-05-10T12:16:49.553Z"
   },
   {
    "duration": 728,
    "start_time": "2022-05-10T12:16:49.931Z"
   },
   {
    "duration": 743,
    "start_time": "2022-05-10T12:16:50.661Z"
   },
   {
    "duration": 37,
    "start_time": "2022-05-10T12:16:51.408Z"
   },
   {
    "duration": 24315,
    "start_time": "2022-05-10T12:16:51.447Z"
   },
   {
    "duration": 18,
    "start_time": "2022-05-10T12:17:15.765Z"
   },
   {
    "duration": 74,
    "start_time": "2022-05-10T12:17:15.786Z"
   },
   {
    "duration": 989,
    "start_time": "2022-05-10T12:17:15.863Z"
   },
   {
    "duration": 46,
    "start_time": "2022-05-10T12:17:16.855Z"
   },
   {
    "duration": 34,
    "start_time": "2022-05-10T12:17:16.904Z"
   },
   {
    "duration": 63,
    "start_time": "2022-05-10T12:17:16.941Z"
   },
   {
    "duration": 31,
    "start_time": "2022-05-10T12:17:17.006Z"
   },
   {
    "duration": 71,
    "start_time": "2022-05-10T12:17:17.039Z"
   },
   {
    "duration": 53,
    "start_time": "2022-05-10T12:17:17.112Z"
   },
   {
    "duration": 4,
    "start_time": "2022-05-10T12:17:17.182Z"
   },
   {
    "duration": 131,
    "start_time": "2022-05-10T12:17:17.189Z"
   },
   {
    "duration": 177,
    "start_time": "2022-05-10T12:17:17.322Z"
   },
   {
    "duration": 43,
    "start_time": "2022-05-10T12:17:17.502Z"
   },
   {
    "duration": 57,
    "start_time": "2022-05-10T12:17:17.548Z"
   },
   {
    "duration": 24,
    "start_time": "2022-05-10T12:17:17.608Z"
   },
   {
    "duration": 51,
    "start_time": "2022-05-10T12:17:17.635Z"
   },
   {
    "duration": 712,
    "start_time": "2022-05-10T12:17:17.694Z"
   },
   {
    "duration": 48,
    "start_time": "2022-05-10T12:17:18.409Z"
   },
   {
    "duration": 48,
    "start_time": "2022-05-10T12:17:18.460Z"
   },
   {
    "duration": 102,
    "start_time": "2022-05-10T12:17:18.511Z"
   },
   {
    "duration": 160,
    "start_time": "2022-05-10T12:17:18.615Z"
   },
   {
    "duration": 198,
    "start_time": "2022-05-10T12:17:18.780Z"
   },
   {
    "duration": 30,
    "start_time": "2022-05-10T12:17:18.982Z"
   },
   {
    "duration": 32,
    "start_time": "2022-05-10T12:17:19.015Z"
   },
   {
    "duration": 184,
    "start_time": "2022-05-10T12:17:19.049Z"
   },
   {
    "duration": 9,
    "start_time": "2022-05-10T12:17:19.235Z"
   },
   {
    "duration": 112,
    "start_time": "2022-05-10T12:17:19.246Z"
   },
   {
    "duration": 40,
    "start_time": "2022-05-10T12:17:19.361Z"
   },
   {
    "duration": 192,
    "start_time": "2022-05-10T12:17:19.404Z"
   },
   {
    "duration": 285,
    "start_time": "2022-05-10T12:17:19.599Z"
   },
   {
    "duration": 1037,
    "start_time": "2022-05-10T12:17:19.887Z"
   },
   {
    "duration": 622,
    "start_time": "2022-05-10T12:17:20.926Z"
   },
   {
    "duration": 4,
    "start_time": "2022-05-10T12:17:21.550Z"
   },
   {
    "duration": 968,
    "start_time": "2022-05-10T12:17:21.556Z"
   },
   {
    "duration": 126,
    "start_time": "2022-05-10T12:17:22.526Z"
   },
   {
    "duration": 5,
    "start_time": "2022-05-10T12:17:22.654Z"
   },
   {
    "duration": 184,
    "start_time": "2022-05-10T12:17:22.661Z"
   },
   {
    "duration": 5,
    "start_time": "2022-05-10T12:17:22.847Z"
   },
   {
    "duration": 48,
    "start_time": "2022-05-10T12:17:22.854Z"
   },
   {
    "duration": 403,
    "start_time": "2022-05-10T12:17:22.904Z"
   },
   {
    "duration": 34,
    "start_time": "2022-05-10T12:17:23.309Z"
   },
   {
    "duration": 1838,
    "start_time": "2022-05-10T12:17:23.345Z"
   },
   {
    "duration": 155,
    "start_time": "2022-05-10T12:17:25.185Z"
   },
   {
    "duration": 55,
    "start_time": "2022-05-10T12:17:25.342Z"
   },
   {
    "duration": 14,
    "start_time": "2022-05-10T12:17:25.399Z"
   },
   {
    "duration": 728,
    "start_time": "2022-05-10T12:17:25.415Z"
   },
   {
    "duration": 7,
    "start_time": "2022-05-10T12:17:26.145Z"
   },
   {
    "duration": 227,
    "start_time": "2022-05-10T12:17:26.155Z"
   },
   {
    "duration": 9,
    "start_time": "2022-05-10T12:17:26.384Z"
   },
   {
    "duration": 133,
    "start_time": "2022-05-10T12:17:26.396Z"
   },
   {
    "duration": 155459,
    "start_time": "2022-05-10T12:17:26.532Z"
   },
   {
    "duration": 160697,
    "start_time": "2022-05-10T12:20:01.993Z"
   },
   {
    "duration": 1888,
    "start_time": "2022-05-11T12:16:21.997Z"
   },
   {
    "duration": 7,
    "start_time": "2022-05-11T12:20:20.950Z"
   },
   {
    "duration": 11119,
    "start_time": "2022-05-11T12:20:22.148Z"
   },
   {
    "duration": 5,
    "start_time": "2022-05-11T12:27:20.669Z"
   },
   {
    "duration": 2307,
    "start_time": "2022-05-11T12:27:46.424Z"
   },
   {
    "duration": 8,
    "start_time": "2022-05-11T12:28:41.642Z"
   },
   {
    "duration": 1731,
    "start_time": "2022-05-11T12:28:54.581Z"
   },
   {
    "duration": 152,
    "start_time": "2022-05-11T12:29:43.582Z"
   },
   {
    "duration": 91,
    "start_time": "2022-05-11T12:30:29.809Z"
   },
   {
    "duration": 6,
    "start_time": "2022-05-11T12:31:21.183Z"
   },
   {
    "duration": 4,
    "start_time": "2022-05-11T12:34:58.847Z"
   },
   {
    "duration": 4,
    "start_time": "2022-05-11T12:35:09.050Z"
   },
   {
    "duration": 3,
    "start_time": "2022-05-11T12:35:20.999Z"
   },
   {
    "duration": 3,
    "start_time": "2022-05-11T13:06:16.860Z"
   },
   {
    "duration": 5,
    "start_time": "2022-05-11T13:06:28.668Z"
   },
   {
    "duration": 42,
    "start_time": "2022-05-11T13:06:40.557Z"
   },
   {
    "duration": 17,
    "start_time": "2022-05-11T13:07:20.614Z"
   },
   {
    "duration": 276,
    "start_time": "2022-05-11T13:10:44.481Z"
   },
   {
    "duration": 248,
    "start_time": "2022-05-11T13:10:53.916Z"
   },
   {
    "duration": 2204,
    "start_time": "2022-05-11T20:13:22.098Z"
   },
   {
    "duration": 7,
    "start_time": "2022-05-11T20:13:24.306Z"
   },
   {
    "duration": 2980,
    "start_time": "2022-05-11T20:13:24.315Z"
   },
   {
    "duration": 4,
    "start_time": "2022-05-11T20:13:27.297Z"
   },
   {
    "duration": 7,
    "start_time": "2022-05-11T20:13:27.303Z"
   },
   {
    "duration": 111,
    "start_time": "2022-05-11T20:13:27.312Z"
   },
   {
    "duration": 18,
    "start_time": "2022-05-11T20:13:27.425Z"
   },
   {
    "duration": 270,
    "start_time": "2022-05-11T20:13:27.445Z"
   },
   {
    "duration": 512,
    "start_time": "2022-05-11T20:13:27.717Z"
   },
   {
    "duration": 579,
    "start_time": "2022-05-11T20:13:28.232Z"
   },
   {
    "duration": 36,
    "start_time": "2022-05-11T20:13:28.813Z"
   },
   {
    "duration": 11031,
    "start_time": "2022-05-11T20:13:28.851Z"
   },
   {
    "duration": 5,
    "start_time": "2022-05-11T20:13:39.884Z"
   },
   {
    "duration": 50,
    "start_time": "2022-05-11T20:13:39.890Z"
   },
   {
    "duration": 516,
    "start_time": "2022-05-11T20:13:59.921Z"
   },
   {
    "duration": 38,
    "start_time": "2022-05-11T20:16:44.212Z"
   },
   {
    "duration": 39,
    "start_time": "2022-05-11T20:16:46.322Z"
   },
   {
    "duration": 35,
    "start_time": "2022-05-11T20:16:48.336Z"
   },
   {
    "duration": 35,
    "start_time": "2022-05-11T20:16:50.559Z"
   },
   {
    "duration": 47,
    "start_time": "2022-05-11T20:16:53.804Z"
   },
   {
    "duration": 4,
    "start_time": "2022-05-11T20:17:04.443Z"
   },
   {
    "duration": 5,
    "start_time": "2022-05-11T20:17:51.104Z"
   },
   {
    "duration": 6,
    "start_time": "2022-05-11T20:20:10.747Z"
   },
   {
    "duration": 5,
    "start_time": "2022-05-11T20:36:25.605Z"
   },
   {
    "duration": 107,
    "start_time": "2022-05-11T20:39:15.845Z"
   },
   {
    "duration": 6,
    "start_time": "2022-05-11T20:39:28.564Z"
   },
   {
    "duration": 6,
    "start_time": "2022-05-11T20:40:10.226Z"
   },
   {
    "duration": 9,
    "start_time": "2022-05-11T20:49:05.793Z"
   },
   {
    "duration": 9,
    "start_time": "2022-05-11T20:49:14.640Z"
   },
   {
    "duration": 86,
    "start_time": "2022-05-11T20:49:27.400Z"
   },
   {
    "duration": 56,
    "start_time": "2022-05-11T20:49:50.741Z"
   },
   {
    "duration": 10,
    "start_time": "2022-05-11T20:49:54.806Z"
   },
   {
    "duration": 50,
    "start_time": "2022-05-11T20:50:00.346Z"
   },
   {
    "duration": 32,
    "start_time": "2022-05-11T20:52:34.145Z"
   },
   {
    "duration": 3,
    "start_time": "2022-05-11T20:52:35.850Z"
   },
   {
    "duration": 94,
    "start_time": "2022-05-11T20:52:36.444Z"
   },
   {
    "duration": 121,
    "start_time": "2022-05-11T20:52:38.087Z"
   },
   {
    "duration": 8,
    "start_time": "2022-05-11T20:52:58.528Z"
   },
   {
    "duration": 7,
    "start_time": "2022-05-11T20:53:37.934Z"
   },
   {
    "duration": 7,
    "start_time": "2022-05-11T20:56:59.167Z"
   },
   {
    "duration": 73,
    "start_time": "2022-05-12T06:07:21.767Z"
   },
   {
    "duration": 2393,
    "start_time": "2022-05-12T06:07:36.424Z"
   },
   {
    "duration": 7,
    "start_time": "2022-05-12T06:07:38.821Z"
   },
   {
    "duration": 2370,
    "start_time": "2022-05-12T06:07:38.830Z"
   },
   {
    "duration": 3,
    "start_time": "2022-05-12T06:07:41.203Z"
   },
   {
    "duration": 11,
    "start_time": "2022-05-12T06:07:41.209Z"
   },
   {
    "duration": 92,
    "start_time": "2022-05-12T06:07:41.222Z"
   },
   {
    "duration": 18,
    "start_time": "2022-05-12T06:07:41.316Z"
   },
   {
    "duration": 341,
    "start_time": "2022-05-12T06:07:41.351Z"
   },
   {
    "duration": 728,
    "start_time": "2022-05-12T06:07:41.695Z"
   },
   {
    "duration": 1187,
    "start_time": "2022-05-12T06:07:42.426Z"
   },
   {
    "duration": 57,
    "start_time": "2022-05-12T06:07:43.615Z"
   },
   {
    "duration": 19586,
    "start_time": "2022-05-12T06:07:43.674Z"
   },
   {
    "duration": 6,
    "start_time": "2022-05-12T06:08:03.263Z"
   },
   {
    "duration": 85,
    "start_time": "2022-05-12T06:08:03.273Z"
   },
   {
    "duration": 905,
    "start_time": "2022-05-12T06:08:03.361Z"
   },
   {
    "duration": 38,
    "start_time": "2022-05-12T06:08:04.268Z"
   },
   {
    "duration": 56,
    "start_time": "2022-05-12T06:08:04.308Z"
   },
   {
    "duration": 38,
    "start_time": "2022-05-12T06:08:04.366Z"
   },
   {
    "duration": 49,
    "start_time": "2022-05-12T06:08:04.406Z"
   },
   {
    "duration": 54,
    "start_time": "2022-05-12T06:08:04.457Z"
   },
   {
    "duration": 77,
    "start_time": "2022-05-12T06:08:04.514Z"
   },
   {
    "duration": 4,
    "start_time": "2022-05-12T06:08:04.593Z"
   },
   {
    "duration": 132,
    "start_time": "2022-05-12T06:08:04.599Z"
   },
   {
    "duration": 171,
    "start_time": "2022-05-12T06:08:04.734Z"
   },
   {
    "duration": 46,
    "start_time": "2022-05-12T06:08:04.907Z"
   },
   {
    "duration": 35,
    "start_time": "2022-05-12T06:08:04.956Z"
   },
   {
    "duration": 21,
    "start_time": "2022-05-12T06:08:04.993Z"
   },
   {
    "duration": 48,
    "start_time": "2022-05-12T06:08:05.016Z"
   },
   {
    "duration": 12,
    "start_time": "2022-05-12T06:08:05.066Z"
   },
   {
    "duration": 703,
    "start_time": "2022-05-12T06:08:05.080Z"
   },
   {
    "duration": 48,
    "start_time": "2022-05-12T06:08:05.785Z"
   },
   {
    "duration": 29,
    "start_time": "2022-05-12T06:08:10.172Z"
   },
   {
    "duration": 41,
    "start_time": "2022-05-12T06:08:11.036Z"
   },
   {
    "duration": 76,
    "start_time": "2022-05-12T11:38:54.560Z"
   },
   {
    "duration": 2501,
    "start_time": "2022-05-12T11:39:00.869Z"
   },
   {
    "duration": 8,
    "start_time": "2022-05-12T11:39:03.373Z"
   },
   {
    "duration": 2651,
    "start_time": "2022-05-12T11:39:03.383Z"
   },
   {
    "duration": 14,
    "start_time": "2022-05-12T11:39:06.039Z"
   },
   {
    "duration": 18,
    "start_time": "2022-05-12T11:39:06.056Z"
   },
   {
    "duration": 82,
    "start_time": "2022-05-12T11:39:06.077Z"
   },
   {
    "duration": 34,
    "start_time": "2022-05-12T11:39:06.162Z"
   },
   {
    "duration": 515,
    "start_time": "2022-05-12T11:39:06.198Z"
   },
   {
    "duration": 841,
    "start_time": "2022-05-12T11:39:06.715Z"
   },
   {
    "duration": 1054,
    "start_time": "2022-05-12T11:39:07.561Z"
   },
   {
    "duration": 52,
    "start_time": "2022-05-12T11:39:08.617Z"
   },
   {
    "duration": 20181,
    "start_time": "2022-05-12T11:39:08.672Z"
   },
   {
    "duration": 9,
    "start_time": "2022-05-12T11:39:28.857Z"
   },
   {
    "duration": 79,
    "start_time": "2022-05-12T11:39:28.869Z"
   },
   {
    "duration": 1444,
    "start_time": "2022-05-12T11:39:28.950Z"
   },
   {
    "duration": 68,
    "start_time": "2022-05-12T11:39:30.397Z"
   },
   {
    "duration": 38,
    "start_time": "2022-05-12T11:39:30.468Z"
   },
   {
    "duration": 66,
    "start_time": "2022-05-12T11:39:30.509Z"
   },
   {
    "duration": 35,
    "start_time": "2022-05-12T11:39:30.578Z"
   },
   {
    "duration": 99,
    "start_time": "2022-05-12T11:39:30.615Z"
   },
   {
    "duration": 61,
    "start_time": "2022-05-12T11:39:30.716Z"
   },
   {
    "duration": 3,
    "start_time": "2022-05-12T11:39:30.780Z"
   },
   {
    "duration": 174,
    "start_time": "2022-05-12T11:39:30.786Z"
   },
   {
    "duration": 191,
    "start_time": "2022-05-12T11:39:30.963Z"
   },
   {
    "duration": 39,
    "start_time": "2022-05-12T11:39:31.157Z"
   },
   {
    "duration": 72,
    "start_time": "2022-05-12T11:39:31.199Z"
   },
   {
    "duration": 24,
    "start_time": "2022-05-12T11:39:31.274Z"
   },
   {
    "duration": 29,
    "start_time": "2022-05-12T11:39:31.303Z"
   },
   {
    "duration": 18,
    "start_time": "2022-05-12T11:39:31.355Z"
   },
   {
    "duration": 735,
    "start_time": "2022-05-12T11:39:31.376Z"
   },
   {
    "duration": 68,
    "start_time": "2022-05-12T11:39:32.115Z"
   },
   {
    "duration": 31,
    "start_time": "2022-05-12T11:39:32.185Z"
   },
   {
    "duration": 74,
    "start_time": "2022-05-12T11:39:32.218Z"
   },
   {
    "duration": 84,
    "start_time": "2022-05-12T11:39:32.294Z"
   },
   {
    "duration": 161,
    "start_time": "2022-05-12T11:39:32.381Z"
   },
   {
    "duration": 211,
    "start_time": "2022-05-12T11:39:32.544Z"
   },
   {
    "duration": 32,
    "start_time": "2022-05-12T11:39:32.758Z"
   },
   {
    "duration": 30,
    "start_time": "2022-05-12T11:39:32.793Z"
   },
   {
    "duration": 55,
    "start_time": "2022-05-12T11:39:47.620Z"
   },
   {
    "duration": 99,
    "start_time": "2022-05-12T11:49:48.215Z"
   },
   {
    "duration": 36,
    "start_time": "2022-05-12T11:49:50.866Z"
   },
   {
    "duration": 103,
    "start_time": "2022-05-12T11:49:58.108Z"
   },
   {
    "duration": 99,
    "start_time": "2022-05-12T11:54:58.394Z"
   },
   {
    "duration": 644,
    "start_time": "2022-05-12T11:55:24.285Z"
   },
   {
    "duration": 118,
    "start_time": "2022-05-12T12:02:18.177Z"
   },
   {
    "duration": 3,
    "start_time": "2022-05-12T12:08:03.208Z"
   },
   {
    "duration": 6,
    "start_time": "2022-05-12T12:08:19.205Z"
   },
   {
    "duration": 988,
    "start_time": "2022-05-12T12:08:25.488Z"
   },
   {
    "duration": 6,
    "start_time": "2022-05-12T12:09:25.068Z"
   },
   {
    "duration": 29,
    "start_time": "2022-05-12T12:15:24.666Z"
   },
   {
    "duration": 275,
    "start_time": "2022-05-12T12:15:25.530Z"
   },
   {
    "duration": 43,
    "start_time": "2022-05-12T12:15:38.488Z"
   },
   {
    "duration": 26,
    "start_time": "2022-05-12T12:17:54.919Z"
   },
   {
    "duration": 1436,
    "start_time": "2022-05-12T12:18:06.377Z"
   },
   {
    "duration": 1346,
    "start_time": "2022-05-12T12:19:42.666Z"
   },
   {
    "duration": 1522,
    "start_time": "2022-05-12T12:20:29.960Z"
   },
   {
    "duration": 87,
    "start_time": "2022-05-12T12:20:35.093Z"
   },
   {
    "duration": 130,
    "start_time": "2022-05-12T12:20:59.203Z"
   },
   {
    "duration": 30,
    "start_time": "2022-05-12T12:23:21.889Z"
   },
   {
    "duration": 129,
    "start_time": "2022-05-12T12:24:30.442Z"
   },
   {
    "duration": 3,
    "start_time": "2022-05-12T12:24:34.020Z"
   },
   {
    "duration": 578,
    "start_time": "2022-05-12T12:24:34.465Z"
   },
   {
    "duration": 6,
    "start_time": "2022-05-12T12:24:38.996Z"
   },
   {
    "duration": 218,
    "start_time": "2022-05-12T12:25:21.825Z"
   },
   {
    "duration": 7,
    "start_time": "2022-05-12T12:25:23.365Z"
   },
   {
    "duration": 128,
    "start_time": "2022-05-12T12:26:03.574Z"
   },
   {
    "duration": 2297,
    "start_time": "2022-05-12T12:35:38.867Z"
   },
   {
    "duration": 7,
    "start_time": "2022-05-12T12:35:41.168Z"
   },
   {
    "duration": 4528,
    "start_time": "2022-05-12T12:35:41.177Z"
   },
   {
    "duration": 4,
    "start_time": "2022-05-12T12:35:45.707Z"
   },
   {
    "duration": 9,
    "start_time": "2022-05-12T12:35:45.714Z"
   },
   {
    "duration": 102,
    "start_time": "2022-05-12T12:35:45.725Z"
   },
   {
    "duration": 40,
    "start_time": "2022-05-12T12:35:45.830Z"
   },
   {
    "duration": 421,
    "start_time": "2022-05-12T12:35:45.872Z"
   },
   {
    "duration": 825,
    "start_time": "2022-05-12T12:35:46.295Z"
   },
   {
    "duration": 1005,
    "start_time": "2022-05-12T12:35:47.123Z"
   },
   {
    "duration": 61,
    "start_time": "2022-05-12T12:35:48.131Z"
   },
   {
    "duration": 21468,
    "start_time": "2022-05-12T12:35:48.194Z"
   },
   {
    "duration": 7,
    "start_time": "2022-05-12T12:36:09.665Z"
   },
   {
    "duration": 90,
    "start_time": "2022-05-12T12:36:09.679Z"
   },
   {
    "duration": 1415,
    "start_time": "2022-05-12T12:36:09.772Z"
   },
   {
    "duration": 37,
    "start_time": "2022-05-12T12:36:11.189Z"
   },
   {
    "duration": 64,
    "start_time": "2022-05-12T12:36:11.229Z"
   },
   {
    "duration": 37,
    "start_time": "2022-05-12T12:36:11.295Z"
   },
   {
    "duration": 54,
    "start_time": "2022-05-12T12:36:11.335Z"
   },
   {
    "duration": 80,
    "start_time": "2022-05-12T12:36:11.391Z"
   },
   {
    "duration": 54,
    "start_time": "2022-05-12T12:36:11.474Z"
   },
   {
    "duration": 4,
    "start_time": "2022-05-12T12:36:11.531Z"
   },
   {
    "duration": 132,
    "start_time": "2022-05-12T12:36:11.555Z"
   },
   {
    "duration": 194,
    "start_time": "2022-05-12T12:36:11.689Z"
   },
   {
    "duration": 35,
    "start_time": "2022-05-12T12:36:11.885Z"
   },
   {
    "duration": 56,
    "start_time": "2022-05-12T12:36:11.923Z"
   },
   {
    "duration": 24,
    "start_time": "2022-05-12T12:36:11.981Z"
   },
   {
    "duration": 20,
    "start_time": "2022-05-12T12:36:12.007Z"
   },
   {
    "duration": 39,
    "start_time": "2022-05-12T12:36:12.029Z"
   },
   {
    "duration": 777,
    "start_time": "2022-05-12T12:36:12.071Z"
   },
   {
    "duration": 50,
    "start_time": "2022-05-12T12:36:12.850Z"
   },
   {
    "duration": 29,
    "start_time": "2022-05-12T12:36:12.902Z"
   },
   {
    "duration": 51,
    "start_time": "2022-05-12T12:36:12.953Z"
   },
   {
    "duration": 97,
    "start_time": "2022-05-12T12:36:13.006Z"
   },
   {
    "duration": 155,
    "start_time": "2022-05-12T12:36:13.105Z"
   },
   {
    "duration": 211,
    "start_time": "2022-05-12T12:36:13.263Z"
   },
   {
    "duration": 29,
    "start_time": "2022-05-12T12:36:13.476Z"
   },
   {
    "duration": 52,
    "start_time": "2022-05-12T12:36:13.507Z"
   },
   {
    "duration": 174,
    "start_time": "2022-05-12T12:36:13.563Z"
   },
   {
    "duration": 15,
    "start_time": "2022-05-12T12:36:13.739Z"
   },
   {
    "duration": 104,
    "start_time": "2022-05-12T12:36:13.763Z"
   },
   {
    "duration": 34,
    "start_time": "2022-05-12T12:36:13.870Z"
   },
   {
    "duration": 118,
    "start_time": "2022-05-12T12:36:13.906Z"
   },
   {
    "duration": 193,
    "start_time": "2022-05-12T12:36:14.026Z"
   },
   {
    "duration": 35,
    "start_time": "2022-05-12T12:36:14.221Z"
   },
   {
    "duration": 639,
    "start_time": "2022-05-12T12:36:14.259Z"
   },
   {
    "duration": 4,
    "start_time": "2022-05-12T12:36:14.900Z"
   },
   {
    "duration": 992,
    "start_time": "2022-05-12T12:36:14.906Z"
   },
   {
    "duration": 129,
    "start_time": "2022-05-12T12:36:15.900Z"
   },
   {
    "duration": 6,
    "start_time": "2022-05-12T12:36:16.031Z"
   },
   {
    "duration": 195,
    "start_time": "2022-05-12T12:36:16.039Z"
   },
   {
    "duration": 31,
    "start_time": "2022-05-12T12:36:16.236Z"
   },
   {
    "duration": 277,
    "start_time": "2022-05-12T12:36:16.270Z"
   },
   {
    "duration": 50,
    "start_time": "2022-05-12T12:36:16.552Z"
   },
   {
    "duration": 26,
    "start_time": "2022-05-12T12:36:16.604Z"
   },
   {
    "duration": 1492,
    "start_time": "2022-05-12T12:36:16.655Z"
   },
   {
    "duration": 134,
    "start_time": "2022-05-12T12:36:18.152Z"
   },
   {
    "duration": 29,
    "start_time": "2022-05-12T12:36:18.288Z"
   },
   {
    "duration": 11,
    "start_time": "2022-05-12T12:36:18.320Z"
   },
   {
    "duration": 509,
    "start_time": "2022-05-12T12:36:18.334Z"
   },
   {
    "duration": 13,
    "start_time": "2022-05-12T12:36:18.845Z"
   },
   {
    "duration": 234,
    "start_time": "2022-05-12T12:36:18.862Z"
   },
   {
    "duration": 8,
    "start_time": "2022-05-12T12:36:19.101Z"
   },
   {
    "duration": 127,
    "start_time": "2022-05-12T12:36:19.111Z"
   },
   {
    "duration": 335322,
    "start_time": "2022-05-12T12:36:19.240Z"
   },
   {
    "duration": 267802,
    "start_time": "2022-05-12T12:41:54.565Z"
   },
   {
    "duration": 60487,
    "start_time": "2022-05-12T12:46:22.385Z"
   },
   {
    "duration": 377,
    "start_time": "2022-05-12T12:47:22.876Z"
   },
   {
    "duration": 8,
    "start_time": "2022-05-12T13:10:11.729Z"
   },
   {
    "duration": 68265,
    "start_time": "2022-05-12T13:13:21.801Z"
   },
   {
    "duration": 405,
    "start_time": "2022-05-12T13:14:35.357Z"
   },
   {
    "duration": 7,
    "start_time": "2022-05-12T13:14:39.770Z"
   },
   {
    "duration": 4624,
    "start_time": "2022-05-12T13:21:07.317Z"
   },
   {
    "duration": 456821,
    "start_time": "2022-05-12T13:21:20.866Z"
   },
   {
    "duration": 365,
    "start_time": "2022-05-12T13:33:42.389Z"
   },
   {
    "duration": 8,
    "start_time": "2022-05-12T13:33:44.910Z"
   },
   {
    "duration": 5,
    "start_time": "2022-05-12T13:38:15.389Z"
   },
   {
    "duration": 2459,
    "start_time": "2022-05-12T14:05:01.225Z"
   },
   {
    "duration": 7,
    "start_time": "2022-05-12T14:05:04.965Z"
   },
   {
    "duration": 4407,
    "start_time": "2022-05-12T14:05:05.921Z"
   },
   {
    "duration": 4,
    "start_time": "2022-05-12T14:05:10.330Z"
   },
   {
    "duration": 8,
    "start_time": "2022-05-12T14:05:10.353Z"
   },
   {
    "duration": 102,
    "start_time": "2022-05-12T14:05:10.365Z"
   },
   {
    "duration": 42,
    "start_time": "2022-05-12T14:05:10.469Z"
   },
   {
    "duration": 404,
    "start_time": "2022-05-12T14:05:10.513Z"
   },
   {
    "duration": 789,
    "start_time": "2022-05-12T14:05:12.069Z"
   },
   {
    "duration": 894,
    "start_time": "2022-05-12T14:05:12.860Z"
   },
   {
    "duration": 50,
    "start_time": "2022-05-12T14:05:13.757Z"
   },
   {
    "duration": 19109,
    "start_time": "2022-05-12T14:05:14.131Z"
   },
   {
    "duration": 6,
    "start_time": "2022-05-12T14:05:33.251Z"
   },
   {
    "duration": 74,
    "start_time": "2022-05-12T14:05:33.259Z"
   },
   {
    "duration": 1361,
    "start_time": "2022-05-12T14:05:33.336Z"
   },
   {
    "duration": 64,
    "start_time": "2022-05-12T14:05:34.699Z"
   },
   {
    "duration": 34,
    "start_time": "2022-05-12T14:05:34.765Z"
   },
   {
    "duration": 58,
    "start_time": "2022-05-12T14:05:34.801Z"
   },
   {
    "duration": 28,
    "start_time": "2022-05-12T14:05:34.861Z"
   },
   {
    "duration": 80,
    "start_time": "2022-05-12T14:05:34.891Z"
   },
   {
    "duration": 73,
    "start_time": "2022-05-12T14:05:41.667Z"
   },
   {
    "duration": 4,
    "start_time": "2022-05-12T14:06:18.269Z"
   },
   {
    "duration": 189,
    "start_time": "2022-05-12T14:06:22.491Z"
   },
   {
    "duration": 210,
    "start_time": "2022-05-12T14:06:22.993Z"
   },
   {
    "duration": 35,
    "start_time": "2022-05-12T14:06:23.534Z"
   },
   {
    "duration": 37,
    "start_time": "2022-05-12T14:06:24.236Z"
   },
   {
    "duration": 24,
    "start_time": "2022-05-12T14:06:26.736Z"
   },
   {
    "duration": 22,
    "start_time": "2022-05-12T14:06:31.288Z"
   },
   {
    "duration": 11,
    "start_time": "2022-05-12T14:06:32.156Z"
   },
   {
    "duration": 746,
    "start_time": "2022-05-12T14:06:32.976Z"
   },
   {
    "duration": 53,
    "start_time": "2022-05-12T14:07:06.548Z"
   },
   {
    "duration": 54,
    "start_time": "2022-05-12T14:07:07.091Z"
   },
   {
    "duration": 43,
    "start_time": "2022-05-12T14:07:08.147Z"
   },
   {
    "duration": 71,
    "start_time": "2022-05-12T14:07:09.827Z"
   },
   {
    "duration": 143,
    "start_time": "2022-05-12T14:07:11.388Z"
   },
   {
    "duration": 238,
    "start_time": "2022-05-12T14:07:12.961Z"
   },
   {
    "duration": 29,
    "start_time": "2022-05-12T14:07:16.165Z"
   },
   {
    "duration": 28,
    "start_time": "2022-05-12T14:07:16.525Z"
   },
   {
    "duration": 162,
    "start_time": "2022-05-12T14:07:17.109Z"
   },
   {
    "duration": 10,
    "start_time": "2022-05-12T14:07:20.893Z"
   },
   {
    "duration": 20,
    "start_time": "2022-05-12T14:07:43.577Z"
   },
   {
    "duration": 622,
    "start_time": "2022-05-12T14:08:03.258Z"
   },
   {
    "duration": 4,
    "start_time": "2022-05-12T14:08:04.665Z"
   },
   {
    "duration": 1021,
    "start_time": "2022-05-12T14:08:04.919Z"
   },
   {
    "duration": 139,
    "start_time": "2022-05-12T14:08:05.943Z"
   },
   {
    "duration": 6,
    "start_time": "2022-05-12T14:08:06.085Z"
   },
   {
    "duration": 206,
    "start_time": "2022-05-12T14:08:06.094Z"
   },
   {
    "duration": 47,
    "start_time": "2022-05-12T14:08:07.344Z"
   },
   {
    "duration": 295,
    "start_time": "2022-05-12T14:08:08.086Z"
   },
   {
    "duration": 46,
    "start_time": "2022-05-12T14:08:08.595Z"
   },
   {
    "duration": 28,
    "start_time": "2022-05-12T14:08:10.015Z"
   },
   {
    "duration": 1507,
    "start_time": "2022-05-12T14:08:11.276Z"
   },
   {
    "duration": 147,
    "start_time": "2022-05-12T14:08:12.785Z"
   },
   {
    "duration": 30,
    "start_time": "2022-05-12T14:08:13.190Z"
   },
   {
    "duration": 4,
    "start_time": "2022-05-12T14:08:17.683Z"
   },
   {
    "duration": 494,
    "start_time": "2022-05-12T14:08:21.361Z"
   },
   {
    "duration": 9,
    "start_time": "2022-05-12T14:08:21.858Z"
   },
   {
    "duration": 213,
    "start_time": "2022-05-12T14:08:25.922Z"
   },
   {
    "duration": 8,
    "start_time": "2022-05-12T14:08:28.897Z"
   },
   {
    "duration": 125,
    "start_time": "2022-05-12T14:08:31.060Z"
   },
   {
    "duration": 140919,
    "start_time": "2022-05-12T14:08:35.950Z"
   },
   {
    "duration": 33937,
    "start_time": "2022-05-12T14:11:07.922Z"
   },
   {
    "duration": 198,
    "start_time": "2022-05-12T14:11:45.060Z"
   },
   {
    "duration": 7,
    "start_time": "2022-05-12T14:11:48.178Z"
   },
   {
    "duration": 248,
    "start_time": "2022-05-12T14:13:46.433Z"
   },
   {
    "duration": 151273,
    "start_time": "2022-05-12T14:14:00.385Z"
   },
   {
    "duration": 38197,
    "start_time": "2022-05-12T14:16:31.663Z"
   },
   {
    "duration": 42162,
    "start_time": "2022-05-12T14:21:32.198Z"
   },
   {
    "duration": 368,
    "start_time": "2022-05-12T14:22:16.086Z"
   },
   {
    "duration": 8,
    "start_time": "2022-05-12T14:22:22.685Z"
   },
   {
    "duration": 255,
    "start_time": "2022-05-12T14:23:10.559Z"
   },
   {
    "duration": 2355,
    "start_time": "2022-05-12T14:24:19.698Z"
   },
   {
    "duration": 863226,
    "start_time": "2022-05-12T14:25:22.537Z"
   },
   {
    "duration": 314300,
    "start_time": "2022-05-12T15:33:46.454Z"
   },
   {
    "duration": 6,
    "start_time": "2022-05-12T16:42:34.062Z"
   },
   {
    "duration": 7,
    "start_time": "2022-05-12T16:42:52.302Z"
   },
   {
    "duration": 38,
    "start_time": "2022-05-12T16:44:07.392Z"
   },
   {
    "duration": 116,
    "start_time": "2022-05-12T16:44:42.514Z"
   },
   {
    "duration": 284,
    "start_time": "2022-05-12T16:45:13.973Z"
   },
   {
    "duration": 264,
    "start_time": "2022-05-12T16:46:01.296Z"
   },
   {
    "duration": 12,
    "start_time": "2022-05-12T16:48:50.421Z"
   },
   {
    "duration": 35352,
    "start_time": "2022-05-12T16:49:00.909Z"
   },
   {
    "duration": 4,
    "start_time": "2022-05-12T17:03:37.007Z"
   },
   {
    "duration": 53,
    "start_time": "2022-05-12T17:03:47.586Z"
   },
   {
    "duration": 19,
    "start_time": "2022-05-12T17:04:00.891Z"
   },
   {
    "duration": 17,
    "start_time": "2022-05-12T17:04:05.511Z"
   },
   {
    "duration": 11,
    "start_time": "2022-05-12T17:04:17.498Z"
   },
   {
    "duration": 23,
    "start_time": "2022-05-12T17:04:22.118Z"
   },
   {
    "duration": 31,
    "start_time": "2022-05-12T17:04:24.359Z"
   },
   {
    "duration": 15,
    "start_time": "2022-05-12T17:05:04.803Z"
   },
   {
    "duration": 15,
    "start_time": "2022-05-12T17:07:33.746Z"
   },
   {
    "duration": 34,
    "start_time": "2022-05-12T17:11:21.328Z"
   },
   {
    "duration": 8,
    "start_time": "2022-05-12T17:11:36.423Z"
   },
   {
    "duration": 5,
    "start_time": "2022-05-12T17:11:44.699Z"
   },
   {
    "duration": 6,
    "start_time": "2022-05-12T17:13:15.647Z"
   },
   {
    "duration": 6,
    "start_time": "2022-05-12T17:16:09.265Z"
   },
   {
    "duration": 75,
    "start_time": "2022-05-12T17:16:41.116Z"
   },
   {
    "duration": 4,
    "start_time": "2022-05-12T17:16:52.058Z"
   },
   {
    "duration": 79,
    "start_time": "2022-05-12T17:17:02.200Z"
   },
   {
    "duration": 20,
    "start_time": "2022-05-12T17:22:05.996Z"
   },
   {
    "duration": 9,
    "start_time": "2022-05-12T17:43:02.336Z"
   },
   {
    "duration": 8,
    "start_time": "2022-05-12T17:43:14.140Z"
   },
   {
    "duration": 8,
    "start_time": "2022-05-12T17:43:17.625Z"
   },
   {
    "duration": 8429,
    "start_time": "2022-05-12T17:43:27.249Z"
   },
   {
    "duration": 8201,
    "start_time": "2022-05-12T17:44:06.253Z"
   },
   {
    "duration": 8474,
    "start_time": "2022-05-12T17:44:23.670Z"
   },
   {
    "duration": 8069,
    "start_time": "2022-05-12T17:44:43.970Z"
   },
   {
    "duration": 6,
    "start_time": "2022-05-12T18:28:23.545Z"
   },
   {
    "duration": 3626112,
    "start_time": "2022-05-12T19:27:39.865Z"
   },
   {
    "duration": 105,
    "start_time": "2022-05-12T20:57:54.567Z"
   },
   {
    "duration": 79,
    "start_time": "2022-05-12T21:23:22.826Z"
   },
   {
    "duration": 1879,
    "start_time": "2022-05-13T08:15:22.458Z"
   },
   {
    "duration": 6,
    "start_time": "2022-05-13T08:15:24.339Z"
   },
   {
    "duration": 1940,
    "start_time": "2022-05-13T08:15:24.346Z"
   },
   {
    "duration": 2,
    "start_time": "2022-05-13T08:15:26.289Z"
   },
   {
    "duration": 8,
    "start_time": "2022-05-13T08:15:26.293Z"
   },
   {
    "duration": 48,
    "start_time": "2022-05-13T08:15:26.303Z"
   },
   {
    "duration": 25,
    "start_time": "2022-05-13T08:15:26.353Z"
   },
   {
    "duration": 273,
    "start_time": "2022-05-13T08:15:26.380Z"
   },
   {
    "duration": 544,
    "start_time": "2022-05-13T08:15:26.655Z"
   },
   {
    "duration": 647,
    "start_time": "2022-05-13T08:15:27.201Z"
   },
   {
    "duration": 35,
    "start_time": "2022-05-13T08:15:27.850Z"
   },
   {
    "duration": 12471,
    "start_time": "2022-05-13T08:15:27.887Z"
   },
   {
    "duration": 12,
    "start_time": "2022-05-13T08:15:40.360Z"
   },
   {
    "duration": 71,
    "start_time": "2022-05-13T08:15:40.374Z"
   },
   {
    "duration": 902,
    "start_time": "2022-05-13T08:15:40.447Z"
   },
   {
    "duration": 639,
    "start_time": "2022-05-13T08:16:00.157Z"
   },
   {
    "duration": 4,
    "start_time": "2022-05-13T08:27:42.716Z"
   },
   {
    "duration": 9,
    "start_time": "2022-05-13T08:27:42.724Z"
   },
   {
    "duration": 2897,
    "start_time": "2022-05-13T08:27:42.735Z"
   },
   {
    "duration": 3,
    "start_time": "2022-05-13T08:27:45.634Z"
   },
   {
    "duration": 7,
    "start_time": "2022-05-13T08:27:45.639Z"
   },
   {
    "duration": 60,
    "start_time": "2022-05-13T08:27:45.648Z"
   },
   {
    "duration": 13,
    "start_time": "2022-05-13T08:27:45.709Z"
   },
   {
    "duration": 286,
    "start_time": "2022-05-13T08:27:45.724Z"
   },
   {
    "duration": 539,
    "start_time": "2022-05-13T08:27:46.012Z"
   },
   {
    "duration": 440,
    "start_time": "2022-05-13T08:27:46.553Z"
   },
   {
    "duration": 126,
    "start_time": "2022-05-13T08:27:46.995Z"
   },
   {
    "duration": 134,
    "start_time": "2022-05-13T08:27:59.524Z"
   },
   {
    "duration": 268,
    "start_time": "2022-05-13T08:30:41.329Z"
   },
   {
    "duration": 283,
    "start_time": "2022-05-13T08:33:25.998Z"
   },
   {
    "duration": 483,
    "start_time": "2022-05-13T08:35:34.281Z"
   },
   {
    "duration": 75910,
    "start_time": "2022-05-13T08:35:49.589Z"
   },
   {
    "duration": 612,
    "start_time": "2022-05-13T08:37:28.077Z"
   },
   {
    "duration": 308,
    "start_time": "2022-05-13T08:38:59.383Z"
   },
   {
    "duration": 278,
    "start_time": "2022-05-13T08:39:45.709Z"
   },
   {
    "duration": 253,
    "start_time": "2022-05-13T08:40:18.989Z"
   },
   {
    "duration": 289,
    "start_time": "2022-05-13T08:40:32.919Z"
   },
   {
    "duration": 294,
    "start_time": "2022-05-13T08:42:26.507Z"
   },
   {
    "duration": 1368,
    "start_time": "2022-05-13T08:42:57.916Z"
   },
   {
    "duration": 1521,
    "start_time": "2022-05-13T08:43:09.227Z"
   },
   {
    "duration": 12776,
    "start_time": "2022-05-13T08:43:22.692Z"
   },
   {
    "duration": 14511,
    "start_time": "2022-05-13T08:43:56.607Z"
   },
   {
    "duration": 304,
    "start_time": "2022-05-13T08:44:46.720Z"
   },
   {
    "duration": 292,
    "start_time": "2022-05-13T08:44:53.638Z"
   },
   {
    "duration": 294,
    "start_time": "2022-05-13T08:44:59.611Z"
   },
   {
    "duration": 283,
    "start_time": "2022-05-13T08:45:06.152Z"
   },
   {
    "duration": 295,
    "start_time": "2022-05-13T08:45:54.381Z"
   },
   {
    "duration": 315,
    "start_time": "2022-05-13T08:46:02.779Z"
   },
   {
    "duration": 322,
    "start_time": "2022-05-13T08:46:08.674Z"
   },
   {
    "duration": 302,
    "start_time": "2022-05-13T08:46:16.179Z"
   },
   {
    "duration": 299,
    "start_time": "2022-05-13T08:46:39.097Z"
   },
   {
    "duration": 293,
    "start_time": "2022-05-13T08:46:54.630Z"
   },
   {
    "duration": 292,
    "start_time": "2022-05-13T08:47:06.508Z"
   },
   {
    "duration": 304,
    "start_time": "2022-05-13T08:47:10.943Z"
   },
   {
    "duration": 306,
    "start_time": "2022-05-13T08:47:15.492Z"
   },
   {
    "duration": 284,
    "start_time": "2022-05-13T08:47:18.805Z"
   },
   {
    "duration": 305,
    "start_time": "2022-05-13T08:47:22.662Z"
   },
   {
    "duration": 2342,
    "start_time": "2022-05-13T08:47:25.758Z"
   },
   {
    "duration": 395,
    "start_time": "2022-05-13T08:47:32.482Z"
   },
   {
    "duration": 337,
    "start_time": "2022-05-13T08:47:57.072Z"
   },
   {
    "duration": 140,
    "start_time": "2022-05-13T08:55:18.812Z"
   },
   {
    "duration": 271,
    "start_time": "2022-05-13T08:57:23.298Z"
   },
   {
    "duration": 5,
    "start_time": "2022-05-13T08:58:28.788Z"
   },
   {
    "duration": 13,
    "start_time": "2022-05-13T08:58:49.796Z"
   },
   {
    "duration": 27,
    "start_time": "2022-05-13T09:05:46.908Z"
   },
   {
    "duration": 6,
    "start_time": "2022-05-13T10:01:42.840Z"
   },
   {
    "duration": 30,
    "start_time": "2022-05-13T11:04:27.252Z"
   },
   {
    "duration": 301,
    "start_time": "2022-05-13T11:05:06.569Z"
   },
   {
    "duration": 12,
    "start_time": "2022-05-13T11:13:35.750Z"
   },
   {
    "duration": 40,
    "start_time": "2022-05-13T11:14:08.839Z"
   },
   {
    "duration": 308,
    "start_time": "2022-05-13T11:14:26.928Z"
   },
   {
    "duration": 24,
    "start_time": "2022-05-13T11:17:53.609Z"
   },
   {
    "duration": 327,
    "start_time": "2022-05-13T11:22:56.837Z"
   },
   {
    "duration": 327,
    "start_time": "2022-05-13T11:23:13.954Z"
   },
   {
    "duration": 361,
    "start_time": "2022-05-13T11:23:31.509Z"
   },
   {
    "duration": 352,
    "start_time": "2022-05-13T11:23:37.639Z"
   },
   {
    "duration": 421,
    "start_time": "2022-05-13T11:23:41.786Z"
   },
   {
    "duration": 405,
    "start_time": "2022-05-13T11:23:49.033Z"
   },
   {
    "duration": 313,
    "start_time": "2022-05-13T11:23:54.124Z"
   },
   {
    "duration": 316,
    "start_time": "2022-05-13T11:23:57.558Z"
   },
   {
    "duration": 27,
    "start_time": "2022-05-13T11:33:44.624Z"
   },
   {
    "duration": 166,
    "start_time": "2022-05-13T11:36:18.339Z"
   },
   {
    "duration": 147,
    "start_time": "2022-05-13T11:36:58.536Z"
   },
   {
    "duration": 151,
    "start_time": "2022-05-13T11:37:03.641Z"
   },
   {
    "duration": 170,
    "start_time": "2022-05-13T11:37:08.313Z"
   },
   {
    "duration": 144,
    "start_time": "2022-05-13T11:37:17.550Z"
   },
   {
    "duration": 139,
    "start_time": "2022-05-13T11:37:32.441Z"
   },
   {
    "duration": 4,
    "start_time": "2022-05-13T11:37:57.187Z"
   },
   {
    "duration": 4,
    "start_time": "2022-05-13T11:38:04.048Z"
   },
   {
    "duration": 185,
    "start_time": "2022-05-13T11:38:58.467Z"
   },
   {
    "duration": 175,
    "start_time": "2022-05-13T11:39:11.165Z"
   },
   {
    "duration": 143,
    "start_time": "2022-05-13T11:39:17.059Z"
   },
   {
    "duration": 133,
    "start_time": "2022-05-13T11:39:23.453Z"
   },
   {
    "duration": 136,
    "start_time": "2022-05-13T11:39:30.367Z"
   },
   {
    "duration": 135,
    "start_time": "2022-05-13T11:39:41.965Z"
   },
   {
    "duration": 148,
    "start_time": "2022-05-13T11:39:52.535Z"
   },
   {
    "duration": 286,
    "start_time": "2022-05-13T11:40:20.811Z"
   },
   {
    "duration": 315,
    "start_time": "2022-05-13T11:40:36.117Z"
   },
   {
    "duration": 301,
    "start_time": "2022-05-13T11:40:56.857Z"
   },
   {
    "duration": 285,
    "start_time": "2022-05-13T11:41:32.441Z"
   },
   {
    "duration": 40,
    "start_time": "2022-05-13T11:45:47.887Z"
   },
   {
    "duration": 42,
    "start_time": "2022-05-13T11:46:14.836Z"
   },
   {
    "duration": 21,
    "start_time": "2022-05-13T11:47:14.050Z"
   },
   {
    "duration": 28,
    "start_time": "2022-05-13T11:47:39.363Z"
   },
   {
    "duration": 22,
    "start_time": "2022-05-13T11:48:52.745Z"
   },
   {
    "duration": 75,
    "start_time": "2022-05-13T11:56:29.616Z"
   },
   {
    "duration": 108,
    "start_time": "2022-05-13T11:56:39.769Z"
   },
   {
    "duration": 18,
    "start_time": "2022-05-13T11:56:47.928Z"
   },
   {
    "duration": 24,
    "start_time": "2022-05-13T11:56:52.144Z"
   },
   {
    "duration": 18,
    "start_time": "2022-05-13T11:56:56.103Z"
   },
   {
    "duration": 14,
    "start_time": "2022-05-13T11:57:58.500Z"
   },
   {
    "duration": 9,
    "start_time": "2022-05-13T11:58:02.595Z"
   },
   {
    "duration": 272,
    "start_time": "2022-05-13T12:02:12.246Z"
   },
   {
    "duration": 477,
    "start_time": "2022-05-13T12:02:30.470Z"
   },
   {
    "duration": 463,
    "start_time": "2022-05-13T12:02:52.191Z"
   },
   {
    "duration": 537,
    "start_time": "2022-05-13T12:03:30.577Z"
   },
   {
    "duration": 606,
    "start_time": "2022-05-13T12:03:36.322Z"
   },
   {
    "duration": 590,
    "start_time": "2022-05-13T12:03:42.177Z"
   },
   {
    "duration": 583,
    "start_time": "2022-05-13T12:03:48.796Z"
   },
   {
    "duration": 563,
    "start_time": "2022-05-13T12:03:57.827Z"
   },
   {
    "duration": 432,
    "start_time": "2022-05-13T12:04:58.140Z"
   },
   {
    "duration": 645,
    "start_time": "2022-05-13T12:05:29.365Z"
   },
   {
    "duration": 474,
    "start_time": "2022-05-13T12:05:35.893Z"
   },
   {
    "duration": 439,
    "start_time": "2022-05-13T12:05:47.181Z"
   },
   {
    "duration": 438,
    "start_time": "2022-05-13T12:05:56.620Z"
   },
   {
    "duration": 434,
    "start_time": "2022-05-13T12:06:00.886Z"
   },
   {
    "duration": 427,
    "start_time": "2022-05-13T12:06:15.974Z"
   },
   {
    "duration": 533,
    "start_time": "2022-05-13T12:06:25.737Z"
   },
   {
    "duration": 441,
    "start_time": "2022-05-13T12:06:49.143Z"
   },
   {
    "duration": 433,
    "start_time": "2022-05-13T12:06:54.423Z"
   },
   {
    "duration": 444,
    "start_time": "2022-05-13T12:07:00.761Z"
   },
   {
    "duration": 640,
    "start_time": "2022-05-13T12:07:06.583Z"
   },
   {
    "duration": 447,
    "start_time": "2022-05-13T12:07:16.769Z"
   },
   {
    "duration": 593,
    "start_time": "2022-05-13T12:07:22.159Z"
   },
   {
    "duration": 446,
    "start_time": "2022-05-13T12:07:27.352Z"
   },
   {
    "duration": 431,
    "start_time": "2022-05-13T12:07:32.393Z"
   },
   {
    "duration": 495,
    "start_time": "2022-05-13T12:07:36.841Z"
   },
   {
    "duration": 433,
    "start_time": "2022-05-13T12:07:43.072Z"
   },
   {
    "duration": 472,
    "start_time": "2022-05-13T12:07:46.609Z"
   },
   {
    "duration": 470,
    "start_time": "2022-05-13T12:08:06.812Z"
   },
   {
    "duration": 546,
    "start_time": "2022-05-13T12:08:16.931Z"
   },
   {
    "duration": 508,
    "start_time": "2022-05-13T12:09:00.076Z"
   },
   {
    "duration": 359,
    "start_time": "2022-05-13T12:24:45.939Z"
   },
   {
    "duration": 1235,
    "start_time": "2022-05-13T12:26:35.419Z"
   },
   {
    "duration": 2060,
    "start_time": "2022-05-13T12:27:04.826Z"
   },
   {
    "duration": 362,
    "start_time": "2022-05-13T12:27:24.503Z"
   },
   {
    "duration": 495,
    "start_time": "2022-05-13T12:27:31.923Z"
   },
   {
    "duration": 1503,
    "start_time": "2022-05-13T12:27:41.884Z"
   },
   {
    "duration": 1507,
    "start_time": "2022-05-13T12:27:49.126Z"
   },
   {
    "duration": 1538,
    "start_time": "2022-05-13T12:30:07.360Z"
   },
   {
    "duration": 27,
    "start_time": "2022-05-13T12:39:16.997Z"
   },
   {
    "duration": 17,
    "start_time": "2022-05-13T12:39:32.027Z"
   },
   {
    "duration": 28,
    "start_time": "2022-05-13T12:39:37.978Z"
   },
   {
    "duration": 33,
    "start_time": "2022-05-13T12:45:30.863Z"
   },
   {
    "duration": 29,
    "start_time": "2022-05-13T12:46:33.912Z"
   },
   {
    "duration": 17,
    "start_time": "2022-05-13T12:47:11.506Z"
   },
   {
    "duration": 34,
    "start_time": "2022-05-13T13:03:23.978Z"
   },
   {
    "duration": 134,
    "start_time": "2022-05-13T13:03:41.360Z"
   },
   {
    "duration": 18,
    "start_time": "2022-05-13T13:05:16.613Z"
   },
   {
    "duration": 18,
    "start_time": "2022-05-13T13:05:25.034Z"
   },
   {
    "duration": 108,
    "start_time": "2022-05-13T13:05:32.347Z"
   },
   {
    "duration": 7,
    "start_time": "2022-05-13T13:05:40.090Z"
   },
   {
    "duration": 158,
    "start_time": "2022-05-13T13:08:00.066Z"
   },
   {
    "duration": 140,
    "start_time": "2022-05-13T13:11:07.440Z"
   },
   {
    "duration": 8,
    "start_time": "2022-05-13T13:11:27.336Z"
   },
   {
    "duration": 34,
    "start_time": "2022-05-13T13:11:54.981Z"
   },
   {
    "duration": 139,
    "start_time": "2022-05-13T13:12:49.452Z"
   },
   {
    "duration": 11,
    "start_time": "2022-05-13T13:15:37.457Z"
   },
   {
    "duration": 130,
    "start_time": "2022-05-13T13:15:50.730Z"
   },
   {
    "duration": 135,
    "start_time": "2022-05-13T13:16:07.684Z"
   },
   {
    "duration": 17,
    "start_time": "2022-05-13T13:19:34.680Z"
   },
   {
    "duration": 20,
    "start_time": "2022-05-13T13:20:25.972Z"
   },
   {
    "duration": 10,
    "start_time": "2022-05-13T13:21:57.870Z"
   },
   {
    "duration": 9,
    "start_time": "2022-05-13T13:24:08.945Z"
   },
   {
    "duration": 4,
    "start_time": "2022-05-13T13:25:00.491Z"
   },
   {
    "duration": 9,
    "start_time": "2022-05-13T13:25:00.500Z"
   },
   {
    "duration": 1855,
    "start_time": "2022-05-13T13:25:00.512Z"
   },
   {
    "duration": 3,
    "start_time": "2022-05-13T13:25:02.369Z"
   },
   {
    "duration": 14,
    "start_time": "2022-05-13T13:25:02.373Z"
   },
   {
    "duration": 41,
    "start_time": "2022-05-13T13:25:02.389Z"
   },
   {
    "duration": 11,
    "start_time": "2022-05-13T13:25:02.432Z"
   },
   {
    "duration": 236,
    "start_time": "2022-05-13T13:25:02.445Z"
   },
   {
    "duration": 461,
    "start_time": "2022-05-13T13:25:02.683Z"
   },
   {
    "duration": 283,
    "start_time": "2022-05-13T13:25:03.145Z"
   },
   {
    "duration": 24,
    "start_time": "2022-05-13T13:25:03.429Z"
   },
   {
    "duration": 25,
    "start_time": "2022-05-13T13:25:03.469Z"
   },
   {
    "duration": 300,
    "start_time": "2022-05-13T13:25:03.496Z"
   },
   {
    "duration": 23,
    "start_time": "2022-05-13T13:25:03.798Z"
   },
   {
    "duration": 299,
    "start_time": "2022-05-13T13:25:03.822Z"
   },
   {
    "duration": 24,
    "start_time": "2022-05-13T13:25:04.123Z"
   },
   {
    "duration": 142,
    "start_time": "2022-05-13T13:25:04.149Z"
   },
   {
    "duration": 18,
    "start_time": "2022-05-13T13:25:04.292Z"
   },
   {
    "duration": 43,
    "start_time": "2022-05-13T13:25:04.311Z"
   },
   {
    "duration": 22,
    "start_time": "2022-05-13T13:25:04.355Z"
   },
   {
    "duration": 66,
    "start_time": "2022-05-13T13:25:04.378Z"
   },
   {
    "duration": 110,
    "start_time": "2022-05-13T13:25:04.445Z"
   },
   {
    "duration": 26,
    "start_time": "2022-05-13T13:25:04.556Z"
   },
   {
    "duration": 24,
    "start_time": "2022-05-13T13:25:04.584Z"
   },
   {
    "duration": 17,
    "start_time": "2022-05-13T13:25:04.609Z"
   },
   {
    "duration": 41,
    "start_time": "2022-05-13T13:25:04.627Z"
   },
   {
    "duration": 7,
    "start_time": "2022-05-13T13:25:04.669Z"
   },
   {
    "duration": 440,
    "start_time": "2022-05-13T13:25:04.677Z"
   },
   {
    "duration": 1388,
    "start_time": "2022-05-13T13:25:05.119Z"
   },
   {
    "duration": 26,
    "start_time": "2022-05-13T13:25:06.511Z"
   },
   {
    "duration": 34,
    "start_time": "2022-05-13T13:25:06.539Z"
   },
   {
    "duration": 30,
    "start_time": "2022-05-13T13:25:06.575Z"
   },
   {
    "duration": 34,
    "start_time": "2022-05-13T13:25:06.607Z"
   },
   {
    "duration": 34,
    "start_time": "2022-05-13T13:25:06.642Z"
   },
   {
    "duration": 29,
    "start_time": "2022-05-13T13:25:06.677Z"
   },
   {
    "duration": 43,
    "start_time": "2022-05-13T13:25:06.708Z"
   },
   {
    "duration": 147,
    "start_time": "2022-05-13T13:25:06.753Z"
   },
   {
    "duration": 17,
    "start_time": "2022-05-13T13:25:06.902Z"
   },
   {
    "duration": 19,
    "start_time": "2022-05-13T13:25:06.921Z"
   },
   {
    "duration": 126,
    "start_time": "2022-05-13T13:25:06.942Z"
   },
   {
    "duration": 7,
    "start_time": "2022-05-13T13:25:07.070Z"
   },
   {
    "duration": 163,
    "start_time": "2022-05-13T13:25:07.079Z"
   },
   {
    "duration": 157,
    "start_time": "2022-05-13T13:25:07.244Z"
   },
   {
    "duration": 6,
    "start_time": "2022-05-13T13:25:07.402Z"
   },
   {
    "duration": 5,
    "start_time": "2022-05-13T13:25:15.231Z"
   },
   {
    "duration": 160,
    "start_time": "2022-05-13T13:25:28.468Z"
   },
   {
    "duration": 31,
    "start_time": "2022-05-13T13:25:44.454Z"
   },
   {
    "duration": 85,
    "start_time": "2022-05-13T13:25:51.348Z"
   },
   {
    "duration": 25,
    "start_time": "2022-05-13T13:25:54.045Z"
   },
   {
    "duration": 26,
    "start_time": "2022-05-13T13:26:01.429Z"
   },
   {
    "duration": 65,
    "start_time": "2022-05-13T13:26:43.912Z"
   },
   {
    "duration": 4,
    "start_time": "2022-05-13T13:27:17.403Z"
   },
   {
    "duration": 18,
    "start_time": "2022-05-13T13:31:13.032Z"
   },
   {
    "duration": 64,
    "start_time": "2022-05-13T13:31:19.551Z"
   },
   {
    "duration": 109,
    "start_time": "2022-05-13T13:33:55.184Z"
   },
   {
    "duration": 13,
    "start_time": "2022-05-13T13:34:35.633Z"
   },
   {
    "duration": 17,
    "start_time": "2022-05-13T13:36:33.204Z"
   },
   {
    "duration": 273,
    "start_time": "2022-05-13T13:36:49.661Z"
   },
   {
    "duration": 274,
    "start_time": "2022-05-13T13:37:17.293Z"
   },
   {
    "duration": 260,
    "start_time": "2022-05-13T13:39:02.899Z"
   },
   {
    "duration": 3,
    "start_time": "2022-05-13T13:39:22.073Z"
   },
   {
    "duration": 174,
    "start_time": "2022-05-13T13:39:50.690Z"
   },
   {
    "duration": 313,
    "start_time": "2022-05-13T13:39:53.708Z"
   },
   {
    "duration": 132,
    "start_time": "2022-05-13T13:40:48.452Z"
   },
   {
    "duration": 78,
    "start_time": "2022-05-13T13:41:11.629Z"
   },
   {
    "duration": 4,
    "start_time": "2022-05-13T13:42:49.666Z"
   },
   {
    "duration": 18,
    "start_time": "2022-05-13T13:54:55.693Z"
   },
   {
    "duration": 145,
    "start_time": "2022-05-13T13:55:02.539Z"
   },
   {
    "duration": 8,
    "start_time": "2022-05-13T13:57:06.662Z"
   },
   {
    "duration": 455,
    "start_time": "2022-05-13T13:57:25.512Z"
   },
   {
    "duration": 73,
    "start_time": "2022-05-13T13:57:27.729Z"
   },
   {
    "duration": 18,
    "start_time": "2022-05-13T13:57:35.080Z"
   },
   {
    "duration": 10,
    "start_time": "2022-05-13T14:03:33.277Z"
   },
   {
    "duration": 19,
    "start_time": "2022-05-13T14:17:59.550Z"
   },
   {
    "duration": 603,
    "start_time": "2022-05-13T14:18:55.831Z"
   },
   {
    "duration": 487,
    "start_time": "2022-05-13T14:19:12.472Z"
   },
   {
    "duration": 447,
    "start_time": "2022-05-13T14:19:20.050Z"
   },
   {
    "duration": 18,
    "start_time": "2022-05-13T14:19:32.910Z"
   },
   {
    "duration": 137,
    "start_time": "2022-05-13T14:19:33.976Z"
   },
   {
    "duration": 436,
    "start_time": "2022-05-13T14:19:38.216Z"
   },
   {
    "duration": 74,
    "start_time": "2022-05-13T14:19:40.833Z"
   },
   {
    "duration": 18,
    "start_time": "2022-05-13T14:19:47.968Z"
   },
   {
    "duration": 830,
    "start_time": "2022-05-13T14:20:43.427Z"
   },
   {
    "duration": 15,
    "start_time": "2022-05-13T14:21:11.398Z"
   },
   {
    "duration": 634,
    "start_time": "2022-05-13T14:21:36.571Z"
   },
   {
    "duration": 8,
    "start_time": "2022-05-13T14:22:32.817Z"
   },
   {
    "duration": 26,
    "start_time": "2022-05-13T14:22:57.137Z"
   },
   {
    "duration": 32,
    "start_time": "2022-05-13T14:23:11.041Z"
   },
   {
    "duration": 612,
    "start_time": "2022-05-13T14:24:35.714Z"
   },
   {
    "duration": 26,
    "start_time": "2022-05-13T14:25:11.037Z"
   },
   {
    "duration": 3,
    "start_time": "2022-05-13T14:26:42.111Z"
   },
   {
    "duration": 230,
    "start_time": "2022-05-13T14:27:48.900Z"
   },
   {
    "duration": 5,
    "start_time": "2022-05-13T14:29:00.167Z"
   },
   {
    "duration": 5,
    "start_time": "2022-05-13T14:29:23.851Z"
   },
   {
    "duration": 89,
    "start_time": "2022-05-13T14:32:09.308Z"
   },
   {
    "duration": 228,
    "start_time": "2022-05-13T14:33:04.070Z"
   },
   {
    "duration": 6,
    "start_time": "2022-05-13T14:33:05.096Z"
   },
   {
    "duration": 85,
    "start_time": "2022-05-13T14:33:11.503Z"
   },
   {
    "duration": 2,
    "start_time": "2022-05-13T14:33:13.567Z"
   },
   {
    "duration": 262,
    "start_time": "2022-05-14T06:26:28.035Z"
   },
   {
    "duration": 2938,
    "start_time": "2022-05-14T06:28:42.144Z"
   },
   {
    "duration": 13,
    "start_time": "2022-05-14T06:28:45.086Z"
   },
   {
    "duration": 2606,
    "start_time": "2022-05-14T06:28:45.101Z"
   },
   {
    "duration": 4,
    "start_time": "2022-05-14T06:28:47.710Z"
   },
   {
    "duration": 13,
    "start_time": "2022-05-14T06:28:47.717Z"
   },
   {
    "duration": 96,
    "start_time": "2022-05-14T06:28:47.732Z"
   },
   {
    "duration": 26,
    "start_time": "2022-05-14T06:28:47.831Z"
   },
   {
    "duration": 473,
    "start_time": "2022-05-14T06:28:47.860Z"
   },
   {
    "duration": 801,
    "start_time": "2022-05-14T06:28:48.336Z"
   },
   {
    "duration": 622,
    "start_time": "2022-05-14T06:28:49.141Z"
   },
   {
    "duration": 79,
    "start_time": "2022-05-14T06:30:13.295Z"
   },
   {
    "duration": 7,
    "start_time": "2022-05-14T07:16:04.923Z"
   },
   {
    "duration": 269,
    "start_time": "2022-05-14T07:16:40.667Z"
   },
   {
    "duration": 330,
    "start_time": "2022-05-14T07:16:59.819Z"
   },
   {
    "duration": 321,
    "start_time": "2022-05-14T07:18:41.490Z"
   },
   {
    "duration": 197,
    "start_time": "2022-05-14T07:25:12.047Z"
   },
   {
    "duration": 177,
    "start_time": "2022-05-14T07:36:23.914Z"
   },
   {
    "duration": 7,
    "start_time": "2022-05-14T07:36:28.455Z"
   },
   {
    "duration": 9,
    "start_time": "2022-05-14T07:36:28.465Z"
   },
   {
    "duration": 2493,
    "start_time": "2022-05-14T07:36:28.477Z"
   },
   {
    "duration": 4,
    "start_time": "2022-05-14T07:36:30.972Z"
   },
   {
    "duration": 23,
    "start_time": "2022-05-14T07:36:30.979Z"
   },
   {
    "duration": 83,
    "start_time": "2022-05-14T07:36:31.004Z"
   },
   {
    "duration": 20,
    "start_time": "2022-05-14T07:36:31.093Z"
   },
   {
    "duration": 392,
    "start_time": "2022-05-14T07:36:31.115Z"
   },
   {
    "duration": 784,
    "start_time": "2022-05-14T07:36:31.509Z"
   },
   {
    "duration": 584,
    "start_time": "2022-05-14T07:36:32.295Z"
   },
   {
    "duration": 33,
    "start_time": "2022-05-14T07:36:32.883Z"
   },
   {
    "duration": 80,
    "start_time": "2022-05-14T07:36:32.918Z"
   },
   {
    "duration": 653,
    "start_time": "2022-05-14T07:36:33.000Z"
   },
   {
    "duration": 60,
    "start_time": "2022-05-14T07:36:33.655Z"
   },
   {
    "duration": 614,
    "start_time": "2022-05-14T07:36:33.718Z"
   },
   {
    "duration": 45,
    "start_time": "2022-05-14T07:36:34.334Z"
   },
   {
    "duration": 266,
    "start_time": "2022-05-14T07:36:34.394Z"
   },
   {
    "duration": 35,
    "start_time": "2022-05-14T07:36:34.662Z"
   },
   {
    "duration": 30,
    "start_time": "2022-05-14T07:36:34.699Z"
   },
   {
    "duration": 27,
    "start_time": "2022-05-14T07:36:34.731Z"
   },
   {
    "duration": 134,
    "start_time": "2022-05-14T07:36:34.760Z"
   },
   {
    "duration": 147,
    "start_time": "2022-05-14T07:36:34.896Z"
   },
   {
    "duration": 49,
    "start_time": "2022-05-14T07:36:35.045Z"
   },
   {
    "duration": 31,
    "start_time": "2022-05-14T07:36:35.096Z"
   },
   {
    "duration": 20,
    "start_time": "2022-05-14T07:36:35.129Z"
   },
   {
    "duration": 53,
    "start_time": "2022-05-14T07:36:35.151Z"
   },
   {
    "duration": 10,
    "start_time": "2022-05-14T07:36:35.206Z"
   },
   {
    "duration": 886,
    "start_time": "2022-05-14T07:36:35.218Z"
   },
   {
    "duration": 2910,
    "start_time": "2022-05-14T07:36:36.108Z"
   },
   {
    "duration": 41,
    "start_time": "2022-05-14T07:36:44.464Z"
   },
   {
    "duration": 38,
    "start_time": "2022-05-14T07:38:33.823Z"
   },
   {
    "duration": 66,
    "start_time": "2022-05-14T07:38:41.941Z"
   },
   {
    "duration": 38,
    "start_time": "2022-05-14T07:39:10.455Z"
   },
   {
    "duration": 57,
    "start_time": "2022-05-14T07:39:11.240Z"
   },
   {
    "duration": 171,
    "start_time": "2022-05-14T09:46:19.630Z"
   },
   {
    "duration": 23,
    "start_time": "2022-05-14T09:46:33.453Z"
   },
   {
    "duration": 21,
    "start_time": "2022-05-14T09:46:34.981Z"
   },
   {
    "duration": 130,
    "start_time": "2022-05-14T09:46:39.557Z"
   },
   {
    "duration": 46,
    "start_time": "2022-05-14T09:47:02.296Z"
   },
   {
    "duration": 77,
    "start_time": "2022-05-14T09:47:03.943Z"
   },
   {
    "duration": 27,
    "start_time": "2022-05-14T09:47:04.713Z"
   },
   {
    "duration": 26,
    "start_time": "2022-05-14T09:47:05.134Z"
   },
   {
    "duration": 126,
    "start_time": "2022-05-14T09:47:05.670Z"
   },
   {
    "duration": 10,
    "start_time": "2022-05-14T09:47:18.576Z"
   },
   {
    "duration": 259,
    "start_time": "2022-05-14T09:47:24.914Z"
   },
   {
    "duration": 254,
    "start_time": "2022-05-14T09:48:14.361Z"
   },
   {
    "duration": 7,
    "start_time": "2022-05-14T09:48:46.526Z"
   },
   {
    "duration": 6,
    "start_time": "2022-05-14T09:48:55.274Z"
   },
   {
    "duration": 83,
    "start_time": "2022-05-14T09:49:31.738Z"
   },
   {
    "duration": 8,
    "start_time": "2022-05-14T10:01:35.799Z"
   },
   {
    "duration": 9,
    "start_time": "2022-05-14T10:01:39.244Z"
   },
   {
    "duration": 189,
    "start_time": "2022-05-14T10:02:08.209Z"
   },
   {
    "duration": 7,
    "start_time": "2022-05-14T10:04:41.443Z"
   },
   {
    "duration": 24,
    "start_time": "2022-05-14T10:04:43.234Z"
   },
   {
    "duration": 72,
    "start_time": "2022-05-14T10:04:44.516Z"
   },
   {
    "duration": 119,
    "start_time": "2022-05-14T10:04:52.002Z"
   },
   {
    "duration": 19,
    "start_time": "2022-05-14T10:04:57.662Z"
   },
   {
    "duration": 408,
    "start_time": "2022-05-14T10:05:00.499Z"
   },
   {
    "duration": 228,
    "start_time": "2022-05-14T10:05:27.120Z"
   },
   {
    "duration": 214,
    "start_time": "2022-05-14T10:05:29.865Z"
   },
   {
    "duration": 94,
    "start_time": "2022-05-14T10:05:43.868Z"
   },
   {
    "duration": 6,
    "start_time": "2022-05-14T10:06:07.505Z"
   },
   {
    "duration": 27,
    "start_time": "2022-05-14T10:12:36.620Z"
   },
   {
    "duration": 228,
    "start_time": "2022-05-14T10:12:37.224Z"
   },
   {
    "duration": 456,
    "start_time": "2022-05-14T10:12:39.066Z"
   },
   {
    "duration": 27,
    "start_time": "2022-05-14T10:12:40.005Z"
   },
   {
    "duration": 30,
    "start_time": "2022-05-14T10:12:46.314Z"
   },
   {
    "duration": 1128,
    "start_time": "2022-05-14T10:12:50.958Z"
   },
   {
    "duration": 40,
    "start_time": "2022-05-14T10:12:52.418Z"
   },
   {
    "duration": 4,
    "start_time": "2022-05-14T10:13:00.681Z"
   },
   {
    "duration": 361,
    "start_time": "2022-05-14T10:13:05.963Z"
   },
   {
    "duration": 8,
    "start_time": "2022-05-14T10:13:07.308Z"
   },
   {
    "duration": 106,
    "start_time": "2022-05-14T10:13:21.938Z"
   },
   {
    "duration": 4,
    "start_time": "2022-05-14T10:13:23.752Z"
   },
   {
    "duration": 110179,
    "start_time": "2022-05-14T10:13:29.113Z"
   },
   {
    "duration": 202,
    "start_time": "2022-05-14T10:15:19.295Z"
   },
   {
    "duration": 115614,
    "start_time": "2022-05-14T10:16:48.283Z"
   },
   {
    "duration": 2940,
    "start_time": "2022-05-14T10:19:19.043Z"
   },
   {
    "duration": 14,
    "start_time": "2022-05-14T10:19:21.986Z"
   },
   {
    "duration": 3562,
    "start_time": "2022-05-14T10:19:22.004Z"
   },
   {
    "duration": 4,
    "start_time": "2022-05-14T10:19:25.569Z"
   },
   {
    "duration": 23,
    "start_time": "2022-05-14T10:19:25.577Z"
   },
   {
    "duration": 99,
    "start_time": "2022-05-14T10:19:25.603Z"
   },
   {
    "duration": 21,
    "start_time": "2022-05-14T10:19:25.704Z"
   },
   {
    "duration": 373,
    "start_time": "2022-05-14T10:19:25.729Z"
   },
   {
    "duration": 726,
    "start_time": "2022-05-14T10:19:26.104Z"
   },
   {
    "duration": 610,
    "start_time": "2022-05-14T10:19:26.832Z"
   },
   {
    "duration": 29,
    "start_time": "2022-05-14T10:19:27.445Z"
   },
   {
    "duration": 75,
    "start_time": "2022-05-14T10:19:27.476Z"
   },
   {
    "duration": 563,
    "start_time": "2022-05-14T10:19:27.553Z"
   },
   {
    "duration": 45,
    "start_time": "2022-05-14T10:19:28.118Z"
   },
   {
    "duration": 490,
    "start_time": "2022-05-14T10:19:28.165Z"
   },
   {
    "duration": 56,
    "start_time": "2022-05-14T10:19:28.658Z"
   },
   {
    "duration": 219,
    "start_time": "2022-05-14T10:19:28.716Z"
   },
   {
    "duration": 23,
    "start_time": "2022-05-14T10:19:28.937Z"
   },
   {
    "duration": 53,
    "start_time": "2022-05-14T10:19:28.963Z"
   },
   {
    "duration": 26,
    "start_time": "2022-05-14T10:19:29.018Z"
   },
   {
    "duration": 116,
    "start_time": "2022-05-14T10:19:29.046Z"
   },
   {
    "duration": 146,
    "start_time": "2022-05-14T10:19:29.164Z"
   },
   {
    "duration": 29,
    "start_time": "2022-05-14T10:19:29.316Z"
   },
   {
    "duration": 53,
    "start_time": "2022-05-14T10:19:29.347Z"
   },
   {
    "duration": 18,
    "start_time": "2022-05-14T10:19:29.403Z"
   },
   {
    "duration": 16,
    "start_time": "2022-05-14T10:19:29.423Z"
   },
   {
    "duration": 9,
    "start_time": "2022-05-14T10:19:29.442Z"
   },
   {
    "duration": 726,
    "start_time": "2022-05-14T10:19:29.492Z"
   },
   {
    "duration": 2577,
    "start_time": "2022-05-14T10:19:30.221Z"
   },
   {
    "duration": 40,
    "start_time": "2022-05-14T10:19:32.801Z"
   },
   {
    "duration": 25,
    "start_time": "2022-05-14T10:19:32.843Z"
   },
   {
    "duration": 37,
    "start_time": "2022-05-14T10:19:32.894Z"
   },
   {
    "duration": 66,
    "start_time": "2022-05-14T10:19:32.933Z"
   },
   {
    "duration": 24,
    "start_time": "2022-05-14T10:19:33.002Z"
   },
   {
    "duration": 35,
    "start_time": "2022-05-14T10:19:33.029Z"
   },
   {
    "duration": 46,
    "start_time": "2022-05-14T10:19:33.093Z"
   },
   {
    "duration": 175,
    "start_time": "2022-05-14T10:19:33.142Z"
   },
   {
    "duration": 23,
    "start_time": "2022-05-14T10:19:33.319Z"
   },
   {
    "duration": 26,
    "start_time": "2022-05-14T10:19:33.344Z"
   },
   {
    "duration": 153,
    "start_time": "2022-05-14T10:19:33.372Z"
   },
   {
    "duration": 7,
    "start_time": "2022-05-14T10:19:33.528Z"
   },
   {
    "duration": 241,
    "start_time": "2022-05-14T10:19:33.538Z"
   },
   {
    "duration": 237,
    "start_time": "2022-05-14T10:19:33.782Z"
   },
   {
    "duration": 130,
    "start_time": "2022-05-14T10:19:34.022Z"
   },
   {
    "duration": 82,
    "start_time": "2022-05-14T10:19:34.155Z"
   },
   {
    "duration": 7,
    "start_time": "2022-05-14T10:19:34.239Z"
   },
   {
    "duration": 51,
    "start_time": "2022-05-14T10:19:34.249Z"
   },
   {
    "duration": 92,
    "start_time": "2022-05-14T10:19:34.302Z"
   },
   {
    "duration": 3,
    "start_time": "2022-05-14T10:19:34.397Z"
   },
   {
    "duration": 24,
    "start_time": "2022-05-14T10:19:34.402Z"
   },
   {
    "duration": 439,
    "start_time": "2022-05-14T10:19:34.429Z"
   },
   {
    "duration": 240,
    "start_time": "2022-05-14T10:19:34.871Z"
   },
   {
    "duration": 299,
    "start_time": "2022-05-14T10:19:35.114Z"
   },
   {
    "duration": 168,
    "start_time": "2022-05-14T10:19:35.416Z"
   },
   {
    "duration": 10,
    "start_time": "2022-05-14T10:19:35.587Z"
   },
   {
    "duration": 75,
    "start_time": "2022-05-14T10:19:35.600Z"
   },
   {
    "duration": 329,
    "start_time": "2022-05-14T10:19:35.678Z"
   },
   {
    "duration": 618,
    "start_time": "2022-05-14T10:19:36.010Z"
   },
   {
    "duration": 34,
    "start_time": "2022-05-14T10:19:36.631Z"
   },
   {
    "duration": 50,
    "start_time": "2022-05-14T10:19:36.667Z"
   },
   {
    "duration": 1108,
    "start_time": "2022-05-14T10:19:36.719Z"
   },
   {
    "duration": 37,
    "start_time": "2022-05-14T10:19:37.829Z"
   },
   {
    "duration": 25,
    "start_time": "2022-05-14T10:19:37.868Z"
   },
   {
    "duration": 400,
    "start_time": "2022-05-14T10:19:37.895Z"
   },
   {
    "duration": 7,
    "start_time": "2022-05-14T10:19:38.298Z"
   },
   {
    "duration": 127,
    "start_time": "2022-05-14T10:19:38.307Z"
   },
   {
    "duration": 4,
    "start_time": "2022-05-14T10:19:38.436Z"
   },
   {
    "duration": 108549,
    "start_time": "2022-05-14T10:19:38.448Z"
   },
   {
    "duration": 123300,
    "start_time": "2022-05-14T10:21:27.000Z"
   },
   {
    "duration": 26904,
    "start_time": "2022-05-14T10:23:30.393Z"
   },
   {
    "duration": 299,
    "start_time": "2022-05-14T10:23:57.300Z"
   },
   {
    "duration": 93,
    "start_time": "2022-05-14T10:23:57.605Z"
   },
   {
    "duration": 2079,
    "start_time": "2022-05-14T10:31:17.352Z"
   },
   {
    "duration": 7,
    "start_time": "2022-05-14T10:31:19.434Z"
   },
   {
    "duration": 2300,
    "start_time": "2022-05-14T10:31:19.443Z"
   },
   {
    "duration": 3,
    "start_time": "2022-05-14T10:31:21.746Z"
   },
   {
    "duration": 16,
    "start_time": "2022-05-14T10:31:21.752Z"
   },
   {
    "duration": 79,
    "start_time": "2022-05-14T10:31:21.770Z"
   },
   {
    "duration": 17,
    "start_time": "2022-05-14T10:31:21.851Z"
   },
   {
    "duration": 349,
    "start_time": "2022-05-14T10:31:21.870Z"
   },
   {
    "duration": 684,
    "start_time": "2022-05-14T10:31:22.221Z"
   },
   {
    "duration": 587,
    "start_time": "2022-05-14T10:31:22.907Z"
   },
   {
    "duration": 31,
    "start_time": "2022-05-14T10:31:23.496Z"
   },
   {
    "duration": 86,
    "start_time": "2022-05-14T10:31:23.530Z"
   },
   {
    "duration": 585,
    "start_time": "2022-05-14T10:31:23.619Z"
   },
   {
    "duration": 45,
    "start_time": "2022-05-14T10:31:24.209Z"
   },
   {
    "duration": 507,
    "start_time": "2022-05-14T10:31:24.256Z"
   },
   {
    "duration": 56,
    "start_time": "2022-05-14T10:31:24.766Z"
   },
   {
    "duration": 211,
    "start_time": "2022-05-14T10:31:24.824Z"
   },
   {
    "duration": 22,
    "start_time": "2022-05-14T10:31:25.037Z"
   },
   {
    "duration": 48,
    "start_time": "2022-05-14T10:31:25.061Z"
   },
   {
    "duration": 25,
    "start_time": "2022-05-14T10:31:25.111Z"
   },
   {
    "duration": 111,
    "start_time": "2022-05-14T10:31:25.138Z"
   },
   {
    "duration": 134,
    "start_time": "2022-05-14T10:31:25.251Z"
   },
   {
    "duration": 28,
    "start_time": "2022-05-14T10:31:25.387Z"
   },
   {
    "duration": 27,
    "start_time": "2022-05-14T10:31:25.418Z"
   },
   {
    "duration": 47,
    "start_time": "2022-05-14T10:31:25.448Z"
   },
   {
    "duration": 16,
    "start_time": "2022-05-14T10:31:25.497Z"
   },
   {
    "duration": 12,
    "start_time": "2022-05-14T10:31:25.515Z"
   },
   {
    "duration": 688,
    "start_time": "2022-05-14T10:31:25.529Z"
   },
   {
    "duration": 2315,
    "start_time": "2022-05-14T10:31:26.220Z"
   },
   {
    "duration": 58,
    "start_time": "2022-05-14T10:31:28.538Z"
   },
   {
    "duration": 24,
    "start_time": "2022-05-14T10:31:28.599Z"
   },
   {
    "duration": 36,
    "start_time": "2022-05-14T10:31:28.626Z"
   },
   {
    "duration": 44,
    "start_time": "2022-05-14T10:31:28.693Z"
   },
   {
    "duration": 22,
    "start_time": "2022-05-14T10:31:28.740Z"
   },
   {
    "duration": 59,
    "start_time": "2022-05-14T10:31:28.765Z"
   },
   {
    "duration": 67,
    "start_time": "2022-05-14T10:31:28.827Z"
   },
   {
    "duration": 151,
    "start_time": "2022-05-14T10:31:28.897Z"
   },
   {
    "duration": 22,
    "start_time": "2022-05-14T10:31:29.050Z"
   },
   {
    "duration": 36,
    "start_time": "2022-05-14T10:31:29.074Z"
   },
   {
    "duration": 140,
    "start_time": "2022-05-14T10:31:29.112Z"
   },
   {
    "duration": 8,
    "start_time": "2022-05-14T10:31:29.260Z"
   },
   {
    "duration": 235,
    "start_time": "2022-05-14T10:31:29.270Z"
   },
   {
    "duration": 226,
    "start_time": "2022-05-14T10:31:29.507Z"
   },
   {
    "duration": 132,
    "start_time": "2022-05-14T10:31:29.735Z"
   },
   {
    "duration": 77,
    "start_time": "2022-05-14T10:31:29.869Z"
   },
   {
    "duration": 6,
    "start_time": "2022-05-14T10:31:29.949Z"
   },
   {
    "duration": 51,
    "start_time": "2022-05-14T10:31:29.957Z"
   },
   {
    "duration": 82,
    "start_time": "2022-05-14T10:31:30.011Z"
   },
   {
    "duration": 4,
    "start_time": "2022-05-14T10:31:30.095Z"
   },
   {
    "duration": 22,
    "start_time": "2022-05-14T10:31:30.101Z"
   },
   {
    "duration": 423,
    "start_time": "2022-05-14T10:31:30.126Z"
   },
   {
    "duration": 242,
    "start_time": "2022-05-14T10:31:30.551Z"
   },
   {
    "duration": 223,
    "start_time": "2022-05-14T10:31:30.795Z"
   },
   {
    "duration": 110,
    "start_time": "2022-05-14T10:31:31.021Z"
   },
   {
    "duration": 5,
    "start_time": "2022-05-14T10:31:31.133Z"
   },
   {
    "duration": 76,
    "start_time": "2022-05-14T10:31:31.140Z"
   },
   {
    "duration": 231,
    "start_time": "2022-05-14T10:31:31.218Z"
   },
   {
    "duration": 444,
    "start_time": "2022-05-14T10:31:31.451Z"
   },
   {
    "duration": 21,
    "start_time": "2022-05-14T10:31:31.898Z"
   },
   {
    "duration": 31,
    "start_time": "2022-05-14T10:31:31.921Z"
   },
   {
    "duration": 1021,
    "start_time": "2022-05-14T10:31:31.954Z"
   },
   {
    "duration": 40,
    "start_time": "2022-05-14T10:31:32.978Z"
   },
   {
    "duration": 4,
    "start_time": "2022-05-14T10:31:33.020Z"
   },
   {
    "duration": 399,
    "start_time": "2022-05-14T10:31:33.026Z"
   },
   {
    "duration": 7,
    "start_time": "2022-05-14T10:31:33.428Z"
   },
   {
    "duration": 125,
    "start_time": "2022-05-14T10:31:33.437Z"
   },
   {
    "duration": 4,
    "start_time": "2022-05-14T10:31:33.564Z"
   },
   {
    "duration": 78824,
    "start_time": "2022-05-14T10:31:33.570Z"
   },
   {
    "duration": 86395,
    "start_time": "2022-05-14T10:32:52.398Z"
   },
   {
    "duration": 21003,
    "start_time": "2022-05-14T10:34:18.796Z"
   },
   {
    "duration": 297,
    "start_time": "2022-05-14T10:34:39.802Z"
   },
   {
    "duration": 95,
    "start_time": "2022-05-14T10:34:40.102Z"
   },
   {
    "duration": 319,
    "start_time": "2022-05-14T10:39:33.294Z"
   },
   {
    "duration": 10,
    "start_time": "2022-05-14T10:39:45.641Z"
   },
   {
    "duration": 1982,
    "start_time": "2022-05-14T10:44:25.141Z"
   },
   {
    "duration": 7,
    "start_time": "2022-05-14T10:44:27.126Z"
   },
   {
    "duration": 2549,
    "start_time": "2022-05-14T10:44:27.135Z"
   },
   {
    "duration": 4,
    "start_time": "2022-05-14T10:44:29.694Z"
   },
   {
    "duration": 13,
    "start_time": "2022-05-14T10:44:29.700Z"
   },
   {
    "duration": 111,
    "start_time": "2022-05-14T10:44:29.715Z"
   },
   {
    "duration": 19,
    "start_time": "2022-05-14T10:44:29.829Z"
   },
   {
    "duration": 415,
    "start_time": "2022-05-14T10:44:29.850Z"
   },
   {
    "duration": 809,
    "start_time": "2022-05-14T10:44:30.267Z"
   },
   {
    "duration": 593,
    "start_time": "2022-05-14T10:44:31.080Z"
   },
   {
    "duration": 32,
    "start_time": "2022-05-14T10:44:31.675Z"
   },
   {
    "duration": 92,
    "start_time": "2022-05-14T10:44:31.709Z"
   },
   {
    "duration": 541,
    "start_time": "2022-05-14T10:44:31.803Z"
   },
   {
    "duration": 57,
    "start_time": "2022-05-14T10:44:32.347Z"
   },
   {
    "duration": 479,
    "start_time": "2022-05-14T10:44:32.407Z"
   },
   {
    "duration": 43,
    "start_time": "2022-05-14T10:44:32.892Z"
   },
   {
    "duration": 228,
    "start_time": "2022-05-14T10:44:32.938Z"
   },
   {
    "duration": 36,
    "start_time": "2022-05-14T10:44:33.169Z"
   },
   {
    "duration": 30,
    "start_time": "2022-05-14T10:44:33.208Z"
   },
   {
    "duration": 55,
    "start_time": "2022-05-14T10:44:33.241Z"
   },
   {
    "duration": 108,
    "start_time": "2022-05-14T10:44:33.299Z"
   },
   {
    "duration": 142,
    "start_time": "2022-05-14T10:44:33.410Z"
   },
   {
    "duration": 44,
    "start_time": "2022-05-14T10:44:33.555Z"
   },
   {
    "duration": 32,
    "start_time": "2022-05-14T10:44:33.602Z"
   },
   {
    "duration": 19,
    "start_time": "2022-05-14T10:44:33.637Z"
   },
   {
    "duration": 41,
    "start_time": "2022-05-14T10:44:33.658Z"
   },
   {
    "duration": 10,
    "start_time": "2022-05-14T10:44:33.701Z"
   },
   {
    "duration": 701,
    "start_time": "2022-05-14T10:44:33.717Z"
   },
   {
    "duration": 2504,
    "start_time": "2022-05-14T10:44:34.420Z"
   },
   {
    "duration": 41,
    "start_time": "2022-05-14T10:44:36.926Z"
   },
   {
    "duration": 43,
    "start_time": "2022-05-14T10:44:36.969Z"
   },
   {
    "duration": 40,
    "start_time": "2022-05-14T10:44:37.014Z"
   },
   {
    "duration": 59,
    "start_time": "2022-05-14T10:44:37.056Z"
   },
   {
    "duration": 23,
    "start_time": "2022-05-14T10:44:37.117Z"
   },
   {
    "duration": 53,
    "start_time": "2022-05-14T10:44:37.142Z"
   },
   {
    "duration": 49,
    "start_time": "2022-05-14T10:44:37.197Z"
   },
   {
    "duration": 160,
    "start_time": "2022-05-14T10:44:37.247Z"
   },
   {
    "duration": 22,
    "start_time": "2022-05-14T10:44:37.409Z"
   },
   {
    "duration": 24,
    "start_time": "2022-05-14T10:44:37.433Z"
   },
   {
    "duration": 154,
    "start_time": "2022-05-14T10:44:37.459Z"
   },
   {
    "duration": 7,
    "start_time": "2022-05-14T10:44:37.615Z"
   },
   {
    "duration": 243,
    "start_time": "2022-05-14T10:44:37.624Z"
   },
   {
    "duration": 246,
    "start_time": "2022-05-14T10:44:37.869Z"
   },
   {
    "duration": 135,
    "start_time": "2022-05-14T10:44:38.117Z"
   },
   {
    "duration": 79,
    "start_time": "2022-05-14T10:44:38.254Z"
   },
   {
    "duration": 6,
    "start_time": "2022-05-14T10:44:38.335Z"
   },
   {
    "duration": 51,
    "start_time": "2022-05-14T10:44:38.343Z"
   },
   {
    "duration": 76,
    "start_time": "2022-05-14T10:44:38.396Z"
   },
   {
    "duration": 145,
    "start_time": "2022-05-14T10:44:38.474Z"
   },
   {
    "duration": 19,
    "start_time": "2022-05-14T10:44:38.621Z"
   },
   {
    "duration": 418,
    "start_time": "2022-05-14T10:44:38.643Z"
   },
   {
    "duration": 230,
    "start_time": "2022-05-14T10:44:39.064Z"
   },
   {
    "duration": 211,
    "start_time": "2022-05-14T10:44:39.296Z"
   },
   {
    "duration": 104,
    "start_time": "2022-05-14T10:44:39.509Z"
   },
   {
    "duration": 5,
    "start_time": "2022-05-14T10:44:39.615Z"
   },
   {
    "duration": 30,
    "start_time": "2022-05-14T10:44:39.622Z"
   },
   {
    "duration": 239,
    "start_time": "2022-05-14T10:44:39.655Z"
   },
   {
    "duration": 430,
    "start_time": "2022-05-14T10:44:39.896Z"
   },
   {
    "duration": 24,
    "start_time": "2022-05-14T10:44:40.328Z"
   },
   {
    "duration": 44,
    "start_time": "2022-05-14T10:44:40.354Z"
   },
   {
    "duration": 1071,
    "start_time": "2022-05-14T10:44:40.400Z"
   },
   {
    "duration": 42,
    "start_time": "2022-05-14T10:44:41.473Z"
   },
   {
    "duration": 3,
    "start_time": "2022-05-14T10:44:41.517Z"
   },
   {
    "duration": 379,
    "start_time": "2022-05-14T10:44:41.523Z"
   },
   {
    "duration": 8,
    "start_time": "2022-05-14T10:44:41.904Z"
   },
   {
    "duration": 121,
    "start_time": "2022-05-14T10:44:41.914Z"
   },
   {
    "duration": 4,
    "start_time": "2022-05-14T10:44:42.037Z"
   },
   {
    "duration": 1228864,
    "start_time": "2022-05-14T10:45:07.083Z"
   },
   {
    "duration": 126,
    "start_time": "2022-05-14T11:09:21.024Z"
   },
   {
    "duration": 680400,
    "start_time": "2022-05-14T11:09:46.600Z"
   },
   {
    "duration": 10241,
    "start_time": "2022-05-14T11:39:13.189Z"
   },
   {
    "duration": 117637,
    "start_time": "2022-05-14T11:39:26.966Z"
   },
   {
    "duration": 52649,
    "start_time": "2022-05-14T11:54:21.747Z"
   },
   {
    "duration": 4,
    "start_time": "2022-05-14T11:59:54.932Z"
   },
   {
    "duration": 110970,
    "start_time": "2022-05-14T12:00:47.024Z"
   },
   {
    "duration": 2411,
    "start_time": "2022-05-14T13:22:04.160Z"
   },
   {
    "duration": 9,
    "start_time": "2022-05-14T13:22:06.574Z"
   },
   {
    "duration": 2797,
    "start_time": "2022-05-14T13:22:06.585Z"
   },
   {
    "duration": 4,
    "start_time": "2022-05-14T13:22:09.384Z"
   },
   {
    "duration": 36,
    "start_time": "2022-05-14T13:22:09.390Z"
   },
   {
    "duration": 101,
    "start_time": "2022-05-14T13:22:09.428Z"
   },
   {
    "duration": 18,
    "start_time": "2022-05-14T13:22:09.532Z"
   },
   {
    "duration": 407,
    "start_time": "2022-05-14T13:22:09.553Z"
   },
   {
    "duration": 921,
    "start_time": "2022-05-14T13:22:09.963Z"
   },
   {
    "duration": 772,
    "start_time": "2022-05-14T13:22:10.887Z"
   },
   {
    "duration": 31,
    "start_time": "2022-05-14T13:22:11.662Z"
   },
   {
    "duration": 55,
    "start_time": "2022-05-14T13:22:59.235Z"
   },
   {
    "duration": 1521,
    "start_time": "2022-05-14T13:23:37.369Z"
   },
   {
    "duration": 33,
    "start_time": "2022-05-14T13:24:24.736Z"
   },
   {
    "duration": 10,
    "start_time": "2022-05-14T13:25:25.167Z"
   },
   {
    "duration": 6,
    "start_time": "2022-05-14T13:26:00.803Z"
   },
   {
    "duration": 13,
    "start_time": "2022-05-14T13:28:52.994Z"
   },
   {
    "duration": 18,
    "start_time": "2022-05-14T13:29:03.308Z"
   },
   {
    "duration": 64,
    "start_time": "2022-05-14T13:29:46.910Z"
   },
   {
    "duration": 167,
    "start_time": "2022-05-14T13:35:47.676Z"
   },
   {
    "duration": 332,
    "start_time": "2022-05-14T13:37:22.487Z"
   },
   {
    "duration": 327,
    "start_time": "2022-05-14T13:37:33.948Z"
   },
   {
    "duration": 7,
    "start_time": "2022-05-14T13:37:43.532Z"
   },
   {
    "duration": 10,
    "start_time": "2022-05-14T13:37:43.543Z"
   },
   {
    "duration": 3492,
    "start_time": "2022-05-14T13:37:43.557Z"
   },
   {
    "duration": 4,
    "start_time": "2022-05-14T13:37:47.053Z"
   },
   {
    "duration": 10,
    "start_time": "2022-05-14T13:37:47.061Z"
   },
   {
    "duration": 75,
    "start_time": "2022-05-14T13:37:47.100Z"
   },
   {
    "duration": 19,
    "start_time": "2022-05-14T13:37:47.177Z"
   },
   {
    "duration": 611,
    "start_time": "2022-05-14T13:37:47.199Z"
   },
   {
    "duration": 1290,
    "start_time": "2022-05-14T13:37:47.813Z"
   },
   {
    "duration": 986,
    "start_time": "2022-05-14T13:37:49.106Z"
   },
   {
    "duration": 72,
    "start_time": "2022-05-14T13:37:50.095Z"
   },
   {
    "duration": 20,
    "start_time": "2022-05-14T13:37:50.172Z"
   },
   {
    "duration": 100,
    "start_time": "2022-05-14T13:37:50.195Z"
   },
   {
    "duration": 564,
    "start_time": "2022-05-14T13:37:53.184Z"
   },
   {
    "duration": 330,
    "start_time": "2022-05-14T13:38:08.524Z"
   },
   {
    "duration": 310,
    "start_time": "2022-05-14T13:42:54.001Z"
   },
   {
    "duration": 588,
    "start_time": "2022-05-14T13:43:42.192Z"
   },
   {
    "duration": 737,
    "start_time": "2022-05-14T13:44:24.451Z"
   },
   {
    "duration": 665,
    "start_time": "2022-05-14T13:44:33.844Z"
   },
   {
    "duration": 737,
    "start_time": "2022-05-14T13:44:53.933Z"
   },
   {
    "duration": 787,
    "start_time": "2022-05-14T13:45:06.115Z"
   },
   {
    "duration": 677,
    "start_time": "2022-05-14T13:45:21.134Z"
   },
   {
    "duration": 797,
    "start_time": "2022-05-14T13:45:26.902Z"
   },
   {
    "duration": 746,
    "start_time": "2022-05-14T13:45:33.063Z"
   },
   {
    "duration": 721,
    "start_time": "2022-05-14T13:45:37.748Z"
   },
   {
    "duration": 666,
    "start_time": "2022-05-14T13:45:48.598Z"
   },
   {
    "duration": 348,
    "start_time": "2022-05-14T13:48:10.203Z"
   },
   {
    "duration": 325,
    "start_time": "2022-05-14T13:49:10.317Z"
   },
   {
    "duration": 560,
    "start_time": "2022-05-14T13:50:09.368Z"
   },
   {
    "duration": 235,
    "start_time": "2022-05-14T13:50:14.453Z"
   },
   {
    "duration": 351,
    "start_time": "2022-05-14T13:50:27.768Z"
   },
   {
    "duration": 542,
    "start_time": "2022-05-14T13:50:34.762Z"
   },
   {
    "duration": 328,
    "start_time": "2022-05-14T13:50:41.561Z"
   },
   {
    "duration": 280,
    "start_time": "2022-05-14T13:50:46.591Z"
   },
   {
    "duration": 361,
    "start_time": "2022-05-14T13:50:57.954Z"
   },
   {
    "duration": 276,
    "start_time": "2022-05-14T13:51:06.145Z"
   },
   {
    "duration": 315,
    "start_time": "2022-05-14T13:51:12.114Z"
   },
   {
    "duration": 939,
    "start_time": "2022-05-14T13:51:18.275Z"
   },
   {
    "duration": 298,
    "start_time": "2022-05-14T13:51:23.969Z"
   },
   {
    "duration": 280,
    "start_time": "2022-05-14T13:51:28.538Z"
   },
   {
    "duration": 1310,
    "start_time": "2022-05-14T13:55:30.085Z"
   },
   {
    "duration": 951,
    "start_time": "2022-05-14T13:55:40.546Z"
   },
   {
    "duration": 609,
    "start_time": "2022-05-14T13:56:12.445Z"
   },
   {
    "duration": 454,
    "start_time": "2022-05-14T13:59:08.210Z"
   },
   {
    "duration": 105,
    "start_time": "2022-05-14T13:59:50.797Z"
   },
   {
    "duration": 397,
    "start_time": "2022-05-14T13:59:57.088Z"
   },
   {
    "duration": 50,
    "start_time": "2022-05-14T14:01:51.719Z"
   },
   {
    "duration": 664,
    "start_time": "2022-05-14T14:02:23.849Z"
   },
   {
    "duration": 696,
    "start_time": "2022-05-14T14:02:39.128Z"
   },
   {
    "duration": 4527,
    "start_time": "2022-05-14T14:03:21.422Z"
   },
   {
    "duration": 897,
    "start_time": "2022-05-14T14:03:32.323Z"
   },
   {
    "duration": 1275,
    "start_time": "2022-05-14T14:03:40.520Z"
   },
   {
    "duration": 688,
    "start_time": "2022-05-14T14:03:49.853Z"
   },
   {
    "duration": 1220,
    "start_time": "2022-05-14T14:04:18.250Z"
   },
   {
    "duration": 772,
    "start_time": "2022-05-14T14:04:28.694Z"
   },
   {
    "duration": 753,
    "start_time": "2022-05-14T14:04:37.197Z"
   },
   {
    "duration": 778,
    "start_time": "2022-05-14T14:04:49.790Z"
   },
   {
    "duration": 979,
    "start_time": "2022-05-14T14:05:01.732Z"
   },
   {
    "duration": 741,
    "start_time": "2022-05-14T14:05:08.346Z"
   },
   {
    "duration": 724,
    "start_time": "2022-05-14T14:05:12.886Z"
   },
   {
    "duration": 1147,
    "start_time": "2022-05-14T14:05:17.414Z"
   },
   {
    "duration": 916,
    "start_time": "2022-05-14T14:05:22.856Z"
   },
   {
    "duration": 1180,
    "start_time": "2022-05-14T14:05:44.353Z"
   },
   {
    "duration": 1201,
    "start_time": "2022-05-14T14:05:55.890Z"
   },
   {
    "duration": 1316,
    "start_time": "2022-05-14T14:06:12.243Z"
   },
   {
    "duration": 1165,
    "start_time": "2022-05-14T14:06:20.677Z"
   },
   {
    "duration": 1462,
    "start_time": "2022-05-14T14:06:27.262Z"
   },
   {
    "duration": 694,
    "start_time": "2022-05-14T14:06:35.492Z"
   },
   {
    "duration": 670,
    "start_time": "2022-05-14T14:06:40.794Z"
   },
   {
    "duration": 674,
    "start_time": "2022-05-14T14:06:45.211Z"
   },
   {
    "duration": 677,
    "start_time": "2022-05-14T14:06:53.444Z"
   },
   {
    "duration": 838,
    "start_time": "2022-05-14T14:06:57.614Z"
   },
   {
    "duration": 700,
    "start_time": "2022-05-14T14:07:05.338Z"
   },
   {
    "duration": 48,
    "start_time": "2022-05-14T14:07:50.786Z"
   },
   {
    "duration": 264,
    "start_time": "2022-05-14T14:07:57.346Z"
   },
   {
    "duration": 361,
    "start_time": "2022-05-14T14:08:27.850Z"
   },
   {
    "duration": 759,
    "start_time": "2022-05-14T14:11:26.566Z"
   },
   {
    "duration": 730,
    "start_time": "2022-05-14T14:11:39.258Z"
   },
   {
    "duration": 1512,
    "start_time": "2022-05-14T14:12:27.942Z"
   },
   {
    "duration": 716,
    "start_time": "2022-05-14T14:12:45.336Z"
   },
   {
    "duration": 517,
    "start_time": "2022-05-14T14:13:21.279Z"
   },
   {
    "duration": 315,
    "start_time": "2022-05-14T14:13:35.977Z"
   },
   {
    "duration": 465,
    "start_time": "2022-05-14T14:13:49.728Z"
   },
   {
    "duration": 837,
    "start_time": "2022-05-14T14:14:29.098Z"
   },
   {
    "duration": 3067,
    "start_time": "2022-05-14T14:15:13.663Z"
   },
   {
    "duration": 12,
    "start_time": "2022-05-14T14:15:16.734Z"
   },
   {
    "duration": 2490,
    "start_time": "2022-05-14T14:15:16.748Z"
   },
   {
    "duration": 4,
    "start_time": "2022-05-14T14:15:19.241Z"
   },
   {
    "duration": 11,
    "start_time": "2022-05-14T14:15:19.247Z"
   },
   {
    "duration": 93,
    "start_time": "2022-05-14T14:15:19.261Z"
   },
   {
    "duration": 18,
    "start_time": "2022-05-14T14:15:19.357Z"
   },
   {
    "duration": 388,
    "start_time": "2022-05-14T14:15:19.377Z"
   },
   {
    "duration": 769,
    "start_time": "2022-05-14T14:15:19.768Z"
   },
   {
    "duration": 634,
    "start_time": "2022-05-14T14:15:20.540Z"
   },
   {
    "duration": 30,
    "start_time": "2022-05-14T14:15:21.177Z"
   },
   {
    "duration": 45,
    "start_time": "2022-05-14T14:15:21.209Z"
   },
   {
    "duration": 61,
    "start_time": "2022-05-14T14:15:21.256Z"
   },
   {
    "duration": 4,
    "start_time": "2022-05-14T14:15:21.323Z"
   },
   {
    "duration": 800,
    "start_time": "2022-05-14T14:15:21.329Z"
   },
   {
    "duration": 403,
    "start_time": "2022-05-14T14:15:22.131Z"
   },
   {
    "duration": 52,
    "start_time": "2022-05-14T14:15:22.536Z"
   },
   {
    "duration": 738,
    "start_time": "2022-05-14T14:15:22.590Z"
   },
   {
    "duration": 51,
    "start_time": "2022-05-14T14:15:23.330Z"
   },
   {
    "duration": 525,
    "start_time": "2022-05-14T14:15:23.383Z"
   },
   {
    "duration": 794,
    "start_time": "2022-05-14T14:15:23.911Z"
   },
   {
    "duration": 896,
    "start_time": "2022-05-14T14:16:02.777Z"
   },
   {
    "duration": 1273,
    "start_time": "2022-05-14T14:16:36.570Z"
   },
   {
    "duration": 1059,
    "start_time": "2022-05-14T14:21:54.574Z"
   },
   {
    "duration": 31,
    "start_time": "2022-05-14T14:22:35.082Z"
   },
   {
    "duration": 31,
    "start_time": "2022-05-14T14:23:01.847Z"
   },
   {
    "duration": 742,
    "start_time": "2022-05-14T14:23:15.337Z"
   },
   {
    "duration": 1394,
    "start_time": "2022-05-14T14:23:56.756Z"
   },
   {
    "duration": 2372,
    "start_time": "2022-05-14T14:24:39.573Z"
   },
   {
    "duration": 1297,
    "start_time": "2022-05-14T14:25:01.517Z"
   },
   {
    "duration": 698,
    "start_time": "2022-05-14T14:25:57.144Z"
   },
   {
    "duration": 738,
    "start_time": "2022-05-14T14:26:24.646Z"
   },
   {
    "duration": 1798,
    "start_time": "2022-05-14T14:27:05.055Z"
   },
   {
    "duration": 998,
    "start_time": "2022-05-14T14:27:34.611Z"
   },
   {
    "duration": 1735,
    "start_time": "2022-05-14T14:27:56.590Z"
   },
   {
    "duration": 2115,
    "start_time": "2022-05-14T14:28:18.184Z"
   },
   {
    "duration": 616,
    "start_time": "2022-05-14T14:32:38.819Z"
   },
   {
    "duration": 1546,
    "start_time": "2022-05-14T14:32:46.723Z"
   },
   {
    "duration": 1261,
    "start_time": "2022-05-14T14:33:13.468Z"
   },
   {
    "duration": 1571,
    "start_time": "2022-05-14T14:33:27.896Z"
   },
   {
    "duration": 1398,
    "start_time": "2022-05-14T14:33:36.009Z"
   },
   {
    "duration": 757,
    "start_time": "2022-05-14T14:33:54.986Z"
   },
   {
    "duration": 973,
    "start_time": "2022-05-14T14:34:06.768Z"
   },
   {
    "duration": 873,
    "start_time": "2022-05-14T14:34:32.481Z"
   },
   {
    "duration": 1341,
    "start_time": "2022-05-14T14:34:49.104Z"
   },
   {
    "duration": 882,
    "start_time": "2022-05-14T14:35:11.610Z"
   },
   {
    "duration": 1055,
    "start_time": "2022-05-14T14:35:21.587Z"
   },
   {
    "duration": 53,
    "start_time": "2022-05-14T14:40:27.219Z"
   },
   {
    "duration": 26,
    "start_time": "2022-05-14T14:40:44.489Z"
   },
   {
    "duration": 32,
    "start_time": "2022-05-14T14:40:48.008Z"
   },
   {
    "duration": 29,
    "start_time": "2022-05-14T14:40:57.126Z"
   },
   {
    "duration": 95,
    "start_time": "2022-05-14T14:41:13.963Z"
   },
   {
    "duration": 139,
    "start_time": "2022-05-14T14:41:17.369Z"
   },
   {
    "duration": 38,
    "start_time": "2022-05-14T14:41:29.981Z"
   },
   {
    "duration": 33,
    "start_time": "2022-05-14T14:41:33.286Z"
   },
   {
    "duration": 20,
    "start_time": "2022-05-14T14:41:34.629Z"
   },
   {
    "duration": 18,
    "start_time": "2022-05-14T14:41:39.004Z"
   },
   {
    "duration": 10,
    "start_time": "2022-05-14T14:41:43.536Z"
   },
   {
    "duration": 946,
    "start_time": "2022-05-14T14:41:45.357Z"
   },
   {
    "duration": 3183,
    "start_time": "2022-05-14T14:42:10.381Z"
   },
   {
    "duration": 307,
    "start_time": "2022-05-14T14:59:01.421Z"
   },
   {
    "duration": 774,
    "start_time": "2022-05-14T15:00:54.546Z"
   },
   {
    "duration": 875,
    "start_time": "2022-05-14T15:01:26.474Z"
   },
   {
    "duration": 782,
    "start_time": "2022-05-14T15:01:37.201Z"
   },
   {
    "duration": 10,
    "start_time": "2022-05-14T15:02:38.189Z"
   },
   {
    "duration": 31,
    "start_time": "2022-05-14T15:02:38.202Z"
   },
   {
    "duration": 2595,
    "start_time": "2022-05-14T15:02:38.237Z"
   },
   {
    "duration": 5,
    "start_time": "2022-05-14T15:02:40.836Z"
   },
   {
    "duration": 10,
    "start_time": "2022-05-14T15:02:40.845Z"
   },
   {
    "duration": 97,
    "start_time": "2022-05-14T15:02:40.859Z"
   },
   {
    "duration": 25,
    "start_time": "2022-05-14T15:02:40.959Z"
   },
   {
    "duration": 398,
    "start_time": "2022-05-14T15:02:40.987Z"
   },
   {
    "duration": 1120,
    "start_time": "2022-05-14T15:02:41.388Z"
   },
   {
    "duration": 595,
    "start_time": "2022-05-14T15:02:42.511Z"
   },
   {
    "duration": 49,
    "start_time": "2022-05-14T15:02:43.110Z"
   },
   {
    "duration": 17,
    "start_time": "2022-05-14T15:02:43.163Z"
   },
   {
    "duration": 86,
    "start_time": "2022-05-14T15:02:43.182Z"
   },
   {
    "duration": 4,
    "start_time": "2022-05-14T15:02:43.270Z"
   },
   {
    "duration": 1164,
    "start_time": "2022-05-14T15:02:43.277Z"
   },
   {
    "duration": 643,
    "start_time": "2022-05-14T15:02:44.444Z"
   },
   {
    "duration": 77,
    "start_time": "2022-05-14T15:02:45.090Z"
   },
   {
    "duration": 1199,
    "start_time": "2022-05-14T15:02:45.170Z"
   },
   {
    "duration": 77,
    "start_time": "2022-05-14T15:02:46.372Z"
   },
   {
    "duration": 3312,
    "start_time": "2022-05-14T15:02:46.453Z"
   },
   {
    "duration": 1534,
    "start_time": "2022-05-14T15:02:49.768Z"
   },
   {
    "duration": 59,
    "start_time": "2022-05-14T15:02:51.305Z"
   },
   {
    "duration": 25,
    "start_time": "2022-05-14T15:02:51.366Z"
   },
   {
    "duration": 56,
    "start_time": "2022-05-14T15:02:51.393Z"
   },
   {
    "duration": 29,
    "start_time": "2022-05-14T15:02:51.451Z"
   },
   {
    "duration": 207,
    "start_time": "2022-05-14T15:02:51.483Z"
   },
   {
    "duration": 217,
    "start_time": "2022-05-14T15:02:51.693Z"
   },
   {
    "duration": 47,
    "start_time": "2022-05-14T15:02:51.913Z"
   },
   {
    "duration": 34,
    "start_time": "2022-05-14T15:02:51.969Z"
   },
   {
    "duration": 39,
    "start_time": "2022-05-14T15:02:52.006Z"
   },
   {
    "duration": 29,
    "start_time": "2022-05-14T15:02:52.048Z"
   },
   {
    "duration": 46,
    "start_time": "2022-05-14T15:02:52.081Z"
   },
   {
    "duration": 1175,
    "start_time": "2022-05-14T15:02:52.131Z"
   },
   {
    "duration": 3485,
    "start_time": "2022-05-14T15:02:53.308Z"
   },
   {
    "duration": 65,
    "start_time": "2022-05-14T15:02:56.795Z"
   },
   {
    "duration": 27,
    "start_time": "2022-05-14T15:02:56.862Z"
   },
   {
    "duration": 81,
    "start_time": "2022-05-14T15:02:56.891Z"
   },
   {
    "duration": 99,
    "start_time": "2022-05-14T15:02:56.975Z"
   },
   {
    "duration": 50,
    "start_time": "2022-05-14T15:02:57.077Z"
   },
   {
    "duration": 58,
    "start_time": "2022-05-14T15:02:57.132Z"
   },
   {
    "duration": 83,
    "start_time": "2022-05-14T15:02:57.193Z"
   },
   {
    "duration": 200,
    "start_time": "2022-05-14T15:02:57.279Z"
   },
   {
    "duration": 41,
    "start_time": "2022-05-14T15:02:57.483Z"
   },
   {
    "duration": 28,
    "start_time": "2022-05-14T15:02:57.527Z"
   },
   {
    "duration": 264,
    "start_time": "2022-05-14T15:02:57.558Z"
   },
   {
    "duration": 11,
    "start_time": "2022-05-14T15:02:57.826Z"
   },
   {
    "duration": 454,
    "start_time": "2022-05-14T15:02:57.840Z"
   },
   {
    "duration": 1440,
    "start_time": "2022-05-14T15:02:58.297Z"
   },
   {
    "duration": 774,
    "start_time": "2022-05-14T15:03:35.455Z"
   },
   {
    "duration": 367,
    "start_time": "2022-05-14T15:04:05.281Z"
   },
   {
    "duration": 10,
    "start_time": "2022-05-14T15:14:42.347Z"
   },
   {
    "duration": 7,
    "start_time": "2022-05-14T15:14:48.871Z"
   },
   {
    "duration": 35,
    "start_time": "2022-05-14T15:15:39.605Z"
   },
   {
    "duration": 369,
    "start_time": "2022-05-14T15:15:42.125Z"
   },
   {
    "duration": 1186,
    "start_time": "2022-05-14T15:15:53.062Z"
   },
   {
    "duration": 7,
    "start_time": "2022-05-14T15:16:04.005Z"
   },
   {
    "duration": 132,
    "start_time": "2022-05-14T15:17:05.552Z"
   },
   {
    "duration": 13,
    "start_time": "2022-05-14T15:17:28.799Z"
   },
   {
    "duration": 11,
    "start_time": "2022-05-14T15:17:50.065Z"
   },
   {
    "duration": 337,
    "start_time": "2022-05-14T15:18:28.507Z"
   },
   {
    "duration": 148,
    "start_time": "2022-05-14T15:19:28.169Z"
   },
   {
    "duration": 6,
    "start_time": "2022-05-14T15:19:40.286Z"
   },
   {
    "duration": 678,
    "start_time": "2022-05-14T15:19:40.299Z"
   },
   {
    "duration": 2905,
    "start_time": "2022-05-14T15:19:40.980Z"
   },
   {
    "duration": 4,
    "start_time": "2022-05-14T15:19:43.888Z"
   },
   {
    "duration": 31,
    "start_time": "2022-05-14T15:19:43.895Z"
   },
   {
    "duration": 105,
    "start_time": "2022-05-14T15:19:43.930Z"
   },
   {
    "duration": 19,
    "start_time": "2022-05-14T15:19:44.038Z"
   },
   {
    "duration": 605,
    "start_time": "2022-05-14T15:19:44.060Z"
   },
   {
    "duration": 869,
    "start_time": "2022-05-14T15:19:44.668Z"
   },
   {
    "duration": 710,
    "start_time": "2022-05-14T15:19:45.540Z"
   },
   {
    "duration": 31,
    "start_time": "2022-05-14T15:19:46.255Z"
   },
   {
    "duration": 45,
    "start_time": "2022-05-14T15:19:46.289Z"
   },
   {
    "duration": 92,
    "start_time": "2022-05-14T15:19:46.337Z"
   },
   {
    "duration": 5,
    "start_time": "2022-05-14T15:19:46.433Z"
   },
   {
    "duration": 1437,
    "start_time": "2022-05-14T15:19:46.441Z"
   },
   {
    "duration": 431,
    "start_time": "2022-05-14T15:19:47.882Z"
   },
   {
    "duration": 58,
    "start_time": "2022-05-14T15:19:48.315Z"
   },
   {
    "duration": 744,
    "start_time": "2022-05-14T15:19:48.375Z"
   },
   {
    "duration": 60,
    "start_time": "2022-05-14T15:19:49.126Z"
   },
   {
    "duration": 2356,
    "start_time": "2022-05-14T15:19:49.189Z"
   },
   {
    "duration": 955,
    "start_time": "2022-05-14T15:19:51.548Z"
   },
   {
    "duration": 51,
    "start_time": "2022-05-14T15:19:52.506Z"
   },
   {
    "duration": 27,
    "start_time": "2022-05-14T15:19:52.563Z"
   },
   {
    "duration": 68,
    "start_time": "2022-05-14T15:19:52.592Z"
   },
   {
    "duration": 38,
    "start_time": "2022-05-14T15:19:52.662Z"
   },
   {
    "duration": 131,
    "start_time": "2022-05-14T15:19:52.703Z"
   },
   {
    "duration": 158,
    "start_time": "2022-05-14T15:19:52.837Z"
   },
   {
    "duration": 45,
    "start_time": "2022-05-14T15:19:52.997Z"
   },
   {
    "duration": 79,
    "start_time": "2022-05-14T15:19:53.049Z"
   },
   {
    "duration": 24,
    "start_time": "2022-05-14T15:19:53.130Z"
   },
   {
    "duration": 31,
    "start_time": "2022-05-14T15:19:53.157Z"
   },
   {
    "duration": 43,
    "start_time": "2022-05-14T15:19:53.192Z"
   },
   {
    "duration": 1081,
    "start_time": "2022-05-14T15:19:53.238Z"
   },
   {
    "duration": 3530,
    "start_time": "2022-05-14T15:19:54.326Z"
   },
   {
    "duration": 45,
    "start_time": "2022-05-14T15:19:57.858Z"
   },
   {
    "duration": 49,
    "start_time": "2022-05-14T15:19:57.926Z"
   },
   {
    "duration": 65,
    "start_time": "2022-05-14T15:19:57.978Z"
   },
   {
    "duration": 62,
    "start_time": "2022-05-14T15:19:58.046Z"
   },
   {
    "duration": 55,
    "start_time": "2022-05-14T15:19:58.111Z"
   },
   {
    "duration": 74,
    "start_time": "2022-05-14T15:19:58.169Z"
   },
   {
    "duration": 80,
    "start_time": "2022-05-14T15:19:58.246Z"
   },
   {
    "duration": 226,
    "start_time": "2022-05-14T15:19:58.329Z"
   },
   {
    "duration": 37,
    "start_time": "2022-05-14T15:19:58.558Z"
   },
   {
    "duration": 45,
    "start_time": "2022-05-14T15:19:58.598Z"
   },
   {
    "duration": 158,
    "start_time": "2022-05-14T15:19:58.646Z"
   },
   {
    "duration": 27,
    "start_time": "2022-05-14T15:19:58.806Z"
   },
   {
    "duration": 36,
    "start_time": "2022-05-14T15:19:58.835Z"
   },
   {
    "duration": 629,
    "start_time": "2022-05-14T15:19:58.874Z"
   },
   {
    "duration": 885,
    "start_time": "2022-05-14T15:19:59.505Z"
   },
   {
    "duration": 32,
    "start_time": "2022-05-14T15:20:00.393Z"
   },
   {
    "duration": 288,
    "start_time": "2022-05-14T15:20:00.428Z"
   },
   {
    "duration": 210,
    "start_time": "2022-05-14T15:20:00.719Z"
   },
   {
    "duration": 7,
    "start_time": "2022-05-14T15:20:00.932Z"
   },
   {
    "duration": 49,
    "start_time": "2022-05-14T15:20:00.941Z"
   },
   {
    "duration": 101,
    "start_time": "2022-05-14T15:20:00.993Z"
   },
   {
    "duration": 562,
    "start_time": "2022-05-14T15:23:32.953Z"
   },
   {
    "duration": 107,
    "start_time": "2022-05-14T15:23:44.105Z"
   },
   {
    "duration": 1660,
    "start_time": "2022-05-15T06:15:31.184Z"
   },
   {
    "duration": 1418,
    "start_time": "2022-11-03T01:36:23.951Z"
   },
   {
    "duration": 49,
    "start_time": "2022-11-03T01:36:28.268Z"
   },
   {
    "duration": 51,
    "start_time": "2022-11-03T01:37:18.025Z"
   },
   {
    "duration": 42,
    "start_time": "2022-11-03T01:37:25.529Z"
   },
   {
    "duration": 43,
    "start_time": "2022-11-03T01:37:35.383Z"
   },
   {
    "duration": 42,
    "start_time": "2022-11-03T01:39:02.836Z"
   },
   {
    "duration": 80,
    "start_time": "2022-11-03T01:40:07.309Z"
   },
   {
    "duration": 75,
    "start_time": "2022-11-03T01:42:52.675Z"
   },
   {
    "duration": 5,
    "start_time": "2022-11-03T01:43:29.190Z"
   },
   {
    "duration": 105,
    "start_time": "2022-11-03T01:43:31.204Z"
   },
   {
    "duration": 4,
    "start_time": "2022-11-03T01:43:36.604Z"
   },
   {
    "duration": 4,
    "start_time": "2022-11-03T01:43:39.677Z"
   },
   {
    "duration": 9,
    "start_time": "2022-11-03T01:43:43.860Z"
   },
   {
    "duration": 1964,
    "start_time": "2022-11-03T01:44:22.423Z"
   },
   {
    "duration": 4,
    "start_time": "2022-11-03T01:44:56.791Z"
   },
   {
    "duration": 1660,
    "start_time": "2022-11-03T01:44:58.719Z"
   },
   {
    "duration": 10,
    "start_time": "2022-11-03T01:45:12.136Z"
   },
   {
    "duration": 9,
    "start_time": "2022-11-03T01:45:15.080Z"
   },
   {
    "duration": 10,
    "start_time": "2022-11-03T01:45:45.080Z"
   },
   {
    "duration": 1422,
    "start_time": "2022-11-03T01:46:44.458Z"
   },
   {
    "duration": 5,
    "start_time": "2022-11-03T01:46:45.882Z"
   },
   {
    "duration": 1749,
    "start_time": "2022-11-03T01:46:45.888Z"
   },
   {
    "duration": 47,
    "start_time": "2022-11-03T01:46:47.639Z"
   },
   {
    "duration": 0,
    "start_time": "2022-11-03T01:46:47.690Z"
   },
   {
    "duration": 0,
    "start_time": "2022-11-03T01:46:47.691Z"
   },
   {
    "duration": 0,
    "start_time": "2022-11-03T01:46:47.692Z"
   },
   {
    "duration": 0,
    "start_time": "2022-11-03T01:46:47.693Z"
   },
   {
    "duration": 0,
    "start_time": "2022-11-03T01:46:47.694Z"
   },
   {
    "duration": 0,
    "start_time": "2022-11-03T01:46:47.695Z"
   },
   {
    "duration": 0,
    "start_time": "2022-11-03T01:46:47.696Z"
   },
   {
    "duration": 0,
    "start_time": "2022-11-03T01:46:47.697Z"
   },
   {
    "duration": 0,
    "start_time": "2022-11-03T01:46:47.699Z"
   },
   {
    "duration": 0,
    "start_time": "2022-11-03T01:46:47.700Z"
   },
   {
    "duration": 0,
    "start_time": "2022-11-03T01:46:47.701Z"
   },
   {
    "duration": 0,
    "start_time": "2022-11-03T01:46:47.702Z"
   },
   {
    "duration": 0,
    "start_time": "2022-11-03T01:46:47.703Z"
   },
   {
    "duration": 0,
    "start_time": "2022-11-03T01:46:47.704Z"
   },
   {
    "duration": 0,
    "start_time": "2022-11-03T01:46:47.705Z"
   },
   {
    "duration": 0,
    "start_time": "2022-11-03T01:46:47.706Z"
   },
   {
    "duration": 0,
    "start_time": "2022-11-03T01:46:47.708Z"
   },
   {
    "duration": 0,
    "start_time": "2022-11-03T01:46:47.709Z"
   },
   {
    "duration": 0,
    "start_time": "2022-11-03T01:46:47.710Z"
   },
   {
    "duration": 0,
    "start_time": "2022-11-03T01:46:47.710Z"
   },
   {
    "duration": 0,
    "start_time": "2022-11-03T01:46:47.711Z"
   },
   {
    "duration": 0,
    "start_time": "2022-11-03T01:46:47.712Z"
   },
   {
    "duration": 0,
    "start_time": "2022-11-03T01:46:47.713Z"
   },
   {
    "duration": 0,
    "start_time": "2022-11-03T01:46:47.714Z"
   },
   {
    "duration": 0,
    "start_time": "2022-11-03T01:46:47.715Z"
   },
   {
    "duration": 0,
    "start_time": "2022-11-03T01:46:47.716Z"
   },
   {
    "duration": 0,
    "start_time": "2022-11-03T01:46:47.717Z"
   },
   {
    "duration": 0,
    "start_time": "2022-11-03T01:46:47.718Z"
   },
   {
    "duration": 0,
    "start_time": "2022-11-03T01:46:47.719Z"
   },
   {
    "duration": 0,
    "start_time": "2022-11-03T01:46:47.721Z"
   },
   {
    "duration": 0,
    "start_time": "2022-11-03T01:46:47.722Z"
   },
   {
    "duration": 0,
    "start_time": "2022-11-03T01:46:47.722Z"
   },
   {
    "duration": 0,
    "start_time": "2022-11-03T01:46:47.724Z"
   },
   {
    "duration": 0,
    "start_time": "2022-11-03T01:46:47.725Z"
   },
   {
    "duration": 0,
    "start_time": "2022-11-03T01:46:47.726Z"
   },
   {
    "duration": 0,
    "start_time": "2022-11-03T01:46:47.726Z"
   },
   {
    "duration": 0,
    "start_time": "2022-11-03T01:46:47.727Z"
   },
   {
    "duration": 0,
    "start_time": "2022-11-03T01:46:47.777Z"
   },
   {
    "duration": 0,
    "start_time": "2022-11-03T01:46:47.778Z"
   },
   {
    "duration": 0,
    "start_time": "2022-11-03T01:46:47.779Z"
   },
   {
    "duration": 0,
    "start_time": "2022-11-03T01:46:47.780Z"
   },
   {
    "duration": 0,
    "start_time": "2022-11-03T01:46:47.781Z"
   },
   {
    "duration": 0,
    "start_time": "2022-11-03T01:46:47.782Z"
   },
   {
    "duration": 0,
    "start_time": "2022-11-03T01:46:47.783Z"
   },
   {
    "duration": 0,
    "start_time": "2022-11-03T01:46:47.784Z"
   },
   {
    "duration": 0,
    "start_time": "2022-11-03T01:46:47.786Z"
   },
   {
    "duration": 0,
    "start_time": "2022-11-03T01:46:47.786Z"
   },
   {
    "duration": 0,
    "start_time": "2022-11-03T01:46:47.788Z"
   },
   {
    "duration": 0,
    "start_time": "2022-11-03T01:46:47.789Z"
   },
   {
    "duration": 0,
    "start_time": "2022-11-03T01:46:47.790Z"
   },
   {
    "duration": 0,
    "start_time": "2022-11-03T01:46:47.791Z"
   },
   {
    "duration": 0,
    "start_time": "2022-11-03T01:46:47.792Z"
   },
   {
    "duration": 0,
    "start_time": "2022-11-03T01:46:47.793Z"
   },
   {
    "duration": 0,
    "start_time": "2022-11-03T01:46:47.794Z"
   },
   {
    "duration": 0,
    "start_time": "2022-11-03T01:46:47.795Z"
   },
   {
    "duration": 0,
    "start_time": "2022-11-03T01:46:47.796Z"
   },
   {
    "duration": 0,
    "start_time": "2022-11-03T01:46:47.798Z"
   },
   {
    "duration": 0,
    "start_time": "2022-11-03T01:46:47.798Z"
   },
   {
    "duration": 0,
    "start_time": "2022-11-03T01:46:47.800Z"
   },
   {
    "duration": 0,
    "start_time": "2022-11-03T01:46:47.801Z"
   },
   {
    "duration": 0,
    "start_time": "2022-11-03T01:46:47.802Z"
   },
   {
    "duration": 0,
    "start_time": "2022-11-03T01:46:47.803Z"
   },
   {
    "duration": 0,
    "start_time": "2022-11-03T01:46:47.804Z"
   },
   {
    "duration": 0,
    "start_time": "2022-11-03T01:46:47.805Z"
   },
   {
    "duration": 0,
    "start_time": "2022-11-03T01:46:47.806Z"
   },
   {
    "duration": 0,
    "start_time": "2022-11-03T01:46:47.808Z"
   },
   {
    "duration": 0,
    "start_time": "2022-11-03T01:46:47.809Z"
   },
   {
    "duration": 0,
    "start_time": "2022-11-03T01:46:47.810Z"
   },
   {
    "duration": 0,
    "start_time": "2022-11-03T01:46:47.812Z"
   },
   {
    "duration": 0,
    "start_time": "2022-11-03T01:46:47.877Z"
   },
   {
    "duration": 0,
    "start_time": "2022-11-03T01:46:47.879Z"
   },
   {
    "duration": 0,
    "start_time": "2022-11-03T01:46:47.881Z"
   },
   {
    "duration": 0,
    "start_time": "2022-11-03T01:46:47.882Z"
   },
   {
    "duration": 0,
    "start_time": "2022-11-03T01:46:47.883Z"
   },
   {
    "duration": 0,
    "start_time": "2022-11-03T01:46:47.885Z"
   },
   {
    "duration": 0,
    "start_time": "2022-11-03T01:46:47.886Z"
   },
   {
    "duration": 0,
    "start_time": "2022-11-03T01:46:47.888Z"
   },
   {
    "duration": 0,
    "start_time": "2022-11-03T01:46:47.889Z"
   },
   {
    "duration": 0,
    "start_time": "2022-11-03T01:46:47.891Z"
   },
   {
    "duration": 0,
    "start_time": "2022-11-03T01:46:47.892Z"
   },
   {
    "duration": 0,
    "start_time": "2022-11-03T01:46:47.894Z"
   },
   {
    "duration": 0,
    "start_time": "2022-11-03T01:46:47.895Z"
   },
   {
    "duration": 0,
    "start_time": "2022-11-03T01:46:47.896Z"
   },
   {
    "duration": 0,
    "start_time": "2022-11-03T01:46:47.897Z"
   },
   {
    "duration": 0,
    "start_time": "2022-11-03T01:46:47.898Z"
   },
   {
    "duration": 0,
    "start_time": "2022-11-03T01:46:47.899Z"
   },
   {
    "duration": 0,
    "start_time": "2022-11-03T01:46:47.900Z"
   },
   {
    "duration": 0,
    "start_time": "2022-11-03T01:46:47.901Z"
   },
   {
    "duration": 0,
    "start_time": "2022-11-03T01:46:47.902Z"
   },
   {
    "duration": 0,
    "start_time": "2022-11-03T01:46:47.902Z"
   },
   {
    "duration": 0,
    "start_time": "2022-11-03T01:46:47.904Z"
   },
   {
    "duration": 0,
    "start_time": "2022-11-03T01:46:47.904Z"
   },
   {
    "duration": 0,
    "start_time": "2022-11-03T01:46:47.905Z"
   },
   {
    "duration": 1,
    "start_time": "2022-11-03T01:46:47.906Z"
   },
   {
    "duration": 0,
    "start_time": "2022-11-03T01:46:47.908Z"
   },
   {
    "duration": 0,
    "start_time": "2022-11-03T01:46:47.909Z"
   },
   {
    "duration": 0,
    "start_time": "2022-11-03T01:46:47.910Z"
   },
   {
    "duration": 0,
    "start_time": "2022-11-03T01:46:47.911Z"
   },
   {
    "duration": 0,
    "start_time": "2022-11-03T01:46:47.912Z"
   },
   {
    "duration": 0,
    "start_time": "2022-11-03T01:46:47.913Z"
   },
   {
    "duration": 0,
    "start_time": "2022-11-03T01:46:47.914Z"
   },
   {
    "duration": 0,
    "start_time": "2022-11-03T01:46:47.915Z"
   },
   {
    "duration": 0,
    "start_time": "2022-11-03T01:46:47.977Z"
   },
   {
    "duration": 0,
    "start_time": "2022-11-03T01:46:47.978Z"
   },
   {
    "duration": 0,
    "start_time": "2022-11-03T01:46:47.979Z"
   },
   {
    "duration": 1367,
    "start_time": "2022-11-03T01:48:19.837Z"
   },
   {
    "duration": 5,
    "start_time": "2022-11-03T01:48:21.206Z"
   },
   {
    "duration": 1683,
    "start_time": "2022-11-03T01:48:21.212Z"
   },
   {
    "duration": 3,
    "start_time": "2022-11-03T01:48:22.897Z"
   },
   {
    "duration": 8,
    "start_time": "2022-11-03T01:48:22.901Z"
   },
   {
    "duration": 68,
    "start_time": "2022-11-03T01:48:22.911Z"
   },
   {
    "duration": 12,
    "start_time": "2022-11-03T01:48:22.980Z"
   },
   {
    "duration": 227,
    "start_time": "2022-11-03T01:48:22.993Z"
   },
   {
    "duration": 421,
    "start_time": "2022-11-03T01:48:23.222Z"
   },
   {
    "duration": 353,
    "start_time": "2022-11-03T01:48:23.646Z"
   },
   {
    "duration": 20,
    "start_time": "2022-11-03T01:48:24.001Z"
   },
   {
    "duration": 13,
    "start_time": "2022-11-03T01:48:24.022Z"
   },
   {
    "duration": 51,
    "start_time": "2022-11-03T01:48:24.036Z"
   },
   {
    "duration": 3,
    "start_time": "2022-11-03T01:48:24.089Z"
   },
   {
    "duration": 489,
    "start_time": "2022-11-03T01:48:24.093Z"
   },
   {
    "duration": 229,
    "start_time": "2022-11-03T01:48:24.584Z"
   },
   {
    "duration": 30,
    "start_time": "2022-11-03T01:48:24.814Z"
   },
   {
    "duration": 455,
    "start_time": "2022-11-03T01:48:24.846Z"
   },
   {
    "duration": 26,
    "start_time": "2022-11-03T01:48:25.303Z"
   },
   {
    "duration": 1003,
    "start_time": "2022-11-03T01:48:25.330Z"
   },
   {
    "duration": 626,
    "start_time": "2022-11-03T01:48:26.335Z"
   },
   {
    "duration": 36,
    "start_time": "2022-11-03T01:48:26.963Z"
   },
   {
    "duration": 18,
    "start_time": "2022-11-03T01:48:27.001Z"
   },
   {
    "duration": 28,
    "start_time": "2022-11-03T01:48:27.021Z"
   },
   {
    "duration": 39,
    "start_time": "2022-11-03T01:48:27.052Z"
   },
   {
    "duration": 62,
    "start_time": "2022-11-03T01:48:27.092Z"
   },
   {
    "duration": 115,
    "start_time": "2022-11-03T01:48:27.155Z"
   },
   {
    "duration": 18,
    "start_time": "2022-11-03T01:48:27.276Z"
   },
   {
    "duration": 24,
    "start_time": "2022-11-03T01:48:27.295Z"
   },
   {
    "duration": 14,
    "start_time": "2022-11-03T01:48:27.321Z"
   },
   {
    "duration": 43,
    "start_time": "2022-11-03T01:48:27.337Z"
   },
   {
    "duration": 7,
    "start_time": "2022-11-03T01:48:27.381Z"
   },
   {
    "duration": 815,
    "start_time": "2022-11-03T01:48:27.389Z"
   },
   {
    "duration": 2458,
    "start_time": "2022-11-03T01:48:28.206Z"
   },
   {
    "duration": 29,
    "start_time": "2022-11-03T01:48:30.666Z"
   },
   {
    "duration": 34,
    "start_time": "2022-11-03T01:48:30.696Z"
   },
   {
    "duration": 49,
    "start_time": "2022-11-03T01:48:30.732Z"
   },
   {
    "duration": 38,
    "start_time": "2022-11-03T01:48:30.783Z"
   },
   {
    "duration": 15,
    "start_time": "2022-11-03T01:48:30.823Z"
   },
   {
    "duration": 41,
    "start_time": "2022-11-03T01:48:30.840Z"
   },
   {
    "duration": 37,
    "start_time": "2022-11-03T01:48:30.883Z"
   },
   {
    "duration": 111,
    "start_time": "2022-11-03T01:48:30.922Z"
   },
   {
    "duration": 17,
    "start_time": "2022-11-03T01:48:31.035Z"
   },
   {
    "duration": 34,
    "start_time": "2022-11-03T01:48:31.054Z"
   },
   {
    "duration": 130,
    "start_time": "2022-11-03T01:48:31.089Z"
   },
   {
    "duration": 6,
    "start_time": "2022-11-03T01:48:31.221Z"
   },
   {
    "duration": 31,
    "start_time": "2022-11-03T01:48:31.229Z"
   },
   {
    "duration": 222,
    "start_time": "2022-11-03T01:48:31.261Z"
   },
   {
    "duration": 423,
    "start_time": "2022-11-03T01:48:31.484Z"
   },
   {
    "duration": 7,
    "start_time": "2022-11-03T01:48:31.909Z"
   },
   {
    "duration": 127,
    "start_time": "2022-11-03T01:48:31.918Z"
   },
   {
    "duration": 55,
    "start_time": "2022-11-03T01:48:32.047Z"
   },
   {
    "duration": 4,
    "start_time": "2022-11-03T01:48:32.104Z"
   },
   {
    "duration": 28,
    "start_time": "2022-11-03T01:48:32.109Z"
   },
   {
    "duration": 63,
    "start_time": "2022-11-03T01:48:32.138Z"
   },
   {
    "duration": 2,
    "start_time": "2022-11-03T01:48:32.202Z"
   },
   {
    "duration": 6,
    "start_time": "2022-11-03T01:48:32.206Z"
   },
   {
    "duration": 265,
    "start_time": "2022-11-03T01:48:32.213Z"
   },
   {
    "duration": 157,
    "start_time": "2022-11-03T01:48:32.480Z"
   },
   {
    "duration": 156,
    "start_time": "2022-11-03T01:48:32.639Z"
   },
   {
    "duration": 180,
    "start_time": "2022-11-03T01:48:32.797Z"
   },
   {
    "duration": 4,
    "start_time": "2022-11-03T01:48:32.978Z"
   },
   {
    "duration": 63,
    "start_time": "2022-11-03T01:48:32.983Z"
   },
   {
    "duration": 162,
    "start_time": "2022-11-03T01:48:33.048Z"
   },
   {
    "duration": 516,
    "start_time": "2022-11-03T01:48:33.212Z"
   },
   {
    "duration": 14,
    "start_time": "2022-11-03T01:48:33.729Z"
   },
   {
    "duration": 19,
    "start_time": "2022-11-03T01:48:33.744Z"
   },
   {
    "duration": 861,
    "start_time": "2022-11-03T01:48:33.764Z"
   },
   {
    "duration": 27,
    "start_time": "2022-11-03T01:48:34.627Z"
   },
   {
    "duration": 2,
    "start_time": "2022-11-03T01:48:34.656Z"
   },
   {
    "duration": 379,
    "start_time": "2022-11-03T01:48:34.660Z"
   },
   {
    "duration": 5,
    "start_time": "2022-11-03T01:48:35.041Z"
   },
   {
    "duration": 131,
    "start_time": "2022-11-03T01:48:35.047Z"
   },
   {
    "duration": 3,
    "start_time": "2022-11-03T01:48:35.181Z"
   },
   {
    "duration": 70907,
    "start_time": "2022-11-03T01:48:35.186Z"
   },
   {
    "duration": 79506,
    "start_time": "2022-11-03T01:49:46.179Z"
   },
   {
    "duration": 16490,
    "start_time": "2022-11-03T01:51:05.687Z"
   },
   {
    "duration": 218,
    "start_time": "2022-11-03T01:51:22.180Z"
   },
   {
    "duration": 9,
    "start_time": "2022-11-03T01:51:22.479Z"
   }
  ],
  "accelerator": "GPU",
  "celltoolbar": "Отсутствует",
  "colab": {
   "collapsed_sections": [],
   "name": "1d1fd3e2-6000-4ebf-817c-61710d58ea16 (3).ipynb",
   "provenance": [],
   "toc_visible": true
  },
  "kernelspec": {
   "display_name": "Python 3 (ipykernel)",
   "language": "python",
   "name": "python3"
  },
  "language_info": {
   "codemirror_mode": {
    "name": "ipython",
    "version": 3
   },
   "file_extension": ".py",
   "mimetype": "text/x-python",
   "name": "python",
   "nbconvert_exporter": "python",
   "pygments_lexer": "ipython3",
   "version": "3.9.5"
  },
  "toc": {
   "base_numbering": 1,
   "nav_menu": {
    "height": "160.99px",
    "width": "216.997px"
   },
   "number_sections": true,
   "sideBar": true,
   "skip_h1_title": true,
   "title_cell": "Table of Contents",
   "title_sidebar": "Contents",
   "toc_cell": false,
   "toc_position": {
    "height": "calc(100% - 180px)",
    "left": "10px",
    "top": "150px",
    "width": "225.712px"
   },
   "toc_section_display": true,
   "toc_window_display": true
  }
 },
 "nbformat": 4,
 "nbformat_minor": 1
}
