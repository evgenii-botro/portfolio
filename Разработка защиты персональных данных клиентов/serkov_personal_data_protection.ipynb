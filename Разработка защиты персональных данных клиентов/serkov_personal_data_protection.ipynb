{
 "cells": [
  {
   "cell_type": "markdown",
   "metadata": {
    "toc": true
   },
   "source": [
    "<h1>Содержание<span class=\"tocSkip\"></span></h1>\n",
    "<div class=\"toc\"><ul class=\"toc-item\"><li><span><a href=\"#Загрузка-данных\" data-toc-modified-id=\"Загрузка-данных-1\"><span class=\"toc-item-num\">1&nbsp;&nbsp;</span>Загрузка данных</a></span></li><li><span><a href=\"#Умножение-матриц\" data-toc-modified-id=\"Умножение-матриц-2\"><span class=\"toc-item-num\">2&nbsp;&nbsp;</span>Умножение матриц</a></span></li><li><span><a href=\"#Алгоритм-преобразования\" data-toc-modified-id=\"Алгоритм-преобразования-3\"><span class=\"toc-item-num\">3&nbsp;&nbsp;</span>Алгоритм преобразования</a></span></li><li><span><a href=\"#Проверка-алгоритма\" data-toc-modified-id=\"Проверка-алгоритма-4\"><span class=\"toc-item-num\">4&nbsp;&nbsp;</span>Проверка алгоритма</a></span></li><li><span><a href=\"#Чек-лист-проверки\" data-toc-modified-id=\"Чек-лист-проверки-5\"><span class=\"toc-item-num\">5&nbsp;&nbsp;</span>Чек-лист проверки</a></span></li></ul></div>"
   ]
  },
  {
   "cell_type": "markdown",
   "metadata": {},
   "source": [
    "# Защита персональных данных клиентов"
   ]
  },
  {
   "cell_type": "markdown",
   "metadata": {},
   "source": [
    "Вам нужно защитить данные клиентов страховой компании «Хоть потоп». Разработайте такой метод преобразования данных, чтобы по ним было сложно восстановить персональную информацию. Обоснуйте корректность его работы.\n",
    "\n",
    "Нужно защитить данные, чтобы при преобразовании качество моделей машинного обучения не ухудшилось. Подбирать наилучшую модель не требуется."
   ]
  },
  {
   "cell_type": "markdown",
   "metadata": {},
   "source": [
    "## Загрузка данных"
   ]
  },
  {
   "cell_type": "code",
   "execution_count": 2,
   "metadata": {},
   "outputs": [],
   "source": [
    "import pandas as pd\n",
    "import numpy as np\n",
    "\n",
    "from sklearn.model_selection import train_test_split\n",
    "from sklearn.linear_model import LinearRegression\n",
    "from sklearn.metrics import r2_score\n",
    "\n",
    "import warnings\n",
    "warnings.filterwarnings('ignore')"
   ]
  },
  {
   "cell_type": "code",
   "execution_count": 4,
   "metadata": {
    "scrolled": true
   },
   "outputs": [
    {
     "name": "stdout",
     "output_type": "stream",
     "text": [
      "<class 'pandas.core.frame.DataFrame'>\n",
      "RangeIndex: 5000 entries, 0 to 4999\n",
      "Data columns (total 5 columns):\n",
      " #   Column             Non-Null Count  Dtype  \n",
      "---  ------             --------------  -----  \n",
      " 0   Пол                5000 non-null   int64  \n",
      " 1   Возраст            5000 non-null   float64\n",
      " 2   Зарплата           5000 non-null   float64\n",
      " 3   Члены семьи        5000 non-null   int64  \n",
      " 4   Страховые выплаты  5000 non-null   int64  \n",
      "dtypes: float64(2), int64(3)\n",
      "memory usage: 195.4 KB\n"
     ]
    },
    {
     "data": {
      "text/plain": [
       "None"
      ]
     },
     "metadata": {},
     "output_type": "display_data"
    },
    {
     "data": {
      "text/html": [
       "<div>\n",
       "<style scoped>\n",
       "    .dataframe tbody tr th:only-of-type {\n",
       "        vertical-align: middle;\n",
       "    }\n",
       "\n",
       "    .dataframe tbody tr th {\n",
       "        vertical-align: top;\n",
       "    }\n",
       "\n",
       "    .dataframe thead th {\n",
       "        text-align: right;\n",
       "    }\n",
       "</style>\n",
       "<table border=\"1\" class=\"dataframe\">\n",
       "  <thead>\n",
       "    <tr style=\"text-align: right;\">\n",
       "      <th></th>\n",
       "      <th>Пол</th>\n",
       "      <th>Возраст</th>\n",
       "      <th>Зарплата</th>\n",
       "      <th>Члены семьи</th>\n",
       "      <th>Страховые выплаты</th>\n",
       "    </tr>\n",
       "  </thead>\n",
       "  <tbody>\n",
       "    <tr>\n",
       "      <th>0</th>\n",
       "      <td>1</td>\n",
       "      <td>41.0</td>\n",
       "      <td>49600.0</td>\n",
       "      <td>1</td>\n",
       "      <td>0</td>\n",
       "    </tr>\n",
       "    <tr>\n",
       "      <th>1</th>\n",
       "      <td>0</td>\n",
       "      <td>46.0</td>\n",
       "      <td>38000.0</td>\n",
       "      <td>1</td>\n",
       "      <td>1</td>\n",
       "    </tr>\n",
       "    <tr>\n",
       "      <th>2</th>\n",
       "      <td>0</td>\n",
       "      <td>29.0</td>\n",
       "      <td>21000.0</td>\n",
       "      <td>0</td>\n",
       "      <td>0</td>\n",
       "    </tr>\n",
       "    <tr>\n",
       "      <th>3</th>\n",
       "      <td>0</td>\n",
       "      <td>21.0</td>\n",
       "      <td>41700.0</td>\n",
       "      <td>2</td>\n",
       "      <td>0</td>\n",
       "    </tr>\n",
       "    <tr>\n",
       "      <th>4</th>\n",
       "      <td>1</td>\n",
       "      <td>28.0</td>\n",
       "      <td>26100.0</td>\n",
       "      <td>0</td>\n",
       "      <td>0</td>\n",
       "    </tr>\n",
       "  </tbody>\n",
       "</table>\n",
       "</div>"
      ],
      "text/plain": [
       "   Пол  Возраст  Зарплата  Члены семьи  Страховые выплаты\n",
       "0    1     41.0   49600.0            1                  0\n",
       "1    0     46.0   38000.0            1                  1\n",
       "2    0     29.0   21000.0            0                  0\n",
       "3    0     21.0   41700.0            2                  0\n",
       "4    1     28.0   26100.0            0                  0"
      ]
     },
     "execution_count": 4,
     "metadata": {},
     "output_type": "execute_result"
    }
   ],
   "source": [
    "df = pd.read_csv('/datasets/insurance.csv')\n",
    "display(df.info())\n",
    "df.head()"
   ]
  },
  {
   "cell_type": "code",
   "execution_count": 5,
   "metadata": {},
   "outputs": [
    {
     "data": {
      "text/plain": [
       "Пол                  0\n",
       "Возраст              0\n",
       "Зарплата             0\n",
       "Члены семьи          0\n",
       "Страховые выплаты    0\n",
       "dtype: int64"
      ]
     },
     "execution_count": 5,
     "metadata": {},
     "output_type": "execute_result"
    }
   ],
   "source": [
    "df.isna().sum()"
   ]
  },
  {
   "cell_type": "code",
   "execution_count": 6,
   "metadata": {
    "scrolled": true
   },
   "outputs": [
    {
     "name": "stdout",
     "output_type": "stream",
     "text": [
      "Уникальные значения столбца Пол:\n",
      " [1 0]\n",
      " min 0\n",
      " max 1\n",
      "Уникальные значения столбца Возраст:\n",
      " [41. 46. 29. 21. 28. 43. 39. 25. 36. 32. 38. 23. 40. 34. 26. 42. 27. 33.\n",
      " 47. 30. 19. 31. 22. 20. 24. 18. 37. 48. 45. 44. 52. 49. 35. 56. 65. 55.\n",
      " 57. 54. 50. 53. 51. 58. 59. 60. 61. 62.]\n",
      " min 18.0\n",
      " max 65.0\n",
      "Уникальные значения столбца Зарплата:\n",
      " [49600. 38000. 21000. 41700. 26100. 41000. 39700. 38600. 49700. 51700.\n",
      " 36600. 29300. 39500. 55000. 43700. 23300. 48900. 33200. 36900. 43500.\n",
      " 36100. 26600. 48700. 40400. 38400. 34600. 34800. 36800. 42200. 46300.\n",
      " 30300. 51000. 28100. 64800. 30400. 45300. 38300. 49500. 19400. 40200.\n",
      " 31700. 69200. 33100. 31600. 34500. 38700. 39600. 42400. 34900. 30500.\n",
      " 24200. 49900. 14300. 47000. 44800. 43800. 42700. 35400. 57200. 29600.\n",
      " 37400. 48100. 33700. 61800. 39400. 15600. 52600. 37600. 52500. 32700.\n",
      " 51600. 60900. 41800. 47400. 26500. 45900. 35700. 34300. 26700. 25700.\n",
      " 33300. 31100. 31500. 42100. 37300. 42500. 27300. 46800. 33500. 44300.\n",
      " 41600. 53900. 40100. 44600. 45000. 32000. 38200. 33000. 38500. 51800.\n",
      " 33800. 46400. 43200. 31800. 50200. 35100. 30700. 45800. 49300. 42800.\n",
      " 33600. 50300. 34000. 36400. 44900. 43600. 54600. 52800. 29700. 39000.\n",
      " 44100. 31900. 37700. 35200. 43100. 51300. 47500. 40800. 26800. 64900.\n",
      " 35900. 31200. 39900. 43300. 33900. 40700. 44700. 53400. 30600. 56000.\n",
      " 35600. 55200. 40600. 48300. 50800. 41200. 44200. 44400. 40500. 39800.\n",
      " 16600. 48400. 25100. 23100. 32100. 31000. 42900. 46700. 26000. 55900.\n",
      " 52000. 41500. 49400. 60300. 45600. 49000. 37500. 21900. 45100. 47900.\n",
      " 54300. 32400. 41300. 44500. 23200. 37900. 48000. 52100. 45700. 29900.\n",
      " 42600. 45200. 36000. 46500. 23800. 30200. 24400. 32800. 29000. 43400.\n",
      " 51500. 61700. 45400. 50700. 36200. 41900. 27900. 47200. 48800. 55100.\n",
      " 48200. 35500. 35000. 43900. 40000. 22000. 40300. 36300. 49800. 25600.\n",
      " 42300. 54900. 25500. 32900. 36700. 38900. 24700. 28800. 22900. 47300.\n",
      " 14500. 28700. 44000. 34100. 53000. 59300. 28500. 47100. 41400. 58900.\n",
      " 17500. 54200. 43000. 29800. 20000. 13800. 27500. 67700. 28000. 37100.\n",
      "  8900. 14600. 56200. 38800. 27700. 50500. 58400. 34700. 34400. 49100.\n",
      " 50900. 28200. 61500. 32500. 25900.  9800. 28300. 41100. 62000. 32600.\n",
      " 37200. 53800. 24000. 53600. 54800. 59600. 20200. 21700. 29200. 38100.\n",
      " 20700. 32300. 21200. 62100. 54000. 24500. 51900. 47800. 56100. 55300.\n",
      " 58100. 28900. 39100. 58000. 27200. 24600. 30100. 57100. 60100. 22200.\n",
      " 47700. 24900. 37800. 52700. 34200. 18700. 42000. 26300. 22600. 30900.\n",
      " 35800. 30800. 51100. 53300. 46200. 24100. 54700. 51200. 62300. 51400.\n",
      " 40900. 23400. 35300. 55800. 33400. 21300. 30000. 56700. 46900.  5300.\n",
      " 39200. 57500. 31300. 53700. 21600. 50000. 36500. 16400. 15900. 65100.\n",
      " 59900. 63200. 26200. 61200. 48500. 32200. 29100. 50100. 22700. 28600.\n",
      " 23500. 23700. 19600. 17800. 50600. 57900. 22500. 22100. 58300. 64100.\n",
      " 25000. 60400. 59100. 37000. 62400. 29500. 25800. 25400. 26900. 21500.\n",
      " 52200. 46600. 57300. 46100. 19300. 18900. 31400. 28400. 29400. 17600.\n",
      " 13900. 52400. 11300. 46000. 60500. 58700. 58200. 24800. 63700. 60600.\n",
      " 20400. 26400. 55600. 57000. 45500. 48600. 57600. 52900. 62800. 17000.\n",
      " 56500. 52300. 18400. 63300. 12900. 27000. 55700. 39300. 27800. 18300.\n",
      " 56300. 59800. 24300. 14400. 13400. 17900. 47600. 54500. 54400. 23900.\n",
      " 13000. 19900. 55400. 22800. 61000. 57400. 23000. 20500. 53200. 18100.\n",
      " 25300. 59500. 18200. 50400. 21100. 20900. 27400. 17300. 60700. 70600.\n",
      " 17700. 19700. 49200. 63100. 59200. 14700. 53100. 21800. 68000. 16500.\n",
      " 71400. 10000. 55500. 54100. 56400. 20600. 66300. 18800. 11000. 66100.\n",
      " 27100. 57800. 53500. 19200. 58500. 64000. 63600. 23600. 25200. 19100.\n",
      " 18600. 57700. 62700. 56600. 21400. 58800. 68400. 17100. 13300. 68500.\n",
      " 56900. 64400. 27600. 67200. 16200. 58600. 62200. 16000. 79000. 22300.\n",
      " 11200. 71600. 61300. 70500. 67100. 59000. 13500. 16700. 15700. 60000.\n",
      " 17400. 63400. 61900. 65200. 62600. 14100. 20100. 63800. 15100. 70000.\n",
      " 60200. 20300. 65900. 15200. 63500. 13200. 68900. 12200.  6000. 74800.\n",
      " 59700. 10800. 19000. 10600. 69400. 15000. 75200. 62500. 16300. 20800.\n",
      "  7400. 65300. 61400. 56800.]\n",
      " min 5300.0\n",
      " max 79000.0\n",
      "Уникальные значения столбца Члены семьи:\n",
      " [1 0 2 4 3 5 6]\n",
      " min 0\n",
      " max 6\n",
      "Уникальные значения столбца Страховые выплаты:\n",
      " [0 1 2 3 5 4]\n",
      " min 0\n",
      " max 5\n"
     ]
    }
   ],
   "source": [
    "for column in df.columns:\n",
    "    print(f\"Уникальные значения столбца {column}:\\n {df[column].unique()}\\n min {df[column].min()}\\n max {df[column].max()}\")"
   ]
  },
  {
   "cell_type": "markdown",
   "metadata": {},
   "source": [
    "Изменим тип данных в столбцах Возраст и Зарплата на целочисленный ввиду отсуствия дробных частей. Так же уменьшим обращение к памяти для остальных столбцов."
   ]
  },
  {
   "cell_type": "code",
   "execution_count": 7,
   "metadata": {
    "scrolled": true
   },
   "outputs": [
    {
     "name": "stdout",
     "output_type": "stream",
     "text": [
      "<class 'pandas.core.frame.DataFrame'>\n",
      "RangeIndex: 5000 entries, 0 to 4999\n",
      "Data columns (total 5 columns):\n",
      " #   Column             Non-Null Count  Dtype \n",
      "---  ------             --------------  ----- \n",
      " 0   Пол                5000 non-null   uint8 \n",
      " 1   Возраст            5000 non-null   uint8 \n",
      " 2   Зарплата           5000 non-null   uint32\n",
      " 3   Члены семьи        5000 non-null   uint8 \n",
      " 4   Страховые выплаты  5000 non-null   uint8 \n",
      "dtypes: uint32(1), uint8(4)\n",
      "memory usage: 39.2 KB\n"
     ]
    },
    {
     "data": {
      "text/plain": [
       "None"
      ]
     },
     "metadata": {},
     "output_type": "display_data"
    },
    {
     "data": {
      "text/html": [
       "<div>\n",
       "<style scoped>\n",
       "    .dataframe tbody tr th:only-of-type {\n",
       "        vertical-align: middle;\n",
       "    }\n",
       "\n",
       "    .dataframe tbody tr th {\n",
       "        vertical-align: top;\n",
       "    }\n",
       "\n",
       "    .dataframe thead th {\n",
       "        text-align: right;\n",
       "    }\n",
       "</style>\n",
       "<table border=\"1\" class=\"dataframe\">\n",
       "  <thead>\n",
       "    <tr style=\"text-align: right;\">\n",
       "      <th></th>\n",
       "      <th>Пол</th>\n",
       "      <th>Возраст</th>\n",
       "      <th>Зарплата</th>\n",
       "      <th>Члены семьи</th>\n",
       "      <th>Страховые выплаты</th>\n",
       "    </tr>\n",
       "  </thead>\n",
       "  <tbody>\n",
       "    <tr>\n",
       "      <th>0</th>\n",
       "      <td>1</td>\n",
       "      <td>41</td>\n",
       "      <td>49600</td>\n",
       "      <td>1</td>\n",
       "      <td>0</td>\n",
       "    </tr>\n",
       "    <tr>\n",
       "      <th>1</th>\n",
       "      <td>0</td>\n",
       "      <td>46</td>\n",
       "      <td>38000</td>\n",
       "      <td>1</td>\n",
       "      <td>1</td>\n",
       "    </tr>\n",
       "    <tr>\n",
       "      <th>2</th>\n",
       "      <td>0</td>\n",
       "      <td>29</td>\n",
       "      <td>21000</td>\n",
       "      <td>0</td>\n",
       "      <td>0</td>\n",
       "    </tr>\n",
       "    <tr>\n",
       "      <th>3</th>\n",
       "      <td>0</td>\n",
       "      <td>21</td>\n",
       "      <td>41700</td>\n",
       "      <td>2</td>\n",
       "      <td>0</td>\n",
       "    </tr>\n",
       "    <tr>\n",
       "      <th>4</th>\n",
       "      <td>1</td>\n",
       "      <td>28</td>\n",
       "      <td>26100</td>\n",
       "      <td>0</td>\n",
       "      <td>0</td>\n",
       "    </tr>\n",
       "  </tbody>\n",
       "</table>\n",
       "</div>"
      ],
      "text/plain": [
       "   Пол  Возраст  Зарплата  Члены семьи  Страховые выплаты\n",
       "0    1       41     49600            1                  0\n",
       "1    0       46     38000            1                  1\n",
       "2    0       29     21000            0                  0\n",
       "3    0       21     41700            2                  0\n",
       "4    1       28     26100            0                  0"
      ]
     },
     "execution_count": 7,
     "metadata": {},
     "output_type": "execute_result"
    }
   ],
   "source": [
    "for col in df.columns:\n",
    "    df[col] = df[col].astype(int)\n",
    "    df[col] = pd.to_numeric(df[col], downcast='unsigned')\n",
    "    \n",
    "display(df.info())\n",
    "df.head()"
   ]
  },
  {
   "cell_type": "markdown",
   "metadata": {},
   "source": [
    "Выигрыш в размере дата сета: 195.4 KB - 39.2 KB = 156.2 KB"
   ]
  },
  {
   "cell_type": "markdown",
   "metadata": {},
   "source": [
    "**Вывод**\n",
    "\n",
    "Данные загружены и не имеют ни аномалий, ни пропущеных значений. Приведение типов позволит более быстро обращаться к данным."
   ]
  },
  {
   "cell_type": "markdown",
   "metadata": {},
   "source": [
    "## Умножение матриц"
   ]
  },
  {
   "cell_type": "code",
   "execution_count": 6,
   "metadata": {},
   "outputs": [],
   "source": [
    "features = df.drop('Страховые выплаты',axis=1)\n",
    "target = df['Страховые выплаты']"
   ]
  },
  {
   "cell_type": "code",
   "execution_count": 7,
   "metadata": {},
   "outputs": [
    {
     "data": {
      "text/plain": [
       "array([ 7.92580563e-03,  3.57083050e-02, -1.70081903e-07, -1.35676627e-02])"
      ]
     },
     "metadata": {},
     "output_type": "display_data"
    },
    {
     "data": {
      "text/plain": [
       "array([ 7.92580563e-03,  3.57083050e-02, -1.70081903e-07, -1.35676627e-02])"
      ]
     },
     "execution_count": 7,
     "metadata": {},
     "output_type": "execute_result"
    }
   ],
   "source": [
    "X = np.concatenate((np.ones((features.shape[0], 1)), features), axis=1)\n",
    "y = target\n",
    "w = np.linalg.inv(X.T @ X) @ X.T @ y\n",
    "display(w[1:])\n",
    "model = LinearRegression()\n",
    "model.fit(features, target)\n",
    "model.coef_"
   ]
  },
  {
   "cell_type": "markdown",
   "metadata": {},
   "source": [
    "**Вывод**\n",
    "\n",
    "Коэфициенты регрессии совпадают"
   ]
  },
  {
   "cell_type": "markdown",
   "metadata": {},
   "source": [
    "Обозначения:\n",
    "\n",
    "- $X$ — матрица признаков (нулевой столбец состоит из единиц)\n",
    "\n",
    "- $y$ — вектор целевого признака\n",
    "\n",
    "- $P$ — матрица, на которую умножаются признаки\n",
    "\n",
    "- $w$ — вектор весов линейной регрессии (нулевой элемент равен сдвигу)"
   ]
  },
  {
   "cell_type": "markdown",
   "metadata": {},
   "source": [
    "Предсказания:\n",
    "\n",
    "$$\n",
    "a = Xw\n",
    "$$\n",
    "\n",
    "Задача обучения:\n",
    "\n",
    "$$\n",
    "w = \\arg\\min_w MSE(Xw, y)\n",
    "$$\n",
    "\n",
    "Формула обучения:\n",
    "\n",
    "$$\n",
    "w = (X^T X)^{-1} X^T y\n",
    "$$"
   ]
  },
  {
   "cell_type": "markdown",
   "metadata": {},
   "source": [
    "**Признаки умножают на обратимую матрицу. Изменится ли качество линейной регрессии?**"
   ]
  },
  {
   "cell_type": "markdown",
   "metadata": {},
   "source": [
    "**Ответ:** не изменится\n",
    "\n",
    "**Обоснование:** \n",
    "\n",
    "Вычислим, чему будет равно предсказание и вектор весов:\n",
    "\n",
    "$$\n",
    "a_1 = XPw_1\n",
    "$$\n",
    "$$\n",
    "w_1 = ((XP)^T(XP))^{-1}(XP)^Ty\n",
    "$$\n",
    "где $P$ - обратимая матрица с некими значениями, на которую может быть умножена матрица $X$.\n",
    "\n",
    "$$\n",
    "a_1 = XP((XP)^T(XP))^{-1}(XP)^Ty\n",
    "$$\n",
    "\n",
    "Воспользуемся свойсвами матрицы: $$(AB)^{-1} = B^{-1}A^{-1}$$ $$(AB)^T = B^TA^T$$ $$(AB)C = A(BC)$$\n",
    "\n",
    "\n",
    "$$\n",
    "a_1 = XP((XP)^T(XP))^{-1}(XP)^Ty = XP(P^T(X^TX)P)^{-1}P^TX^Ty = XPP^{-1}(X^TX)^{-1}(P^T)^{-1}P^TX^Ty \n",
    "$$\n",
    "\n",
    "Так как $P$ - обратимая матрица, то умножение  $PP^{-1}$ и $(P^T)^{-1}P^T$ приведёт к еденичной матрице, а умножение на единичную матрицу ничего не меняет.\n",
    "\n",
    "$$\n",
    "XPP^{-1}(X^TX)^{-1}(P^T)^{-1}P^TX^Ty = X(X^TX)^{-1}X^Ty = Xw = a\n",
    "$$"
   ]
  },
  {
   "cell_type": "markdown",
   "metadata": {},
   "source": [
    "**Вывод**\n",
    "\n",
    "Значение предсказания  не меняется, если умножать матрицу признаков на обратимую матрицу."
   ]
  },
  {
   "cell_type": "markdown",
   "metadata": {},
   "source": [
    "## Алгоритм преобразования"
   ]
  },
  {
   "cell_type": "markdown",
   "metadata": {},
   "source": [
    "**Алгоритм**\n",
    "\n",
    "Для защиты информации на этапе поиска коэффициентов регрессии и предсказаний регрессии будем умножать матрицу признаков на обратимую матрицу , которая будет генерироваться случайным образом.\n",
    "\n",
    "*Этапы алгоритма:*\n",
    "\n",
    "- Составление матрицы $P$\n",
    "- Проверка матрицы на обратимость. Вычисление детерминанта матрицы $P$.\n",
    "- Получение матрицы преобразованных признаков $XP$.\n",
    "- Применение алгоритма на преобразованных признаках $XP$."
   ]
  },
  {
   "cell_type": "markdown",
   "metadata": {},
   "source": [
    "**Обоснование**\n",
    "\n",
    "Матрица $P$ должна иметь необходимую размерность ***(n***x***n)***, где n - количество признаков для регрессии. Таким образом матрица $XP$ будет иметь туже размерность, что и матрица $X$. Обратная матрица $P$ существует только для квадратных невырожденных матриц (определитель которых не равен нулю)."
   ]
  },
  {
   "cell_type": "markdown",
   "metadata": {},
   "source": [
    "## Проверка алгоритма"
   ]
  },
  {
   "cell_type": "markdown",
   "metadata": {},
   "source": [
    "Проведем исследование модели по двум направлениям:\n",
    "\n",
    "- Исследуем качество модели без преобразования\n",
    "- Исследуем качество модели с преобразованием"
   ]
  },
  {
   "cell_type": "code",
   "execution_count": 8,
   "metadata": {},
   "outputs": [],
   "source": [
    "# разделим данные на обучающие и тестовые\n",
    "\n",
    "features_train, features_test, target_train, target_test = train_test_split(\n",
    "    features, target, test_size=0.25, random_state=8726)"
   ]
  },
  {
   "cell_type": "code",
   "execution_count": 9,
   "metadata": {},
   "outputs": [
    {
     "name": "stdout",
     "output_type": "stream",
     "text": [
      "w-vector coef [ 1.56694963e-02  3.48908693e-02  2.41418677e-09 -1.57820259e-02]\n",
      "R2 = 0.44211566521240697\n"
     ]
    }
   ],
   "source": [
    "model = LinearRegression()\n",
    "model.fit(features_train, target_train)\n",
    "print(f\"w-vector coef {model.coef_}\\nR2 = {r2_score(target_test, model.predict(features_test))}\")"
   ]
  },
  {
   "cell_type": "code",
   "execution_count": 10,
   "metadata": {},
   "outputs": [],
   "source": [
    "# cоздадим функцию преобразования матрицы признаков\n",
    "\n",
    "def data_protection(features):\n",
    "    crypted_features = features\n",
    "    n = features.shape[1]\n",
    "    np.random.seed(8726)\n",
    "    crypted_matrix = np.random.normal(1, 10, (n,n))\n",
    "    det = np.linalg.det(crypted_matrix)\n",
    "    while det == 0:\n",
    "        np.random.seed(8726)\n",
    "        crypted_matrix = np.random.narmal(1, 10, (n,n))\n",
    "        det = np.linalg.det(crypted_matrix)\n",
    "    crypted_features = crypted_features @ crypted_matrix\n",
    "    return crypted_features, crypted_matrix"
   ]
  },
  {
   "cell_type": "markdown",
   "metadata": {},
   "source": [
    "## Чек-лист проверки"
   ]
  },
  {
   "cell_type": "code",
   "execution_count": 11,
   "metadata": {},
   "outputs": [
    {
     "data": {
      "text/html": [
       "<div>\n",
       "<style scoped>\n",
       "    .dataframe tbody tr th:only-of-type {\n",
       "        vertical-align: middle;\n",
       "    }\n",
       "\n",
       "    .dataframe tbody tr th {\n",
       "        vertical-align: top;\n",
       "    }\n",
       "\n",
       "    .dataframe thead th {\n",
       "        text-align: right;\n",
       "    }\n",
       "</style>\n",
       "<table border=\"1\" class=\"dataframe\">\n",
       "  <thead>\n",
       "    <tr style=\"text-align: right;\">\n",
       "      <th></th>\n",
       "      <th>Пол</th>\n",
       "      <th>Возраст</th>\n",
       "      <th>Зарплата</th>\n",
       "      <th>Члены семьи</th>\n",
       "    </tr>\n",
       "  </thead>\n",
       "  <tbody>\n",
       "    <tr>\n",
       "      <th>0</th>\n",
       "      <td>1</td>\n",
       "      <td>41</td>\n",
       "      <td>49600</td>\n",
       "      <td>1</td>\n",
       "    </tr>\n",
       "    <tr>\n",
       "      <th>1</th>\n",
       "      <td>0</td>\n",
       "      <td>46</td>\n",
       "      <td>38000</td>\n",
       "      <td>1</td>\n",
       "    </tr>\n",
       "    <tr>\n",
       "      <th>2</th>\n",
       "      <td>0</td>\n",
       "      <td>29</td>\n",
       "      <td>21000</td>\n",
       "      <td>0</td>\n",
       "    </tr>\n",
       "    <tr>\n",
       "      <th>3</th>\n",
       "      <td>0</td>\n",
       "      <td>21</td>\n",
       "      <td>41700</td>\n",
       "      <td>2</td>\n",
       "    </tr>\n",
       "    <tr>\n",
       "      <th>4</th>\n",
       "      <td>1</td>\n",
       "      <td>28</td>\n",
       "      <td>26100</td>\n",
       "      <td>0</td>\n",
       "    </tr>\n",
       "  </tbody>\n",
       "</table>\n",
       "</div>"
      ],
      "text/plain": [
       "   Пол  Возраст  Зарплата  Члены семьи\n",
       "0    1       41     49600            1\n",
       "1    0       46     38000            1\n",
       "2    0       29     21000            0\n",
       "3    0       21     41700            2\n",
       "4    1       28     26100            0"
      ]
     },
     "metadata": {},
     "output_type": "display_data"
    },
    {
     "data": {
      "text/html": [
       "<div>\n",
       "<style scoped>\n",
       "    .dataframe tbody tr th:only-of-type {\n",
       "        vertical-align: middle;\n",
       "    }\n",
       "\n",
       "    .dataframe tbody tr th {\n",
       "        vertical-align: top;\n",
       "    }\n",
       "\n",
       "    .dataframe thead th {\n",
       "        text-align: right;\n",
       "    }\n",
       "</style>\n",
       "<table border=\"1\" class=\"dataframe\">\n",
       "  <thead>\n",
       "    <tr style=\"text-align: right;\">\n",
       "      <th></th>\n",
       "      <th>0</th>\n",
       "      <th>1</th>\n",
       "      <th>2</th>\n",
       "      <th>3</th>\n",
       "    </tr>\n",
       "  </thead>\n",
       "  <tbody>\n",
       "    <tr>\n",
       "      <th>0</th>\n",
       "      <td>591229.454538</td>\n",
       "      <td>-8698.603096</td>\n",
       "      <td>-53457.490495</td>\n",
       "      <td>500436.567955</td>\n",
       "    </tr>\n",
       "    <tr>\n",
       "      <th>1</th>\n",
       "      <td>452968.895205</td>\n",
       "      <td>-6512.673312</td>\n",
       "      <td>-40779.627928</td>\n",
       "      <td>383288.757633</td>\n",
       "    </tr>\n",
       "    <tr>\n",
       "      <th>2</th>\n",
       "      <td>250330.104663</td>\n",
       "      <td>-3565.204151</td>\n",
       "      <td>-22497.558216</td>\n",
       "      <td>211781.540346</td>\n",
       "    </tr>\n",
       "    <tr>\n",
       "      <th>3</th>\n",
       "      <td>497051.249410</td>\n",
       "      <td>-7457.914300</td>\n",
       "      <td>-45082.791645</td>\n",
       "      <td>420866.241233</td>\n",
       "    </tr>\n",
       "    <tr>\n",
       "      <th>4</th>\n",
       "      <td>311115.243405</td>\n",
       "      <td>-4507.204020</td>\n",
       "      <td>-28063.892259</td>\n",
       "      <td>263268.891206</td>\n",
       "    </tr>\n",
       "  </tbody>\n",
       "</table>\n",
       "</div>"
      ],
      "text/plain": [
       "               0            1             2              3\n",
       "0  591229.454538 -8698.603096 -53457.490495  500436.567955\n",
       "1  452968.895205 -6512.673312 -40779.627928  383288.757633\n",
       "2  250330.104663 -3565.204151 -22497.558216  211781.540346\n",
       "3  497051.249410 -7457.914300 -45082.791645  420866.241233\n",
       "4  311115.243405 -4507.204020 -28063.892259  263268.891206"
      ]
     },
     "metadata": {},
     "output_type": "display_data"
    },
    {
     "data": {
      "text/plain": [
       "array([[ -4.53829465,  10.86655393, -10.90935721, -12.88772405],\n",
       "       [  0.59393729,  10.82092194,  11.40539668,  -8.40233562],\n",
       "       [ 11.91966098,  -0.1847148 ,  -1.08706261,  10.09643848],\n",
       "       [ -5.54297135,   8.7268364 ,   4.10284123,  10.60283292]])"
      ]
     },
     "execution_count": 11,
     "metadata": {},
     "output_type": "execute_result"
    }
   ],
   "source": [
    "# выведем данные до и после преобразования\n",
    "\n",
    "display(features.head())\n",
    "features, crypted_matrix = data_protection(features)\n",
    "display(features.head())\n",
    "crypted_matrix"
   ]
  },
  {
   "cell_type": "markdown",
   "metadata": {},
   "source": [
    "Данные потеряли свои оригинальные значения, теперь в них хранятся неочевидные числа.\n",
    "\n",
    "Разобьем данные на тренировочную и обучающую выборку и проверим R2 значение."
   ]
  },
  {
   "cell_type": "code",
   "execution_count": 12,
   "metadata": {},
   "outputs": [],
   "source": [
    "features_train, features_test, target_train, target_test = train_test_split(\n",
    "    features, target, test_size=0.25, random_state=8726)"
   ]
  },
  {
   "cell_type": "code",
   "execution_count": 13,
   "metadata": {},
   "outputs": [
    {
     "name": "stdout",
     "output_type": "stream",
     "text": [
      "w-vector coef [ 0.00156199  0.00089179  0.00085288 -0.00173592]\n",
      "R2 = 0.4421156652124075\n"
     ]
    }
   ],
   "source": [
    "model = LinearRegression()\n",
    "model.fit(features_train, target_train)\n",
    "print(f\"w-vector coef {model.coef_}\\nR2 = {r2_score(target_test, model.predict(features_test))}\")"
   ]
  },
  {
   "cell_type": "markdown",
   "metadata": {},
   "source": [
    "Модель ведет себя одинаково как на исходных данных, так и на преобразованных. Колебания после 11 знака после запятой связано с точностью хранения дробных чисел в python 3."
   ]
  },
  {
   "cell_type": "markdown",
   "metadata": {},
   "source": [
    "**Вывод**\n",
    "\n",
    "- Загружены и изучены данные. Привели к нужным типам данных для более быстрого обращения к ним.\n",
    "- Качество линейной регресии не изменилось от умножения исходной матрицы на обратимую.\n",
    "- Создан алгоритм преобразования данных.\n",
    "- Исследован алгоритм преобразования данных и проверена метрика R2 на исходных данных, так и на преобразованных.\n",
    "\n",
    "По результатам работы можно увидеть, что данные очень просто зашифровать от распознования, имея правильную матрицу."
   ]
  }
 ],
 "metadata": {
  "ExecuteTimeLog": [
   {
    "duration": 1625,
    "start_time": "2022-04-07T20:00:40.849Z"
   },
   {
    "duration": 197,
    "start_time": "2022-04-07T20:01:07.043Z"
   },
   {
    "duration": 42,
    "start_time": "2022-04-07T20:01:14.802Z"
   },
   {
    "duration": 9,
    "start_time": "2022-04-07T20:02:36.223Z"
   },
   {
    "duration": 187,
    "start_time": "2022-04-11T17:16:28.584Z"
   },
   {
    "duration": 1291,
    "start_time": "2022-04-11T17:16:55.134Z"
   },
   {
    "duration": 10,
    "start_time": "2022-04-11T17:17:09.282Z"
   },
   {
    "duration": 26,
    "start_time": "2022-04-11T17:17:31.207Z"
   },
   {
    "duration": 26,
    "start_time": "2022-04-11T17:18:38.472Z"
   },
   {
    "duration": 40,
    "start_time": "2022-04-11T17:18:46.396Z"
   },
   {
    "duration": 7,
    "start_time": "2022-04-11T17:19:13.687Z"
   },
   {
    "duration": 13,
    "start_time": "2022-04-11T17:34:27.442Z"
   },
   {
    "duration": 2,
    "start_time": "2022-04-11T17:37:09.636Z"
   },
   {
    "duration": 10,
    "start_time": "2022-04-11T17:37:25.183Z"
   },
   {
    "duration": 10,
    "start_time": "2022-04-11T17:38:00.182Z"
   },
   {
    "duration": 11,
    "start_time": "2022-04-11T17:38:08.287Z"
   },
   {
    "duration": 9,
    "start_time": "2022-04-11T17:40:27.965Z"
   },
   {
    "duration": 8,
    "start_time": "2022-04-11T17:46:12.532Z"
   },
   {
    "duration": 6,
    "start_time": "2022-04-11T17:48:27.657Z"
   },
   {
    "duration": 5,
    "start_time": "2022-04-11T17:48:48.966Z"
   },
   {
    "duration": 4,
    "start_time": "2022-04-11T17:49:15.118Z"
   },
   {
    "duration": 8,
    "start_time": "2022-04-11T17:49:54.517Z"
   },
   {
    "duration": 7,
    "start_time": "2022-04-11T17:50:11.331Z"
   },
   {
    "duration": 11,
    "start_time": "2022-04-11T17:51:11.956Z"
   },
   {
    "duration": 3,
    "start_time": "2022-04-11T17:51:20.292Z"
   },
   {
    "duration": 10,
    "start_time": "2022-04-11T17:51:23.259Z"
   },
   {
    "duration": 11,
    "start_time": "2022-04-11T17:52:14.337Z"
   },
   {
    "duration": 11,
    "start_time": "2022-04-11T17:52:33.439Z"
   },
   {
    "duration": 10,
    "start_time": "2022-04-11T17:52:36.197Z"
   },
   {
    "duration": 3,
    "start_time": "2022-04-11T17:52:42.614Z"
   },
   {
    "duration": 11,
    "start_time": "2022-04-11T17:52:44.967Z"
   },
   {
    "duration": 9,
    "start_time": "2022-04-11T17:53:40.359Z"
   },
   {
    "duration": 9,
    "start_time": "2022-04-11T17:54:18.286Z"
   },
   {
    "duration": 6,
    "start_time": "2022-04-11T17:56:23.840Z"
   },
   {
    "duration": 10,
    "start_time": "2022-04-11T17:59:11.335Z"
   },
   {
    "duration": 9,
    "start_time": "2022-04-11T17:59:30.015Z"
   },
   {
    "duration": 10,
    "start_time": "2022-04-11T18:01:57.026Z"
   },
   {
    "duration": 6,
    "start_time": "2022-04-11T18:06:54.752Z"
   },
   {
    "duration": 16,
    "start_time": "2022-04-11T18:06:56.861Z"
   },
   {
    "duration": 10,
    "start_time": "2022-04-11T18:06:59.447Z"
   },
   {
    "duration": 8,
    "start_time": "2022-04-11T18:07:12.495Z"
   },
   {
    "duration": 5,
    "start_time": "2022-04-11T18:07:21.669Z"
   },
   {
    "duration": 9,
    "start_time": "2022-04-11T18:21:15.893Z"
   },
   {
    "duration": 10,
    "start_time": "2022-04-11T18:21:20.421Z"
   },
   {
    "duration": 9,
    "start_time": "2022-04-11T18:21:27.243Z"
   },
   {
    "duration": 9,
    "start_time": "2022-04-11T18:41:13.401Z"
   },
   {
    "duration": 9,
    "start_time": "2022-04-11T18:41:25.696Z"
   },
   {
    "duration": 4,
    "start_time": "2022-04-11T18:41:33.367Z"
   },
   {
    "duration": 3,
    "start_time": "2022-04-11T18:48:16.767Z"
   },
   {
    "duration": 9,
    "start_time": "2022-04-11T18:48:26.911Z"
   },
   {
    "duration": 3,
    "start_time": "2022-04-11T18:48:36.303Z"
   },
   {
    "duration": 9,
    "start_time": "2022-04-11T18:48:38.502Z"
   },
   {
    "duration": 10,
    "start_time": "2022-04-11T18:49:09.881Z"
   },
   {
    "duration": 6,
    "start_time": "2022-04-11T18:49:45.464Z"
   },
   {
    "duration": 5,
    "start_time": "2022-04-11T18:50:01.083Z"
   },
   {
    "duration": 3,
    "start_time": "2022-04-11T18:50:21.858Z"
   },
   {
    "duration": 5,
    "start_time": "2022-04-11T18:50:25.122Z"
   },
   {
    "duration": 6,
    "start_time": "2022-04-11T18:50:59.602Z"
   },
   {
    "duration": 3,
    "start_time": "2022-04-11T18:51:20.100Z"
   },
   {
    "duration": 6,
    "start_time": "2022-04-11T18:51:22.228Z"
   },
   {
    "duration": 5,
    "start_time": "2022-04-11T18:51:30.684Z"
   },
   {
    "duration": 9,
    "start_time": "2022-04-11T18:52:38.817Z"
   },
   {
    "duration": 3,
    "start_time": "2022-04-11T18:53:28.108Z"
   },
   {
    "duration": 178,
    "start_time": "2022-04-11T18:54:32.051Z"
   },
   {
    "duration": 11,
    "start_time": "2022-04-11T18:54:48.691Z"
   },
   {
    "duration": 12,
    "start_time": "2022-04-11T18:55:10.220Z"
   },
   {
    "duration": 11,
    "start_time": "2022-04-11T18:55:17.982Z"
   },
   {
    "duration": 12,
    "start_time": "2022-04-11T18:55:45.548Z"
   },
   {
    "duration": 13,
    "start_time": "2022-04-11T18:55:57.544Z"
   },
   {
    "duration": 3,
    "start_time": "2022-04-11T18:57:25.033Z"
   },
   {
    "duration": 17,
    "start_time": "2022-04-11T18:57:36.428Z"
   },
   {
    "duration": 9,
    "start_time": "2022-04-11T18:57:55.859Z"
   },
   {
    "duration": 9,
    "start_time": "2022-04-11T19:00:26.712Z"
   },
   {
    "duration": 11,
    "start_time": "2022-04-11T19:00:35.184Z"
   },
   {
    "duration": 9,
    "start_time": "2022-04-11T19:01:01.876Z"
   },
   {
    "duration": 13,
    "start_time": "2022-04-11T19:01:04.409Z"
   },
   {
    "duration": 9,
    "start_time": "2022-04-11T19:02:36.070Z"
   },
   {
    "duration": 6,
    "start_time": "2022-04-11T19:02:41.141Z"
   },
   {
    "duration": 12,
    "start_time": "2022-04-11T19:02:46.100Z"
   },
   {
    "duration": 5,
    "start_time": "2022-04-11T19:02:50.708Z"
   },
   {
    "duration": 4,
    "start_time": "2022-04-11T19:03:10.056Z"
   },
   {
    "duration": 11,
    "start_time": "2022-04-11T19:03:11.801Z"
   },
   {
    "duration": 8,
    "start_time": "2022-04-11T19:03:23.661Z"
   },
   {
    "duration": 11,
    "start_time": "2022-04-11T19:03:26.117Z"
   },
   {
    "duration": 6,
    "start_time": "2022-04-11T19:04:41.047Z"
   },
   {
    "duration": 12,
    "start_time": "2022-04-11T19:04:44.712Z"
   },
   {
    "duration": 11,
    "start_time": "2022-04-11T19:05:07.495Z"
   },
   {
    "duration": 4,
    "start_time": "2022-04-11T19:05:12.292Z"
   },
   {
    "duration": 12,
    "start_time": "2022-04-11T19:05:14.874Z"
   },
   {
    "duration": 11,
    "start_time": "2022-04-11T19:05:18.721Z"
   },
   {
    "duration": 4,
    "start_time": "2022-04-11T19:05:48.010Z"
   },
   {
    "duration": 15,
    "start_time": "2022-04-11T19:05:50.055Z"
   },
   {
    "duration": 11,
    "start_time": "2022-04-11T19:05:58.855Z"
   },
   {
    "duration": 3,
    "start_time": "2022-04-11T19:06:11.016Z"
   },
   {
    "duration": 17,
    "start_time": "2022-04-11T19:06:13.732Z"
   },
   {
    "duration": 3,
    "start_time": "2022-04-11T19:06:22.096Z"
   },
   {
    "duration": 14,
    "start_time": "2022-04-11T19:06:24.060Z"
   },
   {
    "duration": 4,
    "start_time": "2022-04-11T19:06:29.464Z"
   },
   {
    "duration": 13,
    "start_time": "2022-04-11T19:06:31.875Z"
   },
   {
    "duration": 15,
    "start_time": "2022-04-11T19:06:39.924Z"
   },
   {
    "duration": 3,
    "start_time": "2022-04-11T19:07:00.756Z"
   },
   {
    "duration": 10,
    "start_time": "2022-04-11T19:07:05.080Z"
   },
   {
    "duration": 4,
    "start_time": "2022-04-11T19:07:27.525Z"
   },
   {
    "duration": 11,
    "start_time": "2022-04-11T19:07:31.271Z"
   },
   {
    "duration": 9,
    "start_time": "2022-04-11T19:07:45.119Z"
   },
   {
    "duration": 12,
    "start_time": "2022-04-11T19:07:48.830Z"
   },
   {
    "duration": 12,
    "start_time": "2022-04-11T19:08:03.944Z"
   },
   {
    "duration": 3,
    "start_time": "2022-04-11T19:08:11.080Z"
   },
   {
    "duration": 11,
    "start_time": "2022-04-11T19:08:13.911Z"
   },
   {
    "duration": 11,
    "start_time": "2022-04-11T19:08:21.996Z"
   },
   {
    "duration": 4,
    "start_time": "2022-04-11T19:08:28.615Z"
   },
   {
    "duration": 12,
    "start_time": "2022-04-11T19:08:31.644Z"
   },
   {
    "duration": 12,
    "start_time": "2022-04-11T19:08:54.024Z"
   },
   {
    "duration": 4,
    "start_time": "2022-04-11T19:08:58.368Z"
   },
   {
    "duration": 13,
    "start_time": "2022-04-11T19:09:00.385Z"
   },
   {
    "duration": 3,
    "start_time": "2022-04-11T19:09:08.619Z"
   },
   {
    "duration": 12,
    "start_time": "2022-04-11T19:09:10.612Z"
   },
   {
    "duration": 12,
    "start_time": "2022-04-11T19:09:16.009Z"
   },
   {
    "duration": 3,
    "start_time": "2022-04-11T19:09:21.813Z"
   },
   {
    "duration": 14,
    "start_time": "2022-04-11T19:09:24.228Z"
   },
   {
    "duration": 13,
    "start_time": "2022-04-11T19:09:31.803Z"
   },
   {
    "duration": 4,
    "start_time": "2022-04-11T19:09:49.744Z"
   },
   {
    "duration": 13,
    "start_time": "2022-04-11T19:09:51.915Z"
   },
   {
    "duration": 10,
    "start_time": "2022-04-11T19:09:56.395Z"
   },
   {
    "duration": 2,
    "start_time": "2022-04-11T19:11:20.455Z"
   },
   {
    "duration": 14,
    "start_time": "2022-04-11T19:11:23.310Z"
   },
   {
    "duration": 213,
    "start_time": "2022-04-11T19:11:28.559Z"
   },
   {
    "duration": 9,
    "start_time": "2022-04-11T19:11:56.646Z"
   },
   {
    "duration": 14,
    "start_time": "2022-04-11T19:12:01.319Z"
   },
   {
    "duration": 7,
    "start_time": "2022-04-11T19:12:33.619Z"
   },
   {
    "duration": 8,
    "start_time": "2022-04-11T19:13:54.926Z"
   },
   {
    "duration": 6,
    "start_time": "2022-04-11T19:15:03.586Z"
   },
   {
    "duration": 8,
    "start_time": "2022-04-11T19:15:06.047Z"
   },
   {
    "duration": 11,
    "start_time": "2022-04-11T19:15:40.353Z"
   },
   {
    "duration": 19,
    "start_time": "2022-04-11T19:16:55.660Z"
   },
   {
    "duration": 7,
    "start_time": "2022-04-11T19:17:07.235Z"
   },
   {
    "duration": 8,
    "start_time": "2022-04-11T19:17:10.555Z"
   },
   {
    "duration": 11,
    "start_time": "2022-04-11T19:17:24.603Z"
   },
   {
    "duration": 11,
    "start_time": "2022-04-11T19:19:13.090Z"
   },
   {
    "duration": 7,
    "start_time": "2022-04-11T19:26:09.959Z"
   },
   {
    "duration": 9,
    "start_time": "2022-04-11T19:26:12.486Z"
   },
   {
    "duration": 11,
    "start_time": "2022-04-11T19:26:15.959Z"
   },
   {
    "duration": 11,
    "start_time": "2022-04-11T19:26:25.878Z"
   },
   {
    "duration": 11,
    "start_time": "2022-04-11T19:26:28.854Z"
   },
   {
    "duration": 7,
    "start_time": "2022-04-11T19:26:35.415Z"
   },
   {
    "duration": 9,
    "start_time": "2022-04-11T19:26:36.855Z"
   },
   {
    "duration": 16,
    "start_time": "2022-04-11T19:26:41.740Z"
   },
   {
    "duration": 10,
    "start_time": "2022-04-11T19:27:03.471Z"
   },
   {
    "duration": 13,
    "start_time": "2022-04-11T19:27:09.320Z"
   },
   {
    "duration": 10,
    "start_time": "2022-04-11T19:27:15.703Z"
   },
   {
    "duration": 10,
    "start_time": "2022-04-11T19:27:17.004Z"
   },
   {
    "duration": 16,
    "start_time": "2022-04-11T19:27:23.740Z"
   },
   {
    "duration": 7,
    "start_time": "2022-04-11T19:27:27.557Z"
   },
   {
    "duration": 8,
    "start_time": "2022-04-11T19:27:30.216Z"
   },
   {
    "duration": 12,
    "start_time": "2022-04-11T19:27:33.473Z"
   },
   {
    "duration": 11,
    "start_time": "2022-04-11T19:27:57.560Z"
   },
   {
    "duration": 9,
    "start_time": "2022-04-11T19:28:00.183Z"
   },
   {
    "duration": 8,
    "start_time": "2022-04-11T19:28:03.156Z"
   },
   {
    "duration": 9,
    "start_time": "2022-04-11T19:28:05.855Z"
   },
   {
    "duration": 9,
    "start_time": "2022-04-11T19:28:07.265Z"
   },
   {
    "duration": 18,
    "start_time": "2022-04-11T19:28:11.204Z"
   },
   {
    "duration": 11,
    "start_time": "2022-04-11T19:29:16.286Z"
   },
   {
    "duration": 9,
    "start_time": "2022-04-11T19:29:19.084Z"
   },
   {
    "duration": 7,
    "start_time": "2022-04-11T19:29:21.606Z"
   },
   {
    "duration": 6,
    "start_time": "2022-04-11T19:29:23.772Z"
   },
   {
    "duration": 7,
    "start_time": "2022-04-11T19:29:25.125Z"
   },
   {
    "duration": 13,
    "start_time": "2022-04-11T19:29:29.228Z"
   },
   {
    "duration": 7,
    "start_time": "2022-04-11T19:29:53.031Z"
   },
   {
    "duration": 7,
    "start_time": "2022-04-11T19:29:54.062Z"
   },
   {
    "duration": 11,
    "start_time": "2022-04-11T19:29:58.045Z"
   },
   {
    "duration": 17,
    "start_time": "2022-04-11T19:30:30.631Z"
   },
   {
    "duration": 8,
    "start_time": "2022-04-11T19:30:34.183Z"
   },
   {
    "duration": 10,
    "start_time": "2022-04-11T19:30:35.183Z"
   },
   {
    "duration": 6,
    "start_time": "2022-04-11T19:30:37.359Z"
   },
   {
    "duration": 8,
    "start_time": "2022-04-11T19:30:38.647Z"
   },
   {
    "duration": 11,
    "start_time": "2022-04-11T19:30:42.106Z"
   },
   {
    "duration": 19,
    "start_time": "2022-04-11T20:00:12.745Z"
   },
   {
    "duration": 24,
    "start_time": "2022-04-11T20:00:44.000Z"
   },
   {
    "duration": 1594,
    "start_time": "2022-04-13T19:21:05.378Z"
   },
   {
    "duration": 51,
    "start_time": "2022-04-13T19:21:06.975Z"
   },
   {
    "duration": 8,
    "start_time": "2022-04-13T19:21:07.028Z"
   },
   {
    "duration": 27,
    "start_time": "2022-04-13T19:21:07.039Z"
   },
   {
    "duration": 35,
    "start_time": "2022-04-13T19:21:07.068Z"
   },
   {
    "duration": 7,
    "start_time": "2022-04-13T19:21:07.125Z"
   },
   {
    "duration": 54,
    "start_time": "2022-04-13T19:21:31.174Z"
   },
   {
    "duration": 8,
    "start_time": "2022-04-13T20:29:24.919Z"
   },
   {
    "duration": 22,
    "start_time": "2022-04-13T20:32:59.988Z"
   },
   {
    "duration": 15,
    "start_time": "2022-04-13T20:33:06.710Z"
   },
   {
    "duration": 15,
    "start_time": "2022-04-13T20:33:32.606Z"
   },
   {
    "duration": 21,
    "start_time": "2022-04-13T20:33:39.596Z"
   },
   {
    "duration": 20,
    "start_time": "2022-04-13T20:33:45.396Z"
   },
   {
    "duration": 19,
    "start_time": "2022-04-13T20:34:31.519Z"
   },
   {
    "duration": 6,
    "start_time": "2022-04-13T20:38:57.129Z"
   },
   {
    "duration": 160,
    "start_time": "2022-04-13T20:41:25.773Z"
   },
   {
    "duration": 21,
    "start_time": "2022-04-13T20:42:15.016Z"
   },
   {
    "duration": 10,
    "start_time": "2022-04-13T20:45:38.982Z"
   },
   {
    "duration": 13,
    "start_time": "2022-04-13T20:46:00.005Z"
   },
   {
    "duration": 17,
    "start_time": "2022-04-13T20:53:43.657Z"
   },
   {
    "duration": 1256,
    "start_time": "2022-04-14T06:14:59.777Z"
   },
   {
    "duration": 51,
    "start_time": "2022-04-14T06:15:01.035Z"
   },
   {
    "duration": 7,
    "start_time": "2022-04-14T06:15:01.087Z"
   },
   {
    "duration": 34,
    "start_time": "2022-04-14T06:15:01.096Z"
   },
   {
    "duration": 37,
    "start_time": "2022-04-14T06:15:01.132Z"
   },
   {
    "duration": 6,
    "start_time": "2022-04-14T06:15:01.221Z"
   },
   {
    "duration": 12,
    "start_time": "2022-04-14T06:15:01.399Z"
   },
   {
    "duration": 6,
    "start_time": "2022-04-14T06:15:03.469Z"
   },
   {
    "duration": 10,
    "start_time": "2022-04-14T06:15:03.643Z"
   },
   {
    "duration": 4,
    "start_time": "2022-04-14T06:15:03.821Z"
   },
   {
    "duration": 20,
    "start_time": "2022-04-14T06:15:04.195Z"
   },
   {
    "duration": 6,
    "start_time": "2022-04-14T06:15:04.694Z"
   },
   {
    "duration": 12,
    "start_time": "2022-04-14T06:15:04.877Z"
   },
   {
    "duration": 232,
    "start_time": "2022-04-14T06:21:45.405Z"
   },
   {
    "duration": 177,
    "start_time": "2022-04-14T06:38:37.671Z"
   },
   {
    "duration": 184,
    "start_time": "2022-04-14T06:54:37.511Z"
   },
   {
    "duration": 1231,
    "start_time": "2022-04-23T19:23:20.742Z"
   },
   {
    "duration": 33,
    "start_time": "2022-04-23T19:23:21.975Z"
   },
   {
    "duration": 6,
    "start_time": "2022-04-23T19:23:22.009Z"
   },
   {
    "duration": 15,
    "start_time": "2022-04-23T19:23:22.017Z"
   },
   {
    "duration": 21,
    "start_time": "2022-04-23T19:23:22.033Z"
   },
   {
    "duration": 4,
    "start_time": "2022-04-23T19:23:22.056Z"
   },
   {
    "duration": 13,
    "start_time": "2022-04-23T19:23:22.092Z"
   },
   {
    "duration": 86,
    "start_time": "2022-04-23T19:23:22.107Z"
   },
   {
    "duration": 11,
    "start_time": "2022-04-23T19:23:22.195Z"
   },
   {
    "duration": 7,
    "start_time": "2022-04-23T19:23:22.293Z"
   },
   {
    "duration": 18,
    "start_time": "2022-04-23T19:23:22.302Z"
   },
   {
    "duration": 5,
    "start_time": "2022-04-23T19:23:22.321Z"
   },
   {
    "duration": 8,
    "start_time": "2022-04-23T19:23:22.328Z"
   },
   {
    "duration": 51,
    "start_time": "2022-04-28T16:51:14.647Z"
   },
   {
    "duration": 47,
    "start_time": "2022-11-03T01:27:13.385Z"
   },
   {
    "duration": 1032,
    "start_time": "2022-11-03T01:27:14.438Z"
   },
   {
    "duration": 97,
    "start_time": "2022-11-03T01:27:16.398Z"
   },
   {
    "duration": 53,
    "start_time": "2022-11-03T01:27:20.560Z"
   },
   {
    "duration": 6,
    "start_time": "2022-11-03T01:27:21.159Z"
   },
   {
    "duration": 10,
    "start_time": "2022-11-03T01:27:23.567Z"
   },
   {
    "duration": 21,
    "start_time": "2022-11-03T01:27:26.326Z"
   }
  ],
  "kernelspec": {
   "display_name": "Python 3 (ipykernel)",
   "language": "python",
   "name": "python3"
  },
  "language_info": {
   "codemirror_mode": {
    "name": "ipython",
    "version": 3
   },
   "file_extension": ".py",
   "mimetype": "text/x-python",
   "name": "python",
   "nbconvert_exporter": "python",
   "pygments_lexer": "ipython3",
   "version": "3.9.5"
  },
  "toc": {
   "base_numbering": 1,
   "nav_menu": {},
   "number_sections": true,
   "sideBar": true,
   "skip_h1_title": true,
   "title_cell": "Содержание",
   "title_sidebar": "Contents",
   "toc_cell": true,
   "toc_position": {},
   "toc_section_display": true,
   "toc_window_display": true
  }
 },
 "nbformat": 4,
 "nbformat_minor": 2
}
